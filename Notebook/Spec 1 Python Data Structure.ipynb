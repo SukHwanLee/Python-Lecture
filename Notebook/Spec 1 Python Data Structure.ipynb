{
 "cells": [
  {
   "cell_type": "markdown",
   "id": "38b6120d-c029-4f55-ac00-3f563dcbdb92",
   "metadata": {},
   "source": [
    "### Pointers in Python: What's the Point?   \n",
    "https://realpython.com/pointers-in-python/"
   ]
  },
  {
   "cell_type": "code",
   "execution_count": 1,
   "id": "29ef8544-d0d4-435d-8bcb-7dafcf0ac384",
   "metadata": {},
   "outputs": [
    {
     "data": {
      "text/plain": [
       "True"
      ]
     },
     "execution_count": 1,
     "metadata": {},
     "output_type": "execute_result"
    }
   ],
   "source": [
    "isinstance(1, object)"
   ]
  },
  {
   "cell_type": "code",
   "execution_count": 2,
   "id": "f4147dda-946a-4495-a5eb-108f357913eb",
   "metadata": {},
   "outputs": [
    {
     "data": {
      "text/plain": [
       "True"
      ]
     },
     "execution_count": 2,
     "metadata": {},
     "output_type": "execute_result"
    }
   ],
   "source": [
    "isinstance(list(), object)"
   ]
  },
  {
   "cell_type": "code",
   "execution_count": 3,
   "id": "37f80b09-1e4a-4ed3-a5d3-08dd8a3f4129",
   "metadata": {},
   "outputs": [
    {
     "data": {
      "text/plain": [
       "True"
      ]
     },
     "execution_count": 3,
     "metadata": {},
     "output_type": "execute_result"
    }
   ],
   "source": [
    "isinstance(True, object)"
   ]
  },
  {
   "cell_type": "code",
   "execution_count": 4,
   "id": "2e740364-57d3-4fae-bcbf-2312688ab633",
   "metadata": {},
   "outputs": [],
   "source": [
    "def foo():\n",
    "    pass"
   ]
  },
  {
   "cell_type": "code",
   "execution_count": 5,
   "id": "83a4ceaf-9b37-4439-8664-0d4ea2af3db5",
   "metadata": {},
   "outputs": [
    {
     "data": {
      "text/plain": [
       "True"
      ]
     },
     "execution_count": 5,
     "metadata": {},
     "output_type": "execute_result"
    }
   ],
   "source": [
    "isinstance(foo, object)"
   ]
  },
  {
   "cell_type": "code",
   "execution_count": 6,
   "id": "b4eae1f9-29a2-459b-9c9a-39b4c4a99d2f",
   "metadata": {},
   "outputs": [
    {
     "data": {
      "text/plain": [
       "True"
      ]
     },
     "execution_count": 6,
     "metadata": {},
     "output_type": "execute_result"
    }
   ],
   "source": [
    "x = 100\n",
    "y = 49+51\n",
    "x is y"
   ]
  },
  {
   "cell_type": "code",
   "execution_count": 7,
   "id": "11e36e1d-1560-4fc0-b7ee-aa8b8053a5c6",
   "metadata": {},
   "outputs": [
    {
     "data": {
      "text/plain": [
       "False"
      ]
     },
     "execution_count": 7,
     "metadata": {},
     "output_type": "execute_result"
    }
   ],
   "source": [
    "x = 1000\n",
    "y = 499+501\n",
    "x is y"
   ]
  },
  {
   "cell_type": "code",
   "execution_count": 8,
   "id": "f8ed190f-27bc-4c6b-8643-4056e5e3674d",
   "metadata": {},
   "outputs": [
    {
     "data": {
      "text/plain": [
       "c_long(0)"
      ]
     },
     "execution_count": 8,
     "metadata": {},
     "output_type": "execute_result"
    }
   ],
   "source": [
    "import ctypes\n",
    "x = ctypes.c_int()\n",
    "x"
   ]
  },
  {
   "cell_type": "markdown",
   "id": "c9ea335b-904b-45d5-beb7-18f5dfa8350a",
   "metadata": {},
   "source": [
    "### Python meta-hacking"
   ]
  },
  {
   "cell_type": "code",
   "execution_count": 3,
   "id": "4c265a0e-5294-453a-a9bf-57214b6ea6eb",
   "metadata": {},
   "outputs": [
    {
     "name": "stdout",
     "output_type": "stream",
     "text": [
      "Python version = 3.8.11 (default, Aug  6 2021, 09:57:55) [MSC v.1916 64 bit (AMD64)]\n",
      "Python version = 3.8.11\n"
     ]
    }
   ],
   "source": [
    "import sys\n",
    "print(\"Python version =\", sys.version)\n",
    "print(\"Python version =\", sys.version[:6])"
   ]
  },
  {
   "cell_type": "code",
   "execution_count": 10,
   "id": "49bc7369-f963-4f12-856b-78d7ce01241e",
   "metadata": {},
   "outputs": [
    {
     "name": "stdout",
     "output_type": "stream",
     "text": [
      "40\n"
     ]
    }
   ],
   "source": [
    "x = 40\n",
    "print(x)"
   ]
  },
  {
   "cell_type": "code",
   "execution_count": 11,
   "id": "d3b899fd-8f4b-4291-96b2-4bf4addc9c0a",
   "metadata": {},
   "outputs": [],
   "source": [
    "import ctypes\n",
    "\n",
    "# PyLongObject structure\n",
    "class IntStruct (ctypes.Structure):\n",
    "    # declaration of fields\n",
    "    _fields_ = [(\"ob_refcnt\", ctypes.c_long),\n",
    "                (\"ob_type\", ctypes.c_void_p),\n",
    "                (\"ob_size\", ctypes.c_long),\n",
    "                (\"ob_digit\", ctypes.c_int)]\n",
    "\n",
    "    def __repr__ (self):\n",
    "        return (f\"IntStruct (ob_digit = {self.ob_digit}, \"\n",
    "                f\"ob_size = {self.ob_size}, \"\n",
    "                f\"refcount = {self.ob_refcnt})\")"
   ]
  },
  {
   "cell_type": "code",
   "execution_count": 12,
   "id": "a37ecb60-9072-46a7-a792-02fa4b4517f4",
   "metadata": {},
   "outputs": [
    {
     "name": "stdout",
     "output_type": "stream",
     "text": [
      "IntStruct (ob_digit = 0, ob_size = 1, refcount = 32)\n",
      "IntStruct (ob_digit = -1, ob_size = -1, refcount = 64)\n"
     ]
    },
    {
     "data": {
      "text/plain": [
       "0"
      ]
     },
     "execution_count": 12,
     "metadata": {},
     "output_type": "execute_result"
    }
   ],
   "source": [
    "int42 = IntStruct.from_address(id(42))\n",
    "print(int42)\n",
    "\n",
    "int_minus_2 = IntStruct.from_address(id(-2))\n",
    "print(int_minus_2) # ob_digit = 2, ob_size = -1\n",
    "\n",
    "int42.ob_digit\n",
    "\n",
    "# change the value in the list of preallocated numbers\n",
    "# int42.ob_digit = 4\n",
    "# print(4 == 42) # True\n",
    "# print(1 + 41) # 4"
   ]
  },
  {
   "cell_type": "code",
   "execution_count": 13,
   "id": "8cb9e685-1c8d-40f5-b408-a63f1752b465",
   "metadata": {},
   "outputs": [
    {
     "data": {
      "text/plain": [
       "True"
      ]
     },
     "execution_count": 13,
     "metadata": {},
     "output_type": "execute_result"
    }
   ],
   "source": [
    "x = 40\n",
    "y = 40\n",
    "id(x) == id(y)"
   ]
  },
  {
   "cell_type": "code",
   "execution_count": 14,
   "id": "bf12469b-cb9f-4f9d-b43c-1ef94bf455fe",
   "metadata": {},
   "outputs": [
    {
     "data": {
      "text/plain": [
       "False"
      ]
     },
     "execution_count": 14,
     "metadata": {},
     "output_type": "execute_result"
    }
   ],
   "source": [
    "x = 1230\n",
    "y = 1230\n",
    "id(x) == id(y)"
   ]
  },
  {
   "cell_type": "code",
   "execution_count": 15,
   "id": "46b92a44-5113-4c13-b275-f7b16e3cf510",
   "metadata": {},
   "outputs": [
    {
     "data": {
      "text/plain": [
       "Text(0, 0.5, 'reference count')"
      ]
     },
     "execution_count": 15,
     "metadata": {},
     "output_type": "execute_result"
    },
    {
     "data": {
      "image/png": "[encoded data removed]",
      "text/plain": [
       "<Figure size 432x288 with 1 Axes>"
      ]
     },
     "metadata": {
      "needs_background": "light"
     },
     "output_type": "display_data"
    }
   ],
   "source": [
    "%matplotlib inline\n",
    "import matplotlib.pyplot as plt\n",
    "import sys\n",
    "plt.loglog(range(1000), [sys.getrefcount(i) for i in range(1000)])\n",
    "plt.xlabel('integer value')\n",
    "plt.ylabel('reference count')"
   ]
  },
  {
   "cell_type": "code",
   "execution_count": 16,
   "id": "e39b2fcb-1e05-43cc-89e6-5d5d6185c2c7",
   "metadata": {},
   "outputs": [
    {
     "data": {
      "text/plain": [
       "False"
      ]
     },
     "execution_count": 16,
     "metadata": {},
     "output_type": "execute_result"
    }
   ],
   "source": [
    "## Need checking why it is not True\n",
    "all(i == IntStruct.from_address(id(i)).ob_digit\n",
    "    for i in range(256))"
   ]
  },
  {
   "cell_type": "code",
   "execution_count": 17,
   "id": "17a8966d-d07c-4b41-82da-b2b182764e44",
   "metadata": {},
   "outputs": [
    {
     "name": "stdout",
     "output_type": "stream",
     "text": [
      "0\n",
      "0\n",
      "0\n",
      "0\n",
      "0\n",
      "0\n",
      "0\n",
      "0\n",
      "0\n",
      "0\n"
     ]
    }
   ],
   "source": [
    "for i in range(10):\n",
    "    print(IntStruct.from_address(id(i)).ob_digit)"
   ]
  },
  {
   "cell_type": "code",
   "execution_count": 18,
   "id": "6a71754a-ad6d-4817-93a7-f42a51299e39",
   "metadata": {},
   "outputs": [
    {
     "data": {
      "text/plain": [
       "1267650600228229401496703205376"
      ]
     },
     "execution_count": 18,
     "metadata": {},
     "output_type": "execute_result"
    }
   ],
   "source": [
    "2**100"
   ]
  },
  {
   "cell_type": "code",
   "execution_count": 19,
   "id": "b705c20a-6fd7-4117-a932-20bce84379a9",
   "metadata": {},
   "outputs": [],
   "source": [
    "class ListStruct(ctypes.Structure):\n",
    "    _fields_ = [(\"ob_refcnt\", ctypes.c_long),\n",
    "                (\"ob_type\", ctypes.c_void_p),\n",
    "                (\"ob_size\", ctypes.c_ulong),\n",
    "                (\"ob_item\", ctypes.c_long),  # PyObject** pointer cast to long\n",
    "                (\"allocated\", ctypes.c_ulong)]\n",
    "    \n",
    "    def __repr__(self):\n",
    "        return (\"ListStruct(len={self.ob_size}, \"\n",
    "                \"refcount={self.ob_refcnt})\").format(self=self)"
   ]
  },
  {
   "cell_type": "code",
   "execution_count": 20,
   "id": "4f7cda1e-c0df-4bf7-a02e-20d090db9894",
   "metadata": {},
   "outputs": [
    {
     "data": {
      "text/plain": [
       "ListStruct(len=5, refcount=1)"
      ]
     },
     "execution_count": 20,
     "metadata": {},
     "output_type": "execute_result"
    }
   ],
   "source": [
    "L = [1,2,3,4,5]\n",
    "ListStruct.from_address(id(L))"
   ]
  },
  {
   "cell_type": "code",
   "execution_count": 21,
   "id": "eba5b4ba-2834-4b4c-9a9f-d369108f2fc3",
   "metadata": {},
   "outputs": [
    {
     "data": {
      "text/plain": [
       "ListStruct(len=5, refcount=3)"
      ]
     },
     "execution_count": 21,
     "metadata": {},
     "output_type": "execute_result"
    }
   ],
   "source": [
    "tup = [L, L]  # two more references to L\n",
    "ListStruct.from_address(id(L))"
   ]
  },
  {
   "cell_type": "code",
   "execution_count": 22,
   "id": "afd73ce4-156d-43bd-b85f-defce59ce27a",
   "metadata": {},
   "outputs": [
    {
     "data": {
      "text/plain": [
       "ListStruct(len=5, refcount=7)"
      ]
     },
     "execution_count": 22,
     "metadata": {},
     "output_type": "execute_result"
    }
   ],
   "source": [
    "tup2 = [L, L, L, L]\n",
    "ListStruct.from_address(id(L))"
   ]
  },
  {
   "cell_type": "code",
   "execution_count": 23,
   "id": "0439c036-a08a-41de-b05c-e4361b36a642",
   "metadata": {},
   "outputs": [],
   "source": [
    "# get a raw pointer to our list\n",
    "Lstruct = ListStruct.from_address(id(L))\n",
    "\n",
    "# create a type which is an array of integer pointers the same length as L\n",
    "PtrArray = Lstruct.ob_size * ctypes.POINTER(IntStruct)\n",
    "\n",
    "# instantiate this type using the ob_item pointer\n",
    "L_values = PtrArray.from_address(Lstruct.ob_item)"
   ]
  },
  {
   "cell_type": "code",
   "execution_count": 24,
   "id": "1b0ab26d-1034-40d0-8302-db607918f412",
   "metadata": {},
   "outputs": [
    {
     "data": {
      "text/plain": [
       "0"
      ]
     },
     "execution_count": 24,
     "metadata": {},
     "output_type": "execute_result"
    }
   ],
   "source": [
    "Lstruct.ob_item"
   ]
  },
  {
   "cell_type": "code",
   "execution_count": 25,
   "id": "2fb40a4f-e6bc-4aa7-826a-2635f466dc30",
   "metadata": {},
   "outputs": [],
   "source": [
    "#[ptr[0] for ptr in L_values]  # ptr[0] dereferences the pointer"
   ]
  },
  {
   "cell_type": "code",
   "execution_count": 26,
   "id": "b1744995-3286-449e-a8c6-07635dc60c11",
   "metadata": {},
   "outputs": [
    {
     "data": {
      "text/plain": [
       "'1.20.3'"
      ]
     },
     "execution_count": 26,
     "metadata": {},
     "output_type": "execute_result"
    }
   ],
   "source": [
    "import numpy as np\n",
    "np.__version__"
   ]
  },
  {
   "cell_type": "code",
   "execution_count": 27,
   "id": "498eaa4b-674a-43ab-82b9-2cfc4638368d",
   "metadata": {},
   "outputs": [],
   "source": [
    "class NumpyStruct(ctypes.Structure):\n",
    "    _fields_ = [(\"ob_refcnt\", ctypes.c_long),\n",
    "                (\"ob_type\", ctypes.c_void_p),\n",
    "                (\"ob_data\", ctypes.c_long),  # char* pointer cast to long\n",
    "                (\"ob_ndim\", ctypes.c_int),\n",
    "                (\"ob_shape\", ctypes.c_voidp),\n",
    "                (\"ob_strides\", ctypes.c_voidp)]\n",
    "    \n",
    "    @property\n",
    "    def shape(self):\n",
    "        return tuple((self.ob_ndim * ctypes.c_int64).from_address(self.ob_shape))\n",
    "    \n",
    "    @property\n",
    "    def strides(self):\n",
    "        return tuple((self.ob_ndim * ctypes.c_int64).from_address(self.ob_strides))\n",
    "    \n",
    "    def __repr__(self):\n",
    "        return (\"NumpyStruct(shape={self.shape}, \"\n",
    "                \"refcount={self.ob_refcnt})\").format(self=self)"
   ]
  },
  {
   "cell_type": "code",
   "execution_count": null,
   "id": "09b91664-0b74-4836-8b1b-04c9cea1f1c5",
   "metadata": {},
   "outputs": [],
   "source": [
    "x = np.random.random((10, 20))\n",
    "xstruct = NumpyStruct.from_address(id(x))\n",
    "xstruct"
   ]
  },
  {
   "cell_type": "code",
   "execution_count": null,
   "id": "0309dcaa-96f3-429a-83c5-af9c09dab805",
   "metadata": {},
   "outputs": [],
   "source": []
  }
 ],
 "metadata": {
  "kernelspec": {
   "display_name": "Python 3 (ipykernel)",
   "language": "python",
   "name": "python3"
  },
  "language_info": {
   "codemirror_mode": {
    "name": "ipython",
    "version": 3
   },
   "file_extension": ".py",
   "mimetype": "text/x-python",
   "name": "python",
   "nbconvert_exporter": "python",
   "pygments_lexer": "ipython3",
   "version": "3.8.11"
  }
 },
 "nbformat": 4,
 "nbformat_minor": 5
}
