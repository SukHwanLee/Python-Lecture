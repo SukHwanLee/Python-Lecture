{
 "cells": [
  {
   "cell_type": "markdown",
   "id": "cbc54455-e781-49ed-8e63-c367ae3f32cc",
   "metadata": {},
   "source": [
    "### 1. print() 함수를 사용한 다양한 출력\n",
    "\n",
    "print 출력 방법 이해하고, 변수, 리스트, 딕셔너리, 튜플 등의 예제도 이해하자."
   ]
  },
  {
   "cell_type": "code",
   "execution_count": 1,
   "id": "ffc94239-b710-4b5e-bb39-71367c9aa9ea",
   "metadata": {},
   "outputs": [
    {
     "name": "stdout",
     "output_type": "stream",
     "text": [
      "==============================\n",
      "a\n",
      "\n",
      "BlockDMask\n",
      "b\n",
      "c\n"
     ]
    }
   ],
   "source": [
    "# end 디폴트 옵션 덕분에 자동으로 개행\n",
    "print(\"==============================\")\n",
    "print('a')\n",
    "print()\n",
    "print('BlockDMask')\n",
    "print('b')\n",
    "print('c')"
   ]
  },
  {
   "cell_type": "code",
   "execution_count": 2,
   "id": "1c59868c-8231-46d1-9d47-93ab2f7a73c8",
   "metadata": {},
   "outputs": [
    {
     "name": "stdout",
     "output_type": "stream",
     "text": [
      "==============================\n",
      "a ==++ b ==++ c ==++ d ==++ e ==++ f ==++ g\n"
     ]
    }
   ],
   "source": [
    "# sep 디폴트 옵션 덕분에 공백 구분\n",
    "print(\"==============================\")\n",
    "print('a','b','c', 'd', 'e', 'f', 'g', sep=' ==++ ')"
   ]
  },
  {
   "cell_type": "code",
   "execution_count": 3,
   "id": "54272f71-a605-4303-a7da-d011b10c9aa3",
   "metadata": {},
   "outputs": [
    {
     "name": "stdout",
     "output_type": "stream",
     "text": [
      "123\n",
      "Kim\n",
      "Park\n",
      "a+b :  12 \t a-b :  -8\n",
      "axb :  20.0 \t b/a :  5.0\n"
     ]
    }
   ],
   "source": [
    "# print 기본 예제\n",
    "\n",
    "print(123)\n",
    "print(\"Kim\")\n",
    "print('Park')\n",
    "\n",
    "a = 2\n",
    "b = 10\n",
    "print(\"a+b : \", a+b, '\\t', \"a-b : \", a-b)\n",
    "\n",
    "a = 2.0\n",
    "b = 10.0\n",
    "print(\"axb : \", a*b, '\\t', \"b/a : \", b/a)"
   ]
  },
  {
   "cell_type": "code",
   "execution_count": 4,
   "id": "b43dc0b4-d963-4099-aa0b-b9511dcd603a",
   "metadata": {},
   "outputs": [
    {
     "name": "stdout",
     "output_type": "stream",
     "text": [
      "[1, 2, 'blockmask', 3.5, 4.5, 'z']\n"
     ]
    }
   ],
   "source": [
    "arr = [1, 2, \"blockmask\", 3.5, 4.5, 'z']\n",
    "arr\n",
    "print(arr)"
   ]
  },
  {
   "cell_type": "code",
   "execution_count": 5,
   "id": "ad852d09-8db1-4548-b5e5-9dee7fafe88f",
   "metadata": {},
   "outputs": [
    {
     "name": "stdout",
     "output_type": "stream",
     "text": [
      "value: 1\n",
      "value: 2\n",
      "value: blockmask\n",
      "value: 3.5\n",
      "value: 4.5\n",
      "value: z\n",
      "1 2 blockmask 3.5 4.5 z\n"
     ]
    }
   ],
   "source": [
    "arr = [1, 2, \"blockmask\", 3.5, 4.5, 'z']\n",
    "\n",
    "for v in arr:\n",
    "    print(f\"value: {v}\")\n",
    "\n",
    "print(*arr)"
   ]
  },
  {
   "cell_type": "code",
   "execution_count": 6,
   "id": "7831a34a-e054-4dfe-b2b7-1626c371ffb6",
   "metadata": {},
   "outputs": [
    {
     "name": "stdout",
     "output_type": "stream",
     "text": [
      "저는 coffee를 좋아합니다. 하루 5잔 마셔요.\n"
     ]
    }
   ],
   "source": [
    "# f-string\n",
    "\n",
    "s = 'coffee'\n",
    "n = 5\n",
    "result = f'저는 {s}를 좋아합니다. 하루 {n}잔 마셔요.'\n",
    "print(result)"
   ]
  },
  {
   "cell_type": "code",
   "execution_count": 7,
   "id": "eca2a3a3-1662-4243-9ca8-1c1de06dd4f8",
   "metadata": {},
   "outputs": [
    {
     "name": "stdout",
     "output_type": "stream",
     "text": [
      "|left                |\n",
      "|        mid         |\n",
      "|               right|\n"
     ]
    }
   ],
   "source": [
    "# f-string 왼쪽 정렬\n",
    "s1 = 'left'\n",
    "print(f'|{s1:<20}|')\n",
    "\n",
    "# f-string 가운데 정렬\n",
    "s2 = 'mid'\n",
    "print(f'|{s2:^20}|')\n",
    "\n",
    "# f-string 오른쪽 정렬\n",
    "s3 = 'right'\n",
    "print(f'|{s3:>20}|')"
   ]
  },
  {
   "cell_type": "code",
   "execution_count": 8,
   "id": "76ab59e0-590b-496a-a879-68c3f430cc9b",
   "metadata": {},
   "outputs": [
    {
     "name": "stdout",
     "output_type": "stream",
     "text": [
      "my age {}, 10, {num}, {10}\n"
     ]
    }
   ],
   "source": [
    "# f-string 중괄호 출력\n",
    "num = 10\n",
    "print(f'my age {{}}, {num}, {{num}}, {{{num}}}')"
   ]
  },
  {
   "cell_type": "code",
   "execution_count": 9,
   "id": "97db470f-c74b-4aa5-809e-f4e9572836d9",
   "metadata": {},
   "outputs": [
    {
     "name": "stdout",
     "output_type": "stream",
     "text": [
      "my name BlockDMask, gender man, age 100\n"
     ]
    }
   ],
   "source": [
    "# f-string과 Dicitionary\n",
    "d = {'name':'BlockDMask', 'gender':'man', 'age':100}\n",
    "result = f'my name {d[\"name\"]}, gender {d[\"gender\"]}, age {d[\"age\"]}'\n",
    "print(result)"
   ]
  },
  {
   "cell_type": "code",
   "execution_count": 10,
   "id": "f902549d-6c9d-4010-8ab3-e9288d6cc322",
   "metadata": {},
   "outputs": [
    {
     "name": "stdout",
     "output_type": "stream",
     "text": [
      "name : BlockDMask\n",
      "gender : man\n",
      "age : 100\n"
     ]
    }
   ],
   "source": [
    "# Dictionary Print 방법\n",
    "for key, value in d.items():\n",
    "    print(key, \":\", value)"
   ]
  },
  {
   "cell_type": "code",
   "execution_count": 11,
   "id": "e9221375-afb8-4684-b2c6-9f5a175629c0",
   "metadata": {},
   "outputs": [
    {
     "name": "stdout",
     "output_type": "stream",
     "text": [
      "list : 100, 200, 300\n",
      "list : n[0], n[1], n[2]\n",
      "list with for : 100\n",
      "list with for : 200\n",
      "list with for : 300\n"
     ]
    }
   ],
   "source": [
    "# f-string과 리스트\n",
    "n = [100, 200, 300]\n",
    "\n",
    "print(f'list : {n[0]}, {n[1]}, {n[2]}')\n",
    "print(f'list : n[0], n[1], n[2]')\n",
    "\n",
    "for v in n:\n",
    "    print(f'list with for : {v}')"
   ]
  },
  {
   "cell_type": "code",
   "execution_count": 12,
   "id": "cb1c7c2f-ad6d-4a9a-a864-31e957f03aa2",
   "metadata": {},
   "outputs": [
    {
     "name": "stdout",
     "output_type": "stream",
     "text": [
      "[100, 200, 300]\n",
      "100 200 300\n",
      "100\n",
      "200\n",
      "300\n",
      "list : 100 200 300\n",
      "list : 100 200 300\n",
      "list with for:  100\n",
      "list with for:  200\n",
      "list with for:  300\n"
     ]
    }
   ],
   "source": [
    "# 다양한 리스트 출력 예제\n",
    "\n",
    "print(n)\n",
    "print(*n) # 잘 알려지지 않은 방법\n",
    "print(*n, sep='\\n')\n",
    "\n",
    "print('list :', n[0], n[1], n[2])\n",
    "print('list :', *n)\n",
    "\n",
    "for v in n:\n",
    "    print('list with for: ', v)"
   ]
  },
  {
   "cell_type": "code",
   "execution_count": 13,
   "id": "f310e88d-597c-4a90-8e58-ac6bc7c432e4",
   "metadata": {},
   "outputs": [
    {
     "name": "stdout",
     "output_type": "stream",
     "text": [
      "Help on built-in function print in module builtins:\n",
      "\n",
      "print(...)\n",
      "    print(value, ..., sep=' ', end='\\n', file=sys.stdout, flush=False)\n",
      "    \n",
      "    Prints the values to a stream, or to sys.stdout by default.\n",
      "    Optional keyword arguments:\n",
      "    file:  a file-like object (stream); defaults to the current sys.stdout.\n",
      "    sep:   string inserted between values, default a space.\n",
      "    end:   string appended after the last value, default a newline.\n",
      "    flush: whether to forcibly flush the stream.\n",
      "\n"
     ]
    }
   ],
   "source": [
    "help(print)"
   ]
  },
  {
   "cell_type": "markdown",
   "id": "fc90428b-46fb-4f49-ba63-73668a261a59",
   "metadata": {},
   "source": [
    "### 2. 변수 사용 및 자료형 변환"
   ]
  },
  {
   "cell_type": "code",
   "execution_count": 14,
   "id": "e6cd83f5-8d61-4ab4-be8c-f4e125634551",
   "metadata": {},
   "outputs": [],
   "source": [
    "import sys"
   ]
  },
  {
   "cell_type": "code",
   "execution_count": 15,
   "id": "9976ddb1-cdbd-4ce0-8085-cc24e83f63bd",
   "metadata": {},
   "outputs": [
    {
     "name": "stdout",
     "output_type": "stream",
     "text": [
      "123   456 00789\n"
     ]
    }
   ],
   "source": [
    "print(\"{0:d} {1:5d} {2:05d}\".format(123, 456, 789))"
   ]
  },
  {
   "cell_type": "code",
   "execution_count": 16,
   "id": "435ab177-1e09-456f-92bf-b7c5cd086646",
   "metadata": {},
   "outputs": [
    {
     "name": "stdout",
     "output_type": "stream",
     "text": [
      "<class 'int'>\n",
      "28\n",
      "<class 'float'>\n",
      "24\n",
      "<class 'str'>\n",
      "54\n"
     ]
    }
   ],
   "source": [
    "myVar = 100\n",
    "print(type(myVar))\n",
    "print(sys.getsizeof(myVar))\n",
    "\n",
    "myVar = 100.0\n",
    "print(type(myVar))\n",
    "print(sys.getsizeof(myVar))\n",
    "\n",
    "myVar = \"100.0\"\n",
    "print(type(myVar))\n",
    "print(sys.getsizeof(myVar))"
   ]
  },
  {
   "cell_type": "markdown",
   "id": "dcf56cb2-af1e-4a7a-b883-4fa7a330c07f",
   "metadata": {},
   "source": [
    "##### 자료형 변환"
   ]
  },
  {
   "cell_type": "code",
   "execution_count": 17,
   "id": "7f5df514-9aa6-4bbc-8ece-5de175865507",
   "metadata": {},
   "outputs": [
    {
     "name": "stdout",
     "output_type": "stream",
     "text": [
      "111.5\n",
      "76.30035.2\n"
     ]
    }
   ],
   "source": [
    "a = '76.3'\n",
    "b = 35.2\n",
    "print(float(a)+b)\n",
    "print(a+\"00\"+str(b))"
   ]
  },
  {
   "cell_type": "markdown",
   "id": "43ff06d6-5475-4c75-9f22-0f15cbe397a8",
   "metadata": {},
   "source": [
    "### 3. 기본 데이터형"
   ]
  },
  {
   "cell_type": "code",
   "execution_count": 18,
   "id": "0ac59fdc-0bcf-4f5c-ab18-9e81a38c4f66",
   "metadata": {},
   "outputs": [],
   "source": [
    "## 함수 선언 부분 ##\n",
    "def myFunc() :\n",
    "    print('함수를 호출함.')\n",
    "    \n",
    "## 전역 변수 선언 부분 ##\n",
    "gVar = 100"
   ]
  },
  {
   "cell_type": "code",
   "execution_count": 19,
   "id": "36498324-d67f-4a09-bae5-69e70b2f63e2",
   "metadata": {},
   "outputs": [
    {
     "name": "stdout",
     "output_type": "stream",
     "text": [
      "메인 함수 부분이 실행됩니다.\n",
      "함수를 호출함.\n",
      "전역 변수 값: 100\n"
     ]
    }
   ],
   "source": [
    "## 메인 코드 부분 ##\n",
    "if __name__ == '__main__' :\n",
    "    print('메인 함수 부분이 실행됩니다.')\n",
    "    myFunc()\n",
    "    print('전역 변수 값:', gVar)"
   ]
  },
  {
   "cell_type": "code",
   "execution_count": 20,
   "id": "2dc1e19d-78ab-4df0-8621-fb5aa25bdcb5",
   "metadata": {},
   "outputs": [
    {
     "name": "stdout",
     "output_type": "stream",
     "text": [
      "메인 함수 부분이 실행됩니다.\n",
      "함수를 호출함.\n",
      "전역 변수 값: 100\n"
     ]
    }
   ],
   "source": [
    "def main():\n",
    "    print('메인 함수 부분이 실행됩니다.')\n",
    "    myFunc()\n",
    "    print('전역 변수 값:', gVar)\n",
    "\n",
    "if __name__ == '__main__':\n",
    "    main()"
   ]
  },
  {
   "cell_type": "code",
   "execution_count": 21,
   "id": "ef297ff1-4c6f-46ce-850a-42ed69c95c98",
   "metadata": {},
   "outputs": [
    {
     "name": "stdout",
     "output_type": "stream",
     "text": [
      "x 2001 figures\n",
      "x 912 byte\n",
      "y 36 byte\n"
     ]
    }
   ],
   "source": [
    "import sys\n",
    "\n",
    "x = 100**1000\n",
    "y = 100**10\n",
    "\n",
    "n = x\n",
    "length = 0\n",
    "while n>0:\n",
    "    n //= 10\n",
    "    length += 1\n",
    "    \n",
    "print('x', length, 'figures')\n",
    "print('x', sys.getsizeof(x), 'byte')\n",
    "print('y', sys.getsizeof(y), 'byte')"
   ]
  },
  {
   "cell_type": "markdown",
   "id": "e9338aaf-9d35-428c-8269-e8552f906c03",
   "metadata": {},
   "source": [
    "### 4. print()와 input() 함수 예제"
   ]
  },
  {
   "cell_type": "code",
   "execution_count": 22,
   "id": "fe814d26-028c-4a25-a87c-58440b37675b",
   "metadata": {},
   "outputs": [
    {
     "name": "stdin",
     "output_type": "stream",
     "text": [
      "Enter the first number:    10\n",
      "Enter the second number:    20\n"
     ]
    },
    {
     "name": "stdout",
     "output_type": "stream",
     "text": [
      "<class 'int'> <class 'int'>\n"
     ]
    }
   ],
   "source": [
    "num1 = eval(input('Enter the first number:   '))\n",
    "num2 = eval(input('Enter the second number:   '))\n",
    "num1+num2\n",
    "\n",
    "print(type(num1), type(num2))"
   ]
  },
  {
   "cell_type": "markdown",
   "id": "df77ccfe-e092-4985-9c01-80e98b2403ad",
   "metadata": {},
   "source": [
    "#### eval() 함수 예제"
   ]
  },
  {
   "cell_type": "code",
   "execution_count": 23,
   "id": "ec470cd0-2764-4f03-81c5-68f5a302d736",
   "metadata": {},
   "outputs": [
    {
     "name": "stdout",
     "output_type": "stream",
     "text": [
      "1. eval('\"BlockDMask\"' + '\" blog\"') : BlockDMaskblog\n",
      "2. eval(\"100 + 32\") : 132\n",
      "3. eval(\"abs(-56)\") : 56\n",
      "4. eval(\"len([1,2,3,4])\") : 4\n",
      "5. eval(\"round(1.5)\") : 2\n"
     ]
    }
   ],
   "source": [
    "# 1. 문자열 덧셈\n",
    "a = eval('\"BlockDMask\" + \"blog\"')\n",
    "print(f\"1. eval('\\\"BlockDMask\\\"' + '\\\" blog\\\"') : {a}\")\n",
    "\n",
    "# 2. 숫자 덧셈\n",
    "b = eval(\"100 + 32\")\n",
    "print(f'2. eval(\"100 + 32\") : {b}')\n",
    "\n",
    "# 3. 내장 함수\n",
    "absc = eval(\"abs(-56)\")\n",
    "print(f'3. eval(\"abs(-56)\") : {absc}')\n",
    "\n",
    "# 4. 리스트 길이\n",
    "d = eval(\"len([1,2,3,4])\")\n",
    "print(f'4. eval(\"len([1,2,3,4])\") : {d}')\n",
    "\n",
    "# 5. round 함수\n",
    "e = eval(\"round(1.5)\")\n",
    "print(f'5. eval(\"round(1.5)\") : {e}')"
   ]
  },
  {
   "cell_type": "code",
   "execution_count": 24,
   "id": "14dac226-cc92-4cbd-9c21-6b572647520a",
   "metadata": {},
   "outputs": [
    {
     "name": "stdout",
     "output_type": "stream",
     "text": [
      "What's going on?\n"
     ]
    }
   ],
   "source": [
    "print('What\\'s going on?')"
   ]
  },
  {
   "cell_type": "code",
   "execution_count": 25,
   "id": "182918de-7c36-4309-8337-3cebfc6ec0e9",
   "metadata": {},
   "outputs": [
    {
     "name": "stdout",
     "output_type": "stream",
     "text": [
      "Hello1 Hello2\n"
     ]
    }
   ],
   "source": [
    "msg1 = 'Hello1'\n",
    "msg2 = \"Hello2\"\n",
    "print(msg1, msg2)"
   ]
  },
  {
   "cell_type": "code",
   "execution_count": 26,
   "id": "110db275-7651-45d9-be1a-2f7d8120c7bb",
   "metadata": {},
   "outputs": [
    {
     "data": {
      "text/plain": [
       "'Hello2'"
      ]
     },
     "execution_count": 26,
     "metadata": {},
     "output_type": "execute_result"
    }
   ],
   "source": [
    "msg1\n",
    "msg2"
   ]
  },
  {
   "cell_type": "code",
   "execution_count": 27,
   "id": "babbadad-0af8-4bad-973f-ffdb4f334fe2",
   "metadata": {},
   "outputs": [
    {
     "data": {
      "text/plain": [
       "'Hello2'"
      ]
     },
     "execution_count": 27,
     "metadata": {},
     "output_type": "execute_result"
    }
   ],
   "source": [
    "msg2"
   ]
  },
  {
   "cell_type": "code",
   "execution_count": 28,
   "id": "e3c0cf3f-1384-41de-833f-df1f2e5856b1",
   "metadata": {},
   "outputs": [
    {
     "ename": "SyntaxError",
     "evalue": "invalid syntax (Temp/ipykernel_31496/2854643645.py, line 1)",
     "output_type": "error",
     "traceback": [
      "\u001b[1;36m  File \u001b[1;32m\"C:\\Users\\sky\\AppData\\Local\\Temp/ipykernel_31496/2854643645.py\"\u001b[1;36m, line \u001b[1;32m1\u001b[0m\n\u001b[1;33m    message = \"철수가 \"안녕\"이라고 말했습니다.\"\u001b[0m\n\u001b[1;37m                    ^\u001b[0m\n\u001b[1;31mSyntaxError\u001b[0m\u001b[1;31m:\u001b[0m invalid syntax\n"
     ]
    }
   ],
   "source": [
    "message = \"철수가 \"안녕\"이라고 말했습니다.\""
   ]
  },
  {
   "cell_type": "code",
   "execution_count": null,
   "id": "2d77d73e-7419-417f-906a-5b64d8342107",
   "metadata": {},
   "outputs": [],
   "source": [
    "message1 = '철수가 \"안녕\"이라고 말했습니다.'\n",
    "message2 = \"철수가 \\\"안녕\\\"이라고 말했습니다.\"\n",
    "print(message1,'\\t', message2)"
   ]
  },
  {
   "cell_type": "code",
   "execution_count": null,
   "id": "85e32bb9-bb0e-465a-979c-3135e6f23fe8",
   "metadata": {},
   "outputs": [],
   "source": []
  }
 ],
 "metadata": {
  "kernelspec": {
   "display_name": "Python 3 (ipykernel)",
   "language": "python",
   "name": "python3"
  },
  "language_info": {
   "codemirror_mode": {
    "name": "ipython",
    "version": 3
   },
   "file_extension": ".py",
   "mimetype": "text/x-python",
   "name": "python",
   "nbconvert_exporter": "python",
   "pygments_lexer": "ipython3",
   "version": "3.10.12"
  }
 },
 "nbformat": 4,
 "nbformat_minor": 5
}
