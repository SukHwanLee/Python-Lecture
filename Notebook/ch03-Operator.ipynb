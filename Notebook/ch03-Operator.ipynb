{
 "cells": [
  {
   "cell_type": "markdown",
   "id": "a7c0cc84-0f8e-4d30-9e52-a9ca646137fd",
   "metadata": {},
   "source": [
    "### Section 01 산술 연산자"
   ]
  },
  {
   "cell_type": "code",
   "execution_count": 1,
   "id": "7c7fd09b-2b96-4ca7-80d0-77b889e8518f",
   "metadata": {},
   "outputs": [
    {
     "name": "stdout",
     "output_type": "stream",
     "text": [
      "1 2 125\n"
     ]
    }
   ],
   "source": [
    "a, b = 5, 3\n",
    "print(a//b, a%b, a**b)"
   ]
  },
  {
   "cell_type": "code",
   "execution_count": 2,
   "id": "2371ab43-2f33-412a-aee5-2256391bf4f5",
   "metadata": {},
   "outputs": [
    {
     "name": "stdout",
     "output_type": "stream",
     "text": [
      "1 14 1.5\n"
     ]
    }
   ],
   "source": [
    "a, b, c = 2, 3, 4\n",
    "print(a+b-c, a+b*c, a*b/c)"
   ]
  },
  {
   "cell_type": "code",
   "execution_count": 3,
   "id": "6d0e0fd6-6b2c-44c7-8a90-ec3b23537f43",
   "metadata": {},
   "outputs": [
    {
     "name": "stdout",
     "output_type": "stream",
     "text": [
      "1001 \t 100.1231\n"
     ]
    }
   ],
   "source": [
    "a=100; b=100.123\n",
    "print(str(a)+'1', '\\t', str(b)+'1')"
   ]
  },
  {
   "cell_type": "code",
   "execution_count": 13,
   "id": "107e5ed6-77f7-46c0-8bad-f9bb97d49894",
   "metadata": {},
   "outputs": [
    {
     "name": "stdin",
     "output_type": "stream",
     "text": [
      "교환할 돈은 얼마 ?  2050\n"
     ]
    },
    {
     "name": "stdout",
     "output_type": "stream",
     "text": [
      "500원 \t 4 개\n",
      "100원 \t 0 개\n",
      "50원 \t 1 개\n",
      "10원 \t 0 개\n",
      "잔돈 \t 0 원\n"
     ]
    }
   ],
   "source": [
    "# 동전 교환 프로그램\n",
    "\n",
    "money, c500, c100, c50, c10 = 0, 0, 0, 0, 0\n",
    "money=int(input(\"교환할 돈은 얼마 ? \"))\n",
    "\n",
    "c500 = money // 500\n",
    "money %= 500\n",
    "\n",
    "c100 = money // 100\n",
    "money %= 100\n",
    "\n",
    "c50 = money // 50\n",
    "money %= 50\n",
    "\n",
    "c10 = money // 10\n",
    "money %= 10\n",
    "\n",
    "print(\"500원\", '\\t', c500,\"개\")\n",
    "print(\"100원\", '\\t', c100,\"개\")\n",
    "print(\"50원\", '\\t', c50,\"개\")\n",
    "print(\"10원\", '\\t', c10,\"개\")\n",
    "print(\"잔돈\", '\\t', money,'원')"
   ]
  },
  {
   "cell_type": "code",
   "execution_count": 15,
   "id": "a54ca19c-5cf4-4a0a-bf5c-d1b8d5bab6fd",
   "metadata": {},
   "outputs": [
    {
     "data": {
      "text/plain": [
       "True"
      ]
     },
     "execution_count": 15,
     "metadata": {},
     "output_type": "execute_result"
    }
   ],
   "source": [
    "a, b = 100, 200"
   ]
  },
  {
   "cell_type": "markdown",
   "id": "c64a79b9-3ef7-45dc-a51a-b08061af276d",
   "metadata": {},
   "source": [
    "### Section 04 비트 연산자"
   ]
  },
  {
   "cell_type": "markdown",
   "id": "5ef848b8-ab81-40c7-a622-d8ebe601b7b7",
   "metadata": {},
   "source": [
    "마스크(Mask) 방식에 대한 예제"
   ]
  },
  {
   "cell_type": "code",
   "execution_count": 11,
   "id": "55df28f3-a8cb-4285-a7de-9861528408d8",
   "metadata": {},
   "outputs": [
    {
     "name": "stdout",
     "output_type": "stream",
     "text": [
      "41 & f = 1\n",
      "41 & F = 4F\n"
     ]
    }
   ],
   "source": [
    "a = ord('A')\n",
    "mask = 0x0F\n",
    "\n",
    "print(\"%x & %x = %x\" % (a, mask, a & mask))\n",
    "print(\"%X & %X = %X\" % (a, mask, a | mask))"
   ]
  },
  {
   "cell_type": "code",
   "execution_count": 15,
   "id": "4272100e-d4fa-4fff-9634-b3083bff169c",
   "metadata": {},
   "outputs": [
    {
     "name": "stdout",
     "output_type": "stream",
     "text": [
      "97 65 32\n",
      "0x61 0x41 0x20\n"
     ]
    }
   ],
   "source": [
    "mask = ord('a') - ord('A')\n",
    "print(ord('a'), ord('A'), mask)\n",
    "print(hex(ord('a')), hex(ord('A')), hex(mask))"
   ]
  },
  {
   "cell_type": "code",
   "execution_count": 16,
   "id": "d1983867-c482-4702-9a00-e0a0708df359",
   "metadata": {},
   "outputs": [
    {
     "name": "stdout",
     "output_type": "stream",
     "text": [
      "A ^ 32 = a\n",
      "a ^ 32 = A\n"
     ]
    }
   ],
   "source": [
    "b = a ^ mask\n",
    "print(\"%c ^ %d = %c\" % (a, mask, b))\n",
    "a = b ^ mask\n",
    "print(\"%c ^ %d = %c\" % (b, mask, a))"
   ]
  },
  {
   "cell_type": "markdown",
   "id": "e2885914-97ba-45de-9970-86dd48d395c5",
   "metadata": {},
   "source": [
    "1의 보수 / 2의 보수"
   ]
  },
  {
   "cell_type": "code",
   "execution_count": 19,
   "id": "76773a78-d96b-4f5e-8505-7afd052bfc4a",
   "metadata": {},
   "outputs": [
    {
     "name": "stdout",
     "output_type": "stream",
     "text": [
      "0b1111011 0b111001000 0b1001000 72\n"
     ]
    }
   ],
   "source": [
    "a = 123\n",
    "b = 456\n",
    "print(bin(a), bin(b), bin(a&b), a&b)"
   ]
  },
  {
   "cell_type": "code",
   "execution_count": 21,
   "id": "91ef14a8-e71a-480c-9d3a-5654ca3dcb8c",
   "metadata": {},
   "outputs": [
    {
     "name": "stdout",
     "output_type": "stream",
     "text": [
      "-12346 -12345\n"
     ]
    }
   ],
   "source": [
    "a = 12345\n",
    "print(~a, ~a+1)"
   ]
  },
  {
   "cell_type": "markdown",
   "id": "b49248d6-3536-4d3d-9ce5-c73937ab6dd7",
   "metadata": {},
   "source": [
    "Shift 연산자 사용 예"
   ]
  },
  {
   "cell_type": "code",
   "execution_count": 18,
   "id": "90d51e5a-e5f0-4adb-8a07-38dc7664b651",
   "metadata": {},
   "outputs": [
    {
     "name": "stdout",
     "output_type": "stream",
     "text": [
      "100 << 1 = 200\n",
      "100 << 2 = 400\n",
      "100 << 3 = 800\n",
      "100 << 4 = 1600\n",
      "100 >> 1 = 50\n",
      "100 >> 2 = 25\n",
      "100 >> 3 = 12\n",
      "100 >> 4 = 6\n"
     ]
    }
   ],
   "source": [
    "a = 100\n",
    "result = 0\n",
    "i = 0\n",
    "\n",
    "for i in range(1, 5) :\n",
    "    result = a << i\n",
    "    print(\"%d << %d = %d\" % (a, i, result))\n",
    "\n",
    "for i in range(1, 5) :\n",
    "    result = a >> i\n",
    "    print(\"%d >> %d = %d\" % (a, i, result))"
   ]
  },
  {
   "cell_type": "markdown",
   "id": "eefc268a-2974-47f8-b99f-71953cc85572",
   "metadata": {},
   "source": [
    "#### Lab ; 사용자로부터 여러 개의 수를 입력받자\n",
    "\n",
    "map(function, iterable)  \n",
    "두 번째 인자로 들어온 반복 가능한 자료형 (리스트나 튜플)을 첫 번째 인자로 들어온 함수에 하나씩 집어넣어서 함수를 수행"
   ]
  },
  {
   "cell_type": "code",
   "execution_count": 22,
   "id": "4699b6a8-7cf3-4f43-867e-5ba2c5de7f12",
   "metadata": {},
   "outputs": [
    {
     "name": "stdin",
     "output_type": "stream",
     "text": [
      "3개 정수를 입력하시오:  30 40 50\n"
     ]
    },
    {
     "data": {
      "text/plain": [
       "'30 40 50'"
      ]
     },
     "execution_count": 22,
     "metadata": {},
     "output_type": "execute_result"
    }
   ],
   "source": [
    "input('3개 정수를 입력하시오: ')"
   ]
  },
  {
   "cell_type": "code",
   "execution_count": 23,
   "id": "b8d573dd-5bac-4255-94fd-59bdac5c7868",
   "metadata": {},
   "outputs": [
    {
     "name": "stdin",
     "output_type": "stream",
     "text": [
      "3개 정수를 입력하시오:  30 40 50\n"
     ]
    }
   ],
   "source": [
    "data = input('3개 정수를 입력하시오: ').split()"
   ]
  },
  {
   "cell_type": "code",
   "execution_count": 24,
   "id": "edf639fb-b777-4fa2-aa12-486d8346b424",
   "metadata": {},
   "outputs": [
    {
     "name": "stdout",
     "output_type": "stream",
     "text": [
      "<class 'list'> ['30', '40', '50']\n"
     ]
    }
   ],
   "source": [
    "print(type(data), data)"
   ]
  },
  {
   "cell_type": "code",
   "execution_count": 35,
   "id": "7d1b3841-9598-40d4-81ff-afa8bfb3fc29",
   "metadata": {},
   "outputs": [
    {
     "name": "stdout",
     "output_type": "stream",
     "text": [
      "4.333333333333333\n"
     ]
    }
   ],
   "source": [
    "b = 13/3\n",
    "print(b)"
   ]
  },
  {
   "cell_type": "code",
   "execution_count": 25,
   "id": "beb301c7-ffd1-4ac0-8368-354839277f97",
   "metadata": {},
   "outputs": [
    {
     "name": "stdin",
     "output_type": "stream",
     "text": [
      "3개 정수를 입력하시오:  30 40 50\n"
     ]
    }
   ],
   "source": [
    "x,y,z = map(int, input('3개 정수를 입력하시오: ').split())"
   ]
  },
  {
   "cell_type": "code",
   "execution_count": 26,
   "id": "5010a860-a76a-4ddd-87ef-19f182b83dcb",
   "metadata": {},
   "outputs": [
    {
     "name": "stdout",
     "output_type": "stream",
     "text": [
      "30 40 50\n"
     ]
    }
   ],
   "source": [
    "print(x, y, z)"
   ]
  },
  {
   "cell_type": "code",
   "execution_count": 1,
   "id": "74896434-8bb1-456d-ab61-ab0e1302c7bd",
   "metadata": {},
   "outputs": [],
   "source": [
    "import random"
   ]
  },
  {
   "cell_type": "code",
   "execution_count": 2,
   "id": "3eaa1dcf-d27d-41bf-a8c8-089cccd00fc3",
   "metadata": {},
   "outputs": [
    {
     "data": {
      "text/plain": [
       "0.10681425259263189"
      ]
     },
     "execution_count": 2,
     "metadata": {},
     "output_type": "execute_result"
    }
   ],
   "source": [
    "a = random.random()\n",
    "a"
   ]
  },
  {
   "cell_type": "code",
   "execution_count": 3,
   "id": "49aeeeca-0da0-4d7e-b0db-ec2cca806c17",
   "metadata": {},
   "outputs": [
    {
     "data": {
      "text/plain": [
       "0.19136503785516934"
      ]
     },
     "execution_count": 3,
     "metadata": {},
     "output_type": "execute_result"
    }
   ],
   "source": [
    "b = random.random()\n",
    "b"
   ]
  },
  {
   "cell_type": "code",
   "execution_count": null,
   "id": "08745a7c-15e5-4156-9615-306008acae11",
   "metadata": {},
   "outputs": [],
   "source": []
  }
 ],
 "metadata": {
  "kernelspec": {
   "display_name": "Python 3 (ipykernel)",
   "language": "python",
   "name": "python3"
  },
  "language_info": {
   "codemirror_mode": {
    "name": "ipython",
    "version": 3
   },
   "file_extension": ".py",
   "mimetype": "text/x-python",
   "name": "python",
   "nbconvert_exporter": "python",
   "pygments_lexer": "ipython3",
   "version": "3.10.12"
  }
 },
 "nbformat": 4,
 "nbformat_minor": 5
}
