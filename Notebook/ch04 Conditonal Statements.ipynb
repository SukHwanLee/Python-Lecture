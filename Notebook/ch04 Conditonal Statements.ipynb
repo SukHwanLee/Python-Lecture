{
 "cells": [
  {
   "cell_type": "markdown",
   "id": "c84f47b1-3a80-4a14-83db-8c5ac9f566af",
   "metadata": {},
   "source": [
    "### Section01 기본 if 문"
   ]
  },
  {
   "cell_type": "code",
   "execution_count": 20,
   "id": "a24dba65-1a13-4920-8a6c-2e3d708fa91b",
   "metadata": {},
   "outputs": [
    {
     "ename": "IndentationError",
     "evalue": "unindent does not match any outer indentation level (<tokenize>, line 5)",
     "output_type": "error",
     "traceback": [
      "\u001b[1;36m  File \u001b[1;32m\"<tokenize>\"\u001b[1;36m, line \u001b[1;32m5\u001b[0m\n\u001b[1;33m    print(\"이 문장은 보이지 않아요.\")\u001b[0m\n\u001b[1;37m    ^\u001b[0m\n\u001b[1;31mIndentationError\u001b[0m\u001b[1;31m:\u001b[0m unindent does not match any outer indentation level\n"
     ]
    }
   ],
   "source": [
    "a=200\n",
    "\n",
    "if a<200:\n",
    "    print(\"100보다 작아요.\")\n",
    "    print(\"이 문장은 보이지 않아요.\")\n",
    "    \n",
    "print(\"Done\")"
   ]
  },
  {
   "cell_type": "code",
   "execution_count": 22,
   "id": "7ee8e9c0-5856-4955-a1bb-d4b2501e061f",
   "metadata": {},
   "outputs": [
    {
     "name": "stdout",
     "output_type": "stream",
     "text": [
      "<class 'int'>\n"
     ]
    },
    {
     "data": {
      "text/plain": [
       "True"
      ]
     },
     "execution_count": 22,
     "metadata": {},
     "output_type": "execute_result"
    }
   ],
   "source": [
    "a = 100\n",
    "print(type(a))\n",
    "b = 100\n",
    "a is b"
   ]
  },
  {
   "cell_type": "code",
   "execution_count": 6,
   "id": "2df59264-0ac8-4cdf-806b-3efe1ba50636",
   "metadata": {},
   "outputs": [
    {
     "name": "stdin",
     "output_type": "stream",
     "text": [
      "Input any number?  40\n"
     ]
    },
    {
     "name": "stdout",
     "output_type": "stream",
     "text": [
      "100보다 작아요.\n"
     ]
    }
   ],
   "source": [
    "a = int(input(\"Input any number? \"))\n",
    "\n",
    "if a<100: print(\"100보다 작아요.\")\n",
    "else: print(\"100보다 커요.\")"
   ]
  },
  {
   "cell_type": "code",
   "execution_count": 9,
   "id": "cf417a12-b60d-4fcc-b033-a685b494850c",
   "metadata": {},
   "outputs": [
    {
     "name": "stdin",
     "output_type": "stream",
     "text": [
      "정수를 입력하세요 :  35\n"
     ]
    },
    {
     "name": "stdout",
     "output_type": "stream",
     "text": [
      "홀수를 입력했군요.\n"
     ]
    }
   ],
   "source": [
    "a = int(input(\"정수를 입력하세요 : \"))\n",
    "\n",
    "if a%2 == 0 : print(\"짝수를 입력했군요.\")\n",
    "else : print(\"홀수를 입력했군요.\")"
   ]
  },
  {
   "cell_type": "markdown",
   "id": "34fdbfbf-ce85-40b9-8435-a235392f011b",
   "metadata": {},
   "source": [
    "### Section04  if 문 응용"
   ]
  },
  {
   "cell_type": "code",
   "execution_count": 28,
   "id": "814189de-5bb9-4a59-94a5-c45b91a46cfe",
   "metadata": {},
   "outputs": [],
   "source": [
    "import random\n",
    "numbers=[]"
   ]
  },
  {
   "cell_type": "code",
   "execution_count": 29,
   "id": "929455a0-d4c1-4518-badb-7d8a4e0f18a8",
   "metadata": {},
   "outputs": [
    {
     "name": "stdout",
     "output_type": "stream",
     "text": [
      "생성된 리스트 [1, 6, 8, 2, 4, 7, 4, 2, 3, 5]\n"
     ]
    }
   ],
   "source": [
    "for i in range(0, 10) :\n",
    "    numbers.append(random.randrange(0, 10))\n",
    "    \n",
    "print(\"생성된 리스트\", numbers)"
   ]
  },
  {
   "cell_type": "code",
   "execution_count": 30,
   "id": "cc6dea7b-c99c-42ac-9e3c-037dc7f28e2b",
   "metadata": {},
   "outputs": [
    {
     "name": "stdout",
     "output_type": "stream",
     "text": [
      "숫자 0는(은) 리스트에 없네요.\n",
      "숫자 9는(은) 리스트에 없네요.\n"
     ]
    }
   ],
   "source": [
    "for num in range(0, 10) :\n",
    "    if num not in numbers :\n",
    "        print(\"숫자 %d는(은) 리스트에 없네요.\" %num)"
   ]
  },
  {
   "cell_type": "code",
   "execution_count": null,
   "id": "8a980289-8a49-4709-b224-453c4c86a2c9",
   "metadata": {},
   "outputs": [],
   "source": []
  }
 ],
 "metadata": {
  "kernelspec": {
   "display_name": "Python 3 (ipykernel)",
   "language": "python",
   "name": "python3"
  },
  "language_info": {
   "codemirror_mode": {
    "name": "ipython",
    "version": 3
   },
   "file_extension": ".py",
   "mimetype": "text/x-python",
   "name": "python",
   "nbconvert_exporter": "python",
   "pygments_lexer": "ipython3",
   "version": "3.10.12"
  }
 },
 "nbformat": 4,
 "nbformat_minor": 5
}
