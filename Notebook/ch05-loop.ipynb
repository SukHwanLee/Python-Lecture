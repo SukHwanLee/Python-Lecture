{
 "cells": [
  {
   "cell_type": "code",
   "execution_count": 9,
   "id": "f57442f6-7c27-407d-864e-f52f5ab6d9c6",
   "metadata": {},
   "outputs": [
    {
     "name": "stdout",
     "output_type": "stream",
     "text": [
      "range(0, 10)\n"
     ]
    }
   ],
   "source": [
    "print(range(10)) # 1, 2, --- 9"
   ]
  },
  {
   "cell_type": "code",
   "execution_count": 10,
   "id": "8b65d6c1-562c-4897-9507-f300c2b3842c",
   "metadata": {},
   "outputs": [
    {
     "name": "stdout",
     "output_type": "stream",
     "text": [
      "0 9 18 27 36 45 54 63 72 81 "
     ]
    }
   ],
   "source": [
    "a=range(10)\n",
    "for i in a:\n",
    "    print(i*9, end=\" \")"
   ]
  },
  {
   "cell_type": "code",
   "execution_count": 11,
   "id": "e4cfa551-ca7d-496d-b1a0-247b4d5560cb",
   "metadata": {},
   "outputs": [
    {
     "data": {
      "text/plain": [
       "[0, 1, 2, 3, 4, 5, 6, 7, 8, 9]"
      ]
     },
     "execution_count": 11,
     "metadata": {},
     "output_type": "execute_result"
    }
   ],
   "source": [
    "list(range(10))"
   ]
  },
  {
   "cell_type": "code",
   "execution_count": 2,
   "id": "d128b6e3-aeb3-48a0-84a0-27385e74b09a",
   "metadata": {},
   "outputs": [
    {
     "name": "stdout",
     "output_type": "stream",
     "text": [
      "<class 'range'>\n"
     ]
    }
   ],
   "source": [
    "print(type(range(10)))"
   ]
  },
  {
   "cell_type": "markdown",
   "id": "3cbf68ba-5ae6-4c28-991d-481641c610c4",
   "metadata": {},
   "source": [
    "#### Section 02 중첩 for문"
   ]
  },
  {
   "cell_type": "code",
   "execution_count": 13,
   "id": "e1251a8c-21c7-4a89-8603-fc58e0ff8544",
   "metadata": {},
   "outputs": [
    {
     "name": "stdout",
     "output_type": "stream",
     "text": [
      " #  2단  #\t #  3단  #\t #  4단  #\t #  5단  #\t #  6단  #\t #  7단  #\t #  8단  #\t #  9단  #\t\n",
      " 2X  1=  2\t 3X  1=  3\t 4X  1=  4\t 5X  1=  5\t 6X  1=  6\t 7X  1=  7\t 8X  1=  8\t 9X  1=  9\t\n",
      " 2X  2=  4\t 3X  2=  6\t 4X  2=  8\t 5X  2= 10\t 6X  2= 12\t 7X  2= 14\t 8X  2= 16\t 9X  2= 18\t\n",
      " 2X  3=  6\t 3X  3=  9\t 4X  3= 12\t 5X  3= 15\t 6X  3= 18\t 7X  3= 21\t 8X  3= 24\t 9X  3= 27\t\n",
      " 2X  4=  8\t 3X  4= 12\t 4X  4= 16\t 5X  4= 20\t 6X  4= 24\t 7X  4= 28\t 8X  4= 32\t 9X  4= 36\t\n",
      " 2X  5= 10\t 3X  5= 15\t 4X  5= 20\t 5X  5= 25\t 6X  5= 30\t 7X  5= 35\t 8X  5= 40\t 9X  5= 45\t\n",
      " 2X  6= 12\t 3X  6= 18\t 4X  6= 24\t 5X  6= 30\t 6X  6= 36\t 7X  6= 42\t 8X  6= 48\t 9X  6= 54\t\n",
      " 2X  7= 14\t 3X  7= 21\t 4X  7= 28\t 5X  7= 35\t 6X  7= 42\t 7X  7= 49\t 8X  7= 56\t 9X  7= 63\t\n",
      " 2X  8= 16\t 3X  8= 24\t 4X  8= 32\t 5X  8= 40\t 6X  8= 48\t 7X  8= 56\t 8X  8= 64\t 9X  8= 72\t\n",
      " 2X  9= 18\t 3X  9= 27\t 4X  9= 36\t 5X  9= 45\t 6X  9= 54\t 7X  9= 63\t 8X  9= 72\t 9X  9= 81\t\n"
     ]
    }
   ],
   "source": [
    "## 전역 변수 선언 부분 ##\n",
    "i, k, guguLine = 0, 0, \"\"\n",
    "\n",
    "## 메인 코드 부분 ##\n",
    "for i in range(2, 10) :\n",
    "     guguLine = guguLine + (\" #  %d단  #\\t\" % i)\n",
    "\n",
    "print(guguLine)\n",
    "\n",
    "for i in range(1, 10):\n",
    "     guguLine = \"\"\n",
    "     for k in range(2, 10) :\n",
    "          guguLine = guguLine + str(\"%2dX %2d= %2d\\t\" % (k, i, k*i))\n",
    "     print(guguLine)"
   ]
  },
  {
   "cell_type": "markdown",
   "id": "838f9e7a-57a1-4b93-b91f-63acee37f9ac",
   "metadata": {},
   "source": [
    "#### Section04 break문과 continue문\n",
    "[프로그램2]"
   ]
  },
  {
   "cell_type": "code",
   "execution_count": 16,
   "id": "a5a9c304-ad8b-4930-9b5a-03863b48f864",
   "metadata": {},
   "outputs": [
    {
     "name": "stdout",
     "output_type": "stream",
     "text": [
      "☀\n"
     ]
    }
   ],
   "source": [
    "print('\\u2600')"
   ]
  },
  {
   "cell_type": "code",
   "execution_count": 14,
   "id": "65e2f15e-dd38-4b13-ad43-b4d1bed24f93",
   "metadata": {},
   "outputs": [
    {
     "name": "stdout",
     "output_type": "stream",
     "text": [
      "        ★\n",
      "      ★★★\n",
      "    ★★★★★\n",
      "  ★★★★★★★\n",
      "★★★★★★★★★\n",
      "  ★★★★★★★\n",
      "    ★★★★★\n",
      "      ★★★\n",
      "        ★\n"
     ]
    }
   ],
   "source": [
    "## 전역 변수 선언 부분 ##\n",
    "i, k = 0, 0\n",
    "\n",
    "## 메인 코드 부분 ##\n",
    "i = 0\n",
    "while i < 9 :\n",
    "    if i<5 :\n",
    "        k = 0\n",
    "        while k < 4-i :\n",
    "            print('  ', end = '')\n",
    "            k += 1\n",
    "        k = 0\n",
    "        while k < i*2+1 :\n",
    "            print('\\u2605',  end = '')\n",
    "            k += 1\n",
    "    else :\n",
    "        k = 0\n",
    "        while k < i-4 :\n",
    "            print('  ', end = '')\n",
    "            k += 1\n",
    "        k = 0\n",
    "        while k < (9-i)*2-1 :\n",
    "            print('\\u2605',  end = '')\n",
    "            k += 1\n",
    "    print()\n",
    "    i += 1"
   ]
  },
  {
   "cell_type": "code",
   "execution_count": null,
   "id": "124a2684-474c-4499-8b6f-6b5a0569e4a4",
   "metadata": {},
   "outputs": [],
   "source": []
  }
 ],
 "metadata": {
  "kernelspec": {
   "display_name": "Python 3 (ipykernel)",
   "language": "python",
   "name": "python3"
  },
  "language_info": {
   "codemirror_mode": {
    "name": "ipython",
    "version": 3
   },
   "file_extension": ".py",
   "mimetype": "text/x-python",
   "name": "python",
   "nbconvert_exporter": "python",
   "pygments_lexer": "ipython3",
   "version": "3.10.12"
  }
 },
 "nbformat": 4,
 "nbformat_minor": 5
}
