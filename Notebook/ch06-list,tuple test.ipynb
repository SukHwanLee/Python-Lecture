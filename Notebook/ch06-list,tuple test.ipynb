{
 "cells": [
  {
   "cell_type": "code",
   "execution_count": 3,
   "id": "58ea4c65-e923-447d-885a-35d954c3fd90",
   "metadata": {},
   "outputs": [
    {
     "name": "stdout",
     "output_type": "stream",
     "text": [
      "[10, 20, 30]\n"
     ]
    }
   ],
   "source": [
    "aa = []\n",
    "aa.append(10)\n",
    "aa.append(20)\n",
    "aa.append(30)\n",
    "print(aa)"
   ]
  },
  {
   "cell_type": "code",
   "execution_count": 4,
   "id": "ef59d6d1-dd58-4ed0-b89e-edbc9a7a55f1",
   "metadata": {},
   "outputs": [
    {
     "data": {
      "text/plain": [
       "3"
      ]
     },
     "execution_count": 4,
     "metadata": {},
     "output_type": "execute_result"
    }
   ],
   "source": [
    "len(aa)"
   ]
  },
  {
   "cell_type": "code",
   "execution_count": 6,
   "id": "4b7906e3-df63-426b-81b4-121aeccf8903",
   "metadata": {},
   "outputs": [
    {
     "data": {
      "text/plain": [
       "[10, 20, 30, 100, 200, 100, 200]"
      ]
     },
     "execution_count": 6,
     "metadata": {},
     "output_type": "execute_result"
    }
   ],
   "source": [
    "aa.append(100)\n",
    "aa.append(200)\n",
    "aa"
   ]
  },
  {
   "cell_type": "code",
   "execution_count": 9,
   "id": "b765a3b6-463e-4378-a524-183bbf173e4d",
   "metadata": {},
   "outputs": [
    {
     "name": "stdout",
     "output_type": "stream",
     "text": [
      "[10, 20, 1000, 100, 200, 100, 200]\n"
     ]
    }
   ],
   "source": [
    "aa[2] = 1000\n",
    "print(aa)"
   ]
  },
  {
   "cell_type": "code",
   "execution_count": 10,
   "id": "864e90f7-9580-413d-a55c-de52eb1b4596",
   "metadata": {},
   "outputs": [
    {
     "data": {
      "text/plain": [
       "7"
      ]
     },
     "execution_count": 10,
     "metadata": {},
     "output_type": "execute_result"
    }
   ],
   "source": [
    "len(aa)"
   ]
  },
  {
   "cell_type": "code",
   "execution_count": 13,
   "id": "ec312362-709b-430c-ad61-b05b0448e46a",
   "metadata": {},
   "outputs": [
    {
     "ename": "IndexError",
     "evalue": "list index out of range",
     "output_type": "error",
     "traceback": [
      "\u001b[1;31m---------------------------------------------------------------------------\u001b[0m",
      "\u001b[1;31mIndexError\u001b[0m                                Traceback (most recent call last)",
      "\u001b[1;32m~\\AppData\\Local\\Temp/ipykernel_33288/671045730.py\u001b[0m in \u001b[0;36m<module>\u001b[1;34m\u001b[0m\n\u001b[1;32m----> 1\u001b[1;33m \u001b[0mprint\u001b[0m\u001b[1;33m(\u001b[0m\u001b[0maa\u001b[0m\u001b[1;33m[\u001b[0m\u001b[1;33m-\u001b[0m\u001b[1;36m1\u001b[0m\u001b[1;33m]\u001b[0m\u001b[1;33m,\u001b[0m \u001b[0maa\u001b[0m\u001b[1;33m[\u001b[0m\u001b[1;36m7\u001b[0m\u001b[1;33m]\u001b[0m\u001b[1;33m)\u001b[0m\u001b[1;33m\u001b[0m\u001b[1;33m\u001b[0m\u001b[0m\n\u001b[0m",
      "\u001b[1;31mIndexError\u001b[0m: list index out of range"
     ]
    }
   ],
   "source": [
    "print(aa[-1], aa[7])"
   ]
  },
  {
   "cell_type": "code",
   "execution_count": 51,
   "id": "cf50d3a3-1033-4290-bbbc-24d4ed093a38",
   "metadata": {},
   "outputs": [],
   "source": [
    "aa = []\n",
    "bb = []\n",
    "value = 0"
   ]
  },
  {
   "cell_type": "code",
   "execution_count": 52,
   "id": "857438e8-4319-49c3-9808-4aff047c8cfa",
   "metadata": {},
   "outputs": [
    {
     "name": "stdout",
     "output_type": "stream",
     "text": [
      "100\n",
      "[0, 2, 4, 6, 8, 10, 12, 14, 16, 18, 20, 22, 24, 26, 28, 30, 32, 34, 36, 38, 40, 42, 44, 46, 48, 50, 52, 54, 56, 58, 60, 62, 64, 66, 68, 70, 72, 74, 76, 78, 80, 82, 84, 86, 88, 90, 92, 94, 96, 98, 100, 102, 104, 106, 108, 110, 112, 114, 116, 118, 120, 122, 124, 126, 128, 130, 132, 134, 136, 138, 140, 142, 144, 146, 148, 150, 152, 154, 156, 158, 160, 162, 164, 166, 168, 170, 172, 174, 176, 178, 180, 182, 184, 186, 188, 190, 192, 194, 196, 198]\n"
     ]
    }
   ],
   "source": [
    "for i in range(0,100):\n",
    "    aa.append(value)\n",
    "    value += 2\n",
    "\n",
    "print(len(aa))\n",
    "print(aa)"
   ]
  },
  {
   "cell_type": "code",
   "execution_count": 53,
   "id": "ac7be6d8-1d20-486b-93d2-05055f7eaaef",
   "metadata": {},
   "outputs": [
    {
     "name": "stdout",
     "output_type": "stream",
     "text": [
      "2 198\n"
     ]
    }
   ],
   "source": [
    "print(aa[1], aa[len(aa)-1])"
   ]
  },
  {
   "cell_type": "code",
   "execution_count": 54,
   "id": "27f89c0a-7e75-46cf-9b0c-81934f2ca4c4",
   "metadata": {},
   "outputs": [
    {
     "name": "stdout",
     "output_type": "stream",
     "text": [
      "198 196 194\n"
     ]
    }
   ],
   "source": [
    "print(aa[-1], aa[-2], aa[-3])"
   ]
  },
  {
   "cell_type": "code",
   "execution_count": 68,
   "id": "2f943d7b-856a-4ed8-9c9a-86518888d0ed",
   "metadata": {},
   "outputs": [
    {
     "name": "stdout",
     "output_type": "stream",
     "text": [
      "[10, 20, 30, 40, 30, 50]\n",
      "[10, 20, 30, 10, 20, 30, 10, 20, 30]\n"
     ]
    }
   ],
   "source": [
    "a = [10, 20, 30]\n",
    "b = [40, 30, 50]\n",
    "print(a+b)\n",
    "print(a*3)"
   ]
  },
  {
   "cell_type": "code",
   "execution_count": 69,
   "id": "45b30ef2-6b63-4873-b596-a6de390fa075",
   "metadata": {},
   "outputs": [
    {
     "data": {
      "text/plain": [
       "[10, 20, 30, 40, 30, 50]"
      ]
     },
     "execution_count": 69,
     "metadata": {},
     "output_type": "execute_result"
    }
   ],
   "source": [
    "list = a+b\n",
    "list"
   ]
  },
  {
   "cell_type": "code",
   "execution_count": 71,
   "id": "5663d134-8021-446f-8453-169461d25c4d",
   "metadata": {},
   "outputs": [
    {
     "data": {
      "text/plain": [
       "[10, 20, 30, 40, 30, 50, [500, 600]]"
      ]
     },
     "execution_count": 71,
     "metadata": {},
     "output_type": "execute_result"
    }
   ],
   "source": [
    "list.append([500, 600])\n",
    "list"
   ]
  },
  {
   "cell_type": "code",
   "execution_count": 72,
   "id": "d32f9e05-c260-4a6d-887c-6c95cf786e9b",
   "metadata": {},
   "outputs": [
    {
     "data": {
      "text/plain": [
       "[10, 20, 30, 40, 30, 50, [500, 600], 500, 600]"
      ]
     },
     "execution_count": 72,
     "metadata": {},
     "output_type": "execute_result"
    }
   ],
   "source": [
    "list.extend([500, 600])\n",
    "list"
   ]
  },
  {
   "cell_type": "code",
   "execution_count": 76,
   "id": "97e13211-e082-481d-b48d-25eed30f3420",
   "metadata": {},
   "outputs": [
    {
     "name": "stdout",
     "output_type": "stream",
     "text": [
      "30 [10, 20, 40, 30, 50]\n"
     ]
    }
   ],
   "source": [
    "a=list.pop(2)\n",
    "print(a, list)"
   ]
  },
  {
   "cell_type": "code",
   "execution_count": null,
   "id": "f4cbbff8-c6c5-4d89-89f9-c5c6bb55ed13",
   "metadata": {},
   "outputs": [],
   "source": []
  },
  {
   "cell_type": "code",
   "execution_count": null,
   "id": "0da91380-df4d-48f1-9ab3-64e801e5897a",
   "metadata": {},
   "outputs": [],
   "source": []
  },
  {
   "cell_type": "code",
   "execution_count": null,
   "id": "45a6e949-c1f3-4f6f-bbc9-d4ee8615ca31",
   "metadata": {},
   "outputs": [],
   "source": []
  },
  {
   "cell_type": "code",
   "execution_count": 77,
   "id": "b40e713c-aab0-47d4-bf45-c2214cdb93c2",
   "metadata": {},
   "outputs": [
    {
     "name": "stdout",
     "output_type": "stream",
     "text": [
      "[10, 20, 30, 40, 50, 60]\n"
     ]
    }
   ],
   "source": [
    "list1 = [10, 20, 30]\n",
    "list2 = [40, 50, 60]\n",
    "list = list1 + list2\n",
    "print(list)"
   ]
  },
  {
   "cell_type": "code",
   "execution_count": 78,
   "id": "a5944eb1-efa4-4044-9cc7-7365f6dcd96c",
   "metadata": {},
   "outputs": [
    {
     "name": "stdout",
     "output_type": "stream",
     "text": [
      "[10, 20, ('fisrt', 'second'), 40, 50, 60]\n"
     ]
    }
   ],
   "source": [
    "list[2] = ('fisrt', 'second')\n",
    "print(list)"
   ]
  },
  {
   "cell_type": "code",
   "execution_count": 79,
   "id": "0befc1be-16b5-42b2-81bd-ac82275fabe4",
   "metadata": {},
   "outputs": [
    {
     "name": "stdout",
     "output_type": "stream",
     "text": [
      "[10, 20, 40, 50, 60]\n"
     ]
    }
   ],
   "source": [
    "del(list[2])\n",
    "print(list)"
   ]
  },
  {
   "cell_type": "code",
   "execution_count": null,
   "id": "3da17029-2d02-4bd3-ae82-c9006fbf3aa9",
   "metadata": {},
   "outputs": [],
   "source": [
    "list1 = [[10,20,30],[30,40],[60,50,60,70]]\n",
    "print(len(list1))\n",
    "print(list1)"
   ]
  },
  {
   "cell_type": "code",
   "execution_count": 87,
   "id": "f1a7a0a8-089a-47e1-9379-55bfaa9ef1a6",
   "metadata": {},
   "outputs": [
    {
     "data": {
      "text/plain": [
       "70"
      ]
     },
     "execution_count": 87,
     "metadata": {},
     "output_type": "execute_result"
    }
   ],
   "source": [
    "list1[][-1]"
   ]
  },
  {
   "cell_type": "code",
   "execution_count": 9,
   "id": "2a508fae-a73c-44be-8bc8-61c34b8b674c",
   "metadata": {},
   "outputs": [
    {
     "name": "stdout",
     "output_type": "stream",
     "text": [
      "<class 'list'>\n"
     ]
    },
    {
     "data": {
      "text/plain": [
       "[10, 20, 'list', 10]"
      ]
     },
     "execution_count": 9,
     "metadata": {},
     "output_type": "execute_result"
    }
   ],
   "source": [
    "aa = [10, 20, 'list']\n",
    "print(type(aa))\n",
    "\n",
    "aa.append(10)\n",
    "aa"
   ]
  },
  {
   "cell_type": "code",
   "execution_count": 22,
   "id": "8d6715f1-e653-48c8-bea1-492c9d95cc74",
   "metadata": {},
   "outputs": [
    {
     "ename": "ValueError",
     "evalue": "list.remove(x): x not in list",
     "output_type": "error",
     "traceback": [
      "\u001b[1;31m---------------------------------------------------------------------------\u001b[0m",
      "\u001b[1;31mValueError\u001b[0m                                Traceback (most recent call last)",
      "\u001b[1;32m~\\AppData\\Local\\Temp/ipykernel_30616/2202217322.py\u001b[0m in \u001b[0;36m<module>\u001b[1;34m\u001b[0m\n\u001b[1;32m----> 1\u001b[1;33m \u001b[0maa\u001b[0m\u001b[1;33m.\u001b[0m\u001b[0mremove\u001b[0m\u001b[1;33m(\u001b[0m\u001b[1;36m40\u001b[0m\u001b[1;33m)\u001b[0m\u001b[1;33m\u001b[0m\u001b[1;33m\u001b[0m\u001b[0m\n\u001b[0m",
      "\u001b[1;31mValueError\u001b[0m: list.remove(x): x not in list"
     ]
    }
   ],
   "source": [
    "aa.remove(40)"
   ]
  },
  {
   "cell_type": "code",
   "execution_count": null,
   "id": "5eda6215-43b7-4e8f-8990-99022109cfa9",
   "metadata": {},
   "outputs": [],
   "source": []
  },
  {
   "cell_type": "code",
   "execution_count": 7,
   "id": "d737c2e1-e0df-46b7-8daa-4e8f5ce152c2",
   "metadata": {},
   "outputs": [
    {
     "data": {
      "text/plain": [
       "[30, 10, 20]"
      ]
     },
     "execution_count": 7,
     "metadata": {},
     "output_type": "execute_result"
    }
   ],
   "source": [
    "myList = [30,10,20]\n",
    "myList"
   ]
  },
  {
   "cell_type": "code",
   "execution_count": 8,
   "id": "9ad1b71b-70a7-4f17-9210-0cc0a2526b3a",
   "metadata": {},
   "outputs": [
    {
     "name": "stdout",
     "output_type": "stream",
     "text": [
      "[30, 10, 20, 40]\n"
     ]
    }
   ],
   "source": [
    "myList.append(40)\n",
    "print(myList)"
   ]
  },
  {
   "cell_type": "code",
   "execution_count": 9,
   "id": "f894555e-6f4a-4cfb-adcb-f5b5caa94015",
   "metadata": {},
   "outputs": [
    {
     "name": "stdout",
     "output_type": "stream",
     "text": [
      "40\n",
      "[30, 10, 20]\n"
     ]
    }
   ],
   "source": [
    "print(myList.pop())\n",
    "print(myList)"
   ]
  },
  {
   "cell_type": "code",
   "execution_count": 10,
   "id": "096a1f96-b6eb-468e-b52e-c62dc9763fbb",
   "metadata": {},
   "outputs": [
    {
     "data": {
      "text/plain": [
       "[10, 20, 30]"
      ]
     },
     "execution_count": 10,
     "metadata": {},
     "output_type": "execute_result"
    }
   ],
   "source": [
    "myList.sort()\n",
    "myList"
   ]
  },
  {
   "cell_type": "code",
   "execution_count": 12,
   "id": "c4b4dbf2-9fea-402e-8e47-295d1b38e03e",
   "metadata": {},
   "outputs": [
    {
     "data": {
      "text/plain": [
       "[30, 20, 10]"
      ]
     },
     "execution_count": 12,
     "metadata": {},
     "output_type": "execute_result"
    }
   ],
   "source": [
    "myList.reverse()\n",
    "myList"
   ]
  },
  {
   "cell_type": "code",
   "execution_count": 13,
   "id": "914fab4b-bce3-42ae-8883-001505d11094",
   "metadata": {},
   "outputs": [
    {
     "name": "stdout",
     "output_type": "stream",
     "text": [
      "1\n"
     ]
    }
   ],
   "source": [
    "print(myList.index(20))"
   ]
  },
  {
   "cell_type": "code",
   "execution_count": 14,
   "id": "fd4f5236-c7c2-48b7-8ab2-ab2845088d64",
   "metadata": {},
   "outputs": [
    {
     "data": {
      "text/plain": [
       "[30, 20, 222, 10]"
      ]
     },
     "execution_count": 14,
     "metadata": {},
     "output_type": "execute_result"
    }
   ],
   "source": [
    "myList.insert(2,222)\n",
    "myList"
   ]
  },
  {
   "cell_type": "code",
   "execution_count": 15,
   "id": "800f8c63-31eb-48c0-8a4e-f54f134102b5",
   "metadata": {},
   "outputs": [
    {
     "data": {
      "text/plain": [
       "[30, 20, 10]"
      ]
     },
     "execution_count": 15,
     "metadata": {},
     "output_type": "execute_result"
    }
   ],
   "source": [
    "myList.remove(222)\n",
    "myList"
   ]
  },
  {
   "cell_type": "code",
   "execution_count": 16,
   "id": "87efe68b-e4e8-484e-a45f-059ff0e03b81",
   "metadata": {},
   "outputs": [
    {
     "data": {
      "text/plain": [
       "[30, 20, 10, 77, 88, 0]"
      ]
     },
     "execution_count": 16,
     "metadata": {},
     "output_type": "execute_result"
    }
   ],
   "source": [
    "myList.extend([77, 88, 00])\n",
    "myList"
   ]
  },
  {
   "cell_type": "code",
   "execution_count": 17,
   "id": "cb1f9e9b-8834-4a9e-988b-3305052e7907",
   "metadata": {},
   "outputs": [
    {
     "data": {
      "text/plain": [
       "1"
      ]
     },
     "execution_count": 17,
     "metadata": {},
     "output_type": "execute_result"
    }
   ],
   "source": [
    "myList.count(77)"
   ]
  },
  {
   "cell_type": "code",
   "execution_count": 18,
   "id": "af2756bb-6510-4686-80ac-88dc213d64c1",
   "metadata": {},
   "outputs": [
    {
     "data": {
      "text/plain": [
       "6"
      ]
     },
     "execution_count": 18,
     "metadata": {},
     "output_type": "execute_result"
    }
   ],
   "source": [
    "len(myList)"
   ]
  },
  {
   "cell_type": "code",
   "execution_count": 19,
   "id": "53773688-8b3d-4deb-9914-fcf468919704",
   "metadata": {},
   "outputs": [
    {
     "data": {
      "text/plain": [
       "[30, 20, 10, 77, 88, 0]"
      ]
     },
     "execution_count": 19,
     "metadata": {},
     "output_type": "execute_result"
    }
   ],
   "source": [
    "myList"
   ]
  },
  {
   "cell_type": "code",
   "execution_count": 20,
   "id": "85a47ebc-24e2-4751-b204-fd4c1f1cca79",
   "metadata": {},
   "outputs": [
    {
     "data": {
      "text/plain": [
       "[0, 10, 20, 30, 77, 88]"
      ]
     },
     "execution_count": 20,
     "metadata": {},
     "output_type": "execute_result"
    }
   ],
   "source": [
    "newList = sorted(myList)\n",
    "newList"
   ]
  },
  {
   "cell_type": "code",
   "execution_count": 25,
   "id": "0c68c5e8-8a67-4920-842e-54650a107d8a",
   "metadata": {},
   "outputs": [
    {
     "name": "stdout",
     "output_type": "stream",
     "text": [
      "0 77\n"
     ]
    }
   ],
   "source": [
    "print(myList[-1], myList[3])"
   ]
  },
  {
   "cell_type": "code",
   "execution_count": 26,
   "id": "3bf15fbe-0e25-4e12-bade-09a1294dada2",
   "metadata": {},
   "outputs": [
    {
     "data": {
      "text/plain": [
       "[77, 88]"
      ]
     },
     "execution_count": 26,
     "metadata": {},
     "output_type": "execute_result"
    }
   ],
   "source": [
    "myList[-3:-1]"
   ]
  },
  {
   "cell_type": "code",
   "execution_count": 27,
   "id": "cbe44b98-983f-4109-977c-4712576899e3",
   "metadata": {},
   "outputs": [
    {
     "data": {
      "text/plain": [
       "[88, 0]"
      ]
     },
     "execution_count": 27,
     "metadata": {},
     "output_type": "execute_result"
    }
   ],
   "source": [
    "myList[-2:]"
   ]
  },
  {
   "cell_type": "code",
   "execution_count": null,
   "id": "b3b706fe-b13f-4f2d-9df2-f65e438e18f1",
   "metadata": {},
   "outputs": [],
   "source": []
  },
  {
   "cell_type": "markdown",
   "id": "026f4e2e-6b6f-4453-ac6b-2ed52593ba88",
   "metadata": {},
   "source": [
    "### 2차원 리스트"
   ]
  },
  {
   "cell_type": "code",
   "execution_count": 42,
   "id": "77677b6b-75cb-4d5a-b329-56c7ed5a6aa9",
   "metadata": {},
   "outputs": [
    {
     "name": "stdout",
     "output_type": "stream",
     "text": [
      "Requirement already satisfied: numpy in c:\\users\\sky\\.conda\\envs\\python\\lib\\site-packages (1.26.0)\n"
     ]
    }
   ],
   "source": [
    "!pip install numpy"
   ]
  },
  {
   "cell_type": "code",
   "execution_count": 41,
   "id": "61aa5bd0-e347-459a-9810-f1372f63d7ed",
   "metadata": {},
   "outputs": [],
   "source": [
    "import numpy as np"
   ]
  },
  {
   "cell_type": "code",
   "execution_count": 55,
   "id": "4e6ecc9d-d900-4068-ba55-7ed86e6b8c67",
   "metadata": {},
   "outputs": [
    {
     "ename": "TypeError",
     "evalue": "object of type 'int' has no len()",
     "output_type": "error",
     "traceback": [
      "\u001b[1;31m---------------------------------------------------------------------------\u001b[0m",
      "\u001b[1;31mTypeError\u001b[0m                                 Traceback (most recent call last)",
      "Cell \u001b[1;32mIn[55], line 2\u001b[0m\n\u001b[0;32m      1\u001b[0m aa \u001b[38;5;241m=\u001b[39m [\u001b[38;5;241m10\u001b[39m, [\u001b[38;5;241m20\u001b[39m, \u001b[38;5;241m40\u001b[39m], \u001b[38;5;241m30\u001b[39m]\n\u001b[1;32m----> 2\u001b[0m \u001b[38;5;28;43mlen\u001b[39;49m\u001b[43m(\u001b[49m\u001b[43maa\u001b[49m\u001b[43m[\u001b[49m\u001b[38;5;241;43m2\u001b[39;49m\u001b[43m]\u001b[49m\u001b[43m)\u001b[49m\n",
      "\u001b[1;31mTypeError\u001b[0m: object of type 'int' has no len()"
     ]
    }
   ],
   "source": [
    "aa = [10, [20, 40], 30]\n",
    "len(aa[2])"
   ]
  },
  {
   "cell_type": "code",
   "execution_count": 64,
   "id": "eadaa393-b86b-4388-824e-73c45d4f6ff0",
   "metadata": {},
   "outputs": [],
   "source": [
    "aa = [[1,2,3,4],\n",
    "      [5,6,7,8],\n",
    "      [9,10,11,12]]"
   ]
  },
  {
   "cell_type": "code",
   "execution_count": 71,
   "id": "319592b2-0de9-4935-91f2-25a7457b3762",
   "metadata": {},
   "outputs": [],
   "source": [
    "aa[1] = [2,3,4,5]"
   ]
  },
  {
   "cell_type": "code",
   "execution_count": 72,
   "id": "529d5a68-09ea-47f2-b876-5148f8ee2684",
   "metadata": {},
   "outputs": [
    {
     "data": {
      "text/plain": [
       "[[1, 2, 3, 4], [2, 3, 4, 5], [9, 10, 11, 12]]"
      ]
     },
     "execution_count": 72,
     "metadata": {},
     "output_type": "execute_result"
    }
   ],
   "source": [
    "aa"
   ]
  },
  {
   "cell_type": "code",
   "execution_count": 73,
   "id": "18cbd504-045b-4cb7-9860-6402a5b18c80",
   "metadata": {},
   "outputs": [
    {
     "data": {
      "text/plain": [
       "array([[ 1,  2,  3,  4],\n",
       "       [ 2,  3,  4,  5],\n",
       "       [ 9, 10, 11, 12]])"
      ]
     },
     "execution_count": 73,
     "metadata": {},
     "output_type": "execute_result"
    }
   ],
   "source": [
    "np_aa = np.array(aa)\n",
    "np_aa"
   ]
  },
  {
   "cell_type": "code",
   "execution_count": 67,
   "id": "0b819fa3-206a-4cb0-9ec8-7b9f9022030a",
   "metadata": {},
   "outputs": [
    {
     "name": "stdout",
     "output_type": "stream",
     "text": [
      "<class 'list'> <class 'numpy.ndarray'>\n"
     ]
    }
   ],
   "source": [
    "print(type(aa), type(np_aa))"
   ]
  },
  {
   "cell_type": "code",
   "execution_count": 22,
   "id": "a6fa4975-c4d5-4c00-8912-b0ede2a0a154",
   "metadata": {},
   "outputs": [
    {
     "name": "stdout",
     "output_type": "stream",
     "text": [
      "(3, 4) \n",
      " 12\n"
     ]
    }
   ],
   "source": [
    "print(np_aa.shape, '\\n', np_aa.size)"
   ]
  },
  {
   "cell_type": "code",
   "execution_count": 23,
   "id": "2c7a2b8a-a30b-4c45-9ad9-30aeda7e5969",
   "metadata": {},
   "outputs": [
    {
     "name": "stdout",
     "output_type": "stream",
     "text": [
      "3 4\n"
     ]
    }
   ],
   "source": [
    "print(len(aa), len(aa[1]))"
   ]
  },
  {
   "cell_type": "code",
   "execution_count": 75,
   "id": "6a46a2c8-8260-4e10-9844-cb4fe9e1bf11",
   "metadata": {},
   "outputs": [
    {
     "name": "stdout",
     "output_type": "stream",
     "text": [
      "['arrow', 'blank', 'circle', 'classic', 'square', 'triangle', 'turtle']\n"
     ]
    }
   ],
   "source": [
    "import turtle\n",
    "import random\n",
    "\n",
    "shapeList = []\n",
    "shapeList = turtle.getshapes()\n",
    "print(shapeList)\n",
    "\n",
    "turtle.done()"
   ]
  },
  {
   "cell_type": "code",
   "execution_count": 23,
   "id": "dd2cd276-e548-45fe-ab94-622ee48b3a14",
   "metadata": {},
   "outputs": [],
   "source": [
    "a_list = [10, 20, 30, 40, 50, 60, 70, 80]"
   ]
  },
  {
   "cell_type": "code",
   "execution_count": 76,
   "id": "45bda9a1-67a5-4bec-8e29-8f65a532be5c",
   "metadata": {},
   "outputs": [
    {
     "data": {
      "text/plain": [
       "[70, 80, 10, 20, 30, 40, 50, 60]"
      ]
     },
     "execution_count": 76,
     "metadata": {},
     "output_type": "execute_result"
    }
   ],
   "source": [
    "a_list[-2:] + a_list[:-2]"
   ]
  },
  {
   "cell_type": "code",
   "execution_count": 27,
   "id": "8f6e71a0-55d7-42d2-a12c-2a79026eda55",
   "metadata": {},
   "outputs": [
    {
     "data": {
      "text/plain": [
       "[40, 50, 60, 70, 80]"
      ]
     },
     "execution_count": 27,
     "metadata": {},
     "output_type": "execute_result"
    }
   ],
   "source": [
    "a_list[:-2] + a_list[-2:]\n",
    "a_list[-5:]"
   ]
  },
  {
   "cell_type": "code",
   "execution_count": null,
   "id": "86df61d9-cb20-4320-8a6e-ee34ee934667",
   "metadata": {},
   "outputs": [],
   "source": []
  },
  {
   "cell_type": "markdown",
   "id": "9ad34dde-c160-461d-867a-7f753578392d",
   "metadata": {},
   "source": [
    "### Tuple"
   ]
  },
  {
   "cell_type": "code",
   "execution_count": 78,
   "id": "49b92c91-4393-4a64-a9dc-836b65426ef6",
   "metadata": {},
   "outputs": [
    {
     "name": "stdout",
     "output_type": "stream",
     "text": [
      "(1, 2, 3, 4) [1, 2, 3, 4]\n"
     ]
    }
   ],
   "source": [
    "a = (1, 2, 3, 4)\n",
    "b = [1, 2, 3, 4]\n",
    "print(a, b)"
   ]
  },
  {
   "cell_type": "code",
   "execution_count": 80,
   "id": "f63ccc72-2829-47aa-b2b6-24b0f0530491",
   "metadata": {},
   "outputs": [
    {
     "name": "stdout",
     "output_type": "stream",
     "text": [
      "(1,) <class 'tuple'>\n"
     ]
    }
   ],
   "source": [
    "a = (1,)\n",
    "print(a, type(a))"
   ]
  },
  {
   "cell_type": "code",
   "execution_count": 82,
   "id": "6d0881e7-7214-4e3b-9c6c-66a6de358e98",
   "metadata": {},
   "outputs": [
    {
     "name": "stdout",
     "output_type": "stream",
     "text": [
      "(1, 2, 3, 4)\n",
      "<class 'tuple'>\n",
      "3\n",
      "(1, 10, 'int', 'str')\n"
     ]
    }
   ],
   "source": [
    "b = 1, 2, 3, 4\n",
    "print(b)\n",
    "print(type(b))\n",
    "print(b[2])\n",
    "\n",
    "c = 1, 10, 'int', 'str'\n",
    "print(c)"
   ]
  },
  {
   "cell_type": "code",
   "execution_count": 26,
   "id": "d2225b16-1599-49df-8845-c83b59ab0ac6",
   "metadata": {},
   "outputs": [
    {
     "name": "stdout",
     "output_type": "stream",
     "text": [
      "<class 'int'> <class 'tuple'>\n"
     ]
    }
   ],
   "source": [
    "tt = (10)\n",
    "tt1 = (10,)\n",
    "print(type(tt), type(tt1))"
   ]
  },
  {
   "cell_type": "code",
   "execution_count": 82,
   "id": "617f624c-8d5c-461b-96bb-b269640e38ba",
   "metadata": {},
   "outputs": [
    {
     "name": "stdout",
     "output_type": "stream",
     "text": [
      "[10, 30]\n"
     ]
    }
   ],
   "source": [
    "aa = [10, 30, 50, 20, 30, 100, 200]\n",
    "\n",
    "print(aa[:-5])\n"
   ]
  },
  {
   "cell_type": "code",
   "execution_count": 88,
   "id": "d6617d2c-f485-4b46-a9c1-235ff95f44a4",
   "metadata": {},
   "outputs": [
    {
     "name": "stdout",
     "output_type": "stream",
     "text": [
      "<class 'tuple'>\n"
     ]
    }
   ],
   "source": [
    "aa = (1,)\n",
    "print(type(aa))"
   ]
  },
  {
   "cell_type": "code",
   "execution_count": 89,
   "id": "c4b2b364-aa9b-4faf-b710-20dceb471fb7",
   "metadata": {},
   "outputs": [
    {
     "name": "stdout",
     "output_type": "stream",
     "text": [
      "(10, 20) <class 'tuple'>\n"
     ]
    }
   ],
   "source": [
    "bb = 10, 20\n",
    "print(bb, type(bb))"
   ]
  },
  {
   "cell_type": "code",
   "execution_count": 1,
   "id": "ebcf4d15-f452-43dc-8429-755a4eb4d1c4",
   "metadata": {},
   "outputs": [
    {
     "name": "stdout",
     "output_type": "stream",
     "text": [
      "[1, 2, 3] (1, 2, 3)\n"
     ]
    }
   ],
   "source": [
    "list = [1, 2, 3]\n",
    "tuple = (1, 2, 3)\n",
    "\n",
    "print(list, tuple)"
   ]
  },
  {
   "cell_type": "code",
   "execution_count": 2,
   "id": "4e130364-35f8-4142-9cfa-dcbf53bf8be0",
   "metadata": {},
   "outputs": [
    {
     "data": {
      "text/plain": [
       "10"
      ]
     },
     "execution_count": 2,
     "metadata": {},
     "output_type": "execute_result"
    }
   ],
   "source": [
    "tuple = (10)\n",
    "tuple"
   ]
  },
  {
   "cell_type": "code",
   "execution_count": 3,
   "id": "d4e61ccc-3fc2-454f-893d-c1b4443c03ff",
   "metadata": {},
   "outputs": [
    {
     "data": {
      "text/plain": [
       "(10,)"
      ]
     },
     "execution_count": 3,
     "metadata": {},
     "output_type": "execute_result"
    }
   ],
   "source": [
    "tuple = (10,)\n",
    "tuple"
   ]
  },
  {
   "cell_type": "code",
   "execution_count": 88,
   "id": "9e01a8f0-8fb2-414b-be0f-422a2ffcdb31",
   "metadata": {},
   "outputs": [],
   "source": [
    "tt1 = (10, 20, 30)\n",
    "del(tt1)"
   ]
  },
  {
   "cell_type": "code",
   "execution_count": 89,
   "id": "ccfac27f-5daa-4238-a146-58be1a2a64c6",
   "metadata": {},
   "outputs": [
    {
     "ename": "NameError",
     "evalue": "name 'tt1' is not defined",
     "output_type": "error",
     "traceback": [
      "\u001b[1;31m---------------------------------------------------------------------------\u001b[0m",
      "\u001b[1;31mNameError\u001b[0m                                 Traceback (most recent call last)",
      "Cell \u001b[1;32mIn[89], line 1\u001b[0m\n\u001b[1;32m----> 1\u001b[0m \u001b[43mtt1\u001b[49m\n",
      "\u001b[1;31mNameError\u001b[0m: name 'tt1' is not defined"
     ]
    }
   ],
   "source": [
    "tt1"
   ]
  },
  {
   "cell_type": "code",
   "execution_count": null,
   "id": "cc6bb45f-84d7-4a63-9fd6-8be97e4b66ac",
   "metadata": {},
   "outputs": [],
   "source": []
  },
  {
   "cell_type": "code",
   "execution_count": null,
   "id": "28e385ac-148e-431d-9113-5839377c4bd0",
   "metadata": {},
   "outputs": [],
   "source": []
  },
  {
   "cell_type": "code",
   "execution_count": 90,
   "id": "3da0bde5-cfe2-4ec6-bd67-d561d3cd7015",
   "metadata": {},
   "outputs": [
    {
     "data": {
      "text/plain": [
       "[10, 20, 30]"
      ]
     },
     "execution_count": 90,
     "metadata": {},
     "output_type": "execute_result"
    }
   ],
   "source": [
    "tt = (10, 20, 30)\n",
    "ttlist = list(tt)\n",
    "ttlist"
   ]
  },
  {
   "cell_type": "code",
   "execution_count": 91,
   "id": "66f79789-d937-4652-8c30-79003eb2895b",
   "metadata": {},
   "outputs": [
    {
     "data": {
      "text/plain": [
       "(10, 20, 30, 50)"
      ]
     },
     "execution_count": 91,
     "metadata": {},
     "output_type": "execute_result"
    }
   ],
   "source": [
    "ttlist.append(50)\n",
    "tt = tuple(ttlist)\n",
    "tt"
   ]
  },
  {
   "cell_type": "code",
   "execution_count": 11,
   "id": "d6da5467-63c9-40fa-8951-97ee043eb2a7",
   "metadata": {},
   "outputs": [
    {
     "data": {
      "text/plain": [
       "(1, 2, 3)"
      ]
     },
     "execution_count": 11,
     "metadata": {},
     "output_type": "execute_result"
    }
   ],
   "source": [
    "a = 1, 2, 3\n",
    "a"
   ]
  },
  {
   "cell_type": "code",
   "execution_count": 13,
   "id": "0ff30a0c-9909-42b2-9e02-77b022f815fb",
   "metadata": {},
   "outputs": [
    {
     "ename": "ValueError",
     "evalue": "too many values to unpack (expected 2)",
     "output_type": "error",
     "traceback": [
      "\u001b[1;31m---------------------------------------------------------------------------\u001b[0m",
      "\u001b[1;31mValueError\u001b[0m                                Traceback (most recent call last)",
      "\u001b[1;32m~\\AppData\\Local\\Temp/ipykernel_25188/3674295512.py\u001b[0m in \u001b[0;36m<module>\u001b[1;34m\u001b[0m\n\u001b[1;32m----> 1\u001b[1;33m \u001b[0mx\u001b[0m\u001b[1;33m,\u001b[0m \u001b[0my\u001b[0m \u001b[1;33m=\u001b[0m \u001b[0ma\u001b[0m\u001b[1;33m\u001b[0m\u001b[1;33m\u001b[0m\u001b[0m\n\u001b[0m\u001b[0;32m      2\u001b[0m \u001b[1;31m#print(x, y, z)\u001b[0m\u001b[1;33m\u001b[0m\u001b[1;33m\u001b[0m\u001b[1;33m\u001b[0m\u001b[0m\n",
      "\u001b[1;31mValueError\u001b[0m: too many values to unpack (expected 2)"
     ]
    }
   ],
   "source": [
    "x, y = a\n",
    "#print(x, y, z)"
   ]
  },
  {
   "cell_type": "code",
   "execution_count": 94,
   "id": "56719019-0edd-4b3c-ada2-5e252534fe91",
   "metadata": {},
   "outputs": [],
   "source": [
    "def calCircle(r):\n",
    "    area = r*r\n",
    "    cir = 2*r\n",
    "    vol = 3*r\n",
    "    return area, cir, vol"
   ]
  },
  {
   "cell_type": "code",
   "execution_count": 95,
   "id": "2edc21f0-c336-4b3c-907f-c78829ac1253",
   "metadata": {},
   "outputs": [
    {
     "data": {
      "text/plain": [
       "(20.25, 9.0, 13.5)"
      ]
     },
     "execution_count": 95,
     "metadata": {},
     "output_type": "execute_result"
    }
   ],
   "source": [
    "x = calCircle(4.5)\n",
    "x"
   ]
  },
  {
   "cell_type": "code",
   "execution_count": 96,
   "id": "e0f18b8f-a002-4e62-ba20-57e4cca86f32",
   "metadata": {},
   "outputs": [
    {
     "data": {
      "text/plain": [
       "(1, 2, 3)"
      ]
     },
     "execution_count": 96,
     "metadata": {},
     "output_type": "execute_result"
    }
   ],
   "source": [
    "y = 1, 2, 3\n",
    "y"
   ]
  },
  {
   "cell_type": "code",
   "execution_count": 101,
   "id": "3771e609-0b15-4a15-996b-34dacb39d5d6",
   "metadata": {},
   "outputs": [],
   "source": [
    "a, b, c = x"
   ]
  },
  {
   "cell_type": "code",
   "execution_count": null,
   "id": "9f4cb204-fb41-42f3-bdfd-325f145b261a",
   "metadata": {},
   "outputs": [],
   "source": []
  }
 ],
 "metadata": {
  "kernelspec": {
   "display_name": "Python 3 (ipykernel)",
   "language": "python",
   "name": "python3"
  },
  "language_info": {
   "codemirror_mode": {
    "name": "ipython",
    "version": 3
   },
   "file_extension": ".py",
   "mimetype": "text/x-python",
   "name": "python",
   "nbconvert_exporter": "python",
   "pygments_lexer": "ipython3",
   "version": "3.10.12"
  }
 },
 "nbformat": 4,
 "nbformat_minor": 5
}
