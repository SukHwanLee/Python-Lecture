{
 "cells": [
  {
   "cell_type": "markdown",
   "id": "6e7bd8d6-bff5-4e82-b428-7166f1cb3c4b",
   "metadata": {},
   "source": [
    "#### Dictionary"
   ]
  },
  {
   "cell_type": "code",
   "execution_count": 18,
   "id": "a0339185-4a22-45e1-a4c0-4c5504a017ef",
   "metadata": {},
   "outputs": [
    {
     "name": "stdout",
     "output_type": "stream",
     "text": [
      "1 3\n"
     ]
    }
   ],
   "source": [
    "list = [1, 2, 3]\n",
    "print(list[0], list[2])"
   ]
  },
  {
   "cell_type": "code",
   "execution_count": 19,
   "id": "1b58c696-881e-4179-8a4d-c420d6744e11",
   "metadata": {},
   "outputs": [
    {
     "data": {
      "text/plain": [
       "{3: 'a', 5: 'b', 8: 'c'}"
      ]
     },
     "execution_count": 19,
     "metadata": {},
     "output_type": "execute_result"
    }
   ],
   "source": [
    "dic1 = {3:'a', 5:'b', 8:'c'}\n",
    "dic1"
   ]
  },
  {
   "cell_type": "code",
   "execution_count": 22,
   "id": "9128a345-ef1a-4ec5-842e-5212c11ae9de",
   "metadata": {},
   "outputs": [
    {
     "name": "stdout",
     "output_type": "stream",
     "text": [
      "a c\n"
     ]
    }
   ],
   "source": [
    "# dic1[key] = value\n",
    "# keyerror : dic1[0]\n",
    "print(dic1[3], dic1[8])"
   ]
  },
  {
   "cell_type": "markdown",
   "id": "0fd9e3eb-c7a7-4df4-95c8-9fd2ad08b7f7",
   "metadata": {},
   "source": [
    "##### dictionary 추가 및 삭제"
   ]
  },
  {
   "cell_type": "code",
   "execution_count": 23,
   "id": "637cfbcb-0c45-46ff-bf36-88d76b79eb59",
   "metadata": {},
   "outputs": [
    {
     "data": {
      "text/plain": [
       "{3: 'a', 5: 'b', 8: 'c', 10: 'abc'}"
      ]
     },
     "execution_count": 23,
     "metadata": {},
     "output_type": "execute_result"
    }
   ],
   "source": [
    "dic1[10] = 'abc'\n",
    "dic1"
   ]
  },
  {
   "cell_type": "code",
   "execution_count": 24,
   "id": "59252964-a863-499f-ae62-d51afe440be9",
   "metadata": {},
   "outputs": [
    {
     "data": {
      "text/plain": [
       "{3: 'a', 8: 'c', 10: 'abc'}"
      ]
     },
     "execution_count": 24,
     "metadata": {},
     "output_type": "execute_result"
    }
   ],
   "source": [
    "del dic1[5]\n",
    "dic1"
   ]
  },
  {
   "cell_type": "code",
   "execution_count": 26,
   "id": "2ba7f694-b3c0-40e7-bf84-9bf5c9f67540",
   "metadata": {},
   "outputs": [
    {
     "data": {
      "text/plain": [
       "[10, 20]"
      ]
     },
     "execution_count": 26,
     "metadata": {},
     "output_type": "execute_result"
    }
   ],
   "source": [
    "listx = []\n",
    "listx.append(10)\n",
    "listx.append(20)\n",
    "listx"
   ]
  },
  {
   "cell_type": "code",
   "execution_count": 27,
   "id": "02be0aeb-1f54-4d84-9a98-30c4127d2dea",
   "metadata": {},
   "outputs": [],
   "source": [
    "dic = {}"
   ]
  },
  {
   "cell_type": "code",
   "execution_count": 28,
   "id": "177a9e49-a943-4944-80dc-f117999d8d80",
   "metadata": {},
   "outputs": [
    {
     "data": {
      "text/plain": [
       "{10: 'a', 30: 'c', 50: 'e'}"
      ]
     },
     "execution_count": 28,
     "metadata": {},
     "output_type": "execute_result"
    }
   ],
   "source": [
    "# dic[key] = value\n",
    "\n",
    "dic[10] = 'a'\n",
    "dic[30] = 'c'\n",
    "dic[50] = 'e'\n",
    "dic"
   ]
  },
  {
   "cell_type": "code",
   "execution_count": 29,
   "id": "a62205ce-daa3-4bff-ad52-7361221f8625",
   "metadata": {},
   "outputs": [
    {
     "data": {
      "text/plain": [
       "'c'"
      ]
     },
     "execution_count": 29,
     "metadata": {},
     "output_type": "execute_result"
    }
   ],
   "source": [
    "dic[30]"
   ]
  },
  {
   "cell_type": "code",
   "execution_count": 30,
   "id": "f802da39-9b67-4ee0-ba76-8c77caca0014",
   "metadata": {},
   "outputs": [
    {
     "data": {
      "text/plain": [
       "{10: 'a', 30: 'c', 50: 'e'}"
      ]
     },
     "execution_count": 30,
     "metadata": {},
     "output_type": "execute_result"
    }
   ],
   "source": [
    "dic"
   ]
  },
  {
   "cell_type": "code",
   "execution_count": 31,
   "id": "439e41ec-013d-4548-8b48-80cac4938ec5",
   "metadata": {},
   "outputs": [
    {
     "data": {
      "text/plain": [
       "{10: 'a', 50: 'e'}"
      ]
     },
     "execution_count": 31,
     "metadata": {},
     "output_type": "execute_result"
    }
   ],
   "source": [
    "del(dic[30])\n",
    "dic"
   ]
  },
  {
   "cell_type": "code",
   "execution_count": 32,
   "id": "576cc5e2-c10d-4ec9-9fdc-bf29c4b7fbb4",
   "metadata": {},
   "outputs": [
    {
     "data": {
      "text/plain": [
       "{10: 'a', 50: 'f', 40: 'd'}"
      ]
     },
     "execution_count": 32,
     "metadata": {},
     "output_type": "execute_result"
    }
   ],
   "source": [
    "dic[40] = 'd'\n",
    "dic[50] = 'f'\n",
    "dic"
   ]
  },
  {
   "cell_type": "code",
   "execution_count": 33,
   "id": "96b1a024-c572-4530-94e5-9bd21aaf2027",
   "metadata": {},
   "outputs": [
    {
     "data": {
      "text/plain": [
       "3"
      ]
     },
     "execution_count": 33,
     "metadata": {},
     "output_type": "execute_result"
    }
   ],
   "source": [
    "len(dic)"
   ]
  },
  {
   "cell_type": "code",
   "execution_count": 36,
   "id": "a633a22a-85f2-45f0-96db-ddca7fd21855",
   "metadata": {},
   "outputs": [
    {
     "data": {
      "text/plain": [
       "False"
      ]
     },
     "execution_count": 36,
     "metadata": {},
     "output_type": "execute_result"
    }
   ],
   "source": [
    "# key in dict => 존재하면 True, 존재하지 않으면 False\n",
    "#10 in dic\n",
    "5 in dic"
   ]
  },
  {
   "cell_type": "code",
   "execution_count": 37,
   "id": "f769bb65-84b1-4b94-9558-de672f1c1e09",
   "metadata": {},
   "outputs": [
    {
     "data": {
      "text/plain": [
       "{10: 'a', 50: 'f', 40: 'd'}"
      ]
     },
     "execution_count": 37,
     "metadata": {},
     "output_type": "execute_result"
    }
   ],
   "source": [
    "dic"
   ]
  },
  {
   "cell_type": "code",
   "execution_count": 41,
   "id": "1f3ca655-551a-4bd9-a0bd-ac9d1c2ec94f",
   "metadata": {},
   "outputs": [
    {
     "data": {
      "text/plain": [
       "dict_keys([10, 50, 40])"
      ]
     },
     "execution_count": 41,
     "metadata": {},
     "output_type": "execute_result"
    }
   ],
   "source": [
    "dic.keys()"
   ]
  },
  {
   "cell_type": "code",
   "execution_count": 42,
   "id": "7da698d6-8c68-422d-bf36-c153f6c37238",
   "metadata": {},
   "outputs": [
    {
     "ename": "TypeError",
     "evalue": "'list' object is not callable",
     "output_type": "error",
     "traceback": [
      "\u001b[1;31m---------------------------------------------------------------------------\u001b[0m",
      "\u001b[1;31mTypeError\u001b[0m                                 Traceback (most recent call last)",
      "Cell \u001b[1;32mIn[42], line 1\u001b[0m\n\u001b[1;32m----> 1\u001b[0m x \u001b[38;5;241m=\u001b[39m \u001b[38;5;28;43mlist\u001b[39;49m\u001b[43m(\u001b[49m\u001b[43mdic\u001b[49m\u001b[38;5;241;43m.\u001b[39;49m\u001b[43mkeys\u001b[49m\u001b[43m(\u001b[49m\u001b[43m)\u001b[49m\u001b[43m)\u001b[49m\n\u001b[0;32m      2\u001b[0m \u001b[38;5;28mtype\u001b[39m(x)\n",
      "\u001b[1;31mTypeError\u001b[0m: 'list' object is not callable"
     ]
    }
   ],
   "source": [
    "x = list(dic.keys())\n",
    "type(x)"
   ]
  },
  {
   "cell_type": "code",
   "execution_count": 16,
   "id": "d3e785a8-1891-4ccf-8bed-7d013bfb9aba",
   "metadata": {},
   "outputs": [
    {
     "data": {
      "text/plain": [
       "dict_values(['a', 'f', 'd'])"
      ]
     },
     "execution_count": 16,
     "metadata": {},
     "output_type": "execute_result"
    }
   ],
   "source": [
    "dic.values()"
   ]
  },
  {
   "cell_type": "code",
   "execution_count": 17,
   "id": "6c197c30-bd64-4d08-9c18-0d9e4359d7f9",
   "metadata": {},
   "outputs": [
    {
     "name": "stdout",
     "output_type": "stream",
     "text": [
      "[1, 5, 4] ['a', 'f', 'd']\n"
     ]
    }
   ],
   "source": [
    "keys_list = list(dic.keys())\n",
    "values_list = list(dic.values())\n",
    "print(keys_list, values_list)"
   ]
  },
  {
   "cell_type": "code",
   "execution_count": 39,
   "id": "4c13bf61-145c-4236-afde-79abeebfb022",
   "metadata": {},
   "outputs": [
    {
     "data": {
      "text/plain": [
       "dict_items([(1, 'a'), (5, 'f'), (4, 'd')])"
      ]
     },
     "execution_count": 39,
     "metadata": {},
     "output_type": "execute_result"
    }
   ],
   "source": [
    "dic.items()"
   ]
  },
  {
   "cell_type": "code",
   "execution_count": 40,
   "id": "04ca74ee-63fd-4816-89fa-a94119d86302",
   "metadata": {},
   "outputs": [
    {
     "ename": "TypeError",
     "evalue": "'list' object is not callable",
     "output_type": "error",
     "traceback": [
      "\u001b[1;31m---------------------------------------------------------------------------\u001b[0m",
      "\u001b[1;31mTypeError\u001b[0m                                 Traceback (most recent call last)",
      "Cell \u001b[1;32mIn[40], line 1\u001b[0m\n\u001b[1;32m----> 1\u001b[0m x_list \u001b[38;5;241m=\u001b[39m \u001b[38;5;28;43mlist\u001b[39;49m\u001b[43m(\u001b[49m\u001b[43mdic\u001b[49m\u001b[38;5;241;43m.\u001b[39;49m\u001b[43mitems\u001b[49m\u001b[43m(\u001b[49m\u001b[43m)\u001b[49m\u001b[43m)\u001b[49m\n\u001b[0;32m      2\u001b[0m x_list\n",
      "\u001b[1;31mTypeError\u001b[0m: 'list' object is not callable"
     ]
    }
   ],
   "source": [
    "x_list = list(dic.items())\n",
    "x_list"
   ]
  },
  {
   "cell_type": "code",
   "execution_count": 17,
   "id": "c6d2bbbf-15e5-4e77-ab4b-73e9e6040a32",
   "metadata": {},
   "outputs": [
    {
     "data": {
      "text/plain": [
       "((1, 'a'), (5, 'f'), (4, 'd'))"
      ]
     },
     "execution_count": 17,
     "metadata": {},
     "output_type": "execute_result"
    }
   ],
   "source": [
    "x_tuple = tuple(dic.items())\n",
    "x_tuple"
   ]
  },
  {
   "cell_type": "code",
   "execution_count": 43,
   "id": "d9fde12f-0c4d-4edb-8099-e017e141a300",
   "metadata": {},
   "outputs": [
    {
     "data": {
      "text/plain": [
       "{10: 'a', 50: 'f', 40: 'd'}"
      ]
     },
     "execution_count": 43,
     "metadata": {},
     "output_type": "execute_result"
    }
   ],
   "source": [
    "dic"
   ]
  },
  {
   "cell_type": "code",
   "execution_count": 45,
   "id": "979992f9-28d0-4721-9f65-3ed9649e2b8a",
   "metadata": {
    "scrolled": true
   },
   "outputs": [
    {
     "name": "stdout",
     "output_type": "stream",
     "text": [
      "10 a\n",
      "50 f\n",
      "40 d\n"
     ]
    }
   ],
   "source": [
    "for key in dic:\n",
    "    print(key, dic[key])"
   ]
  },
  {
   "cell_type": "code",
   "execution_count": 49,
   "id": "af3db2e8-ba67-44c8-83e5-cfeb182d1356",
   "metadata": {},
   "outputs": [
    {
     "name": "stdout",
     "output_type": "stream",
     "text": [
      "dict_items([('abc', 789), ('def', 456), ('ghi', 123)])\n"
     ]
    }
   ],
   "source": [
    "import operator\n",
    "\n",
    "trainDic, trainList = {}, []\n",
    "\n",
    "trainDic = {'abc':789, 'def':456, 'ghi':123}\n",
    "\n",
    "print((trainDic.items()))"
   ]
  },
  {
   "cell_type": "code",
   "execution_count": 51,
   "id": "bfb2e822-0b0b-4e69-8414-8866d6296822",
   "metadata": {},
   "outputs": [
    {
     "name": "stdout",
     "output_type": "stream",
     "text": [
      "[('abc', 789), ('def', 456), ('ghi', 123)]\n"
     ]
    }
   ],
   "source": [
    "trainList = sorted(trainDic.items(), key=operator.itemgetter(0))\n",
    "\n",
    "print(trainList)"
   ]
  },
  {
   "cell_type": "code",
   "execution_count": 52,
   "id": "1780adbc-5088-486d-a929-a07d55dc3258",
   "metadata": {},
   "outputs": [
    {
     "name": "stdout",
     "output_type": "stream",
     "text": [
      "[{'name': 'sally', 'age': 17, 'grade': 'B'}, {'name': 'jane', 'age': 22, 'grade': 'A'}, {'name': 'dave', 'age': 32, 'grade': 'B'}]\n"
     ]
    }
   ],
   "source": [
    "from operator import itemgetter\n",
    "\n",
    "students = [\n",
    "    {\"name\": \"jane\", \"age\": 22, \"grade\": 'A'},\n",
    "    {\"name\": \"dave\", \"age\": 32, \"grade\": 'B'},\n",
    "    {\"name\": \"sally\", \"age\": 17, \"grade\": 'B'},\n",
    "]\n",
    "\n",
    "result = sorted(students, key=itemgetter('age'))\n",
    "print(result)"
   ]
  },
  {
   "cell_type": "code",
   "execution_count": 53,
   "id": "83855cf0-4a74-4c27-95f4-c499f1e5a7d2",
   "metadata": {},
   "outputs": [],
   "source": [
    "from operator import attrgetter\n",
    "\n",
    "class Student:\n",
    "    def __init__(self, name, age, grade):\n",
    "        self.name = name\n",
    "        self.age = age\n",
    "        self.grade = grade\n",
    "\n",
    "\n",
    "students = [\n",
    "    Student('jane', 22, 'A'),\n",
    "    Student('dave', 32, 'B'),\n",
    "    Student('sally', 17, 'B'),\n",
    "]\n",
    "\n",
    "result = sorted(students, key=attrgetter('age'))"
   ]
  },
  {
   "cell_type": "code",
   "execution_count": 54,
   "id": "afa68fec-74bb-47e7-82bf-bcbaaf77180e",
   "metadata": {},
   "outputs": [
    {
     "name": "stdout",
     "output_type": "stream",
     "text": [
      "jane \t 22 \t A\n",
      "dave \t 32 \t B\n",
      "sally \t 17 \t B\n"
     ]
    }
   ],
   "source": [
    "for i in range(len(students)):\n",
    "    print(students[i].name, '\\t', students[i].age, '\\t', students[i].grade)"
   ]
  },
  {
   "cell_type": "markdown",
   "id": "1b497749-d23f-4f50-9e67-896e94ed380c",
   "metadata": {},
   "source": [
    "#### Set"
   ]
  },
  {
   "cell_type": "code",
   "execution_count": 55,
   "id": "c7fe7070-23c5-4e1a-8bd9-8e862d8ad453",
   "metadata": {},
   "outputs": [
    {
     "data": {
      "text/plain": [
       "{1, 2, 3, 4, 5}"
      ]
     },
     "execution_count": 55,
     "metadata": {},
     "output_type": "execute_result"
    }
   ],
   "source": [
    "mySet = {1, 1, 3, 3, 2, 4, 5}\n",
    "mySet"
   ]
  },
  {
   "cell_type": "code",
   "execution_count": 56,
   "id": "4f94c2a5-4741-4483-a2e9-7795f2c628c2",
   "metadata": {},
   "outputs": [],
   "source": [
    "mySet1 = {1, 2, 3, 4, 5}\n",
    "mySet2 = {4, 5, 6, 7, 8}"
   ]
  },
  {
   "cell_type": "code",
   "execution_count": 57,
   "id": "30b68147-17bc-4160-9a70-1ec3f6634cab",
   "metadata": {},
   "outputs": [
    {
     "name": "stdout",
     "output_type": "stream",
     "text": [
      "{4, 5}\n",
      "{1, 2, 3, 4, 5, 6, 7, 8}\n"
     ]
    }
   ],
   "source": [
    "print(mySet1 & mySet2)\n",
    "print(mySet1 | mySet2)"
   ]
  },
  {
   "cell_type": "markdown",
   "id": "ea6c3229-8262-43b7-88be-be24e99f85f4",
   "metadata": {},
   "source": [
    "#### 객체 참조"
   ]
  },
  {
   "cell_type": "code",
   "execution_count": 66,
   "id": "6ea44b7d-87b7-4f54-a992-1dc95700608f",
   "metadata": {},
   "outputs": [],
   "source": [
    "alist = ['Kim', 'Park', 'Lee', 'Hong']"
   ]
  },
  {
   "cell_type": "code",
   "execution_count": 67,
   "id": "3c0ea483-5acf-42be-9ecc-45044f74d3bd",
   "metadata": {},
   "outputs": [
    {
     "name": "stdout",
     "output_type": "stream",
     "text": [
      "['Kim', 'Choi', 'Lee', 'Hong'] \n",
      " ['Kim', 'Park', 'Lee', 'Hong']\n"
     ]
    }
   ],
   "source": [
    "#blist = alist\n",
    "blist = alist[:] # slicing\n",
    "blist[1] = 'Choi'\n",
    "print(blist,'\\n',alist)"
   ]
  },
  {
   "cell_type": "code",
   "execution_count": 68,
   "id": "f011b0b7-6b7d-46d8-9546-9b2fb706ebe0",
   "metadata": {},
   "outputs": [
    {
     "name": "stdout",
     "output_type": "stream",
     "text": [
      "2693275699264 \n",
      " 2693275626752\n"
     ]
    }
   ],
   "source": [
    "print(id(alist),'\\n',id(blist))"
   ]
  },
  {
   "cell_type": "code",
   "execution_count": 59,
   "id": "bb201b7d-aa5a-46a6-8e1e-79a8be7b4639",
   "metadata": {},
   "outputs": [
    {
     "ename": "TypeError",
     "evalue": "'list' object is not callable",
     "output_type": "error",
     "traceback": [
      "\u001b[1;31m---------------------------------------------------------------------------\u001b[0m",
      "\u001b[1;31mTypeError\u001b[0m                                 Traceback (most recent call last)",
      "Cell \u001b[1;32mIn[59], line 1\u001b[0m\n\u001b[1;32m----> 1\u001b[0m blist \u001b[38;5;241m=\u001b[39m \u001b[38;5;28;43mlist\u001b[39;49m\u001b[43m(\u001b[49m\u001b[43malist\u001b[49m\u001b[43m)\u001b[49m\n\u001b[0;32m      2\u001b[0m blist[\u001b[38;5;241m1\u001b[39m] \u001b[38;5;241m=\u001b[39m \u001b[38;5;124m'\u001b[39m\u001b[38;5;124mKong\u001b[39m\u001b[38;5;124m'\u001b[39m\n\u001b[0;32m      3\u001b[0m alist\n",
      "\u001b[1;31mTypeError\u001b[0m: 'list' object is not callable"
     ]
    }
   ],
   "source": [
    "blist = list(alist)\n",
    "blist[1] = 'Kong'\n",
    "alist"
   ]
  },
  {
   "cell_type": "code",
   "execution_count": 32,
   "id": "dc114e45-b59c-49ff-9916-267b29d5c725",
   "metadata": {},
   "outputs": [
    {
     "name": "stdout",
     "output_type": "stream",
     "text": [
      "2218757998336 2218757943744\n"
     ]
    }
   ],
   "source": [
    "print(id(alist), id(blist))"
   ]
  },
  {
   "cell_type": "markdown",
   "id": "1ea51812-0bc1-4324-8106-cd0370e190cd",
   "metadata": {},
   "source": [
    "#### Lambda 함수"
   ]
  },
  {
   "cell_type": "code",
   "execution_count": 33,
   "id": "8ceb7102-73a7-40d1-8e27-3c28c2a4aa30",
   "metadata": {},
   "outputs": [
    {
     "name": "stdout",
     "output_type": "stream",
     "text": [
      "300\n"
     ]
    }
   ],
   "source": [
    "x = (lambda x, y: x+y)(100, 200)\n",
    "print(x)"
   ]
  },
  {
   "cell_type": "code",
   "execution_count": 34,
   "id": "58443e0f-3633-4808-95d3-145fee835e53",
   "metadata": {},
   "outputs": [
    {
     "name": "stdout",
     "output_type": "stream",
     "text": [
      "100\n",
      "200\n"
     ]
    }
   ],
   "source": [
    "t = (100, 200, 300)\n",
    "print((lambda x: x[0])(t))\n",
    "print((lambda x: x[1])(t))"
   ]
  },
  {
   "cell_type": "code",
   "execution_count": 35,
   "id": "3b83665f-804c-4a95-8ed3-45fd5b031045",
   "metadata": {},
   "outputs": [
    {
     "name": "stdout",
     "output_type": "stream",
     "text": [
      "dict_items([('홍길동', '010-1234-5678'), ('이순신', '010-9876-5432'), ('강감찬', '010-5678-91012')])\n"
     ]
    }
   ],
   "source": [
    "phone_books = {\"홍길동\":\"010-1234-5678\", \"이순신\":\"010-9876-5432\", \"강감찬\":\"010-5678-91012\"}\n",
    "print(phone_books.items())"
   ]
  },
  {
   "cell_type": "code",
   "execution_count": 36,
   "id": "8ca97cec-cb62-46a8-8467-8497fe98c6f5",
   "metadata": {},
   "outputs": [
    {
     "name": "stdout",
     "output_type": "stream",
     "text": [
      "[('강감찬', '010-5678-91012'), ('이순신', '010-9876-5432'), ('홍길동', '010-1234-5678')]\n"
     ]
    }
   ],
   "source": [
    "sorted_phone_book1 = sorted(phone_books.items(), key=lambda x:x[0])\n",
    "print(sorted_phone_book1)"
   ]
  },
  {
   "cell_type": "code",
   "execution_count": 37,
   "id": "656b57db-611e-4f12-8dc3-f5d636884224",
   "metadata": {},
   "outputs": [
    {
     "name": "stdout",
     "output_type": "stream",
     "text": [
      "[('홍길동', '010-1234-5678'), ('강감찬', '010-5678-91012'), ('이순신', '010-9876-5432')]\n"
     ]
    }
   ],
   "source": [
    "sorted_phone_book2 = sorted(phone_books.items(), key=lambda x:x[1])\n",
    "print(sorted_phone_book2)"
   ]
  },
  {
   "cell_type": "markdown",
   "id": "abc88c79-0714-470f-89ef-76779d7668b8",
   "metadata": {},
   "source": [
    "#### List Comprehension"
   ]
  },
  {
   "cell_type": "code",
   "execution_count": 38,
   "id": "3a86ad97-47ee-4e39-b271-7d2101ecc2dc",
   "metadata": {},
   "outputs": [
    {
     "data": {
      "text/plain": [
       "[1, 4, 9, 16, 25]"
      ]
     },
     "execution_count": 38,
     "metadata": {},
     "output_type": "execute_result"
    }
   ],
   "source": [
    "[x**2 for x in [1,2,3,4,5]]"
   ]
  },
  {
   "cell_type": "code",
   "execution_count": 39,
   "id": "8cce0f5e-f781-4600-9d06-affd55702024",
   "metadata": {},
   "outputs": [
    {
     "data": {
      "text/plain": [
       "[0, 1, 4, 9, 16]"
      ]
     },
     "execution_count": 39,
     "metadata": {},
     "output_type": "execute_result"
    }
   ],
   "source": [
    "alist = [x**2 for x in range(5)]\n",
    "alist"
   ]
  },
  {
   "cell_type": "code",
   "execution_count": 40,
   "id": "b5c5a733-87bc-4c60-b8c3-fc9306460415",
   "metadata": {},
   "outputs": [
    {
     "data": {
      "text/plain": [
       "[9, 36, 81, 144, 225, 324]"
      ]
     },
     "execution_count": 40,
     "metadata": {},
     "output_type": "execute_result"
    }
   ],
   "source": [
    "alist = [x**2 for x in range(1,21) if x%3==0]\n",
    "alist"
   ]
  },
  {
   "cell_type": "code",
   "execution_count": 41,
   "id": "00d4abe8-a4b0-4e5a-9ca4-97a956178931",
   "metadata": {},
   "outputs": [
    {
     "data": {
      "text/plain": [
       "[0, 0, 3, 0, 0, 6, 0, 0, 9, 0, 0, 12, 0, 0, 15, 0, 0, 18, 0, 0]"
      ]
     },
     "execution_count": 41,
     "metadata": {},
     "output_type": "execute_result"
    }
   ],
   "source": [
    "alist = [x if x%3==0 else 0 for x in range(1,21)]\n",
    "alist"
   ]
  },
  {
   "cell_type": "code",
   "execution_count": 42,
   "id": "d52d7559-57a4-4906-9c5b-64f006d45daf",
   "metadata": {},
   "outputs": [
    {
     "data": {
      "text/plain": [
       "['H', 'E', 'L', 'L', 'O', ' ', 'W', 'O', 'R', 'L', 'D']"
      ]
     },
     "execution_count": 42,
     "metadata": {},
     "output_type": "execute_result"
    }
   ],
   "source": [
    "st = 'Hello World'\n",
    "[x.upper() for x in st]"
   ]
  },
  {
   "cell_type": "code",
   "execution_count": 45,
   "id": "f7e36f64-533d-4b15-9f0f-790617991e01",
   "metadata": {},
   "outputs": [
    {
     "name": "stdin",
     "output_type": "stream",
     "text": [
      "정수를 여러개 입력하세요:  10 20 30\n"
     ]
    },
    {
     "name": "stdout",
     "output_type": "stream",
     "text": [
      "<class 'str'>\n"
     ]
    }
   ],
   "source": [
    "nums = input('정수를 여러개 입력하세요: ')\n",
    "print(type(nums))"
   ]
  },
  {
   "cell_type": "code",
   "execution_count": 46,
   "id": "64d0c556-6f79-4da3-a49e-8af64c1dfdc4",
   "metadata": {},
   "outputs": [
    {
     "name": "stdin",
     "output_type": "stream",
     "text": [
      "정수를 여러개 입력하세요:  100 200 삼백 300 사백 500\n"
     ]
    },
    {
     "name": "stdout",
     "output_type": "stream",
     "text": [
      "<class 'list'>\n",
      "['100', '200', '삼백', '300', '사백', '500']\n"
     ]
    }
   ],
   "source": [
    "nums = input('정수를 여러개 입력하세요: ').split()\n",
    "print(type(nums))\n",
    "print(nums)"
   ]
  },
  {
   "cell_type": "code",
   "execution_count": 47,
   "id": "940ede53-b33b-4a87-9d8e-5b02cdef0863",
   "metadata": {},
   "outputs": [
    {
     "data": {
      "text/plain": [
       "[100, 200, 300, 500]"
      ]
     },
     "execution_count": 47,
     "metadata": {},
     "output_type": "execute_result"
    }
   ],
   "source": [
    "[int(x) for x in nums if x.isdigit()]"
   ]
  },
  {
   "cell_type": "code",
   "execution_count": 48,
   "id": "8ff82b56-b606-46d2-a20e-74ee2ba7b1be",
   "metadata": {},
   "outputs": [
    {
     "data": {
      "text/plain": [
       "{1, 2, 3, 4, 5, 8}"
      ]
     },
     "execution_count": 48,
     "metadata": {},
     "output_type": "execute_result"
    }
   ],
   "source": [
    "oldlist = {1, 1, 2, 3, 3, 4, 5, 5, 8}\n",
    "oldlist"
   ]
  },
  {
   "cell_type": "code",
   "execution_count": 49,
   "id": "df29e003-27f8-46c5-9132-bcf42501aff0",
   "metadata": {},
   "outputs": [
    {
     "name": "stdout",
     "output_type": "stream",
     "text": [
      "{64, 1, 4, 9, 16, 25}\n"
     ]
    }
   ],
   "source": [
    "newSet = {i*i for i in oldlist}\n",
    "print(newSet)"
   ]
  },
  {
   "cell_type": "code",
   "execution_count": 50,
   "id": "db88c465-3b43-4e32-9d6f-b779ab2ef979",
   "metadata": {},
   "outputs": [
    {
     "name": "stdout",
     "output_type": "stream",
     "text": [
      "{'abc': 1, '가나다': 2, 'def': 3}\n"
     ]
    }
   ],
   "source": [
    "id_name = {1:'abc', 2:'가나다', 3:'def'}\n",
    "name_id = {val:key for key, val in id_name.items()}\n",
    "print(name_id)"
   ]
  },
  {
   "cell_type": "code",
   "execution_count": 51,
   "id": "e90801c3-4ae0-4070-b1d2-fde495b54a32",
   "metadata": {},
   "outputs": [
    {
     "name": "stdout",
     "output_type": "stream",
     "text": [
      "{1: 1, 3: 9, 5: 25, 7: 49, 9: 81}\n"
     ]
    }
   ],
   "source": [
    "def isodd(val):\n",
    "    return val%2==1\n",
    "\n",
    "dict = {x:x*x for x in range(10) if isodd(x)}\n",
    "print(dict)"
   ]
  },
  {
   "cell_type": "markdown",
   "id": "aee54c55-655b-42be-b362-67bff779ee34",
   "metadata": {},
   "source": [
    "#### zip "
   ]
  },
  {
   "cell_type": "code",
   "execution_count": 52,
   "id": "2fc0cafb-d8f5-4b51-b51c-ed7f315a534a",
   "metadata": {},
   "outputs": [],
   "source": [
    "foods = ['떡볶이', '짜장면', '라면', '피자']\n",
    "sides = ['오뎅', '단무지', '김치']"
   ]
  },
  {
   "cell_type": "code",
   "execution_count": 53,
   "id": "1ec07a31-0003-4580-9ebf-3b3153ec8309",
   "metadata": {},
   "outputs": [
    {
     "data": {
      "text/plain": [
       "[('떡볶이', '오뎅'), ('짜장면', '단무지'), ('라면', '김치')]"
      ]
     },
     "execution_count": 53,
     "metadata": {},
     "output_type": "execute_result"
    }
   ],
   "source": [
    "list(zip(foods, sides))"
   ]
  },
  {
   "cell_type": "code",
   "execution_count": 54,
   "id": "fa2244d0-cd22-44b8-b86c-04d83cc2053b",
   "metadata": {},
   "outputs": [
    {
     "data": {
      "text/plain": [
       "[(1, 4), (2, 5), (3, 6)]"
      ]
     },
     "execution_count": 54,
     "metadata": {},
     "output_type": "execute_result"
    }
   ],
   "source": [
    "list(zip([1, 2, 3], [4, 5, 6]))"
   ]
  },
  {
   "cell_type": "code",
   "execution_count": null,
   "id": "7b0079ef-d1cb-4c15-9d1a-a0386739c3a0",
   "metadata": {},
   "outputs": [],
   "source": []
  }
 ],
 "metadata": {
  "kernelspec": {
   "display_name": "Python 3 (ipykernel)",
   "language": "python",
   "name": "python3"
  },
  "language_info": {
   "codemirror_mode": {
    "name": "ipython",
    "version": 3
   },
   "file_extension": ".py",
   "mimetype": "text/x-python",
   "name": "python",
   "nbconvert_exporter": "python",
   "pygments_lexer": "ipython3",
   "version": "3.10.12"
  }
 },
 "nbformat": 4,
 "nbformat_minor": 5
}
