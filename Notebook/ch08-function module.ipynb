{
 "cells": [
  {
   "cell_type": "markdown",
   "id": "9b0581da-2bed-4893-84db-23e885fd1cdd",
   "metadata": {},
   "source": [
    "#### 함수 기본"
   ]
  },
  {
   "cell_type": "code",
   "execution_count": 2,
   "id": "c21e6883-58be-49c9-9de0-d16cc1d6bde2",
   "metadata": {},
   "outputs": [
    {
     "name": "stdout",
     "output_type": "stream",
     "text": [
      "110 220\n",
      "(80, 310)\n"
     ]
    }
   ],
   "source": [
    "def sort_num(n1, n2):\n",
    "    if n1<n2:\n",
    "        return n1, n2\n",
    "    else:\n",
    "        return n2, n1\n",
    "    \n",
    "x, y = sort_num(110, 220)\n",
    "b = sort_num(310, 80)\n",
    "\n",
    "print(x, y)\n",
    "print(b)"
   ]
  },
  {
   "cell_type": "markdown",
   "id": "2b372b31-6a33-4077-956b-1495309213f4",
   "metadata": {},
   "source": [
    "#### 지역 변수, 전역 변수"
   ]
  },
  {
   "cell_type": "code",
   "execution_count": 2,
   "id": "62d43424-7934-4d4b-8976-628d27ef47ff",
   "metadata": {},
   "outputs": [
    {
     "name": "stdout",
     "output_type": "stream",
     "text": [
      "counter = 200\n",
      "counter = 200\n"
     ]
    }
   ],
   "source": [
    "def print_counter():\n",
    "    global counter\n",
    "    counter = 200\n",
    "    print('counter =', counter)\n",
    "    \n",
    "counter = 100\n",
    "print_counter()\n",
    "print('counter =', counter)"
   ]
  },
  {
   "cell_type": "code",
   "execution_count": 3,
   "id": "10b629fb-a6c0-4724-be5d-b33ffa6e6496",
   "metadata": {},
   "outputs": [
    {
     "ename": "UnboundLocalError",
     "evalue": "local variable 'num_stamp' referenced before assignment",
     "output_type": "error",
     "traceback": [
      "\u001b[1;31m---------------------------------------------------------------------------\u001b[0m",
      "\u001b[1;31mUnboundLocalError\u001b[0m                         Traceback (most recent call last)",
      "\u001b[1;32m~\\AppData\\Local\\Temp/ipykernel_31648/1392384036.py\u001b[0m in \u001b[0;36m<module>\u001b[1;34m\u001b[0m\n\u001b[0;32m      6\u001b[0m     \u001b[0mprint\u001b[0m\u001b[1;33m(\u001b[0m\u001b[0mnum_stamp\u001b[0m\u001b[1;33m)\u001b[0m\u001b[1;33m\u001b[0m\u001b[1;33m\u001b[0m\u001b[0m\n\u001b[0;32m      7\u001b[0m \u001b[1;33m\u001b[0m\u001b[0m\n\u001b[1;32m----> 8\u001b[1;33m \u001b[0mstamp\u001b[0m\u001b[1;33m(\u001b[0m\u001b[1;33m)\u001b[0m\u001b[1;33m\u001b[0m\u001b[1;33m\u001b[0m\u001b[0m\n\u001b[0m",
      "\u001b[1;32m~\\AppData\\Local\\Temp/ipykernel_31648/1392384036.py\u001b[0m in \u001b[0;36mstamp\u001b[1;34m()\u001b[0m\n\u001b[0;32m      3\u001b[0m \u001b[1;32mdef\u001b[0m \u001b[0mstamp\u001b[0m\u001b[1;33m(\u001b[0m\u001b[1;33m)\u001b[0m\u001b[1;33m:\u001b[0m\u001b[1;33m\u001b[0m\u001b[1;33m\u001b[0m\u001b[0m\n\u001b[0;32m      4\u001b[0m     \u001b[1;34m\"\"\"쿠폰 스탬프가 찍힌 횟수를 증가시키고, 화면에 출력한다.\"\"\"\u001b[0m\u001b[1;33m\u001b[0m\u001b[1;33m\u001b[0m\u001b[0m\n\u001b[1;32m----> 5\u001b[1;33m     \u001b[0mnum_stamp\u001b[0m \u001b[1;33m=\u001b[0m \u001b[0mnum_stamp\u001b[0m \u001b[1;33m+\u001b[0m \u001b[1;36m1\u001b[0m  \u001b[1;31m# ❶ 전역변수를 수정하려고 시도함\u001b[0m\u001b[1;33m\u001b[0m\u001b[1;33m\u001b[0m\u001b[0m\n\u001b[0m\u001b[0;32m      6\u001b[0m     \u001b[0mprint\u001b[0m\u001b[1;33m(\u001b[0m\u001b[0mnum_stamp\u001b[0m\u001b[1;33m)\u001b[0m\u001b[1;33m\u001b[0m\u001b[1;33m\u001b[0m\u001b[0m\n\u001b[0;32m      7\u001b[0m \u001b[1;33m\u001b[0m\u001b[0m\n",
      "\u001b[1;31mUnboundLocalError\u001b[0m: local variable 'num_stamp' referenced before assignment"
     ]
    }
   ],
   "source": [
    "num_stamp = 0  # 쿠폰 스탬프가 찍힌 횟수 (전역변수)\n",
    "\n",
    "def stamp():\n",
    "    \"\"\"쿠폰 스탬프가 찍힌 횟수를 증가시키고, 화면에 출력한다.\"\"\"\n",
    "    num_stamp = num_stamp + 1  # ❶ 전역변수를 수정하려고 시도함\n",
    "    print(num_stamp)\n",
    "\n",
    "stamp()"
   ]
  },
  {
   "cell_type": "code",
   "execution_count": 5,
   "id": "3aca87d8-d17f-46ac-85a5-5cceaf6b7861",
   "metadata": {},
   "outputs": [
    {
     "name": "stdout",
     "output_type": "stream",
     "text": [
      "1\n",
      "2\n"
     ]
    }
   ],
   "source": [
    "# global문 사용하지 않고, 매개변수와 반환값만 이용\n",
    "\n",
    "num_stamp = 0  # ❶ 쿠폰 스탬프가 찍힌 횟수 (전역변수)\n",
    "\n",
    "def stamp(num_stamp):  # ❷ 지역변수(매개변수) num_stamp\n",
    "    \"\"\"쿠폰 스탬프가 찍힌 횟수를 증가시키고, 화면에 출력한다.\"\"\"\n",
    "    num_stamp = num_stamp + 1\n",
    "    print(num_stamp)\n",
    "    return num_stamp\n",
    "\n",
    "num_stamp = stamp(num_stamp)  # ❸ 전역변수에 함수의 반환값을 대입한다\n",
    "num_stamp = stamp(num_stamp)"
   ]
  },
  {
   "cell_type": "markdown",
   "id": "213ece3b-65fe-4587-9182-4cd32ed4d1d4",
   "metadata": {},
   "source": [
    "#### 함수 반환값과 매개변수"
   ]
  },
  {
   "cell_type": "markdown",
   "id": "18123b17-2401-4d8d-be7f-b74505e9b64a",
   "metadata": {},
   "source": [
    "디폴트 인자"
   ]
  },
  {
   "cell_type": "code",
   "execution_count": 8,
   "id": "a2df3e12-f5b4-4ed2-a2fc-dae9f574bf7f",
   "metadata": {},
   "outputs": [
    {
     "name": "stdout",
     "output_type": "stream",
     "text": [
      "매개변수가 2개인 함수를 호출한 결과 ==> 30\n",
      "매개변수가 3개인 함수를 호출한 결과 ==> 60\n"
     ]
    }
   ],
   "source": [
    "## 함수 선언 부분 ##\n",
    "def para_func(v1, v2, v3=0): \n",
    "    result = 0\n",
    "    result = v1 + v2 + v3\n",
    "    return result\n",
    "\n",
    "## 전역 변수 선언 부분 ##\n",
    "hap = 0\n",
    "\n",
    "## 메인 코드 부분 ##\n",
    "hap = para_func(10, 20)\n",
    "print(\"매개변수가 2개인 함수를 호출한 결과 ==> %d\" % hap)\n",
    "hap = para_func(10, 20, 30)\n",
    "print(\"매개변수가 3개인 함수를 호출한 결과 ==> %d\" % hap)"
   ]
  },
  {
   "cell_type": "code",
   "execution_count": null,
   "id": "3cfb1e50-ec97-42b8-8caa-5fd865661195",
   "metadata": {},
   "outputs": [],
   "source": [
    "x = 10, 20"
   ]
  },
  {
   "cell_type": "markdown",
   "id": "e48eca16-3654-4bbd-8213-63501045d1f6",
   "metadata": {},
   "source": [
    "가변 매개변수"
   ]
  },
  {
   "cell_type": "code",
   "execution_count": 3,
   "id": "5a69732f-0650-4bd4-9fea-f7ee24a9719f",
   "metadata": {},
   "outputs": [
    {
     "name": "stdout",
     "output_type": "stream",
     "text": [
      "<class 'tuple'> 2\n",
      "매개변수가 2개인 함수를 호출한 결과 ==> 30\n",
      "<class 'tuple'> 3\n",
      "매개변수가 3개인 함수를 호출한 결과 ==> 60\n"
     ]
    }
   ],
   "source": [
    "## 함수 선언 부분 ##\n",
    "def para_func(*para):\n",
    "    print(type(para), len(para))\n",
    "    result = 0\n",
    "    for num in para:\n",
    "        result = result + num\n",
    "\n",
    "    return result\n",
    "\n",
    "## 전역 변수 선언 부분 ##\n",
    "hap = 0\n",
    "\n",
    "## 메인 코드 부분 ##\n",
    "hap = para_func(10, 20)\n",
    "print(\"매개변수가 2개인 함수를 호출한 결과 ==> %d\" % hap)\n",
    "hap = para_func(10, 20, 30)\n",
    "print(\"매개변수가 3개인 함수를 호출한 결과 ==> %d\" % hap)"
   ]
  },
  {
   "cell_type": "code",
   "execution_count": 5,
   "id": "cb139703-9180-471b-ae76-f325fcf4c959",
   "metadata": {},
   "outputs": [
    {
     "name": "stdout",
     "output_type": "stream",
     "text": [
      "(1, 'a', 'bcd')\n"
     ]
    },
    {
     "data": {
      "text/plain": [
       "(1, 'a', 'bcd')"
      ]
     },
     "execution_count": 5,
     "metadata": {},
     "output_type": "execute_result"
    }
   ],
   "source": [
    "def args_function(*args):\n",
    "    print(args)\n",
    "    \n",
    "args_function(1, 'a', 'bcd')\n",
    "\n",
    "t = 1, 'a', 'bcd'\n",
    "t"
   ]
  },
  {
   "cell_type": "code",
   "execution_count": 8,
   "id": "4cdd6d72-0dbe-4eb5-8e62-5ba626e08e68",
   "metadata": {},
   "outputs": [
    {
     "name": "stdout",
     "output_type": "stream",
     "text": [
      "0 1\n",
      "1 a\n",
      "2 bcd\n"
     ]
    }
   ],
   "source": [
    "def args_function1(*args):\n",
    "    for v in args:\n",
    "        print(v)\n",
    "        \n",
    "args_function(1, 'a', 'bcd')"
   ]
  },
  {
   "cell_type": "code",
   "execution_count": 9,
   "id": "265fb93f-37f5-4d1d-9e05-e3da9f3fda9b",
   "metadata": {},
   "outputs": [
    {
     "name": "stdout",
     "output_type": "stream",
     "text": [
      "0 1\n",
      "1 a\n",
      "2 bcd\n"
     ]
    }
   ],
   "source": [
    "def args_function2(*args):\n",
    "    for i, v in enumerate(args):\n",
    "        print(i,v)\n",
    "        \n",
    "args_function(1, 'a', 'bcd')"
   ]
  },
  {
   "cell_type": "code",
   "execution_count": 10,
   "id": "81f168fb-f697-4c86-88f2-ed89a17fc923",
   "metadata": {},
   "outputs": [
    {
     "name": "stdout",
     "output_type": "stream",
     "text": [
      "0 1\n",
      "1 2\n",
      "2 a\n",
      "3 bcd\n",
      "4 efgh\n"
     ]
    }
   ],
   "source": [
    "args_function2(1, 2, 'a', 'bcd', 'efgh')"
   ]
  },
  {
   "cell_type": "code",
   "execution_count": 11,
   "id": "fd9ec5b7-6e5b-4259-b8ab-6f8517298d43",
   "metadata": {},
   "outputs": [],
   "source": [
    "def kwargs_function(**kwargs):\n",
    "    for k, v in kwargs.items():\n",
    "        print(k,v)"
   ]
  },
  {
   "cell_type": "code",
   "execution_count": 12,
   "id": "3754e37a-7216-42d3-a92b-0f33427ec211",
   "metadata": {},
   "outputs": [
    {
     "name": "stdout",
     "output_type": "stream",
     "text": [
      "n1 1\n",
      "n2 2\n",
      "n3 3\n",
      "\n",
      "\n",
      "n1 1\n",
      "n2 2\n",
      "n3 a\n",
      "x bc\n"
     ]
    }
   ],
   "source": [
    "kwargs_function(n1=1, n2=2, n3=3)\n",
    "print('\\n')\n",
    "kwargs_function(n1=1, n2=2, n3='a', x='bc')"
   ]
  },
  {
   "cell_type": "code",
   "execution_count": 15,
   "id": "14582319-b706-4ac6-a54b-821525e94772",
   "metadata": {},
   "outputs": [
    {
     "name": "stdout",
     "output_type": "stream",
     "text": [
      "{'server': 'localhost', 'port': 3306, 'user': 'root', 'password': 'Py1thon!Xt12'} \n",
      "\n",
      "server localhost\n",
      "port 3306\n",
      "user root\n",
      "password Py1thon!Xt12\n"
     ]
    }
   ],
   "source": [
    "def connect(**kwargs):\n",
    "    print(kwargs, '\\n')\n",
    "    for key, val in kwargs.items():\n",
    "        print(key, val)\n",
    "\n",
    "config = {'server': 'localhost',\n",
    "            'port': 3306,\n",
    "            'user': 'root',\n",
    "            'password': 'Py1thon!Xt12'}\n",
    "\n",
    "connect(**config)"
   ]
  },
  {
   "cell_type": "code",
   "execution_count": 6,
   "id": "0b3aeae2-a957-48b4-95e5-8cf0caba2332",
   "metadata": {},
   "outputs": [
    {
     "name": "stdout",
     "output_type": "stream",
     "text": [
      "{'server': 'localhost', 'port': 3306, 'user': 'root', 'password': 'Py1thon!Xt12'} \n",
      "\n",
      "server localhost\n",
      "port 3306\n",
      "user root\n",
      "password Py1thon!Xt12\n"
     ]
    }
   ],
   "source": [
    "def connect(kwargs):\n",
    "    print(kwargs, '\\n')\n",
    "    for key, val in kwargs.items():\n",
    "        print(key, val)\n",
    "\n",
    "config = {'server': 'localhost',\n",
    "            'port': 3306,\n",
    "            'user': 'root',\n",
    "            'password': 'Py1thon!Xt12'}\n",
    "\n",
    "connect(config)"
   ]
  },
  {
   "cell_type": "code",
   "execution_count": 8,
   "id": "e4943c87-edfa-40fc-81f4-6accfff3380a",
   "metadata": {},
   "outputs": [
    {
     "name": "stdout",
     "output_type": "stream",
     "text": [
      "(1, 2)\n",
      "{'x': 10, 'y': 20}\n"
     ]
    }
   ],
   "source": [
    "def fn(*args, **kwargs):\n",
    "    print(args)\n",
    "    print(kwargs)\n",
    "\n",
    "fn(1, 2, x=10, y=20)"
   ]
  },
  {
   "cell_type": "markdown",
   "id": "95b7526c-a60b-45d8-b464-97f382b4846c",
   "metadata": {},
   "source": [
    "##### argparse"
   ]
  },
  {
   "cell_type": "code",
   "execution_count": 9,
   "id": "b4961523-052e-4862-a63c-f0b51863d29b",
   "metadata": {},
   "outputs": [
    {
     "name": "stdout",
     "output_type": "stream",
     "text": [
      "64 56 60 1 AI\n"
     ]
    }
   ],
   "source": [
    "import argparse \n",
    "\n",
    "parser = argparse.ArgumentParser()\n",
    "parser.add_argument(dest=\"width\", action=\"store\")\n",
    "parser.add_argument(dest=\"height\", action=\"store\")\n",
    "parser.add_argument(\"--frames\", dest=\"frames\", default=30, action=\"store\")\n",
    "parser.add_argument(\"--qp\", dest=\"qp\", default=0, action=\"store\")\n",
    "parser.add_argument(\"--configure\", dest=\"configure\", action=\"store\")\n",
    "\n",
    "args = parser.parse_args([\"64\", \"56\", \"--frames\", \"60\", \"--qp\", \"1\", \"--configure\", \"AI\"])\n",
    "print(args.width, args.height, args.frames, args.qp, args.configure)"
   ]
  },
  {
   "cell_type": "code",
   "execution_count": 10,
   "id": "d8657d68-9bd0-4391-9283-f381ad0940b9",
   "metadata": {},
   "outputs": [
    {
     "name": "stdout",
     "output_type": "stream",
     "text": [
      "64 56 30 0 AI\n"
     ]
    }
   ],
   "source": [
    "args = parser.parse_args([\"64\", \"56\", \"--configure\", \"AI\"])\n",
    "print(args.width, args.height, args.frames, args.qp, args.configure)"
   ]
  },
  {
   "cell_type": "markdown",
   "id": "7a1fad6a-f151-4697-96eb-e29b7480a0c4",
   "metadata": {},
   "source": [
    "#### 모듈과 패키지"
   ]
  },
  {
   "cell_type": "markdown",
   "id": "24da2f7f-f1ff-4a55-a4dc-34cb640a907f",
   "metadata": {},
   "source": [
    "값/참조에 의한 전달"
   ]
  },
  {
   "cell_type": "code",
   "execution_count": 15,
   "id": "59ad6c55-1452-4fa0-9b38-016846d697d6",
   "metadata": {},
   "outputs": [
    {
     "name": "stdout",
     "output_type": "stream",
     "text": [
      "222 140733737810592\n",
      "111 140733737807040\n",
      "222 140733737810592\n",
      "222 140733737810592\n"
     ]
    }
   ],
   "source": [
    "# x : 값에 의한 전달\n",
    "# y : return p로 참조로 전달받음\n",
    "def func(p):\n",
    "    p = 222\n",
    "    print(p, id(p))\n",
    "    return p\n",
    "    \n",
    "x = 111\n",
    "func(x)\n",
    "print(x, id(x))\n",
    "\n",
    "y = func(x)\n",
    "print(y, id(y))"
   ]
  },
  {
   "cell_type": "code",
   "execution_count": 16,
   "id": "a0edd76a-35e1-4a6e-9b35-5326f8f158cf",
   "metadata": {},
   "outputs": [
    {
     "name": "stdout",
     "output_type": "stream",
     "text": [
      "[222] 3261174774016\n",
      "[222] 3261174774016\n"
     ]
    }
   ],
   "source": [
    "# 리스트(튜플, 딕셔너리, 세트 등) 전달시 주소가 전달\n",
    "def func(p):\n",
    "    p[0] = 222\n",
    "    print(p, id(p))\n",
    "    return p\n",
    "    \n",
    "x = [111]\n",
    "func(x)\n",
    "print(x, id(x))"
   ]
  },
  {
   "cell_type": "code",
   "execution_count": 32,
   "id": "cbd08da2-cedc-4cdc-b32c-da3ce26e0413",
   "metadata": {},
   "outputs": [
    {
     "name": "stdout",
     "output_type": "stream",
     "text": [
      "3.141592653589793\n",
      "2.0\n"
     ]
    }
   ],
   "source": [
    "#import math, random\n",
    "import math as m\n",
    "\n",
    "print(m.pi)\n",
    "print(m.sqrt(4))\n",
    "\n",
    "#dir(math)"
   ]
  },
  {
   "cell_type": "code",
   "execution_count": 33,
   "id": "92ea36e5-f0eb-45c3-a1e5-3b13463cd56c",
   "metadata": {},
   "outputs": [
    {
     "name": "stdout",
     "output_type": "stream",
     "text": [
      "3.141592653589793\n",
      "2.0\n"
     ]
    }
   ],
   "source": [
    "from math import *\n",
    "\n",
    "print(pi)\n",
    "print(sqrt(4))"
   ]
  },
  {
   "cell_type": "code",
   "execution_count": 26,
   "id": "d5c2ace4-35da-4306-950e-6273b4a2e286",
   "metadata": {},
   "outputs": [
    {
     "name": "stdout",
     "output_type": "stream",
     "text": [
      "<class 'int'>\n",
      "['__abs__', '__add__', '__and__', '__bool__', '__ceil__', '__class__', '__delattr__', '__dir__', '__divmod__', '__doc__', '__eq__', '__float__', '__floor__', '__floordiv__', '__format__', '__ge__', '__getattribute__', '__getnewargs__', '__gt__', '__hash__', '__index__', '__init__', '__init_subclass__', '__int__', '__invert__', '__le__', '__lshift__', '__lt__', '__mod__', '__mul__', '__ne__', '__neg__', '__new__', '__or__', '__pos__', '__pow__', '__radd__', '__rand__', '__rdivmod__', '__reduce__', '__reduce_ex__', '__repr__', '__rfloordiv__', '__rlshift__', '__rmod__', '__rmul__', '__ror__', '__round__', '__rpow__', '__rrshift__', '__rshift__', '__rsub__', '__rtruediv__', '__rxor__', '__setattr__', '__sizeof__', '__str__', '__sub__', '__subclasshook__', '__truediv__', '__trunc__', '__xor__', 'as_integer_ratio', 'bit_length', 'conjugate', 'denominator', 'from_bytes', 'imag', 'numerator', 'real', 'to_bytes']\n"
     ]
    }
   ],
   "source": [
    "a = 10\n",
    "print(type(a))\n",
    "print(dir(a))"
   ]
  },
  {
   "cell_type": "markdown",
   "id": "89f3c03d-d7ef-4903-9b05-4f4536b6d95e",
   "metadata": {},
   "source": [
    "패키지"
   ]
  },
  {
   "cell_type": "code",
   "execution_count": 11,
   "id": "9ca82486-a18b-4628-b161-b4e172f552a8",
   "metadata": {},
   "outputs": [
    {
     "data": {
      "text/plain": [
       "['AbstractBasicAuthHandler',\n",
       " 'AbstractDigestAuthHandler',\n",
       " 'AbstractHTTPHandler',\n",
       " 'BaseHandler',\n",
       " 'CacheFTPHandler',\n",
       " 'ContentTooShortError',\n",
       " 'DataHandler',\n",
       " 'FTPHandler',\n",
       " 'FancyURLopener',\n",
       " 'FileHandler',\n",
       " 'HTTPBasicAuthHandler',\n",
       " 'HTTPCookieProcessor',\n",
       " 'HTTPDefaultErrorHandler',\n",
       " 'HTTPDigestAuthHandler',\n",
       " 'HTTPError',\n",
       " 'HTTPErrorProcessor',\n",
       " 'HTTPHandler',\n",
       " 'HTTPPasswordMgr',\n",
       " 'HTTPPasswordMgrWithDefaultRealm',\n",
       " 'HTTPPasswordMgrWithPriorAuth',\n",
       " 'HTTPRedirectHandler',\n",
       " 'HTTPSHandler',\n",
       " 'MAXFTPCACHE',\n",
       " 'OpenerDirector',\n",
       " 'ProxyBasicAuthHandler',\n",
       " 'ProxyDigestAuthHandler',\n",
       " 'ProxyHandler',\n",
       " 'Request',\n",
       " 'URLError',\n",
       " 'URLopener',\n",
       " 'UnknownHandler',\n",
       " '__all__',\n",
       " '__builtins__',\n",
       " '__cached__',\n",
       " '__doc__',\n",
       " '__file__',\n",
       " '__loader__',\n",
       " '__name__',\n",
       " '__package__',\n",
       " '__spec__',\n",
       " '__version__',\n",
       " '_cut_port_re',\n",
       " '_ftperrors',\n",
       " '_have_ssl',\n",
       " '_localhost',\n",
       " '_noheaders',\n",
       " '_opener',\n",
       " '_parse_proxy',\n",
       " '_proxy_bypass_macosx_sysconf',\n",
       " '_randombytes',\n",
       " '_safe_gethostbyname',\n",
       " '_splitattr',\n",
       " '_splithost',\n",
       " '_splitpasswd',\n",
       " '_splitport',\n",
       " '_splitquery',\n",
       " '_splittag',\n",
       " '_splittype',\n",
       " '_splituser',\n",
       " '_splitvalue',\n",
       " '_thishost',\n",
       " '_to_bytes',\n",
       " '_url_tempfiles',\n",
       " 'addclosehook',\n",
       " 'addinfourl',\n",
       " 'base64',\n",
       " 'bisect',\n",
       " 'build_opener',\n",
       " 'contextlib',\n",
       " 'email',\n",
       " 'ftpcache',\n",
       " 'ftperrors',\n",
       " 'ftpwrapper',\n",
       " 'getproxies',\n",
       " 'getproxies_environment',\n",
       " 'getproxies_registry',\n",
       " 'hashlib',\n",
       " 'http',\n",
       " 'install_opener',\n",
       " 'io',\n",
       " 'localhost',\n",
       " 'noheaders',\n",
       " 'os',\n",
       " 'parse_http_list',\n",
       " 'parse_keqv_list',\n",
       " 'pathname2url',\n",
       " 'posixpath',\n",
       " 'proxy_bypass',\n",
       " 'proxy_bypass_environment',\n",
       " 'proxy_bypass_registry',\n",
       " 'quote',\n",
       " 're',\n",
       " 'request_host',\n",
       " 'socket',\n",
       " 'ssl',\n",
       " 'string',\n",
       " 'sys',\n",
       " 'tempfile',\n",
       " 'thishost',\n",
       " 'time',\n",
       " 'unquote',\n",
       " 'unquote_to_bytes',\n",
       " 'unwrap',\n",
       " 'url2pathname',\n",
       " 'urlcleanup',\n",
       " 'urljoin',\n",
       " 'urlopen',\n",
       " 'urlparse',\n",
       " 'urlretrieve',\n",
       " 'urlsplit',\n",
       " 'urlunparse',\n",
       " 'warnings']"
      ]
     },
     "execution_count": 11,
     "metadata": {},
     "output_type": "execute_result"
    }
   ],
   "source": [
    "import urllib.request as req\n",
    "dir(req)"
   ]
  },
  {
   "cell_type": "code",
   "execution_count": 1,
   "id": "3385e7e6-43e1-4c9e-81de-8e6504747dcb",
   "metadata": {},
   "outputs": [
    {
     "data": {
      "text/plain": [
       "200"
      ]
     },
     "execution_count": 1,
     "metadata": {},
     "output_type": "execute_result"
    }
   ],
   "source": [
    "import urllib.request\n",
    "response = urllib.request.urlopen('https://www.google.co.kr/')\n",
    "response.status"
   ]
  },
  {
   "cell_type": "markdown",
   "id": "1cfd5b2f-6b24-46ca-a641-5bf277c57a0e",
   "metadata": {},
   "source": [
    "map() 함수"
   ]
  },
  {
   "cell_type": "code",
   "execution_count": 21,
   "id": "b5157e7f-72be-4e8a-a102-b068dd12892b",
   "metadata": {},
   "outputs": [
    {
     "name": "stdout",
     "output_type": "stream",
     "text": [
      "0\n",
      "[1, 2, 3, 4, 17, 12, 11, 10]\n"
     ]
    }
   ],
   "source": [
    "a = [1, 2, 3, 4]\n",
    "b = [17, 12, 11, 10]\n",
    "\n",
    "add = lambda x=0, y=0: x+y\n",
    "print(add())\n",
    "print(add(a,b))"
   ]
  },
  {
   "cell_type": "code",
   "execution_count": 23,
   "id": "836b3d7e-55bc-4db1-af0e-e00b013cb337",
   "metadata": {},
   "outputs": [
    {
     "name": "stdout",
     "output_type": "stream",
     "text": [
      "[18, 14, 14, 14]\n"
     ]
    }
   ],
   "source": [
    "# map 함수 적용\n",
    "print(list(map(lambda x, y: x+y, a, b)))"
   ]
  },
  {
   "cell_type": "code",
   "execution_count": 25,
   "id": "d5c18dc3-7014-4d3f-a69f-cfb569740787",
   "metadata": {},
   "outputs": [
    {
     "name": "stdout",
     "output_type": "stream",
     "text": [
      "[1, 2, 3, 4, 5, 6, 7, 8, 9]\n"
     ]
    }
   ],
   "source": [
    "print(list(range(1,10)))"
   ]
  },
  {
   "cell_type": "code",
   "execution_count": 19,
   "id": "0491e4d0-da9a-40bc-b9e7-1f7adda77612",
   "metadata": {},
   "outputs": [
    {
     "name": "stdout",
     "output_type": "stream",
     "text": [
      "[1, 2, 3, 4, 10, 20, 30, 40]\n",
      "[1, 2, 3, 4, 10, 20, 30, 40]\n",
      "[11, 22, 33, 44]\n",
      "[11, 22, 33, 44]\n"
     ]
    }
   ],
   "source": [
    "list1 = [1, 2, 3, 4]\n",
    "list2 = [10, 20, 30, 40]\n",
    "\n",
    "haplist = list1 + list2\n",
    "print(haplist)\n",
    "\n",
    "hap = lambda n1, n2 : n1+n2\n",
    "print(hap(list1, list2))\n",
    "print(list(map(hap, list1, list2)))\n",
    "\n",
    "haplist = list(map(lambda n1, n2 : n1+n2, list1, list2))\n",
    "print(haplist)"
   ]
  },
  {
   "cell_type": "code",
   "execution_count": 11,
   "id": "c1747cba-46b8-45cc-9bb6-085b57d9b140",
   "metadata": {},
   "outputs": [
    {
     "name": "stdout",
     "output_type": "stream",
     "text": [
      "[1, 4, 9, 16, 25, 36, 49, 64, 81]\n",
      "[1, 4, 9, 16, 25, 36, 49, 64, 81]\n"
     ]
    }
   ],
   "source": [
    "def square(x):\n",
    "    return x**2\n",
    "\n",
    "a = list(range(1,10))\n",
    "\n",
    "square_a = list(map(square, a))\n",
    "print(square_a)\n",
    "\n",
    "square_b = list(map(lambda x:x**2, a))\n",
    "print(square_b)"
   ]
  },
  {
   "cell_type": "markdown",
   "id": "ef70c5cf-4236-40c1-b088-34df3df0f5e9",
   "metadata": {},
   "source": [
    "##### 필터함수"
   ]
  },
  {
   "cell_type": "code",
   "execution_count": 10,
   "id": "2932cfbd-bba9-47ea-aef7-bd3ba737ba40",
   "metadata": {},
   "outputs": [
    {
     "name": "stdout",
     "output_type": "stream",
     "text": [
      "34 39 20 54 \n",
      "\n",
      "34 39 20 54 "
     ]
    }
   ],
   "source": [
    "def adult_func(n):\n",
    "    if n>=19: return True\n",
    "    else: return False\n",
    "\n",
    "ages = [34, 39, 20, 18, 13, 54]\n",
    "\n",
    "for a in filter(adult_func, ages):\n",
    "    print(a, end=' ')\n",
    "\n",
    "print('\\n')\n",
    "for a in filter(lambda x: x>=19, ages):\n",
    "    print(a, end=' ')"
   ]
  },
  {
   "cell_type": "code",
   "execution_count": 26,
   "id": "5466f3e7-c705-4724-a8ec-2410e77016ff",
   "metadata": {},
   "outputs": [
    {
     "name": "stdout",
     "output_type": "stream",
     "text": [
      "[26, 35, 22, 39, 43, 90, 15, 8, 17, 63]\n",
      "[26, 22, 90, 8]\n"
     ]
    }
   ],
   "source": [
    "'''\n",
    "random.sample(sequence, k)\n",
    "sequence: 리스트, 집합, range() 등 random의 범위가 될 sequence 입력\n",
    "k: 반환될 리스트의 크기 입력\n",
    "'''\n",
    "\n",
    "import random\n",
    "rlist = random.sample(range(1,101), 10)\n",
    "evenlist = list(filter(lambda x: x%2==0, rlist))\n",
    "print(rlist)\n",
    "print(evenlist)"
   ]
  },
  {
   "cell_type": "code",
   "execution_count": 4,
   "id": "4881b992-0bbe-4429-829a-0c10b37829c3",
   "metadata": {},
   "outputs": [
    {
     "data": {
      "text/plain": [
       "[1, 2, 3, 4, 5, 6, 7, 8, 9]"
      ]
     },
     "execution_count": 4,
     "metadata": {},
     "output_type": "execute_result"
    }
   ],
   "source": [
    "list(range(1,10))"
   ]
  },
  {
   "cell_type": "code",
   "execution_count": 27,
   "id": "6ca62d5b-1bf4-4e84-b943-72af9016b582",
   "metadata": {},
   "outputs": [
    {
     "data": {
      "text/plain": [
       "[-57, -85, -88, -78, -33]"
      ]
     },
     "execution_count": 27,
     "metadata": {},
     "output_type": "execute_result"
    }
   ],
   "source": [
    "# lambda 함수 이용한 음수값 추출하기\n",
    "n_list = random.sample(range(-100,101), 10)\n",
    "minus_list = list(filter(lambda x: x<0, n_list))\n",
    "minus_list"
   ]
  },
  {
   "cell_type": "code",
   "execution_count": 30,
   "id": "340d5e70-6262-41fc-98bc-9a397f87c35e",
   "metadata": {},
   "outputs": [
    {
     "data": {
      "text/plain": [
       "list_iterator"
      ]
     },
     "execution_count": 30,
     "metadata": {},
     "output_type": "execute_result"
    }
   ],
   "source": [
    "a = [1, 2, 3, 4, 5]\n",
    "b =iter(a)\n",
    "type(b)"
   ]
  },
  {
   "cell_type": "code",
   "execution_count": 37,
   "id": "9320bc48-ef63-4c16-aa46-df2165c20dcb",
   "metadata": {},
   "outputs": [
    {
     "ename": "StopIteration",
     "evalue": "",
     "output_type": "error",
     "traceback": [
      "\u001b[1;31m---------------------------------------------------------------------------\u001b[0m",
      "\u001b[1;31mStopIteration\u001b[0m                             Traceback (most recent call last)",
      "\u001b[1;32m~\\AppData\\Local\\Temp/ipykernel_31216/3818018023.py\u001b[0m in \u001b[0;36m<module>\u001b[1;34m\u001b[0m\n\u001b[1;32m----> 1\u001b[1;33m \u001b[0mprint\u001b[0m\u001b[1;33m(\u001b[0m\u001b[0mnext\u001b[0m\u001b[1;33m(\u001b[0m\u001b[0mb\u001b[0m\u001b[1;33m)\u001b[0m\u001b[1;33m)\u001b[0m\u001b[1;33m\u001b[0m\u001b[1;33m\u001b[0m\u001b[0m\n\u001b[0m",
      "\u001b[1;31mStopIteration\u001b[0m: "
     ]
    }
   ],
   "source": [
    "print(next(b))"
   ]
  },
  {
   "cell_type": "markdown",
   "id": "e8398df6-2637-4596-b374-3cac08119fb5",
   "metadata": {},
   "source": [
    "##### Reduce 함수"
   ]
  },
  {
   "cell_type": "code",
   "execution_count": 5,
   "id": "5047fa05-cb91-4dc7-ab3b-5846829103c1",
   "metadata": {},
   "outputs": [
    {
     "data": {
      "text/plain": [
       "'\\nfunctools reduce 함수 정의\\ndef reduce(function, iterable, initializer=None):\\n    it = iter(iterable)\\n    if initializer is None:\\n        value = next(it)\\n    else:\\n        value = initializer\\n    for element in it:\\n        value = function(value, element)\\n    return value\\n'"
      ]
     },
     "execution_count": 5,
     "metadata": {},
     "output_type": "execute_result"
    }
   ],
   "source": [
    "from functools import reduce\n",
    "\n",
    "'''\n",
    "functools reduce 함수 정의\n",
    "def reduce(function, iterable, initializer=None):\n",
    "    it = iter(iterable) # iterator object\n",
    "    if initializer is None:\n",
    "        value = next(it)\n",
    "    else:\n",
    "        value = initializer\n",
    "    for element in it:\n",
    "        value = function(value, element)\n",
    "    return value\n",
    "'''"
   ]
  },
  {
   "cell_type": "code",
   "execution_count": 38,
   "id": "8a7497bd-7d81-4fc1-8366-56f89f0f9251",
   "metadata": {},
   "outputs": [
    {
     "data": {
      "text/plain": [
       "25"
      ]
     },
     "execution_count": 38,
     "metadata": {},
     "output_type": "execute_result"
    }
   ],
   "source": [
    "def sum(x,y):\n",
    "    return x+y\n",
    "\n",
    "reduce(sum, [1,2,3,4,5], 10)"
   ]
  },
  {
   "cell_type": "code",
   "execution_count": 22,
   "id": "39ca96c9-5075-4b88-8ec6-b3f3042d2906",
   "metadata": {},
   "outputs": [
    {
     "data": {
      "text/plain": [
       "15"
      ]
     },
     "execution_count": 22,
     "metadata": {},
     "output_type": "execute_result"
    }
   ],
   "source": [
    "reduce(lambda x, y: x+y, [1, 2, 3, 4, 5])"
   ]
  },
  {
   "cell_type": "code",
   "execution_count": 23,
   "id": "77c0c177-f627-4a76-9742-db38cffc3b21",
   "metadata": {},
   "outputs": [
    {
     "data": {
      "text/plain": [
       "25"
      ]
     },
     "execution_count": 23,
     "metadata": {},
     "output_type": "execute_result"
    }
   ],
   "source": [
    "reduce(lambda x, y: x+y, [1, 2, 3, 4, 5], 10)\n",
    "#reduce 함수 코드에서 봤던 value의 값에 (initializer) 10이 저장된 상태로 시작"
   ]
  },
  {
   "cell_type": "code",
   "execution_count": 3,
   "id": "0c99923a-fc46-4501-9e05-c4e740818adc",
   "metadata": {},
   "outputs": [
    {
     "data": {
      "text/plain": [
       "720"
      ]
     },
     "execution_count": 3,
     "metadata": {},
     "output_type": "execute_result"
    }
   ],
   "source": [
    "reduce(lambda x, y: x*y, range(1, 7))"
   ]
  },
  {
   "cell_type": "code",
   "execution_count": 40,
   "id": "48883a49-0252-4834-b5ca-15fd1648cf47",
   "metadata": {},
   "outputs": [
    {
     "data": {
      "text/plain": [
       "120"
      ]
     },
     "execution_count": 40,
     "metadata": {},
     "output_type": "execute_result"
    }
   ],
   "source": [
    "def factorial(n):\n",
    "    return reduce(lambda x, y: x*y, range(1, n+1))\n",
    "\n",
    "factorial(5)"
   ]
  },
  {
   "cell_type": "code",
   "execution_count": 26,
   "id": "e14614b8-8979-4053-873c-7e50ac45e8d7",
   "metadata": {},
   "outputs": [
    {
     "data": {
      "text/plain": [
       "96"
      ]
     },
     "execution_count": 26,
     "metadata": {},
     "output_type": "execute_result"
    }
   ],
   "source": [
    "# 최대값 구하기\n",
    "func = lambda a, b: a if (a > b) else b\n",
    "reduce(func, [34, 76, 29, 96, 68])"
   ]
  },
  {
   "cell_type": "markdown",
   "id": "b75f9c84-3c32-455f-9b6a-3a3ba6b959ce",
   "metadata": {},
   "source": [
    "##### 반복자 iterator"
   ]
  },
  {
   "cell_type": "code",
   "execution_count": 6,
   "id": "e28de5bd-593d-4785-afb0-df3063f370e9",
   "metadata": {},
   "outputs": [
    {
     "data": {
      "text/plain": [
       "['ChainMap',\n",
       " 'Counter',\n",
       " 'OrderedDict',\n",
       " 'UserDict',\n",
       " 'UserList',\n",
       " 'UserString',\n",
       " '_Link',\n",
       " '_OrderedDictItemsView',\n",
       " '_OrderedDictKeysView',\n",
       " '_OrderedDictValuesView',\n",
       " '__all__',\n",
       " '__builtins__',\n",
       " '__cached__',\n",
       " '__doc__',\n",
       " '__file__',\n",
       " '__getattr__',\n",
       " '__loader__',\n",
       " '__name__',\n",
       " '__package__',\n",
       " '__path__',\n",
       " '__spec__',\n",
       " '_chain',\n",
       " '_collections_abc',\n",
       " '_count_elements',\n",
       " '_eq',\n",
       " '_heapq',\n",
       " '_iskeyword',\n",
       " '_itemgetter',\n",
       " '_proxy',\n",
       " '_recursive_repr',\n",
       " '_repeat',\n",
       " '_starmap',\n",
       " '_sys',\n",
       " '_tuplegetter',\n",
       " 'abc',\n",
       " 'defaultdict',\n",
       " 'deque',\n",
       " 'namedtuple']"
      ]
     },
     "execution_count": 6,
     "metadata": {},
     "output_type": "execute_result"
    }
   ],
   "source": [
    "'''\n",
    "collections 모듈 : 자료형(list, tuple, dict)들에게 확장된 기능을 주기 위해 제작된 \n",
    "파이썬의 내장 모듈\n",
    "\n",
    "자주 사용되는 클래스\n",
    "Counter\n",
    "deque\n",
    "defaultdict\n",
    "OrderedDict \n",
    "namedtuple\n",
    "ChainMap\n",
    "'''\n",
    "\n",
    "import collections\n",
    "dir(collections)"
   ]
  },
  {
   "cell_type": "code",
   "execution_count": 7,
   "id": "415bb107-7694-4421-948d-b9b217e220c8",
   "metadata": {},
   "outputs": [
    {
     "name": "stdout",
     "output_type": "stream",
     "text": [
      "True\n"
     ]
    }
   ],
   "source": [
    "var_str = \"abc\"\n",
    "print(isinstance(var_str, collections.abc.Iterable))"
   ]
  },
  {
   "cell_type": "code",
   "execution_count": 16,
   "id": "03963550-4df0-47d2-a40e-4745cc4a4a5a",
   "metadata": {},
   "outputs": [
    {
     "data": {
      "text/plain": [
       "list_iterator"
      ]
     },
     "execution_count": 16,
     "metadata": {},
     "output_type": "execute_result"
    }
   ],
   "source": [
    "a = [1, 2, 3] # iterable\n",
    "a_iter = iter(a) # iterator\n",
    "type(a_iter)"
   ]
  },
  {
   "cell_type": "code",
   "execution_count": 19,
   "id": "7fec0e1f-fa92-4d42-98e8-7f8805bc1dd9",
   "metadata": {},
   "outputs": [
    {
     "data": {
      "text/plain": [
       "3"
      ]
     },
     "execution_count": 19,
     "metadata": {},
     "output_type": "execute_result"
    }
   ],
   "source": [
    "next(a_iter)"
   ]
  },
  {
   "cell_type": "code",
   "execution_count": 20,
   "id": "6f6dd0f7-d815-4b32-ba01-f9bff804590c",
   "metadata": {},
   "outputs": [
    {
     "ename": "StopIteration",
     "evalue": "",
     "output_type": "error",
     "traceback": [
      "\u001b[1;31m---------------------------------------------------------------------------\u001b[0m",
      "\u001b[1;31mStopIteration\u001b[0m                             Traceback (most recent call last)",
      "\u001b[1;32m~\\AppData\\Local\\Temp/ipykernel_31216/720886240.py\u001b[0m in \u001b[0;36m<module>\u001b[1;34m\u001b[0m\n\u001b[1;32m----> 1\u001b[1;33m \u001b[0mnext\u001b[0m\u001b[1;33m(\u001b[0m\u001b[0ma_iter\u001b[0m\u001b[1;33m)\u001b[0m\u001b[1;33m\u001b[0m\u001b[1;33m\u001b[0m\u001b[0m\n\u001b[0m",
      "\u001b[1;31mStopIteration\u001b[0m: "
     ]
    }
   ],
   "source": [
    "next(a_iter)"
   ]
  },
  {
   "cell_type": "code",
   "execution_count": null,
   "id": "674ef11f-edf3-40b2-8fdb-0d0b37d369fc",
   "metadata": {},
   "outputs": [],
   "source": []
  },
  {
   "cell_type": "code",
   "execution_count": 11,
   "id": "c6ecf186-c52b-4a93-abbf-60433eb13def",
   "metadata": {},
   "outputs": [
    {
     "name": "stdout",
     "output_type": "stream",
     "text": [
      "1\n",
      "2\n",
      "3\n"
     ]
    }
   ],
   "source": [
    "#a_iter = iter(a)\n",
    "for _ in range(0,3):\n",
    "    print(next(a_iter))"
   ]
  },
  {
   "cell_type": "code",
   "execution_count": null,
   "id": "ee0898ea-7c40-448b-9eb1-ebfdea69e5ae",
   "metadata": {},
   "outputs": [],
   "source": []
  },
  {
   "cell_type": "code",
   "execution_count": 12,
   "id": "272d440e-65c2-4bb7-b540-b4fac61a65f8",
   "metadata": {},
   "outputs": [],
   "source": [
    "for i in a_iter:\n",
    "    print(i)"
   ]
  },
  {
   "cell_type": "code",
   "execution_count": 13,
   "id": "6ffb8684-7902-491d-83c3-91c1ae19488a",
   "metadata": {},
   "outputs": [
    {
     "data": {
      "text/plain": [
       "['__and__',\n",
       " '__class__',\n",
       " '__contains__',\n",
       " '__delattr__',\n",
       " '__dir__',\n",
       " '__doc__',\n",
       " '__eq__',\n",
       " '__format__',\n",
       " '__ge__',\n",
       " '__getattribute__',\n",
       " '__gt__',\n",
       " '__hash__',\n",
       " '__iand__',\n",
       " '__init__',\n",
       " '__init_subclass__',\n",
       " '__ior__',\n",
       " '__isub__',\n",
       " '__iter__',\n",
       " '__ixor__',\n",
       " '__le__',\n",
       " '__len__',\n",
       " '__lt__',\n",
       " '__ne__',\n",
       " '__new__',\n",
       " '__or__',\n",
       " '__rand__',\n",
       " '__reduce__',\n",
       " '__reduce_ex__',\n",
       " '__repr__',\n",
       " '__ror__',\n",
       " '__rsub__',\n",
       " '__rxor__',\n",
       " '__setattr__',\n",
       " '__sizeof__',\n",
       " '__str__',\n",
       " '__sub__',\n",
       " '__subclasshook__',\n",
       " '__xor__',\n",
       " 'add',\n",
       " 'clear',\n",
       " 'copy',\n",
       " 'difference',\n",
       " 'difference_update',\n",
       " 'discard',\n",
       " 'intersection',\n",
       " 'intersection_update',\n",
       " 'isdisjoint',\n",
       " 'issubset',\n",
       " 'issuperset',\n",
       " 'pop',\n",
       " 'remove',\n",
       " 'symmetric_difference',\n",
       " 'symmetric_difference_update',\n",
       " 'union',\n",
       " 'update']"
      ]
     },
     "execution_count": 13,
     "metadata": {},
     "output_type": "execute_result"
    }
   ],
   "source": [
    "b = {1, 2, 3}\n",
    "dir(b)"
   ]
  },
  {
   "cell_type": "code",
   "execution_count": 14,
   "id": "a57b96ff-9adf-4935-872c-808b020f038d",
   "metadata": {},
   "outputs": [
    {
     "data": {
      "text/plain": [
       "list_iterator"
      ]
     },
     "execution_count": 14,
     "metadata": {},
     "output_type": "execute_result"
    }
   ],
   "source": [
    "b = [1, 2, 3]\n",
    "b_iter = b.__iter__()\n",
    "#b_iter = iter(b)\n",
    "type(b_iter)"
   ]
  },
  {
   "cell_type": "code",
   "execution_count": 27,
   "id": "e87a6d96-2ec3-4dba-80ff-27b185ba7739",
   "metadata": {},
   "outputs": [
    {
     "name": "stdout",
     "output_type": "stream",
     "text": [
      "1\n",
      "2\n",
      "3\n"
     ]
    }
   ],
   "source": [
    "for _ in range(len(b)):\n",
    "    #print(next(b_iter))\n",
    "    print(b_iter.__next__())"
   ]
  },
  {
   "cell_type": "code",
   "execution_count": 48,
   "id": "2405a46c-c0d0-4688-8fc8-93797a837e3a",
   "metadata": {},
   "outputs": [
    {
     "data": {
      "text/plain": [
       "1"
      ]
     },
     "execution_count": 48,
     "metadata": {},
     "output_type": "execute_result"
    }
   ],
   "source": [
    "b_iter.__next__()"
   ]
  },
  {
   "cell_type": "markdown",
   "id": "1b63665e-310f-44f3-8db0-7b13c72bfe39",
   "metadata": {},
   "source": [
    "##### 반복자 iterator 클래스"
   ]
  },
  {
   "cell_type": "code",
   "execution_count": 49,
   "id": "4225e81e-1aef-48a9-babb-704c4aaebf3c",
   "metadata": {},
   "outputs": [],
   "source": [
    "class MyIterator:\n",
    "    def __next__(self):\n",
    "        return 1\n",
    "    \n",
    "class MyIterable:\n",
    "    def __iter__(self):\n",
    "        obj = MyIterator()\n",
    "        return obj"
   ]
  },
  {
   "cell_type": "code",
   "execution_count": 50,
   "id": "e25a6f78-2e7f-4c8c-ad34-0e9cbcdb1998",
   "metadata": {},
   "outputs": [
    {
     "name": "stdout",
     "output_type": "stream",
     "text": [
      "1\n",
      "1\n",
      "1\n"
     ]
    }
   ],
   "source": [
    "m = MyIterable()\n",
    "r = iter(m)\n",
    "print(next(r))\n",
    "print(next(r))\n",
    "print(next(r))"
   ]
  },
  {
   "cell_type": "code",
   "execution_count": 52,
   "id": "f01eaca4-9370-48bb-afd5-edc77723a830",
   "metadata": {},
   "outputs": [],
   "source": [
    "class Season:\n",
    "    def __init__(self):\n",
    "        self.data = ['봄', '여름', '가을', '겨울']\n",
    "        self.index = 0\n",
    "        \n",
    "    def __iter__(self):\n",
    "        return self\n",
    "    \n",
    "    def __next__(self):\n",
    "        if self.index < len(self.data):\n",
    "            cur_season = self.data[self.index]\n",
    "            self.index += 1\n",
    "            return cur_season\n",
    "        else:\n",
    "            raise StopIteration"
   ]
  },
  {
   "cell_type": "code",
   "execution_count": 53,
   "id": "e1c3bdb0-60fb-42da-988d-889eaac7c921",
   "metadata": {},
   "outputs": [
    {
     "name": "stdout",
     "output_type": "stream",
     "text": [
      "봄\n",
      "여름\n",
      "가을\n"
     ]
    }
   ],
   "source": [
    "a = Season()\n",
    "ir = iter(a)\n",
    "print(next(ir))\n",
    "print(next(ir))\n",
    "print(next(ir))"
   ]
  },
  {
   "cell_type": "code",
   "execution_count": 69,
   "id": "bfa1f7b7-bc69-4547-aa45-9f3d4b08a622",
   "metadata": {},
   "outputs": [
    {
     "name": "stdout",
     "output_type": "stream",
     "text": [
      "1 3 5 7 9 11 13 15 17 19 "
     ]
    }
   ],
   "source": [
    "# 다시 체크\n",
    "class OddCounter:\n",
    "    def __init__(self, n=1):\n",
    "        self.n = n\n",
    "        \n",
    "    def __iter__(self):\n",
    "        return self\n",
    "    \n",
    "    def __next__(self):\n",
    "        if self.n < 20 :\n",
    "            t = self.n\n",
    "            self.n += 2\n",
    "            return t\n",
    "        \n",
    "        raise StopIteration\n",
    "        \n",
    "my_counter = OddCounter()\n",
    "for x in my_counter:\n",
    "    print(x, end=' ')"
   ]
  },
  {
   "cell_type": "markdown",
   "id": "bd7c2e10-a2f6-4b42-b271-7b16d13b9a9d",
   "metadata": {},
   "source": [
    "##### Generator"
   ]
  },
  {
   "cell_type": "code",
   "execution_count": 28,
   "id": "d0de1c55-a94f-4ad5-9f57-2b95b32cda05",
   "metadata": {},
   "outputs": [
    {
     "name": "stdout",
     "output_type": "stream",
     "text": [
      "<class 'generator'>\n"
     ]
    }
   ],
   "source": [
    "my_generator = (x for x in range(1,4))\n",
    "print(type(my_generator))"
   ]
  },
  {
   "cell_type": "code",
   "execution_count": 71,
   "id": "f98edd60-7357-442b-9fec-0afadfaaef3c",
   "metadata": {},
   "outputs": [
    {
     "name": "stdout",
     "output_type": "stream",
     "text": [
      "1\n",
      "2\n",
      "3\n",
      "<class 'generator'>\n",
      "<class 'tuple'>\n"
     ]
    }
   ],
   "source": [
    "my_generator = (x for x in range(1,4))\n",
    "for n in my_generator:\n",
    "    print(n)\n",
    "    \n",
    "print(type(my_generator))\n",
    "\n",
    "my_tuple = tuple(x for x in range(1,4))\n",
    "print(type(my_tuple))"
   ]
  },
  {
   "cell_type": "code",
   "execution_count": 98,
   "id": "9872b000-354a-46de-98b0-15ed7653f27a",
   "metadata": {},
   "outputs": [
    {
     "name": "stdout",
     "output_type": "stream",
     "text": [
      "[0, 1, 2] <class 'list'>\n",
      "<class 'generator'>\n"
     ]
    }
   ],
   "source": [
    "def testFunc():\n",
    "    for i in range(3):\n",
    "        yield i\n",
    "\n",
    "t_list = list(testFunc())\n",
    "print(t_list, type(t_list))\n",
    "gen = testFunc()\n",
    "print(type(gen))"
   ]
  },
  {
   "cell_type": "code",
   "execution_count": 99,
   "id": "195ce762-68e9-41e3-b96e-da418c7cf0f1",
   "metadata": {},
   "outputs": [
    {
     "name": "stdout",
     "output_type": "stream",
     "text": [
      "0 1\n"
     ]
    }
   ],
   "source": [
    "print(next(gen), next(gen))"
   ]
  },
  {
   "cell_type": "code",
   "execution_count": 33,
   "id": "834484c1-f2e9-46ac-8b8a-1f78e3721744",
   "metadata": {},
   "outputs": [
    {
     "name": "stdout",
     "output_type": "stream",
     "text": [
      "<generator object create_gen at 0x0000019955F55E40>\n",
      "1\n",
      "2\n",
      "3\n",
      "4\n"
     ]
    }
   ],
   "source": [
    "def create_gen():\n",
    "    alist = range(1,5)\n",
    "    for x in alist:\n",
    "        yield x\n",
    "        \n",
    "my_generator = create_gen()\n",
    "print(my_generator)\n",
    "for n in my_generator:\n",
    "    print(n)"
   ]
  },
  {
   "cell_type": "code",
   "execution_count": 77,
   "id": "46c36218-3806-40f7-b527-bc5e6c589d2b",
   "metadata": {},
   "outputs": [
    {
     "name": "stdout",
     "output_type": "stream",
     "text": [
      "True\n",
      "0 1 2 3 4 "
     ]
    }
   ],
   "source": [
    "import collections\n",
    "\n",
    "def getFunc(num):\n",
    "    for i in range(0, num):\n",
    "        yield i\n",
    "        \n",
    "gen = getFunc(5)\n",
    "print(isinstance(gen, collections.abc.Iterable))\n",
    "      \n",
    "for data in getFunc(5):\n",
    "    print(data, end=' ')"
   ]
  },
  {
   "cell_type": "code",
   "execution_count": 78,
   "id": "0c122c4e-d8a4-4b8a-894b-2eb0e44b5321",
   "metadata": {},
   "outputs": [
    {
     "name": "stdout",
     "output_type": "stream",
     "text": [
      "1 2 3 4 5 6 7 8 9 10 11 12 13 14 15 16 17 18 19 20 21 22 23 24 25 26 27 28 29 30 31 32 33 34 35 36 37 38 39 40 41 42 43 44 45 46 47 48 49 50 "
     ]
    }
   ],
   "source": [
    "def infinite_generator():\n",
    "    count = 0\n",
    "    while True:\n",
    "        count += 1\n",
    "        yield count\n",
    "        \n",
    "gen = infinite_generator()\n",
    "for i in range(50):\n",
    "    print(next(gen), end=' ')"
   ]
  },
  {
   "cell_type": "code",
   "execution_count": null,
   "id": "3b0f16fa-35b9-41cc-8f1b-78aa58d28295",
   "metadata": {},
   "outputs": [],
   "source": []
  }
 ],
 "metadata": {
  "kernelspec": {
   "display_name": "Python 3 (ipykernel)",
   "language": "python",
   "name": "python3"
  },
  "language_info": {
   "codemirror_mode": {
    "name": "ipython",
    "version": 3
   },
   "file_extension": ".py",
   "mimetype": "text/x-python",
   "name": "python",
   "nbconvert_exporter": "python",
   "pygments_lexer": "ipython3",
   "version": "3.8.13"
  }
 },
 "nbformat": 4,
 "nbformat_minor": 5
}
