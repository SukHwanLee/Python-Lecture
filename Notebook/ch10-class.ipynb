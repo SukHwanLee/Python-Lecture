{
 "cells": [
  {
   "cell_type": "markdown",
   "id": "b333d514-7f21-42ad-bf1b-8413257ae034",
   "metadata": {},
   "source": [
    "#### Section 1 클래스 & 생성자"
   ]
  },
  {
   "cell_type": "code",
   "execution_count": 10,
   "id": "390b2655-d943-4541-a393-7a59b5cfb66c",
   "metadata": {},
   "outputs": [
    {
     "name": "stdout",
     "output_type": "stream",
     "text": [
      "[1, 2, 3]\n"
     ]
    }
   ],
   "source": [
    "a = [1, 2, 3]\n",
    "print(a)"
   ]
  },
  {
   "cell_type": "code",
   "execution_count": 11,
   "id": "65d59b2e-b075-412b-8489-dcb03c42b001",
   "metadata": {},
   "outputs": [],
   "source": [
    "# Code12-2.py : 초기화 함수 __init__ 수정\n",
    "\n",
    "## 클래스 선언 부분 ##\n",
    "class Car:\n",
    "    def __init__(self, color=\"\", speed=0):\n",
    "        self.color = color\n",
    "        self.speed = speed\n",
    "\n",
    "    def upSpeed(self, value):\n",
    "        self.speed += value\n",
    "    \n",
    "    def downSpeed(self, value):\n",
    "        self.speed -= value"
   ]
  },
  {
   "cell_type": "code",
   "execution_count": 12,
   "id": "1354bce3-3f79-47df-b3ee-a9b07f0314c8",
   "metadata": {},
   "outputs": [
    {
     "name": "stdout",
     "output_type": "stream",
     "text": [
      "Car1 :  빨강 30\n",
      "Car2 :  파랑 60\n",
      "Car3 :  노랑 0\n"
     ]
    }
   ],
   "source": [
    "## 메인 코드 부분 ##\n",
    "myCar1 = Car()\n",
    "myCar1.color = \"빨강\"\n",
    "myCar1.speed = 0\n",
    "\n",
    "myCar2 = Car()\n",
    "myCar2.color = \"파랑\"\n",
    "myCar2.speed = 0\n",
    "\n",
    "myCar3 = Car()\n",
    "myCar3.color = \"노랑\"\n",
    "myCar3.speed = 0\n",
    "\n",
    "myCar1.upSpeed(30)\n",
    "print(\"Car1 : \", myCar1.color, myCar1.speed)\n",
    "\n",
    "myCar2.upSpeed(60)\n",
    "print(\"Car2 : \", myCar2.color, myCar2.speed)\n",
    "\n",
    "myCar3.upSpeed(0)\n",
    "print(\"Car3 : \", myCar3.color, myCar3.speed)"
   ]
  },
  {
   "cell_type": "code",
   "execution_count": 13,
   "id": "7e306c5a-a844-4206-8ae5-8907eb8b6fae",
   "metadata": {},
   "outputs": [
    {
     "name": "stdout",
     "output_type": "stream",
     "text": [
      "<__main__.Car object at 0x00000233AF3DBF70>\n"
     ]
    }
   ],
   "source": [
    "print(myCar1)"
   ]
  },
  {
   "cell_type": "markdown",
   "id": "5e9b1610-842c-4bb6-9f22-476066fce437",
   "metadata": {},
   "source": [
    "##### 문자열과 메소드 (강의자료 19페이지)"
   ]
  },
  {
   "cell_type": "code",
   "execution_count": 14,
   "id": "7a21192f-8c74-4c7c-9fab-169142042f02",
   "metadata": {},
   "outputs": [
    {
     "data": {
      "text/plain": [
       "['__class__',\n",
       " '__delattr__',\n",
       " '__dict__',\n",
       " '__dir__',\n",
       " '__doc__',\n",
       " '__eq__',\n",
       " '__format__',\n",
       " '__ge__',\n",
       " '__getattribute__',\n",
       " '__gt__',\n",
       " '__hash__',\n",
       " '__init__',\n",
       " '__init_subclass__',\n",
       " '__le__',\n",
       " '__lt__',\n",
       " '__module__',\n",
       " '__ne__',\n",
       " '__new__',\n",
       " '__reduce__',\n",
       " '__reduce_ex__',\n",
       " '__repr__',\n",
       " '__setattr__',\n",
       " '__sizeof__',\n",
       " '__str__',\n",
       " '__subclasshook__',\n",
       " '__weakref__',\n",
       " 'color',\n",
       " 'downSpeed',\n",
       " 'speed',\n",
       " 'upSpeed']"
      ]
     },
     "execution_count": 14,
     "metadata": {},
     "output_type": "execute_result"
    }
   ],
   "source": [
    "dir(myCar1)"
   ]
  },
  {
   "cell_type": "code",
   "execution_count": 15,
   "id": "e41ff2f6-d234-49eb-8a2e-302afdeea419",
   "metadata": {},
   "outputs": [
    {
     "name": "stdout",
     "output_type": "stream",
     "text": [
      "Cat(name = 나비, color = 검정색)\n",
      "Cat(name = 네로, color = 흰색)\n"
     ]
    }
   ],
   "source": [
    "# __str__ 메소드와 print() 함수에서 적용하기\n",
    "\n",
    "class Cat:\n",
    "    def __init__(self, name, color):\n",
    "        self.name = name\n",
    "        self.color = color\n",
    "    \n",
    "    # Cat 객체의 문자열 표현방식\n",
    "    def __str__(self):\n",
    "        return 'Cat(name = '+self.name+', color = '+self.color+')'\n",
    "\n",
    "#    def printout(self):\n",
    "#        return 'Cat(name = '+self.name+', color = '+self.color+')'    \n",
    "    \n",
    "\n",
    "nabi = Cat('나비', '검정색') # nabi 인스턴스 생성\n",
    "nero = Cat('네로', '흰색')  # nero 인스턴스 생성\n",
    "\n",
    "print(nabi)\n",
    "print(nero)\n",
    "\n",
    "#nabi.printout()"
   ]
  },
  {
   "cell_type": "markdown",
   "id": "fff6fd5f-40e2-4276-b13b-46b207d2844e",
   "metadata": {},
   "source": [
    "#### Section 3 인스턴스 변수와 클래스 변수"
   ]
  },
  {
   "cell_type": "code",
   "execution_count": 1,
   "id": "82a53b81-23b0-459f-8f2e-ed64597b5ce6",
   "metadata": {},
   "outputs": [],
   "source": [
    "# Code12-06.py : 자동차 생산대수 확인\n",
    "\n",
    "## 클래스 선언 부분 ##\n",
    "class  Car :\n",
    "    #color = \"\"   # 인스턴스 변수\n",
    "    #speed = 0   # 인스턴스 변수\n",
    "    count = 0   # 클래스 변수\n",
    "\n",
    "    def printMessage() :\n",
    "      print(\"시험 출력입니다.\")\n",
    " \n",
    "    def __init__(self, color = \"\", speed=0):\n",
    "        self.color = color\n",
    "        self.speed = speed\n",
    "        Car.count += 1"
   ]
  },
  {
   "cell_type": "code",
   "execution_count": 2,
   "id": "1a8d6f65-8d32-4c75-a986-39df5bdcfa64",
   "metadata": {},
   "outputs": [
    {
     "name": "stdout",
     "output_type": "stream",
     "text": [
      "Car1 :  30 1\n",
      "Car2 :  60 2\n"
     ]
    }
   ],
   "source": [
    "# 변수 선언\n",
    "myCar1, myCar2 = None, None\n",
    "\n",
    "# 메인 코드 부분\n",
    "myCar1 = Car()\n",
    "myCar1.speed = 30\n",
    "print(\"Car1 : \", myCar1.speed, Car.count)\n",
    "\n",
    "myCar2 = Car()\n",
    "myCar2.speed = 60\n",
    "print(\"Car2 : \", myCar2.speed, myCar2.count)"
   ]
  },
  {
   "cell_type": "markdown",
   "id": "400044e1-4eb9-4bb8-8ede-53fc15fbb1db",
   "metadata": {},
   "source": [
    "#### Section 4 클래스 상속"
   ]
  },
  {
   "cell_type": "markdown",
   "id": "b56181bf-1134-4e1f-b08c-d1df3ce28fd8",
   "metadata": {},
   "source": [
    "super()"
   ]
  },
  {
   "cell_type": "code",
   "execution_count": 18,
   "id": "e6378d41-e21b-4204-a7bc-4e61b78248cb",
   "metadata": {},
   "outputs": [
    {
     "name": "stdout",
     "output_type": "stream",
     "text": [
      "Student __init__\n",
      "Python Coding Class\n"
     ]
    },
    {
     "ename": "AttributeError",
     "evalue": "'Student' object has no attribute 'hello'",
     "output_type": "error",
     "traceback": [
      "\u001b[1;31m---------------------------------------------------------------------------\u001b[0m",
      "\u001b[1;31mAttributeError\u001b[0m                            Traceback (most recent call last)",
      "\u001b[1;32m~\\AppData\\Local\\Temp/ipykernel_38020/1725484819.py\u001b[0m in \u001b[0;36m<module>\u001b[1;34m\u001b[0m\n\u001b[0;32m     11\u001b[0m \u001b[0mjames\u001b[0m \u001b[1;33m=\u001b[0m \u001b[0mStudent\u001b[0m\u001b[1;33m(\u001b[0m\u001b[1;33m)\u001b[0m\u001b[1;33m\u001b[0m\u001b[1;33m\u001b[0m\u001b[0m\n\u001b[0;32m     12\u001b[0m \u001b[0mprint\u001b[0m\u001b[1;33m(\u001b[0m\u001b[0mjames\u001b[0m\u001b[1;33m.\u001b[0m\u001b[0mschool\u001b[0m\u001b[1;33m)\u001b[0m\u001b[1;33m\u001b[0m\u001b[1;33m\u001b[0m\u001b[0m\n\u001b[1;32m---> 13\u001b[1;33m \u001b[0mprint\u001b[0m\u001b[1;33m(\u001b[0m\u001b[0mjames\u001b[0m\u001b[1;33m.\u001b[0m\u001b[0mhello\u001b[0m\u001b[1;33m)\u001b[0m    \u001b[1;31m# base 클래스의 속성을 출력하려고 하면 에러가 발생함\u001b[0m\u001b[1;33m\u001b[0m\u001b[1;33m\u001b[0m\u001b[0m\n\u001b[0m",
      "\u001b[1;31mAttributeError\u001b[0m: 'Student' object has no attribute 'hello'"
     ]
    }
   ],
   "source": [
    "class Person:\n",
    "    def __init__(self):\n",
    "        print('Person __init__')\n",
    "        self.hello = 'Hello!. Have a good day'\n",
    "\n",
    "class Student(Person):\n",
    "    def __init__(self):\n",
    "        print('Student __init__')\n",
    "        self.school = 'Python Coding Class'\n",
    "\n",
    "james = Student()\n",
    "print(james.school)\n",
    "print(james.hello)    # base 클래스의 속성을 출력하려고 하면 에러가 발생함"
   ]
  },
  {
   "cell_type": "markdown",
   "id": "42e4f552-fc35-462c-8b50-c02f0cb87057",
   "metadata": {},
   "source": [
    "** 에러 발생 : 왜냐하면 base 클래스 Person의 __init__ 메서드가 호출되지 않았기 때문임.  \n",
    "실행 결과를 보면 'Student __init__'만 출력되었음.  \n",
    "즉, Person의 __init__ 메서드가 호출되지 않으면 self.hello = 'Hello!. Have a good day'도 실행되지 않아서 속성이 만들어지지 않는다."
   ]
  },
  {
   "cell_type": "markdown",
   "id": "788acec4-f80f-43b7-8e50-82cccc41d4ad",
   "metadata": {},
   "source": [
    "#####  \n",
    "super()로 기반 클래스 초기화하기"
   ]
  },
  {
   "cell_type": "code",
   "execution_count": 19,
   "id": "aaf2363b-4203-4774-bccc-32792ab5a345",
   "metadata": {},
   "outputs": [
    {
     "name": "stdout",
     "output_type": "stream",
     "text": [
      "Student __init__\n",
      "Person __init__\n",
      "Python Coding Class\n",
      "Hello!. Have a good day\n"
     ]
    }
   ],
   "source": [
    "class Person:\n",
    "    def __init__(self):\n",
    "        print('Person __init__')\n",
    "        self.hello = 'Hello!. Have a good day'\n",
    "\n",
    "class Student(Person):\n",
    "    def __init__(self):\n",
    "        print('Student __init__')\n",
    "        #super().__init__()\n",
    "        super(Student, self).__init__() # super(파생클래스, self)로 base 클래스의 메서드 호출\n",
    "        self.school = 'Python Coding Class'\n",
    "\n",
    "james = Student()\n",
    "print(james.school)\n",
    "print(james.hello) "
   ]
  },
  {
   "cell_type": "markdown",
   "id": "c0fab03c-6245-4895-a169-90d833cc2b9e",
   "metadata": {},
   "source": [
    "#####  \n",
    "메서드 오버라이딩"
   ]
  },
  {
   "cell_type": "code",
   "execution_count": 7,
   "id": "cc7974cd-d0d3-4219-8d8a-c14ab21770df",
   "metadata": {},
   "outputs": [
    {
     "name": "stdout",
     "output_type": "stream",
     "text": [
      "트럭 --> 현재 속도(슈퍼 클래스) : 200\n",
      "승용차 --> 현재 속도(서브 클래스) : 150\n"
     ]
    }
   ],
   "source": [
    "# Code12-07.py\n",
    "\n",
    "## 클래스 선언 부분 ##\n",
    "class Car:\n",
    "    speed = 0\n",
    "    def upSpeed(self, value):\n",
    "        self.speed += value\n",
    "        \n",
    "        print(\"현재 속도(슈퍼 클래스) : %d\" % self.speed)\n",
    "\n",
    "class Sedan(Car):\n",
    "    def upSpeed(self, value):\n",
    "        self.speed += value\n",
    "        \n",
    "        if self.speed > 150 :\n",
    "            self.speed = 150\n",
    "            \n",
    "        print(\"현재 속도(서브 클래스) : %d\" % self.speed)\n",
    "\n",
    "class Truck(Car):\n",
    "    pass\n",
    "\n",
    "## 변수 선언 부분 ##\n",
    "sedan1, truck1 = None, None\n",
    "\n",
    "## 메인 코드 부분 ##\n",
    "truck1 = Truck()\n",
    "sedan1 = Sedan()\n",
    "\n",
    "print(\"트럭 --> \", end = \"\")\n",
    "truck1.upSpeed(200)\n",
    "\n",
    "print(\"승용차 --> \", end = \"\")\n",
    "sedan1.upSpeed(200)"
   ]
  },
  {
   "cell_type": "markdown",
   "id": "e884d3e0-f101-451e-990e-a710c30c8919",
   "metadata": {},
   "source": [
    "#####  \n",
    "캡슐화"
   ]
  },
  {
   "cell_type": "markdown",
   "id": "04f076ef-77bd-49c1-a6f2-7c8fcc62861d",
   "metadata": {},
   "source": [
    "변수 왼쪽에 __(더블스코어)를 붙인 경우 (__double_leading_underscores) -> Mangling  \n",
    "더블스코어 변수명 (__변수) : 선언된 클래스 안에서만 해당 이름으로 사용 가능하다"
   ]
  },
  {
   "cell_type": "code",
   "execution_count": 1,
   "id": "fa0b82de-5154-4aae-9fe1-1f402b0df001",
   "metadata": {},
   "outputs": [
    {
     "name": "stdout",
     "output_type": "stream",
     "text": [
      "Cat(name = 나비, age = 3)\n",
      "Cat(name = 나비, age = 4)\n"
     ]
    }
   ],
   "source": [
    "# 코드 9-7 : set_age() 메소드를 통해서 age 값을 할당하기\n",
    "## \"으뜸 파이썬\", p. 541\n",
    "\n",
    "class Cat:\n",
    "    def __init__(self, name, age):\n",
    "        self.__name = name  # Cat 클래스의 인스턴스변수를 감추는 역할\n",
    "        self.__age = age\n",
    "    \n",
    "    # Cat 객체의 문자열 표현방식\n",
    "    def __str__(self):\n",
    "        return 'Cat(name = '+self.__name+', age = '+str(self.__age)+')'\n",
    "\n",
    "    # self.__age를 외부에서 자유롭게 접근하는 것을 제한하고 음수가 되지 않도록 함\n",
    "    def set_age(self, age):  \n",
    "        if age > 0:\n",
    "            self.__age = age\n",
    "            \n",
    "    def get_age(self):\n",
    "        return self.__age\n",
    "\n",
    "nabi = Cat('나비', 3) # nabi 인스턴스 생성\n",
    "print(nabi)\n",
    "nabi.set_age(4)   # set_age() 메소드를 통해서 age에 접근\n",
    "nabi.set_age(-5)  # set_age() 메소드를 통해서 age가 음수가 되지 않도록 함\n",
    "print(nabi)"
   ]
  },
  {
   "cell_type": "markdown",
   "id": "09a34f08-393c-4185-b7da-77546f1915ba",
   "metadata": {},
   "source": [
    "#####  \n",
    "클래스 변수와 __dict__ "
   ]
  },
  {
   "cell_type": "code",
   "execution_count": 9,
   "id": "be41d7f3-9a9b-41ba-bfd2-2cf51f3fdd66",
   "metadata": {},
   "outputs": [
    {
     "name": "stdout",
     "output_type": "stream",
     "text": [
      "c1의 속성들: {'name': 'C1', 'radius': 4}\n",
      "c1의 name 변수 값: C1\n",
      "c1의 radius 변수 값: 4\n"
     ]
    }
   ],
   "source": [
    "# 코드 9-16 : __dict__ 속성을 이용한 인스턴스변수와 값 알아보기\n",
    "## \"으뜸 파이썬\", p. 554\n",
    "\n",
    "class Circle:\n",
    "    PI = 3.14\n",
    "    def __init__(self, name, radius):\n",
    "        self.name = name\n",
    "        self.radius = radius\n",
    "\n",
    "c1 = Circle('C1',4)\n",
    "print('c1의 속성들:', c1.__dict__)\n",
    "# __dic__[key] 형식으로 value를 얻을 수 있음\n",
    "print('c1의 name 변수 값:', c1.__dict__['name'])\n",
    "print('c1의 radius 변수 값:', c1.__dict__['radius'])"
   ]
  },
  {
   "cell_type": "code",
   "execution_count": 10,
   "id": "af99627d-ad53-4ed6-9e47-6852a320075d",
   "metadata": {},
   "outputs": [
    {
     "name": "stdout",
     "output_type": "stream",
     "text": [
      "c1의 속성들: {'_Circle__name': 'C1', '_Circle__radius': 4}\n",
      "c1의 __name 변수값: C1\n",
      "c1의 __radius 변수값: 4\n"
     ]
    }
   ],
   "source": [
    "# 코드 9-17 : 언더스코어로 시작하는 인스턴스변수의 값 알아보기\n",
    "## \"으뜸 파이썬\", p. 555\n",
    "\n",
    "class Circle:\n",
    "    PI = 3.14\n",
    "    def __init__(self, name, radius):\n",
    "        self.__name = name\n",
    "        self.__radius = radius\n",
    "\n",
    "c1 = Circle('C1',4)\n",
    "print('c1의 속성들:', c1.__dict__)\n",
    "\n",
    "# __dic__[key] 형식으로 value를 얻을 수 있음\n",
    "print('c1의 __name 변수값:', c1.__dict__['_Circle__name'])\n",
    "print('c1의 __radius 변수값:', c1.__dict__['_Circle__radius'])"
   ]
  },
  {
   "cell_type": "markdown",
   "id": "39f25ddb-2ec8-48c7-88fe-a18079b124f0",
   "metadata": {},
   "source": [
    "#### Section 5 심화 내용"
   ]
  },
  {
   "cell_type": "markdown",
   "id": "c20a0028-3791-4bec-9b10-6de3ed51b8f8",
   "metadata": {},
   "source": [
    "__del__, __repr__, __add__, 등"
   ]
  },
  {
   "cell_type": "code",
   "execution_count": 2,
   "id": "9f21f7d8-6ae8-40cc-9ad8-a89b9d2ad866",
   "metadata": {},
   "outputs": [],
   "source": [
    "## 클래스 선언 부분 ##\n",
    "class Line:\n",
    "    length = 0\n",
    "    def __init__(self, length) :\n",
    "        self.length = length\n",
    "        print(self.length, '길이의 선이 생성되었습니다.')\n",
    "\n",
    "    def __del__(self) :\n",
    "        print(self.length, '길이의 선이 제거되었습니다.')\n",
    "\n",
    "    def __repr__(self) :\n",
    "        return '선의 길이 : '+ str(self.length) \n",
    "\n",
    "    def __add__(self, other):\n",
    "        return self.length + other.length\n",
    "\n",
    "    def __lt__(self, other) :\n",
    "        return self.length < other.length\n",
    "\n",
    "    def __eq__(self, other) :\n",
    "        return self.length == other.length"
   ]
  },
  {
   "cell_type": "code",
   "execution_count": 8,
   "id": "45e56a1a-57e6-4695-b349-1d6047e71a09",
   "metadata": {},
   "outputs": [
    {
     "name": "stdout",
     "output_type": "stream",
     "text": [
      "100 길이의 선이 생성되었습니다.\n",
      "200 길이의 선이 생성되었습니다.\n",
      "선의 길이 : 100\n",
      "두 선의 길이 합 :  300\n",
      "선분 2가 더 기네요.\n",
      "100 길이의 선이 제거되었습니다.\n",
      "200 길이의 선이 제거되었습니다.\n"
     ]
    }
   ],
   "source": [
    "## 메인 코드 부분 ##\n",
    "myLine1 = Line(100)\n",
    "myLine2 = Line(200)\n",
    "\n",
    "print(myLine1) # __repr__\n",
    "\n",
    "print('두 선의 길이 합 : ', myLine1 + myLine2) # __add__\n",
    "\n",
    "if myLine1 < myLine2 :  # __lt__\n",
    "    print('선분 2가 더 기네요.')\n",
    "elif myLine1 == myLine2 :  # __eq__\n",
    "    print('두 선분이 같네요.')\n",
    "else :\n",
    "    print('모르겠네요.')\n",
    "\n",
    "del(myLine1)\n",
    "del(myLine2)"
   ]
  },
  {
   "cell_type": "markdown",
   "id": "da0e8467-df8f-4fc7-9599-599284eb2ce9",
   "metadata": {},
   "source": [
    "#####  \n",
    "추상 메서드 "
   ]
  },
  {
   "cell_type": "code",
   "execution_count": 22,
   "id": "f62d6e71-4ae7-461d-9041-462403944952",
   "metadata": {},
   "outputs": [
    {
     "name": "stdout",
     "output_type": "stream",
     "text": [
      "SubClass1에서 method()를 오버라이딩함\n"
     ]
    }
   ],
   "source": [
    "## 클래스 선언 부분 ##\n",
    "class SuperClass:\n",
    "    def method(self):\n",
    "        pass\n",
    "        #raise NotImplementedError()\n",
    "\n",
    "class SubClass1(SuperClass):\n",
    "    def method(self):  # 메소드 오버라이딩\n",
    "        print('SubClass1에서 method()를 오버라이딩함')\n",
    "\n",
    "class SubClass2(SuperClass):\n",
    "    pass\n",
    "\n",
    "## 메인 코드 부분\n",
    "sub1 = SubClass1()\n",
    "sub2 = SubClass2()\n",
    "\n",
    "sub1.method()\n",
    "sub2.method()"
   ]
  },
  {
   "cell_type": "markdown",
   "id": "d4e34b36-7d3a-4bc1-a407-1744ab571f4e",
   "metadata": {},
   "source": [
    "#####  \n",
    "쓰레딩 (threading) Self-Study"
   ]
  },
  {
   "cell_type": "code",
   "execution_count": 10,
   "id": "f7251d3a-9940-4d3f-9c1c-bbf614c7e225",
   "metadata": {},
   "outputs": [
    {
     "name": "stdout",
     "output_type": "stream",
     "text": [
      "1+2+3+.....+ 1000000 = 500000500000\n",
      "1+2+3+.....+ 2000000 = 2000001000000\n",
      "1+2+3+.....+ 5000000 = 12500002500000\n"
     ]
    }
   ],
   "source": [
    "import threading\n",
    "## 클래스 선언 부분 ##\n",
    "class Calculator :\n",
    "    number = 0\n",
    "    def  __init__(self, number):\n",
    "        self.number = number\n",
    "\n",
    "    def runCalc(self):\n",
    "        hap = 0\n",
    "        for i in range(0, self.number+1):\n",
    "            hap += i\n",
    "        print(\"1+2+3+.....+\", self.number, \"=\", hap)\n",
    "\n",
    "## 메인 코드 부분 ##\n",
    "calc1 = Calculator(2000000)\n",
    "calc2 = Calculator(1000000)\n",
    "calc3 = Calculator(5000000)\n",
    "\n",
    "th1 = threading.Thread(target = calc1.runCalc)\n",
    "th2 = threading.Thread(target = calc2.runCalc)\n",
    "th3 = threading.Thread(target = calc3.runCalc)\n",
    "\n",
    "th1.start()\n",
    "th2.start()\n",
    "th3.start()"
   ]
  },
  {
   "cell_type": "markdown",
   "id": "5ea2aa58-44e7-46e8-ab69-e6b90c0f4a03",
   "metadata": {},
   "source": [
    "#####  \n",
    "#### static method & class method"
   ]
  },
  {
   "cell_type": "markdown",
   "id": "d6d2fc1f-70b9-43cf-a458-6c4b0724ad98",
   "metadata": {},
   "source": [
    "@staticmethod  \n",
    "정적 메서드는 메서드의 실행이 외부 상태에 영향을 끼치지 않는 순수 함수(pure function)를 만들 때 사용한다"
   ]
  },
  {
   "cell_type": "code",
   "execution_count": 25,
   "id": "3d8b0316-c7f3-4944-9125-81536777d667",
   "metadata": {},
   "outputs": [
    {
     "name": "stdout",
     "output_type": "stream",
     "text": [
      "30\n",
      "200\n"
     ]
    }
   ],
   "source": [
    "class Calc:\n",
    "    @staticmethod\n",
    "    def add(a, b):\n",
    "        print(a + b)\n",
    " \n",
    "    @staticmethod\n",
    "    def mul(a, b):\n",
    "        print(a * b)\n",
    "\n",
    "Calc.add(10, 20)    # 클래스에서 바로 메서드 호출\n",
    "Calc.mul(10, 20)    # 클래스에서 바로 메서드 호출"
   ]
  },
  {
   "cell_type": "markdown",
   "id": "532f7f0d-de8f-4c8f-bf03-1629036b9e99",
   "metadata": {},
   "source": [
    "@classmethod  \n",
    "클래스 메서드는 정적 메서드처럼 인스턴스 없이 호출할 수 있다는 점은 같다. 하지만 클래스 메서드는 메서드 안에서 클래스 속성, 클래스 메서드에 접근해야 할 때 사용한다.  \n",
    "특히 cls를 사용하면 메서드 안에서 현재 클래스의 인스턴스를 만들 수도 있다"
   ]
  },
  {
   "cell_type": "code",
   "execution_count": 27,
   "id": "7b45bceb-a6c6-4551-8db6-78720ac47e69",
   "metadata": {},
   "outputs": [
    {
     "name": "stdout",
     "output_type": "stream",
     "text": [
      "2명 생성되었습니다.\n"
     ]
    }
   ],
   "source": [
    "class Person:\n",
    "    count = 0    # 클래스 속성\n",
    " \n",
    "    def __init__(self):\n",
    "        Person.count += 1    # 인스턴스가 만들어질 때 클래스 속성 count에 1을 더함\n",
    " \n",
    "    @classmethod\n",
    "    def print_count(cls):\n",
    "        print('{0}명 생성되었습니다.'.format(cls.count))    # cls로 클래스 속성에 접근\n",
    "\n",
    "james = Person()\n",
    "maria = Person()\n",
    " \n",
    "Person.print_count()    # 2명 생성되었습니다."
   ]
  },
  {
   "cell_type": "markdown",
   "id": "f1a39f19-3c0d-46ec-8f1c-29e3c0bd0563",
   "metadata": {},
   "source": [
    "abstract class"
   ]
  },
  {
   "cell_type": "markdown",
   "id": "734b0c51-fa13-4df5-8530-47ebf30811a3",
   "metadata": {},
   "source": [
    "- 추상 클래스는 메서드의 목록만 가진 클래스이며 상속받는 클래스에서 메서드 구현을 강제하기 위해 사용한다.  \n",
    "- 먼저 추상 클래스를 만들려면 import로 abc 모듈을 가져와야 한다( abc는 abstract base class의 약자). \n",
    "- 그리고 클래스의 ( )(괄호) 안에 metaclass=ABCMeta를 지정하고, 메서드를 만들 때 위에 @abstractmethod를 붙여서 추상 메서드로 지정한다."
   ]
  },
  {
   "cell_type": "code",
   "execution_count": 30,
   "id": "d44e8198-a134-48e6-aa56-4387d9e05f13",
   "metadata": {},
   "outputs": [
    {
     "name": "stdout",
     "output_type": "stream",
     "text": [
      "공부하기\n",
      "학교가기\n"
     ]
    }
   ],
   "source": [
    "from abc import *\n",
    " \n",
    "class StudentBase(metaclass=ABCMeta):\n",
    "    @abstractmethod\n",
    "    def study(self):\n",
    "        pass\n",
    " \n",
    "    @abstractmethod\n",
    "    def go_to_school(self):\n",
    "        pass \n",
    "\n",
    "class Student(StudentBase):\n",
    "    def study(self):\n",
    "        print('공부하기')\n",
    " \n",
    "    def go_to_school(self):\n",
    "        print('학교가기')\n",
    "\n",
    "james = Student()\n",
    "james.study()\n",
    "james.go_to_school()"
   ]
  },
  {
   "cell_type": "markdown",
   "id": "5998a7ef-2f8d-4246-b7dd-7bcdc826daa6",
   "metadata": {},
   "source": [
    "#####  \n",
    "#### 데코레이터 Decorator"
   ]
  },
  {
   "cell_type": "markdown",
   "id": "b1ba322c-b0e1-4fcb-861d-f9e438e3afa4",
   "metadata": {},
   "source": [
    "데코레이터는 함수를 수정하지 않은 상태에서 추가 기능을 구현할 때 사용한다"
   ]
  },
  {
   "cell_type": "code",
   "execution_count": 33,
   "id": "628f9280-6c44-4976-88dc-a5282d7128c4",
   "metadata": {},
   "outputs": [
    {
     "name": "stdout",
     "output_type": "stream",
     "text": [
      "hello 함수 시작\n",
      "hello\n",
      "hello 함수 끝\n",
      "world 함수 시작\n",
      "world\n",
      "world 함수 끝\n"
     ]
    }
   ],
   "source": [
    "def trace(func):                             # 호출할 함수를 매개변수로 받음\n",
    "    def wrapper():                           # 호출할 함수를 감싸는 함수\n",
    "        print(func.__name__, '함수 시작')    # __name__으로 함수 이름 출력\n",
    "        func()                               # 매개변수로 받은 함수를 호출\n",
    "        print(func.__name__, '함수 끝')\n",
    "    return wrapper                           # wrapper 함수 반환\n",
    " \n",
    "def hello():\n",
    "    print('hello')\n",
    "\n",
    "def world():\n",
    "    print('world')\n",
    "\n",
    "trace_hello = trace(hello)    # 데코레이터에 호출할 함수를 넣음\n",
    "trace_hello()                 # 반환된 함수를 호출\n",
    "trace_world = trace(world)    # 데코레이터에 호출할 함수를 넣음\n",
    "trace_world()                 # 반환된 함수를 호출"
   ]
  },
  {
   "cell_type": "markdown",
   "id": "bcfb67b8-92e5-43bb-a68d-7dcc41122751",
   "metadata": {},
   "source": [
    "- @로 decorator 추가"
   ]
  },
  {
   "cell_type": "code",
   "execution_count": 34,
   "id": "ebad8a6a-75c5-4dc9-b617-1a1f2416e5d0",
   "metadata": {},
   "outputs": [
    {
     "name": "stdout",
     "output_type": "stream",
     "text": [
      "hello 함수 시작\n",
      "hello\n",
      "hello 함수 끝\n",
      "world 함수 시작\n",
      "world\n",
      "world 함수 끝\n"
     ]
    }
   ],
   "source": [
    "def trace(func):                             # 호출할 함수를 매개변수로 받음\n",
    "    def wrapper():\n",
    "        print(func.__name__, '함수 시작')    # __name__으로 함수 이름 출력\n",
    "        func()                               # 매개변수로 받은 함수를 호출\n",
    "        print(func.__name__, '함수 끝')\n",
    "    return wrapper                           # wrapper 함수 반환\n",
    " \n",
    "@trace    # @데코레이터\n",
    "def hello():\n",
    "    print('hello')\n",
    "\n",
    "@trace    # @데코레이터\n",
    "def world():\n",
    "    print('world')\n",
    "\n",
    "hello()    # 함수를 그대로 호출\n",
    "world()    # 함수를 그대로 호출"
   ]
  },
  {
   "cell_type": "markdown",
   "id": "191dc83f-b467-442d-9159-fa235e125793",
   "metadata": {},
   "source": [
    "- Multiple Decorator"
   ]
  },
  {
   "cell_type": "code",
   "execution_count": 37,
   "id": "9d7a3adc-2769-459a-8423-8f3ddc0e674e",
   "metadata": {},
   "outputs": [
    {
     "name": "stdout",
     "output_type": "stream",
     "text": [
      "decorator1\n",
      "decorator2\n",
      "hello\n"
     ]
    }
   ],
   "source": [
    "def decorator1(func):\n",
    "    def wrapper():\n",
    "        print('decorator1')\n",
    "        func()\n",
    "    return wrapper\n",
    " \n",
    "def decorator2(func):\n",
    "    def wrapper():\n",
    "        print('decorator2')\n",
    "        func()\n",
    "    return wrapper\n",
    "\n",
    "# 데코레이터를 여러 개 지정\n",
    "@decorator1\n",
    "@decorator2\n",
    "def hello():\n",
    "    print('hello')\n",
    "\n",
    "hello()"
   ]
  },
  {
   "cell_type": "markdown",
   "id": "d98f4e1c-7de1-4a40-94f1-a61bdaa68439",
   "metadata": {},
   "source": [
    "- @ 사용하지 않을 경우  \n",
    "hello = decorator1(decorator2(hello))  \n",
    "hello()"
   ]
  },
  {
   "cell_type": "code",
   "execution_count": 40,
   "id": "b5cb5d1e-bc45-4ae5-a781-d713ea6b5769",
   "metadata": {},
   "outputs": [
    {
     "name": "stdout",
     "output_type": "stream",
     "text": [
      "decorator1\n",
      "decorator2\n",
      "tmp\n"
     ]
    }
   ],
   "source": [
    "def tmp():\n",
    "    print('tmp')\n",
    "\n",
    "tmp = decorator1(decorator2(tmp))  \n",
    "tmp()"
   ]
  },
  {
   "cell_type": "markdown",
   "id": "a6bafb4b-0875-4159-be2c-3c6f43f5934b",
   "metadata": {},
   "source": [
    "- 매개변수와 반환값을 처리하는 데코레이터"
   ]
  },
  {
   "cell_type": "code",
   "execution_count": 41,
   "id": "459dbb2f-44d0-4381-bcd6-17b6ac79c2be",
   "metadata": {},
   "outputs": [
    {
     "name": "stdout",
     "output_type": "stream",
     "text": [
      "add(a=10, b=20) -> 30\n",
      "30\n"
     ]
    }
   ],
   "source": [
    "def trace(func):          # 호출할 함수를 매개변수로 받음\n",
    "    def wrapper(a, b):    # 호출할 함수 add(a, b)의 매개변수와 똑같이 지정\n",
    "        r = func(a, b)    # func에 매개변수 a, b를 넣어서 호출하고 반환값을 변수에 저장\n",
    "        print('{0}(a={1}, b={2}) -> {3}'.format(func.__name__, a, b, r))  # 매개변수와 반환값 출력\n",
    "        return r          # func의 반환값을 반환\n",
    "    return wrapper        # wrapper 함수 반환\n",
    " \n",
    "@trace              # @데코레이터\n",
    "def add(a, b):      # 매개변수는 두 개\n",
    "    return a + b    # 매개변수 두 개를 더해서 반환\n",
    " \n",
    "print(add(10, 20))"
   ]
  },
  {
   "cell_type": "markdown",
   "id": "d77704b1-f867-41fa-b910-cf22c9118b9c",
   "metadata": {},
   "source": [
    "- 가변 인수 함수 데코레이터"
   ]
  },
  {
   "cell_type": "code",
   "execution_count": 42,
   "id": "e3e24a1b-f265-4205-b824-ff85e10641a9",
   "metadata": {},
   "outputs": [
    {
     "name": "stdout",
     "output_type": "stream",
     "text": [
      "get_max(args=(10, 20), kwargs={}) -> 20\n",
      "20\n",
      "get_min(args=(), kwargs={'x': 10, 'y': 20, 'z': 30}) -> 10\n",
      "10\n"
     ]
    }
   ],
   "source": [
    "def trace(func):                     # 호출할 함수를 매개변수로 받음\n",
    "    def wrapper(*args, **kwargs):    # 가변 인수 함수로 만듦\n",
    "        r = func(*args, **kwargs)    # func에 args, kwargs를 언패킹하여 넣어줌\n",
    "        print('{0}(args={1}, kwargs={2}) -> {3}'.format(func.__name__, args, kwargs, r))\n",
    "                                     # 매개변수와 반환값 출력\n",
    "        return r                     # func의 반환값을 반환\n",
    "    return wrapper                   # wrapper 함수 반환\n",
    " \n",
    "@trace                   # @데코레이터\n",
    "def get_max(*args):      # 위치 인수를 사용하는 가변 인수 함수\n",
    "    return max(args)\n",
    " \n",
    "@trace                   # @데코레이터\n",
    "def get_min(**kwargs):   # 키워드 인수를 사용하는 가변 인수 함수\n",
    "    return min(kwargs.values())\n",
    " \n",
    "print(get_max(10, 20))\n",
    "print(get_min(x=10, y=20, z=30))"
   ]
  },
  {
   "cell_type": "markdown",
   "id": "76968376-1fcf-4022-8408-5cdb322ff31d",
   "metadata": {},
   "source": [
    "- 클래스 메서드에 데코레이터 사용"
   ]
  },
  {
   "cell_type": "code",
   "execution_count": 43,
   "id": "2c2718a7-d1b6-46d8-9fad-690b5b9d61fc",
   "metadata": {},
   "outputs": [
    {
     "name": "stdout",
     "output_type": "stream",
     "text": [
      "add(a=10, b=20) -> 30\n",
      "30\n"
     ]
    }
   ],
   "source": [
    "def trace(func):\n",
    "    def wrapper(self, a, b):   # 호출할 함수가 인스턴스 메서드이므로 첫 번째 매개변수는 self로 지정\n",
    "        r = func(self, a, b)   # self와 매개변수를 그대로 넣어줌\n",
    "        print('{0}(a={1}, b={2}) -> {3}'.format(func.__name__, a, b, r))   # 매개변수와 반환값 출력\n",
    "        return r               # func의 반환값을 반환\n",
    "    return wrapper\n",
    " \n",
    "class Calc:\n",
    "    @trace\n",
    "    def add(self, a, b):    # add는 인스턴스 메서드\n",
    "        return a + b\n",
    " \n",
    "c = Calc()\n",
    "print(c.add(10, 20))"
   ]
  },
  {
   "cell_type": "markdown",
   "id": "86168f7f-adde-43e9-b825-8ebf49aa398e",
   "metadata": {},
   "source": [
    "- 매개변수가 있는 데코레이터 만들기"
   ]
  },
  {
   "cell_type": "code",
   "execution_count": 52,
   "id": "485b2c2e-c4f7-4448-9bfc-5227c466a43e",
   "metadata": {},
   "outputs": [
    {
     "name": "stdout",
     "output_type": "stream",
     "text": [
      "add의 반환값은 3의 배수입니다.\n",
      "30\n",
      "add의 반환값은 3의 배수가 아닙니다.\n",
      "7\n"
     ]
    }
   ],
   "source": [
    "import functools\n",
    "\n",
    "def is_multiple(x):              # 데코레이터가 사용할 매개변수를 지정\n",
    "    def real_decorator(func):    # 호출할 함수를 매개변수로 받음\n",
    "        #@functools.wraps(func)    # @functools.wraps에 func를 넣은 뒤 wrapper 함수 위에 지정\n",
    "        def wrapper(a, b):       # 호출할 함수의 매개변수와 똑같이 지정\n",
    "            r = func(a, b)       # func를 호출하고 반환값을 변수에 저장\n",
    "            if r % x == 0:       # func의 반환값이 x의 배수인지 확인\n",
    "                print('{0}의 반환값은 {1}의 배수입니다.'.format(func.__name__, x))\n",
    "            else:\n",
    "                print('{0}의 반환값은 {1}의 배수가 아닙니다.'.format(func.__name__, x))\n",
    "            return r             # func의 반환값을 반환\n",
    "        return wrapper           # wrapper 함수 반환\n",
    "    return real_decorator        # real_decorator 함수 반환\n",
    " \n",
    "@is_multiple(3)     # @데코레이터(인수)\n",
    "def add(a, b):\n",
    "    return a + b\n",
    "\n",
    "print(add(10, 20))\n",
    "print(add(2, 5))"
   ]
  },
  {
   "cell_type": "code",
   "execution_count": 53,
   "id": "e7255242-5942-4f79-85ff-3ec16fc096ac",
   "metadata": {},
   "outputs": [
    {
     "name": "stdout",
     "output_type": "stream",
     "text": [
      "add의 반환값은 7의 배수가 아닙니다.\n",
      "wrapper의 반환값은 3의 배수입니다.\n"
     ]
    },
    {
     "data": {
      "text/plain": [
       "30"
      ]
     },
     "execution_count": 53,
     "metadata": {},
     "output_type": "execute_result"
    }
   ],
   "source": [
    "@is_multiple(3)\n",
    "@is_multiple(7)\n",
    "def add(a, b):\n",
    "    return a + b\n",
    " \n",
    "add(10, 20)"
   ]
  },
  {
   "cell_type": "markdown",
   "id": "6a7d0f05-ecf4-4d98-86ca-eb1c601f3dba",
   "metadata": {},
   "source": [
    "- 클래스로 데코레이터 만들기"
   ]
  },
  {
   "cell_type": "code",
   "execution_count": 54,
   "id": "5a578388-340c-4496-afc9-94443f9e5a2d",
   "metadata": {},
   "outputs": [
    {
     "name": "stdout",
     "output_type": "stream",
     "text": [
      "hello 함수 시작\n",
      "hello\n",
      "hello 함수 끝\n"
     ]
    }
   ],
   "source": [
    "class Trace:\n",
    "    def __init__(self, func):    # 호출할 함수를 인스턴스의 초깃값으로 받음\n",
    "        self.func = func         # 호출할 함수를 속성 func에 저장\n",
    " \n",
    "    def __call__(self):\n",
    "        print(self.func.__name__, '함수 시작')    # __name__으로 함수 이름 출력\n",
    "        self.func()                               # 속성 func에 저장된 함수를 호출\n",
    "        print(self.func.__name__, '함수 끝')\n",
    "\n",
    "def hello():    # @데코레이터를 지정하지 않음\n",
    "    print('hello')\n",
    "\n",
    "trace_hello = Trace(hello)    # 데코레이터에 호출할 함수를 넣어서 인스턴스 생성\n",
    "trace_hello()                 # 인스턴스를 호출. __call__ 메서드가 호출됨"
   ]
  },
  {
   "cell_type": "code",
   "execution_count": 55,
   "id": "c678d7d0-58c3-4a41-b7c8-3bc37de702fa",
   "metadata": {},
   "outputs": [
    {
     "name": "stdout",
     "output_type": "stream",
     "text": [
      "hello 함수 시작\n",
      "hello\n",
      "hello 함수 끝\n"
     ]
    }
   ],
   "source": [
    "@Trace    # @데코레이터\n",
    "def hello():\n",
    "    print('hello')\n",
    "\n",
    "hello()    # 함수를 그대로 호출"
   ]
  },
  {
   "cell_type": "markdown",
   "id": "2a37a0a6-f80a-48d4-bd44-177d299fc3e6",
   "metadata": {},
   "source": [
    "- 클래스로 매개변수와 반환값을 처리하는 데코레이터 만들기"
   ]
  },
  {
   "cell_type": "code",
   "execution_count": 56,
   "id": "ff964967-3af3-48fa-ad4d-1b9745d5750a",
   "metadata": {},
   "outputs": [
    {
     "name": "stdout",
     "output_type": "stream",
     "text": [
      "add(args=(10, 20), kwargs={}) -> 30\n",
      "30\n",
      "add(args=(), kwargs={'a': 10, 'b': 20}) -> 30\n",
      "30\n"
     ]
    }
   ],
   "source": [
    "class Trace:\n",
    "    def __init__(self, func):    # 호출할 함수를 인스턴스의 초깃값으로 받음\n",
    "        self.func = func         # 호출할 함수를 속성 func에 저장\n",
    " \n",
    "    def __call__(self, *args, **kwargs):    # 호출할 함수의 매개변수를 처리\n",
    "        r = self.func(*args, **kwargs) # self.func에 매개변수를 넣어서 호출하고 반환값을 변수에 저장\n",
    "        print('{0}(args={1}, kwargs={2}) -> {3}'.format(self.func.__name__, args, kwargs, r))\n",
    "                                            # 매개변수와 반환값 출력\n",
    "        return r                            # self.func의 반환값을 반환\n",
    "\n",
    "@Trace    # @데코레이터\n",
    "def add(a, b):\n",
    "    return a + b\n",
    "\n",
    "print(add(10, 20))\n",
    "print(add(a=10, b=20))"
   ]
  },
  {
   "cell_type": "code",
   "execution_count": null,
   "id": "c6bd84be-751b-4b41-a64d-452b89920d9d",
   "metadata": {},
   "outputs": [],
   "source": []
  },
  {
   "cell_type": "code",
   "execution_count": null,
   "id": "c5709fdf-4d61-476c-9fff-de35c6cae96a",
   "metadata": {},
   "outputs": [],
   "source": [
    "class IsMultiple:\n",
    "    def __init__(self, x):         # 데코레이터가 사용할 매개변수를 초깃값으로 받음\n",
    "        self.x = x                 # 매개변수를 속성 x에 저장\n",
    " \n",
    "    def __call__(self, func):      # 호출할 함수를 매개변수로 받음\n",
    "        def wrapper(a, b):         # 호출할 함수의 매개변수와 똑같이 지정(가변 인수로 작성해도 됨)\n",
    "            r = func(a, b)         # func를 호출하고 반환값을 변수에 저장\n",
    "            if r % self.x == 0:    # func의 반환값이 self.x의 배수인지 확인\n",
    "                print('{0}의 반환값은 {1}의 배수입니다.'.format(func.__name__, self.x))\n",
    "            else:\n",
    "                print('{0}의 반환값은 {1}의 배수가 아닙니다.'.format(func.__name__, self.x))\n",
    "            return r               # func의 반환값을 반환\n",
    "        return wrapper             # wrapper 함수 반환\n",
    "\n",
    "@IsMultiple(3)    # 데코레이터(인수)\n",
    "def add(a, b):\n",
    "    return a + b\n",
    " \n",
    "print(add(10, 20))\n",
    "print(add(2, 5))"
   ]
  }
 ],
 "metadata": {
  "kernelspec": {
   "display_name": "Python 3 (ipykernel)",
   "language": "python",
   "name": "python3"
  },
  "language_info": {
   "codemirror_mode": {
    "name": "ipython",
    "version": 3
   },
   "file_extension": ".py",
   "mimetype": "text/x-python",
   "name": "python",
   "nbconvert_exporter": "python",
   "pygments_lexer": "ipython3",
   "version": "3.8.13"
  }
 },
 "nbformat": 4,
 "nbformat_minor": 5
}
