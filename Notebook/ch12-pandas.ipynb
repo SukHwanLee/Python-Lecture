{
 "cells": [
  {
   "cell_type": "code",
   "execution_count": 1,
   "metadata": {},
   "outputs": [],
   "source": [
    "# 셀 상의 변수 출력하는 환경 설정\n",
    "from IPython.core.interactiveshell import InteractiveShell\n",
    "InteractiveShell.ast_node_interactivity = \"all\""
   ]
  },
  {
   "cell_type": "markdown",
   "metadata": {
    "id": "ohGdN_fhSiD3"
   },
   "source": [
    "### 12.4 CSV 데이터의 내용을 읽어 보자"
   ]
  },
  {
   "cell_type": "code",
   "execution_count": 2,
   "metadata": {
    "colab": {
     "base_uri": "https://localhost:8080/",
     "height": 232
    },
    "executionInfo": {
     "elapsed": 1024,
     "status": "error",
     "timestamp": 1600417071076,
     "user": {
      "displayName": "김은지",
      "photoUrl": "",
      "userId": "05656241690824715190"
     },
     "user_tz": -540
    },
    "id": "c4_eGMrISkUw",
    "outputId": "d9c5a3d0-6f14-434c-f59d-a562d2774f26"
   },
   "outputs": [
    {
     "name": "stdout",
     "output_type": "stream",
     "text": [
      "<_csv.reader object at 0x0000023CEE3BC8E0>\n"
     ]
    }
   ],
   "source": [
    "# 교재의 코드\n",
    "import csv\n",
    "\n",
    "f = open('data/csv/weather.csv')  # CSV 파일을 열어서 f에 저장한다.\n",
    "data = csv.reader(f)             # reader() 함수를 이용하여 읽는다.\n",
    "\n",
    "print(data)\n",
    "#for row in data:\n",
    "#      print(row)\n",
    "\n",
    "f.close()"
   ]
  },
  {
   "cell_type": "code",
   "execution_count": 3,
   "metadata": {},
   "outputs": [
    {
     "name": "stdout",
     "output_type": "stream",
     "text": [
      "['일시', '평균기온(°C)', '최대 풍속(m/s)', '평균 풍속(m/s)']\n",
      "['2010-08-01', '28.7', '8.3', '3.4']\n",
      "['2010-08-02', '25.2', '8.7', '3.8']\n",
      "['2010-08-03', '22.1', '6.3', '2.9']\n",
      "['2010-08-04', '25.3', '6.6', '4.2']\n"
     ]
    }
   ],
   "source": [
    "with open('data/csv/weather.csv') as f:\n",
    "    data = csv.reader(f)\n",
    "    for i, row in enumerate(data):\n",
    "        if i<5: print(row)\n",
    "        else: break"
   ]
  },
  {
   "cell_type": "code",
   "execution_count": 4,
   "metadata": {
    "colab": {
     "base_uri": "https://localhost:8080/"
    },
    "executionInfo": {
     "elapsed": 1552,
     "status": "ok",
     "timestamp": 1611205727518,
     "user": {
      "displayName": "박동규",
      "photoUrl": "",
      "userId": "10745738943866733973"
     },
     "user_tz": -540
    },
    "id": "Nhb5SJFD3IKc",
    "outputId": "0937e51c-9850-42a6-9d82-bea99cd54ef0"
   },
   "outputs": [],
   "source": [
    "# Colab을 통해서 github의 정보를 읽어오기\n",
    "# cp949 : 인코딩은 euc-kr의 확장 및 하위호환이다.\n",
    "# UTF-8이 조합형 방식이라면, cp949는 완성형 방식이다.(ex, 가, 갸, 거,겨 형태로 표현)\n",
    "\n",
    "import csv, urllib.request\n",
    "\n",
    "url = 'https://raw.githubusercontent.com/dongupak/DataSciPy/master/data/csv/weather.csv'\n",
    "response = urllib.request.urlopen(url)\n",
    "lines = [l.decode('cp949') for l in response.readlines()]\n",
    "cr = csv.reader(lines)\n",
    "\n",
    "#for row in cr:\n",
    "#    print(row)"
   ]
  },
  {
   "cell_type": "code",
   "execution_count": 5,
   "metadata": {
    "colab": {
     "base_uri": "https://localhost:8080/",
     "height": 232
    },
    "executionInfo": {
     "elapsed": 1123,
     "status": "error",
     "timestamp": 1600417081454,
     "user": {
      "displayName": "김은지",
      "photoUrl": "",
      "userId": "05656241690824715190"
     },
     "user_tz": -540
    },
    "id": "vrCTWSJTSlve",
    "outputId": "85e34d7f-d11c-4d76-f99f-3288dfbc1e5a"
   },
   "outputs": [
    {
     "name": "stdout",
     "output_type": "stream",
     "text": [
      "['2010-08-01', '28.7', '8.3', '3.4']\n",
      "['2010-08-02', '25.2', '8.7', '3.8']\n",
      "['2010-08-03', '22.1', '6.3', '2.9']\n",
      "['2010-08-04', '25.3', '6.6', '4.2']\n",
      "['2010-08-05', '27.2', '9.1', '5.6']\n"
     ]
    }
   ],
   "source": [
    "import csv      \n",
    "\n",
    "with open('data/csv/weather.csv') as f:\n",
    "    data = csv.reader(f)\n",
    "    header = next(data)\n",
    "    for i, row in enumerate(data):\n",
    "        if i<5: print(row)\n",
    "        else: break"
   ]
  },
  {
   "cell_type": "markdown",
   "metadata": {
    "id": "eyl3HHHQSr5L"
   },
   "source": [
    "### 12.5 CSV에서 원하는 데이터 뽑아 보기"
   ]
  },
  {
   "cell_type": "code",
   "execution_count": 6,
   "metadata": {
    "colab": {
     "base_uri": "https://localhost:8080/"
    },
    "executionInfo": {
     "elapsed": 1506,
     "status": "ok",
     "timestamp": 1611205834267,
     "user": {
      "displayName": "박동규",
      "photoUrl": "",
      "userId": "10745738943866733973"
     },
     "user_tz": -540
    },
    "id": "wT78ghuISqPh",
    "outputId": "4db09855-5c1f-4ff2-b0ce-1be5cbd8e499"
   },
   "outputs": [
    {
     "name": "stdout",
     "output_type": "stream",
     "text": [
      "3.4, 3.8, 2.9, 4.2, 5.6, 8, 5, 4, 3.1, 5.5, 4.8, 2.6, 4.6, 4.4, 10.3, 3.2, 1.6, 2.1, 1.9, 3.2, 4.2, 2.5, 6.2, 3, 1.9, 2.5, 1.6, 2.3, 4.9, 6.2, 4.2, 2.6, 5.3, 1.7, 3.2, 3.3, 4.3, 7.6, 6.6, 2.5, 7.2, 3.8, 1.8, 3.9, 1.6, 2.2, 1.2, 2.2, 3, 3.5, "
     ]
    }
   ],
   "source": [
    "# 평균 풍속만 출력하고, 쉼표로 연결한다.\n",
    "with open('data/csv/weather.csv') as f:\n",
    "    data = csv.reader(f)\n",
    "    header = next(data)\n",
    "    for i, row in enumerate(data):\n",
    "        if i<50:\n",
    "            print(row[3], end=', ')\n",
    "        else:\n",
    "            break"
   ]
  },
  {
   "cell_type": "code",
   "execution_count": 7,
   "metadata": {
    "colab": {
     "base_uri": "https://localhost:8080/"
    },
    "executionInfo": {
     "elapsed": 1043,
     "status": "ok",
     "timestamp": 1611205870032,
     "user": {
      "displayName": "박동규",
      "photoUrl": "",
      "userId": "10745738943866733973"
     },
     "user_tz": -540
    },
    "id": "--P-lT68SwYU",
    "outputId": "f04e9ae0-a035-4f85-ef32-94162fbf47c9"
   },
   "outputs": [
    {
     "name": "stdout",
     "output_type": "stream",
     "text": [
      "지난 10년간 울릉도의 최대 풍속은  14.9 m/s\n"
     ]
    }
   ],
   "source": [
    "with open('data/csv/weather.csv') as f:\n",
    "    data = csv.reader(f)\n",
    "    header = next(data)\n",
    "\n",
    "    max_wind = 0.0\n",
    "\n",
    "    for row in data:                    # 반복 루프를 사용하여 데이터를 읽는다.\n",
    "        if row[3] == '':             # 평균 풍속 데이터가 없는 경우 0을 처리\n",
    "            wind = 0\n",
    "        else:\n",
    "            wind = float(row[3])    # 평균 풍속 데이터를 실수로 변환해 저장\n",
    "        if max_wind < wind:          # 최대 풍속을 갱신하는지 검사\n",
    "            max_wind = wind         # 현재까지의 최대 풍속보다 크면 새로 기록\n",
    "\n",
    "    print('지난 10년간 울릉도의 최대 풍속은 ', max_wind, 'm/s')"
   ]
  },
  {
   "cell_type": "markdown",
   "metadata": {
    "id": "PQs5H1usSzVc"
   },
   "source": [
    "### LAB 12-1 울릉도는 몇 월에 바람이 가장 강할까?"
   ]
  },
  {
   "cell_type": "code",
   "execution_count": 8,
   "metadata": {
    "colab": {
     "base_uri": "https://localhost:8080/",
     "height": 245
    },
    "executionInfo": {
     "elapsed": 835,
     "status": "error",
     "timestamp": 1611205945698,
     "user": {
      "displayName": "박동규",
      "photoUrl": "",
      "userId": "10745738943866733973"
     },
     "user_tz": -540
    },
    "id": "hmst9LmGS4Qc",
    "outputId": "5f067cda-42e5-4e27-c49c-ee8efd0ad6c9"
   },
   "outputs": [
    {
     "data": {
      "text/plain": [
       "[<matplotlib.lines.Line2D at 0x12a72384220>]"
      ]
     },
     "execution_count": 8,
     "metadata": {},
     "output_type": "execute_result"
    },
    {
     "data": {
      "image/png": "[encoded data removed]",
      "text/plain": [
       "<Figure size 640x480 with 1 Axes>"
      ]
     },
     "metadata": {},
     "output_type": "display_data"
    }
   ],
   "source": [
    "# 로컬 PC에서 코드 실행하기\n",
    "\n",
    "import csv\n",
    "import matplotlib.pyplot as plt \n",
    " \n",
    "f = open('data/csv/weather.csv')            # CSV 파일 열어 f에 저장 \n",
    "data = csv.reader(f)                       # reader() 함수로 읽기\n",
    "header = next(data)                        # 헤더를 제거\n",
    "\n",
    "monthly_wind = [ 0 for x in range(12) ]    # 매달 풍속을 담을 리스트\n",
    "days_counted = [ 0 for x in range(12) ]    # 각 달마다 측정된 일수\n",
    "\n",
    "for row in data: \n",
    "    month = int(row[0][5:7])               # 0번 열에서 달 정보 추출, ex) 2010-08-11\n",
    "    if row[3] !=  '' :                     # 풍속 데이터 존재하는지 확인\n",
    "        wind = float(row[3])               # 풍속을 얻어 온다.\n",
    "        monthly_wind[month-1] += wind      # 해당 달에 풍속 데이터 추가\n",
    "        days_counted[month-1] += 1         # 해당 달의 일수를 증가\n",
    "\n",
    "for i in range(12) :\n",
    "      monthly_wind[i] /= days_counted[i]   # 일수로 나누어 월평균 구하기\n",
    "\n",
    "plt.plot(monthly_wind, 'blue') \n",
    "plt.show()\n",
    "\n",
    "f.close()                                  # 파일을 닫는다."
   ]
  },
  {
   "cell_type": "code",
   "execution_count": 9,
   "metadata": {
    "colab": {
     "base_uri": "https://localhost:8080/",
     "height": 265
    },
    "executionInfo": {
     "elapsed": 843,
     "status": "ok",
     "timestamp": 1611205915778,
     "user": {
      "displayName": "박동규",
      "photoUrl": "",
      "userId": "10745738943866733973"
     },
     "user_tz": -540
    },
    "id": "q4OflL03WsrK",
    "outputId": "31518980-b1a4-4a29-8b3e-293f775dbc18"
   },
   "outputs": [
    {
     "data": {
      "text/plain": [
       "[<matplotlib.lines.Line2D at 0x12a72446c40>]"
      ]
     },
     "execution_count": 9,
     "metadata": {},
     "output_type": "execute_result"
    },
    {
     "data": {
      "image/png": "[encoded data removed]",
      "text/plain": [
       "<Figure size 640x480 with 1 Axes>"
      ]
     },
     "metadata": {},
     "output_type": "display_data"
    }
   ],
   "source": [
    "# 코랩에서 실행하는 방법\n",
    "\n",
    "import csv\n",
    "import matplotlib.pyplot as plt \n",
    "\n",
    "url = 'https://raw.githubusercontent.com/dongupak/DataSciPy/master/data/csv/weather.csv'\n",
    "response = urllib.request.urlopen(url)\n",
    "lines = [l.decode('cp949') for l in response.readlines()]\n",
    "data = csv.reader(lines)\n",
    "header = next(data)               # 헤더를 제거한다. \n",
    "\n",
    "monthly_wind = [ 0 for x in range(12) ]    # 매달 풍속을 담을 리스트\n",
    "days_counted = [ 0 for x in range(12) ]    # 각 달마다 측정된 일수\n",
    "\n",
    "for row in data: \n",
    "    month = int(row[0][5:7])               # 0번 열에서 달 정보 추출\n",
    "    if row[3] !=  '' :                     # 풍속 데이터 존재하는지 확인\n",
    "        wind = float(row[3])               # 풍속을 얻어 온다.\n",
    "        monthly_wind[month-1] += wind      # 해당 달에 풍속 데이터 추가\n",
    "        days_counted[month-1] += 1         # 해당 달의 일수를 증가\n",
    "\n",
    "for i in range(12) :\n",
    "      monthly_wind[i] /= days_counted[i]\n",
    "\n",
    "plt.plot(monthly_wind, 'blue') \n",
    "plt.show()\n"
   ]
  },
  {
   "cell_type": "code",
   "execution_count": 10,
   "metadata": {},
   "outputs": [],
   "source": [
    "import numpy as np\n",
    "import pandas as pd"
   ]
  },
  {
   "cell_type": "code",
   "execution_count": 11,
   "metadata": {},
   "outputs": [
    {
     "data": {
      "text/plain": [
       "0    1.0\n",
       "1    3.0\n",
       "2    4.0\n",
       "3    NaN\n",
       "4    6.0\n",
       "5    8.0\n",
       "dtype: float64"
      ]
     },
     "execution_count": 11,
     "metadata": {},
     "output_type": "execute_result"
    }
   ],
   "source": [
    "series = pd.Series([1, 3, 4, np.nan, 6, 8])\n",
    "series"
   ]
  },
  {
   "cell_type": "code",
   "execution_count": 12,
   "metadata": {},
   "outputs": [
    {
     "data": {
      "text/plain": [
       "array([ 1.,  3.,  4., nan,  6.,  8.])"
      ]
     },
     "execution_count": 12,
     "metadata": {},
     "output_type": "execute_result"
    },
    {
     "data": {
      "text/plain": [
       "RangeIndex(start=0, stop=6, step=1)"
      ]
     },
     "execution_count": 12,
     "metadata": {},
     "output_type": "execute_result"
    }
   ],
   "source": [
    "series.values\n",
    "series.index"
   ]
  },
  {
   "cell_type": "markdown",
   "metadata": {
    "id": "8crEYfvCS-Mu"
   },
   "source": [
    "### 12.7 판다스로 데이터 파일을 읽기"
   ]
  },
  {
   "cell_type": "code",
   "execution_count": 13,
   "metadata": {
    "colab": {
     "base_uri": "https://localhost:8080/",
     "height": 433
    },
    "executionInfo": {
     "elapsed": 615,
     "status": "error",
     "timestamp": 1611114322060,
     "user": {
      "displayName": "박동규",
      "photoUrl": "",
      "userId": "10745738943866733973"
     },
     "user_tz": -540
    },
    "id": "tpcRSmxEexWG",
    "outputId": "a4f35362-f4ef-4bd9-eb4c-15cb21419a0c"
   },
   "outputs": [
    {
     "data": {
      "text/html": [
       "<div>\n",
       "<style scoped>\n",
       "    .dataframe tbody tr th:only-of-type {\n",
       "        vertical-align: middle;\n",
       "    }\n",
       "\n",
       "    .dataframe tbody tr th {\n",
       "        vertical-align: top;\n",
       "    }\n",
       "\n",
       "    .dataframe thead th {\n",
       "        text-align: right;\n",
       "    }\n",
       "</style>\n",
       "<table border=\"1\" class=\"dataframe\">\n",
       "  <thead>\n",
       "    <tr style=\"text-align: right;\">\n",
       "      <th></th>\n",
       "      <th>Unnamed: 0</th>\n",
       "      <th>country</th>\n",
       "      <th>area</th>\n",
       "      <th>capital</th>\n",
       "      <th>population</th>\n",
       "    </tr>\n",
       "  </thead>\n",
       "  <tbody>\n",
       "    <tr>\n",
       "      <th>0</th>\n",
       "      <td>KR</td>\n",
       "      <td>Korea</td>\n",
       "      <td>98480</td>\n",
       "      <td>Seoul</td>\n",
       "      <td>51780579</td>\n",
       "    </tr>\n",
       "    <tr>\n",
       "      <th>1</th>\n",
       "      <td>US</td>\n",
       "      <td>USA</td>\n",
       "      <td>9629091</td>\n",
       "      <td>Washington</td>\n",
       "      <td>331002825</td>\n",
       "    </tr>\n",
       "    <tr>\n",
       "      <th>2</th>\n",
       "      <td>JP</td>\n",
       "      <td>Japan</td>\n",
       "      <td>377835</td>\n",
       "      <td>Tokyo</td>\n",
       "      <td>125960000</td>\n",
       "    </tr>\n",
       "    <tr>\n",
       "      <th>3</th>\n",
       "      <td>CN</td>\n",
       "      <td>China</td>\n",
       "      <td>9596960</td>\n",
       "      <td>Beijing</td>\n",
       "      <td>1439323688</td>\n",
       "    </tr>\n",
       "    <tr>\n",
       "      <th>4</th>\n",
       "      <td>RU</td>\n",
       "      <td>Russia</td>\n",
       "      <td>17100000</td>\n",
       "      <td>Moscow</td>\n",
       "      <td>146748600</td>\n",
       "    </tr>\n",
       "  </tbody>\n",
       "</table>\n",
       "</div>"
      ],
      "text/plain": [
       "  Unnamed: 0 country      area     capital  population\n",
       "0         KR   Korea     98480       Seoul    51780579\n",
       "1         US     USA   9629091  Washington   331002825\n",
       "2         JP   Japan    377835       Tokyo   125960000\n",
       "3         CN   China   9596960     Beijing  1439323688\n",
       "4         RU  Russia  17100000      Moscow   146748600"
      ]
     },
     "execution_count": 13,
     "metadata": {},
     "output_type": "execute_result"
    },
    {
     "name": "stdout",
     "output_type": "stream",
     "text": [
      "<class 'pandas.core.frame.DataFrame'>\n"
     ]
    }
   ],
   "source": [
    "# 로컬 컴퓨터의 csv 파일 읽기 코드 - 코랩에서는 오류 발생\n",
    "import pandas as pd\n",
    "df = pd.read_csv('data/csv/countries.csv')\n",
    "df\n",
    "print(type(df))"
   ]
  },
  {
   "cell_type": "code",
   "execution_count": 14,
   "metadata": {},
   "outputs": [
    {
     "name": "stdout",
     "output_type": "stream",
     "text": [
      "<class '_csv.reader'>\n"
     ]
    }
   ],
   "source": [
    "import csv\n",
    "\n",
    "f = open('data/csv/countries.csv')            # CSV 파일 열어 f에 저장 \n",
    "data = csv.reader(f)                       # reader() 함수로 읽기\n",
    "print(type(data))"
   ]
  },
  {
   "cell_type": "code",
   "execution_count": 15,
   "metadata": {},
   "outputs": [
    {
     "data": {
      "text/plain": [
       "\"\\n# 판다스를 통해서 countries 데이터 읽기\\nimport pandas as pd\\ndf = pd.read_csv('https://raw.githubusercontent.com/dongupak/DataSciPy/master/data/csv/countries.csv')\\n\""
      ]
     },
     "execution_count": 15,
     "metadata": {},
     "output_type": "execute_result"
    }
   ],
   "source": [
    "'''\n",
    "# 판다스를 통해서 countries 데이터 읽기\n",
    "import pandas as pd\n",
    "df = pd.read_csv('https://raw.githubusercontent.com/dongupak/DataSciPy/master/data/csv/countries.csv')\n",
    "'''"
   ]
  },
  {
   "cell_type": "markdown",
   "metadata": {
    "id": "U1igmvPUTIF-"
   },
   "source": [
    "### 12.8 인덱스와 컬럼스 객체"
   ]
  },
  {
   "cell_type": "code",
   "execution_count": 16,
   "metadata": {
    "colab": {
     "base_uri": "https://localhost:8080/",
     "height": 426
    },
    "executionInfo": {
     "elapsed": 930,
     "status": "error",
     "timestamp": 1600417228878,
     "user": {
      "displayName": "김은지",
      "photoUrl": "",
      "userId": "05656241690824715190"
     },
     "user_tz": -540
    },
    "id": "UgrBrk_ie8qj",
    "outputId": "fc3c8226-3256-40ac-8891-d9a99d12d1b8"
   },
   "outputs": [
    {
     "data": {
      "text/html": [
       "<div>\n",
       "<style scoped>\n",
       "    .dataframe tbody tr th:only-of-type {\n",
       "        vertical-align: middle;\n",
       "    }\n",
       "\n",
       "    .dataframe tbody tr th {\n",
       "        vertical-align: top;\n",
       "    }\n",
       "\n",
       "    .dataframe thead th {\n",
       "        text-align: right;\n",
       "    }\n",
       "</style>\n",
       "<table border=\"1\" class=\"dataframe\">\n",
       "  <thead>\n",
       "    <tr style=\"text-align: right;\">\n",
       "      <th></th>\n",
       "      <th>country</th>\n",
       "      <th>area</th>\n",
       "      <th>capital</th>\n",
       "      <th>population</th>\n",
       "    </tr>\n",
       "  </thead>\n",
       "  <tbody>\n",
       "    <tr>\n",
       "      <th>KR</th>\n",
       "      <td>Korea</td>\n",
       "      <td>98480</td>\n",
       "      <td>Seoul</td>\n",
       "      <td>51780579</td>\n",
       "    </tr>\n",
       "    <tr>\n",
       "      <th>US</th>\n",
       "      <td>USA</td>\n",
       "      <td>9629091</td>\n",
       "      <td>Washington</td>\n",
       "      <td>331002825</td>\n",
       "    </tr>\n",
       "    <tr>\n",
       "      <th>JP</th>\n",
       "      <td>Japan</td>\n",
       "      <td>377835</td>\n",
       "      <td>Tokyo</td>\n",
       "      <td>125960000</td>\n",
       "    </tr>\n",
       "    <tr>\n",
       "      <th>CN</th>\n",
       "      <td>China</td>\n",
       "      <td>9596960</td>\n",
       "      <td>Beijing</td>\n",
       "      <td>1439323688</td>\n",
       "    </tr>\n",
       "    <tr>\n",
       "      <th>RU</th>\n",
       "      <td>Russia</td>\n",
       "      <td>17100000</td>\n",
       "      <td>Moscow</td>\n",
       "      <td>146748600</td>\n",
       "    </tr>\n",
       "  </tbody>\n",
       "</table>\n",
       "</div>"
      ],
      "text/plain": [
       "   country      area     capital  population\n",
       "KR   Korea     98480       Seoul    51780579\n",
       "US     USA   9629091  Washington   331002825\n",
       "JP   Japan    377835       Tokyo   125960000\n",
       "CN   China   9596960     Beijing  1439323688\n",
       "RU  Russia  17100000      Moscow   146748600"
      ]
     },
     "execution_count": 16,
     "metadata": {},
     "output_type": "execute_result"
    }
   ],
   "source": [
    "import pandas as pd \n",
    "\n",
    "df = pd.read_csv('data/csv/countries.csv', index_col = 0)\n",
    "df"
   ]
  },
  {
   "cell_type": "markdown",
   "metadata": {
    "id": "PcXSWgZHTPqn"
   },
   "source": [
    "### 12.9 열을 기준으로 데이터 선택하기"
   ]
  },
  {
   "cell_type": "code",
   "execution_count": 17,
   "metadata": {
    "colab": {
     "base_uri": "https://localhost:8080/",
     "height": 443
    },
    "executionInfo": {
     "elapsed": 892,
     "status": "error",
     "timestamp": 1600417250784,
     "user": {
      "displayName": "김은지",
      "photoUrl": "",
      "userId": "05656241690824715190"
     },
     "user_tz": -540
    },
    "id": "wADBApS4TR9m",
    "outputId": "50b97c49-407e-4b0e-d1db-c709f98a1fb5"
   },
   "outputs": [
    {
     "name": "stdout",
     "output_type": "stream",
     "text": [
      "        area  population\n",
      "KR     98480    51780579\n",
      "US   9629091   331002825\n",
      "JP    377835   125960000\n",
      "CN   9596960  1439323688\n",
      "RU  17100000   146748600\n",
      "\n",
      "\n",
      "0      51780579\n",
      "1     331002825\n",
      "2     125960000\n",
      "3    1439323688\n",
      "4     146748600\n",
      "Name: population, dtype: int64\n"
     ]
    }
   ],
   "source": [
    "import pandas as pd \n",
    "\n",
    "df_my_index = pd.read_csv('data/csv/countries.csv', index_col = 0)\n",
    "print(df_my_index[ ['area','population'] ])\n",
    "print('\\n')\n",
    "\n",
    "df_no_index = pd.read_csv('data/csv/countries.csv')\n",
    "print(df_no_index['population'])"
   ]
  },
  {
   "cell_type": "code",
   "execution_count": 18,
   "metadata": {
    "colab": {
     "base_uri": "https://localhost:8080/",
     "height": 426
    },
    "executionInfo": {
     "elapsed": 904,
     "status": "error",
     "timestamp": 1600417256724,
     "user": {
      "displayName": "김은지",
      "photoUrl": "",
      "userId": "05656241690824715190"
     },
     "user_tz": -540
    },
    "id": "orbiKU-wTTo7",
    "outputId": "40a20e4b-559d-47e5-fcc7-618d745f00c5"
   },
   "outputs": [
    {
     "name": "stdout",
     "output_type": "stream",
     "text": [
      "        area  population\n",
      "KR     98480    51780579\n",
      "US   9629091   331002825\n",
      "JP    377835   125960000\n",
      "CN   9596960  1439323688\n",
      "RU  17100000   146748600\n"
     ]
    }
   ],
   "source": [
    "import pandas as pd \n",
    "\n",
    "df_my_index = pd.read_csv('data/csv/countries.csv', index_col = 0)\n",
    "print(df_my_index[ ['area', 'population'] ])"
   ]
  },
  {
   "cell_type": "markdown",
   "metadata": {
    "id": "bcsyjOApTWdz"
   },
   "source": [
    "### 12.10 데이터 가시화하기"
   ]
  },
  {
   "cell_type": "code",
   "execution_count": 20,
   "metadata": {
    "colab": {
     "base_uri": "https://localhost:8080/",
     "height": 443
    },
    "executionInfo": {
     "elapsed": 917,
     "status": "error",
     "timestamp": 1600417276898,
     "user": {
      "displayName": "김은지",
      "photoUrl": "",
      "userId": "05656241690824715190"
     },
     "user_tz": -540
    },
    "id": "nU94Je8KTYKV",
    "outputId": "48c2bdf6-200f-4441-90de-c56c048c7788"
   },
   "outputs": [
    {
     "data": {
      "text/plain": [
       "<AxesSubplot: >"
      ]
     },
     "execution_count": 20,
     "metadata": {},
     "output_type": "execute_result"
    },
    {
     "data": {
      "image/png": "[encoded data removed]",
      "text/plain": [
       "<Figure size 640x480 with 1 Axes>"
      ]
     },
     "metadata": {},
     "output_type": "display_data"
    },
    {
     "data": {
      "text/plain": [
       "<AxesSubplot: ylabel='area'>"
      ]
     },
     "execution_count": 20,
     "metadata": {},
     "output_type": "execute_result"
    },
    {
     "data": {
      "image/png": "[encoded data removed]",
      "text/plain": [
       "<Figure size 640x480 with 1 Axes>"
      ]
     },
     "metadata": {},
     "output_type": "display_data"
    }
   ],
   "source": [
    "import pandas as pd\n",
    "import matplotlib.pyplot as plt \n",
    "\n",
    "countries_df = pd.read_csv('data/csv/countries.csv', index_col = 0)\n",
    "\n",
    "countries_df['population'].plot(kind='bar')\n",
    "plt.show()\n",
    "\n",
    "countries_df['area'].plot(kind='pie')\n",
    "plt.show()"
   ]
  },
  {
   "cell_type": "code",
   "execution_count": 21,
   "metadata": {
    "colab": {
     "base_uri": "https://localhost:8080/",
     "height": 375
    },
    "executionInfo": {
     "elapsed": 843,
     "status": "error",
     "timestamp": 1600417286252,
     "user": {
      "displayName": "김은지",
      "photoUrl": "",
      "userId": "05656241690824715190"
     },
     "user_tz": -540
    },
    "id": "tQmhAg-qTaAe",
    "outputId": "89ada14f-6619-4f12-8180-d398971838b2"
   },
   "outputs": [
    {
     "data": {
      "text/html": [
       "<div>\n",
       "<style scoped>\n",
       "    .dataframe tbody tr th:only-of-type {\n",
       "        vertical-align: middle;\n",
       "    }\n",
       "\n",
       "    .dataframe tbody tr th {\n",
       "        vertical-align: top;\n",
       "    }\n",
       "\n",
       "    .dataframe thead th {\n",
       "        text-align: right;\n",
       "    }\n",
       "</style>\n",
       "<table border=\"1\" class=\"dataframe\">\n",
       "  <thead>\n",
       "    <tr style=\"text-align: right;\">\n",
       "      <th></th>\n",
       "      <th>평균기온(°C)</th>\n",
       "      <th>최대 풍속(m/s)</th>\n",
       "      <th>평균 풍속(m/s)</th>\n",
       "    </tr>\n",
       "    <tr>\n",
       "      <th>일시</th>\n",
       "      <th></th>\n",
       "      <th></th>\n",
       "      <th></th>\n",
       "    </tr>\n",
       "  </thead>\n",
       "  <tbody>\n",
       "    <tr>\n",
       "      <th>2010-08-01</th>\n",
       "      <td>28.7</td>\n",
       "      <td>8.3</td>\n",
       "      <td>3.4</td>\n",
       "    </tr>\n",
       "    <tr>\n",
       "      <th>2010-08-02</th>\n",
       "      <td>25.2</td>\n",
       "      <td>8.7</td>\n",
       "      <td>3.8</td>\n",
       "    </tr>\n",
       "    <tr>\n",
       "      <th>2010-08-03</th>\n",
       "      <td>22.1</td>\n",
       "      <td>6.3</td>\n",
       "      <td>2.9</td>\n",
       "    </tr>\n",
       "    <tr>\n",
       "      <th>2010-08-04</th>\n",
       "      <td>25.3</td>\n",
       "      <td>6.6</td>\n",
       "      <td>4.2</td>\n",
       "    </tr>\n",
       "    <tr>\n",
       "      <th>2010-08-05</th>\n",
       "      <td>27.2</td>\n",
       "      <td>9.1</td>\n",
       "      <td>5.6</td>\n",
       "    </tr>\n",
       "    <tr>\n",
       "      <th>...</th>\n",
       "      <td>...</td>\n",
       "      <td>...</td>\n",
       "      <td>...</td>\n",
       "    </tr>\n",
       "    <tr>\n",
       "      <th>2020-07-27</th>\n",
       "      <td>22.1</td>\n",
       "      <td>4.2</td>\n",
       "      <td>1.7</td>\n",
       "    </tr>\n",
       "    <tr>\n",
       "      <th>2020-07-28</th>\n",
       "      <td>21.9</td>\n",
       "      <td>4.5</td>\n",
       "      <td>1.6</td>\n",
       "    </tr>\n",
       "    <tr>\n",
       "      <th>2020-07-29</th>\n",
       "      <td>21.6</td>\n",
       "      <td>3.2</td>\n",
       "      <td>1.0</td>\n",
       "    </tr>\n",
       "    <tr>\n",
       "      <th>2020-07-30</th>\n",
       "      <td>22.9</td>\n",
       "      <td>9.7</td>\n",
       "      <td>2.4</td>\n",
       "    </tr>\n",
       "    <tr>\n",
       "      <th>2020-07-31</th>\n",
       "      <td>25.7</td>\n",
       "      <td>4.8</td>\n",
       "      <td>2.5</td>\n",
       "    </tr>\n",
       "  </tbody>\n",
       "</table>\n",
       "<p>3653 rows × 3 columns</p>\n",
       "</div>"
      ],
      "text/plain": [
       "            평균기온(°C)  최대 풍속(m/s)  평균 풍속(m/s)\n",
       "일시                                          \n",
       "2010-08-01      28.7         8.3         3.4\n",
       "2010-08-02      25.2         8.7         3.8\n",
       "2010-08-03      22.1         6.3         2.9\n",
       "2010-08-04      25.3         6.6         4.2\n",
       "2010-08-05      27.2         9.1         5.6\n",
       "...              ...         ...         ...\n",
       "2020-07-27      22.1         4.2         1.7\n",
       "2020-07-28      21.9         4.5         1.6\n",
       "2020-07-29      21.6         3.2         1.0\n",
       "2020-07-30      22.9         9.7         2.4\n",
       "2020-07-31      25.7         4.8         2.5\n",
       "\n",
       "[3653 rows x 3 columns]"
      ]
     },
     "execution_count": 21,
     "metadata": {},
     "output_type": "execute_result"
    }
   ],
   "source": [
    "import pandas as pd\n",
    "import matplotlib.pyplot as plt \n",
    "\n",
    "weather_df = pd.read_csv('data/csv/weather.csv', index_col = 0, encoding='CP949')\n",
    "weather_df"
   ]
  },
  {
   "cell_type": "code",
   "execution_count": 22,
   "metadata": {},
   "outputs": [
    {
     "data": {
      "text/plain": [
       "<AxesSubplot: ylabel='Frequency'>"
      ]
     },
     "execution_count": 22,
     "metadata": {},
     "output_type": "execute_result"
    },
    {
     "data": {
      "image/png": "[encoded data removed]",
      "text/plain": [
       "<Figure size 640x480 with 1 Axes>"
      ]
     },
     "metadata": {},
     "output_type": "display_data"
    }
   ],
   "source": [
    "weather_df['평균 풍속(m/s)'].plot(kind='hist', bins=33)\n",
    "plt.show()"
   ]
  },
  {
   "cell_type": "markdown",
   "metadata": {
    "id": "Th4hbZXJTdJR"
   },
   "source": [
    "### 12.10 행 선택하기"
   ]
  },
  {
   "cell_type": "code",
   "execution_count": 23,
   "metadata": {
    "colab": {
     "base_uri": "https://localhost:8080/",
     "height": 164
    },
    "executionInfo": {
     "elapsed": 898,
     "status": "error",
     "timestamp": 1600417324925,
     "user": {
      "displayName": "김은지",
      "photoUrl": "",
      "userId": "05656241690824715190"
     },
     "user_tz": -540
    },
    "id": "ubS-9TXWTj5h",
    "outputId": "cc6675ad-8c13-46d9-91f5-c6aa564ef685"
   },
   "outputs": [
    {
     "data": {
      "text/html": [
       "<div>\n",
       "<style scoped>\n",
       "    .dataframe tbody tr th:only-of-type {\n",
       "        vertical-align: middle;\n",
       "    }\n",
       "\n",
       "    .dataframe tbody tr th {\n",
       "        vertical-align: top;\n",
       "    }\n",
       "\n",
       "    .dataframe thead th {\n",
       "        text-align: right;\n",
       "    }\n",
       "</style>\n",
       "<table border=\"1\" class=\"dataframe\">\n",
       "  <thead>\n",
       "    <tr style=\"text-align: right;\">\n",
       "      <th></th>\n",
       "      <th>평균기온(°C)</th>\n",
       "      <th>최대 풍속(m/s)</th>\n",
       "      <th>평균 풍속(m/s)</th>\n",
       "    </tr>\n",
       "    <tr>\n",
       "      <th>일시</th>\n",
       "      <th></th>\n",
       "      <th></th>\n",
       "      <th></th>\n",
       "    </tr>\n",
       "  </thead>\n",
       "  <tbody>\n",
       "    <tr>\n",
       "      <th>2010-08-01</th>\n",
       "      <td>28.7</td>\n",
       "      <td>8.3</td>\n",
       "      <td>3.4</td>\n",
       "    </tr>\n",
       "    <tr>\n",
       "      <th>2010-08-02</th>\n",
       "      <td>25.2</td>\n",
       "      <td>8.7</td>\n",
       "      <td>3.8</td>\n",
       "    </tr>\n",
       "    <tr>\n",
       "      <th>2010-08-03</th>\n",
       "      <td>22.1</td>\n",
       "      <td>6.3</td>\n",
       "      <td>2.9</td>\n",
       "    </tr>\n",
       "    <tr>\n",
       "      <th>2010-08-04</th>\n",
       "      <td>25.3</td>\n",
       "      <td>6.6</td>\n",
       "      <td>4.2</td>\n",
       "    </tr>\n",
       "    <tr>\n",
       "      <th>2010-08-05</th>\n",
       "      <td>27.2</td>\n",
       "      <td>9.1</td>\n",
       "      <td>5.6</td>\n",
       "    </tr>\n",
       "    <tr>\n",
       "      <th>2010-08-06</th>\n",
       "      <td>26.8</td>\n",
       "      <td>9.8</td>\n",
       "      <td>8.0</td>\n",
       "    </tr>\n",
       "    <tr>\n",
       "      <th>2010-08-07</th>\n",
       "      <td>27.5</td>\n",
       "      <td>9.1</td>\n",
       "      <td>5.0</td>\n",
       "    </tr>\n",
       "    <tr>\n",
       "      <th>2010-08-08</th>\n",
       "      <td>26.6</td>\n",
       "      <td>5.9</td>\n",
       "      <td>4.0</td>\n",
       "    </tr>\n",
       "    <tr>\n",
       "      <th>2010-08-09</th>\n",
       "      <td>26.9</td>\n",
       "      <td>5.1</td>\n",
       "      <td>3.1</td>\n",
       "    </tr>\n",
       "    <tr>\n",
       "      <th>2010-08-10</th>\n",
       "      <td>25.6</td>\n",
       "      <td>10.2</td>\n",
       "      <td>5.5</td>\n",
       "    </tr>\n",
       "  </tbody>\n",
       "</table>\n",
       "</div>"
      ],
      "text/plain": [
       "            평균기온(°C)  최대 풍속(m/s)  평균 풍속(m/s)\n",
       "일시                                          \n",
       "2010-08-01      28.7         8.3         3.4\n",
       "2010-08-02      25.2         8.7         3.8\n",
       "2010-08-03      22.1         6.3         2.9\n",
       "2010-08-04      25.3         6.6         4.2\n",
       "2010-08-05      27.2         9.1         5.6\n",
       "2010-08-06      26.8         9.8         8.0\n",
       "2010-08-07      27.5         9.1         5.0\n",
       "2010-08-08      26.6         5.9         4.0\n",
       "2010-08-09      26.9         5.1         3.1\n",
       "2010-08-10      25.6        10.2         5.5"
      ]
     },
     "execution_count": 23,
     "metadata": {},
     "output_type": "execute_result"
    }
   ],
   "source": [
    "weather_df[:10]"
   ]
  },
  {
   "cell_type": "code",
   "execution_count": 24,
   "metadata": {
    "colab": {
     "base_uri": "https://localhost:8080/",
     "height": 164
    },
    "executionInfo": {
     "elapsed": 942,
     "status": "error",
     "timestamp": 1600417317448,
     "user": {
      "displayName": "김은지",
      "photoUrl": "",
      "userId": "05656241690824715190"
     },
     "user_tz": -540
    },
    "id": "JvAE_87XTimi",
    "outputId": "7db4804f-a2e0-4d1d-a79e-fb465c27b047"
   },
   "outputs": [
    {
     "data": {
      "text/html": [
       "<div>\n",
       "<style scoped>\n",
       "    .dataframe tbody tr th:only-of-type {\n",
       "        vertical-align: middle;\n",
       "    }\n",
       "\n",
       "    .dataframe tbody tr th {\n",
       "        vertical-align: top;\n",
       "    }\n",
       "\n",
       "    .dataframe thead th {\n",
       "        text-align: right;\n",
       "    }\n",
       "</style>\n",
       "<table border=\"1\" class=\"dataframe\">\n",
       "  <thead>\n",
       "    <tr style=\"text-align: right;\">\n",
       "      <th></th>\n",
       "      <th>평균기온(°C)</th>\n",
       "      <th>최대 풍속(m/s)</th>\n",
       "      <th>평균 풍속(m/s)</th>\n",
       "    </tr>\n",
       "    <tr>\n",
       "      <th>일시</th>\n",
       "      <th></th>\n",
       "      <th></th>\n",
       "      <th></th>\n",
       "    </tr>\n",
       "  </thead>\n",
       "  <tbody>\n",
       "    <tr>\n",
       "      <th>2010-08-01</th>\n",
       "      <td>28.7</td>\n",
       "      <td>8.3</td>\n",
       "      <td>3.4</td>\n",
       "    </tr>\n",
       "    <tr>\n",
       "      <th>2010-08-02</th>\n",
       "      <td>25.2</td>\n",
       "      <td>8.7</td>\n",
       "      <td>3.8</td>\n",
       "    </tr>\n",
       "    <tr>\n",
       "      <th>2010-08-03</th>\n",
       "      <td>22.1</td>\n",
       "      <td>6.3</td>\n",
       "      <td>2.9</td>\n",
       "    </tr>\n",
       "    <tr>\n",
       "      <th>2010-08-04</th>\n",
       "      <td>25.3</td>\n",
       "      <td>6.6</td>\n",
       "      <td>4.2</td>\n",
       "    </tr>\n",
       "    <tr>\n",
       "      <th>2010-08-05</th>\n",
       "      <td>27.2</td>\n",
       "      <td>9.1</td>\n",
       "      <td>5.6</td>\n",
       "    </tr>\n",
       "  </tbody>\n",
       "</table>\n",
       "</div>"
      ],
      "text/plain": [
       "            평균기온(°C)  최대 풍속(m/s)  평균 풍속(m/s)\n",
       "일시                                          \n",
       "2010-08-01      28.7         8.3         3.4\n",
       "2010-08-02      25.2         8.7         3.8\n",
       "2010-08-03      22.1         6.3         2.9\n",
       "2010-08-04      25.3         6.6         4.2\n",
       "2010-08-05      27.2         9.1         5.6"
      ]
     },
     "execution_count": 24,
     "metadata": {},
     "output_type": "execute_result"
    }
   ],
   "source": [
    "weather_df.head()"
   ]
  },
  {
   "cell_type": "code",
   "execution_count": 25,
   "metadata": {},
   "outputs": [
    {
     "data": {
      "text/plain": [
       "'Seoul'"
      ]
     },
     "execution_count": 25,
     "metadata": {},
     "output_type": "execute_result"
    },
    {
     "data": {
      "text/plain": [
       "'Seoul'"
      ]
     },
     "execution_count": 25,
     "metadata": {},
     "output_type": "execute_result"
    }
   ],
   "source": [
    "countries_df.loc['KR', 'capital']\n",
    "countries_df.iloc[0, 2]"
   ]
  },
  {
   "cell_type": "code",
   "execution_count": 26,
   "metadata": {},
   "outputs": [
    {
     "data": {
      "text/html": [
       "<div>\n",
       "<style scoped>\n",
       "    .dataframe tbody tr th:only-of-type {\n",
       "        vertical-align: middle;\n",
       "    }\n",
       "\n",
       "    .dataframe tbody tr th {\n",
       "        vertical-align: top;\n",
       "    }\n",
       "\n",
       "    .dataframe thead th {\n",
       "        text-align: right;\n",
       "    }\n",
       "</style>\n",
       "<table border=\"1\" class=\"dataframe\">\n",
       "  <thead>\n",
       "    <tr style=\"text-align: right;\">\n",
       "      <th></th>\n",
       "      <th>평균기온(°C)</th>\n",
       "      <th>최대 풍속(m/s)</th>\n",
       "      <th>평균 풍속(m/s)</th>\n",
       "    </tr>\n",
       "    <tr>\n",
       "      <th>일시</th>\n",
       "      <th></th>\n",
       "      <th></th>\n",
       "      <th></th>\n",
       "    </tr>\n",
       "  </thead>\n",
       "  <tbody>\n",
       "    <tr>\n",
       "      <th>2020-07-27</th>\n",
       "      <td>22.1</td>\n",
       "      <td>4.2</td>\n",
       "      <td>1.7</td>\n",
       "    </tr>\n",
       "    <tr>\n",
       "      <th>2020-07-28</th>\n",
       "      <td>21.9</td>\n",
       "      <td>4.5</td>\n",
       "      <td>1.6</td>\n",
       "    </tr>\n",
       "    <tr>\n",
       "      <th>2020-07-29</th>\n",
       "      <td>21.6</td>\n",
       "      <td>3.2</td>\n",
       "      <td>1.0</td>\n",
       "    </tr>\n",
       "    <tr>\n",
       "      <th>2020-07-30</th>\n",
       "      <td>22.9</td>\n",
       "      <td>9.7</td>\n",
       "      <td>2.4</td>\n",
       "    </tr>\n",
       "    <tr>\n",
       "      <th>2020-07-31</th>\n",
       "      <td>25.7</td>\n",
       "      <td>4.8</td>\n",
       "      <td>2.5</td>\n",
       "    </tr>\n",
       "  </tbody>\n",
       "</table>\n",
       "</div>"
      ],
      "text/plain": [
       "            평균기온(°C)  최대 풍속(m/s)  평균 풍속(m/s)\n",
       "일시                                          \n",
       "2020-07-27      22.1         4.2         1.7\n",
       "2020-07-28      21.9         4.5         1.6\n",
       "2020-07-29      21.6         3.2         1.0\n",
       "2020-07-30      22.9         9.7         2.4\n",
       "2020-07-31      25.7         4.8         2.5"
      ]
     },
     "execution_count": 26,
     "metadata": {},
     "output_type": "execute_result"
    }
   ],
   "source": [
    "weather_df.tail()"
   ]
  },
  {
   "cell_type": "code",
   "execution_count": null,
   "metadata": {},
   "outputs": [],
   "source": []
  },
  {
   "cell_type": "code",
   "execution_count": 27,
   "metadata": {},
   "outputs": [
    {
     "data": {
      "text/html": [
       "<div>\n",
       "<style scoped>\n",
       "    .dataframe tbody tr th:only-of-type {\n",
       "        vertical-align: middle;\n",
       "    }\n",
       "\n",
       "    .dataframe tbody tr th {\n",
       "        vertical-align: top;\n",
       "    }\n",
       "\n",
       "    .dataframe thead th {\n",
       "        text-align: right;\n",
       "    }\n",
       "</style>\n",
       "<table border=\"1\" class=\"dataframe\">\n",
       "  <thead>\n",
       "    <tr style=\"text-align: right;\">\n",
       "      <th></th>\n",
       "      <th>country</th>\n",
       "      <th>area</th>\n",
       "      <th>capital</th>\n",
       "      <th>population</th>\n",
       "    </tr>\n",
       "  </thead>\n",
       "  <tbody>\n",
       "    <tr>\n",
       "      <th>KR</th>\n",
       "      <td>Korea</td>\n",
       "      <td>98480</td>\n",
       "      <td>Seoul</td>\n",
       "      <td>51780579</td>\n",
       "    </tr>\n",
       "    <tr>\n",
       "      <th>US</th>\n",
       "      <td>USA</td>\n",
       "      <td>9629091</td>\n",
       "      <td>Washington</td>\n",
       "      <td>331002825</td>\n",
       "    </tr>\n",
       "    <tr>\n",
       "      <th>JP</th>\n",
       "      <td>Japan</td>\n",
       "      <td>377835</td>\n",
       "      <td>Tokyo</td>\n",
       "      <td>125960000</td>\n",
       "    </tr>\n",
       "    <tr>\n",
       "      <th>CN</th>\n",
       "      <td>China</td>\n",
       "      <td>9596960</td>\n",
       "      <td>Beijing</td>\n",
       "      <td>1439323688</td>\n",
       "    </tr>\n",
       "    <tr>\n",
       "      <th>RU</th>\n",
       "      <td>Russia</td>\n",
       "      <td>17100000</td>\n",
       "      <td>Moscow</td>\n",
       "      <td>146748600</td>\n",
       "    </tr>\n",
       "  </tbody>\n",
       "</table>\n",
       "</div>"
      ],
      "text/plain": [
       "   country      area     capital  population\n",
       "KR   Korea     98480       Seoul    51780579\n",
       "US     USA   9629091  Washington   331002825\n",
       "JP   Japan    377835       Tokyo   125960000\n",
       "CN   China   9596960     Beijing  1439323688\n",
       "RU  Russia  17100000      Moscow   146748600"
      ]
     },
     "execution_count": 27,
     "metadata": {},
     "output_type": "execute_result"
    }
   ],
   "source": [
    "countries_df"
   ]
  },
  {
   "cell_type": "code",
   "execution_count": 28,
   "metadata": {
    "colab": {
     "base_uri": "https://localhost:8080/",
     "height": 164
    },
    "executionInfo": {
     "elapsed": 789,
     "status": "error",
     "timestamp": 1600417330248,
     "user": {
      "displayName": "김은지",
      "photoUrl": "",
      "userId": "05656241690824715190"
     },
     "user_tz": -540
    },
    "id": "cmz-5rSJTlsI",
    "outputId": "0f23e100-2ac4-4db9-e76b-852a503a505b"
   },
   "outputs": [
    {
     "data": {
      "text/plain": [
       "country           Japan\n",
       "area             377835\n",
       "capital           Tokyo\n",
       "population    125960000\n",
       "Name: JP, dtype: object"
      ]
     },
     "execution_count": 28,
     "metadata": {},
     "output_type": "execute_result"
    }
   ],
   "source": [
    "countries_df.loc['JP']"
   ]
  },
  {
   "cell_type": "code",
   "execution_count": 29,
   "metadata": {
    "colab": {
     "base_uri": "https://localhost:8080/",
     "height": 164
    },
    "executionInfo": {
     "elapsed": 572,
     "status": "error",
     "timestamp": 1600417335559,
     "user": {
      "displayName": "김은지",
      "photoUrl": "",
      "userId": "05656241690824715190"
     },
     "user_tz": -540
    },
    "id": "iFkQRa5eTnEB",
    "outputId": "a6b9a6a1-ad45-41e7-ba3d-6cfdaf867c2c"
   },
   "outputs": [
    {
     "data": {
      "text/plain": [
       "KR     51780579\n",
       "US    331002825\n",
       "JP    125960000\n",
       "Name: population, dtype: int64"
      ]
     },
     "execution_count": 29,
     "metadata": {},
     "output_type": "execute_result"
    }
   ],
   "source": [
    "countries_df['population'][:3]"
   ]
  },
  {
   "cell_type": "code",
   "execution_count": 30,
   "metadata": {
    "colab": {
     "base_uri": "https://localhost:8080/",
     "height": 164
    },
    "executionInfo": {
     "elapsed": 909,
     "status": "error",
     "timestamp": 1600417340013,
     "user": {
      "displayName": "김은지",
      "photoUrl": "",
      "userId": "05656241690824715190"
     },
     "user_tz": -540
    },
    "id": "xWrieRDRToLv",
    "outputId": "686f994d-17be-4c7e-a8b8-608f1af7d839"
   },
   "outputs": [
    {
     "data": {
      "text/plain": [
       "'Washington'"
      ]
     },
     "execution_count": 30,
     "metadata": {},
     "output_type": "execute_result"
    },
    {
     "data": {
      "text/plain": [
       "'Washington'"
      ]
     },
     "execution_count": 30,
     "metadata": {},
     "output_type": "execute_result"
    }
   ],
   "source": [
    "countries_df.loc['US', 'capital']\n",
    "countries_df['capital'].loc['US']"
   ]
  },
  {
   "cell_type": "markdown",
   "metadata": {
    "id": "KhfbQinfTsF5"
   },
   "source": [
    "### 12.12 새로운 열 생성하기"
   ]
  },
  {
   "cell_type": "code",
   "execution_count": 2,
   "metadata": {
    "colab": {
     "base_uri": "https://localhost:8080/"
    },
    "executionInfo": {
     "elapsed": 714,
     "status": "ok",
     "timestamp": 1611475437935,
     "user": {
      "displayName": "박동규",
      "photoUrl": "",
      "userId": "10745738943866733973"
     },
     "user_tz": -540
    },
    "id": "u1RdbneWTuZB",
    "outputId": "29c176d7-7810-4214-cfe0-ec8ec6e66195"
   },
   "outputs": [
    {
     "name": "stdout",
     "output_type": "stream",
     "text": [
      "   country      area     capital  population     density\n",
      "KR   Korea     98480       Seoul    51780579  525.797918\n",
      "US     USA   9629091  Washington   331002825   34.375293\n",
      "JP   Japan    377835       Tokyo   125960000  333.373033\n",
      "CN   China   9596960     Beijing  1439323688  149.977044\n",
      "RU  Russia  17100000      Moscow   146748600    8.581789\n"
     ]
    }
   ],
   "source": [
    "import pandas as pd\n",
    "import matplotlib.pyplot as plt \n",
    "\n",
    "countries_df = pd.read_csv('data/csv/countries.csv', index_col = 0)\n",
    "countries_df['density'] = countries_df['population'] / countries_df['area']\n",
    "print(countries_df)"
   ]
  },
  {
   "cell_type": "markdown",
   "metadata": {
    "id": "YSmt8P5pT2TT"
   },
   "source": [
    "### 12.11 간단히 데이터 분석하기"
   ]
  },
  {
   "cell_type": "code",
   "execution_count": 3,
   "metadata": {
    "colab": {
     "base_uri": "https://localhost:8080/",
     "height": 295
    },
    "executionInfo": {
     "elapsed": 726,
     "status": "ok",
     "timestamp": 1611476051411,
     "user": {
      "displayName": "박동규",
      "photoUrl": "",
      "userId": "10745738943866733973"
     },
     "user_tz": -540
    },
    "id": "yhWsuhvwT4Lg",
    "outputId": "9d485be6-4d60-4e87-e3e7-042e904d59b9"
   },
   "outputs": [
    {
     "data": {
      "text/html": [
       "<div>\n",
       "<style scoped>\n",
       "    .dataframe tbody tr th:only-of-type {\n",
       "        vertical-align: middle;\n",
       "    }\n",
       "\n",
       "    .dataframe tbody tr th {\n",
       "        vertical-align: top;\n",
       "    }\n",
       "\n",
       "    .dataframe thead th {\n",
       "        text-align: right;\n",
       "    }\n",
       "</style>\n",
       "<table border=\"1\" class=\"dataframe\">\n",
       "  <thead>\n",
       "    <tr style=\"text-align: right;\">\n",
       "      <th></th>\n",
       "      <th>평균기온(°C)</th>\n",
       "      <th>최대 풍속(m/s)</th>\n",
       "      <th>평균 풍속(m/s)</th>\n",
       "    </tr>\n",
       "  </thead>\n",
       "  <tbody>\n",
       "    <tr>\n",
       "      <th>count</th>\n",
       "      <td>3653.000000</td>\n",
       "      <td>3649.000000</td>\n",
       "      <td>3647.000000</td>\n",
       "    </tr>\n",
       "    <tr>\n",
       "      <th>mean</th>\n",
       "      <td>12.942102</td>\n",
       "      <td>7.911099</td>\n",
       "      <td>3.936441</td>\n",
       "    </tr>\n",
       "    <tr>\n",
       "      <th>std</th>\n",
       "      <td>8.538507</td>\n",
       "      <td>3.029862</td>\n",
       "      <td>1.888473</td>\n",
       "    </tr>\n",
       "    <tr>\n",
       "      <th>min</th>\n",
       "      <td>-9.000000</td>\n",
       "      <td>2.000000</td>\n",
       "      <td>0.200000</td>\n",
       "    </tr>\n",
       "    <tr>\n",
       "      <th>25%</th>\n",
       "      <td>5.400000</td>\n",
       "      <td>5.700000</td>\n",
       "      <td>2.500000</td>\n",
       "    </tr>\n",
       "    <tr>\n",
       "      <th>50%</th>\n",
       "      <td>13.800000</td>\n",
       "      <td>7.600000</td>\n",
       "      <td>3.600000</td>\n",
       "    </tr>\n",
       "    <tr>\n",
       "      <th>75%</th>\n",
       "      <td>20.100000</td>\n",
       "      <td>9.700000</td>\n",
       "      <td>5.000000</td>\n",
       "    </tr>\n",
       "    <tr>\n",
       "      <th>max</th>\n",
       "      <td>31.300000</td>\n",
       "      <td>26.000000</td>\n",
       "      <td>14.900000</td>\n",
       "    </tr>\n",
       "  </tbody>\n",
       "</table>\n",
       "</div>"
      ],
      "text/plain": [
       "          평균기온(°C)   최대 풍속(m/s)   평균 풍속(m/s)\n",
       "count  3653.000000  3649.000000  3647.000000\n",
       "mean     12.942102     7.911099     3.936441\n",
       "std       8.538507     3.029862     1.888473\n",
       "min      -9.000000     2.000000     0.200000\n",
       "25%       5.400000     5.700000     2.500000\n",
       "50%      13.800000     7.600000     3.600000\n",
       "75%      20.100000     9.700000     5.000000\n",
       "max      31.300000    26.000000    14.900000"
      ]
     },
     "execution_count": 3,
     "metadata": {},
     "output_type": "execute_result"
    }
   ],
   "source": [
    "import pandas as pd\n",
    "#df_weather = pd.read_csv('https://raw.githubusercontent.com/dongupak/DataSciPy/master/data/csv/weather.csv', \n",
    "#                         index_col = 0, encoding='CP949')\n",
    "weather_df = pd.read_csv('data/csv/weather.csv', index_col = 0, encoding='CP949')\n",
    "weather_df.describe()"
   ]
  },
  {
   "cell_type": "code",
   "execution_count": 4,
   "metadata": {},
   "outputs": [
    {
     "data": {
      "text/plain": [
       "평균기온(°C)      12.942102\n",
       "최대 풍속(m/s)     7.911099\n",
       "평균 풍속(m/s)     3.936441\n",
       "dtype: float64"
      ]
     },
     "execution_count": 4,
     "metadata": {},
     "output_type": "execute_result"
    },
    {
     "data": {
      "text/plain": [
       "pandas.core.series.Series"
      ]
     },
     "execution_count": 4,
     "metadata": {},
     "output_type": "execute_result"
    }
   ],
   "source": [
    "weather_df.mean()\n",
    "type(weather_df.mean())"
   ]
  },
  {
   "cell_type": "code",
   "execution_count": 5,
   "metadata": {},
   "outputs": [
    {
     "data": {
      "text/plain": [
       "array([12.94210238,  7.91109893,  3.93644091])"
      ]
     },
     "execution_count": 5,
     "metadata": {},
     "output_type": "execute_result"
    },
    {
     "data": {
      "text/plain": [
       "Index(['평균기온(°C)', '최대 풍속(m/s)', '평균 풍속(m/s)'], dtype='object')"
      ]
     },
     "execution_count": 5,
     "metadata": {},
     "output_type": "execute_result"
    }
   ],
   "source": [
    "weather_df.mean().values\n",
    "weather_df.mean().index"
   ]
  },
  {
   "cell_type": "code",
   "execution_count": 6,
   "metadata": {
    "colab": {
     "base_uri": "https://localhost:8080/"
    },
    "executionInfo": {
     "elapsed": 749,
     "status": "ok",
     "timestamp": 1611476089268,
     "user": {
      "displayName": "박동규",
      "photoUrl": "",
      "userId": "10745738943866733973"
     },
     "user_tz": -540
    },
    "id": "Mt03sO30T5ua",
    "outputId": "eda7a92c-abd9-4dd4-ea5a-1da06a9eaf1a"
   },
   "outputs": [
    {
     "name": "stdout",
     "output_type": "stream",
     "text": [
      "평균 분석 -----------------------------\n",
      "평균기온(°C)      12.942102\n",
      "최대 풍속(m/s)     7.911099\n",
      "평균 풍속(m/s)     3.936441\n",
      "dtype: float64\n",
      "표준편차  분석 -----------------------------\n",
      "평균기온(°C)      8.538507\n",
      "최대 풍속(m/s)    3.029862\n",
      "평균 풍속(m/s)    1.888473\n",
      "dtype: float64\n"
     ]
    }
   ],
   "source": [
    "print('평균 분석 -----------------------------')\n",
    "print(weather_df.mean())\n",
    "print('표준편차  분석 -----------------------------')\n",
    "print(weather_df.std())"
   ]
  },
  {
   "cell_type": "code",
   "execution_count": 7,
   "metadata": {
    "colab": {
     "base_uri": "https://localhost:8080/"
    },
    "executionInfo": {
     "elapsed": 859,
     "status": "ok",
     "timestamp": 1611476248227,
     "user": {
      "displayName": "박동규",
      "photoUrl": "",
      "userId": "10745738943866733973"
     },
     "user_tz": -540
    },
    "id": "W04Kkl2WT7jm",
    "outputId": "5a660d22-64a7-4823-d484-80779eae9ac7"
   },
   "outputs": [
    {
     "name": "stdout",
     "output_type": "stream",
     "text": [
      "8.53850701475343 8.537338236838877\n"
     ]
    }
   ],
   "source": [
    "import numpy as np\n",
    "\n",
    "pandas_std = weather_df['평균기온(°C)'].std()\n",
    "numpy_std = np.std( weather_df['평균기온(°C)'] )\n",
    "print(pandas_std, numpy_std)"
   ]
  },
  {
   "cell_type": "markdown",
   "metadata": {
    "id": "uNP3hYjhT_rz"
   },
   "source": [
    "### 12.21 데이터 집계 분석"
   ]
  },
  {
   "cell_type": "code",
   "execution_count": 8,
   "metadata": {
    "colab": {
     "base_uri": "https://localhost:8080/"
    },
    "executionInfo": {
     "elapsed": 719,
     "status": "ok",
     "timestamp": 1611476291178,
     "user": {
      "displayName": "박동규",
      "photoUrl": "",
      "userId": "10745738943866733973"
     },
     "user_tz": -540
    },
    "id": "BuMdBEHPUB67",
    "outputId": "06f3c913-4e8e-481b-e8b9-f1cf37585095"
   },
   "outputs": [
    {
     "data": {
      "text/html": [
       "<div>\n",
       "<style scoped>\n",
       "    .dataframe tbody tr th:only-of-type {\n",
       "        vertical-align: middle;\n",
       "    }\n",
       "\n",
       "    .dataframe tbody tr th {\n",
       "        vertical-align: top;\n",
       "    }\n",
       "\n",
       "    .dataframe thead th {\n",
       "        text-align: right;\n",
       "    }\n",
       "</style>\n",
       "<table border=\"1\" class=\"dataframe\">\n",
       "  <thead>\n",
       "    <tr style=\"text-align: right;\">\n",
       "      <th></th>\n",
       "      <th>평균기온(°C)</th>\n",
       "      <th>최대 풍속(m/s)</th>\n",
       "      <th>평균 풍속(m/s)</th>\n",
       "    </tr>\n",
       "    <tr>\n",
       "      <th>일시</th>\n",
       "      <th></th>\n",
       "      <th></th>\n",
       "      <th></th>\n",
       "    </tr>\n",
       "  </thead>\n",
       "  <tbody>\n",
       "    <tr>\n",
       "      <th>2010-08-01</th>\n",
       "      <td>28.7</td>\n",
       "      <td>8.3</td>\n",
       "      <td>3.4</td>\n",
       "    </tr>\n",
       "    <tr>\n",
       "      <th>2010-08-02</th>\n",
       "      <td>25.2</td>\n",
       "      <td>8.7</td>\n",
       "      <td>3.8</td>\n",
       "    </tr>\n",
       "    <tr>\n",
       "      <th>2010-08-03</th>\n",
       "      <td>22.1</td>\n",
       "      <td>6.3</td>\n",
       "      <td>2.9</td>\n",
       "    </tr>\n",
       "    <tr>\n",
       "      <th>2010-08-04</th>\n",
       "      <td>25.3</td>\n",
       "      <td>6.6</td>\n",
       "      <td>4.2</td>\n",
       "    </tr>\n",
       "    <tr>\n",
       "      <th>2010-08-05</th>\n",
       "      <td>27.2</td>\n",
       "      <td>9.1</td>\n",
       "      <td>5.6</td>\n",
       "    </tr>\n",
       "    <tr>\n",
       "      <th>...</th>\n",
       "      <td>...</td>\n",
       "      <td>...</td>\n",
       "      <td>...</td>\n",
       "    </tr>\n",
       "    <tr>\n",
       "      <th>2020-07-27</th>\n",
       "      <td>22.1</td>\n",
       "      <td>4.2</td>\n",
       "      <td>1.7</td>\n",
       "    </tr>\n",
       "    <tr>\n",
       "      <th>2020-07-28</th>\n",
       "      <td>21.9</td>\n",
       "      <td>4.5</td>\n",
       "      <td>1.6</td>\n",
       "    </tr>\n",
       "    <tr>\n",
       "      <th>2020-07-29</th>\n",
       "      <td>21.6</td>\n",
       "      <td>3.2</td>\n",
       "      <td>1.0</td>\n",
       "    </tr>\n",
       "    <tr>\n",
       "      <th>2020-07-30</th>\n",
       "      <td>22.9</td>\n",
       "      <td>9.7</td>\n",
       "      <td>2.4</td>\n",
       "    </tr>\n",
       "    <tr>\n",
       "      <th>2020-07-31</th>\n",
       "      <td>25.7</td>\n",
       "      <td>4.8</td>\n",
       "      <td>2.5</td>\n",
       "    </tr>\n",
       "  </tbody>\n",
       "</table>\n",
       "<p>3653 rows × 3 columns</p>\n",
       "</div>"
      ],
      "text/plain": [
       "            평균기온(°C)  최대 풍속(m/s)  평균 풍속(m/s)\n",
       "일시                                          \n",
       "2010-08-01      28.7         8.3         3.4\n",
       "2010-08-02      25.2         8.7         3.8\n",
       "2010-08-03      22.1         6.3         2.9\n",
       "2010-08-04      25.3         6.6         4.2\n",
       "2010-08-05      27.2         9.1         5.6\n",
       "...              ...         ...         ...\n",
       "2020-07-27      22.1         4.2         1.7\n",
       "2020-07-28      21.9         4.5         1.6\n",
       "2020-07-29      21.6         3.2         1.0\n",
       "2020-07-30      22.9         9.7         2.4\n",
       "2020-07-31      25.7         4.8         2.5\n",
       "\n",
       "[3653 rows x 3 columns]"
      ]
     },
     "execution_count": 8,
     "metadata": {},
     "output_type": "execute_result"
    }
   ],
   "source": [
    "#df = pd.read_csv('https://raw.githubusercontent.com/dongupak/DataSciPy/master/data/csv/weather.csv', \n",
    "#                 index_col = 0, encoding='CP949')\n",
    "\n",
    "df = pd.read_csv('data/csv/weather.csv', index_col = 0, encoding='CP949')\n",
    "df"
   ]
  },
  {
   "cell_type": "code",
   "execution_count": 9,
   "metadata": {},
   "outputs": [
    {
     "data": {
      "text/plain": [
       "평균기온(°C)      3653\n",
       "최대 풍속(m/s)    3649\n",
       "평균 풍속(m/s)    3647\n",
       "dtype: int64"
      ]
     },
     "execution_count": 9,
     "metadata": {},
     "output_type": "execute_result"
    }
   ],
   "source": [
    "df.count()"
   ]
  },
  {
   "cell_type": "code",
   "execution_count": 10,
   "metadata": {
    "colab": {
     "base_uri": "https://localhost:8080/"
    },
    "executionInfo": {
     "elapsed": 740,
     "status": "ok",
     "timestamp": 1611476308040,
     "user": {
      "displayName": "박동규",
      "photoUrl": "",
      "userId": "10745738943866733973"
     },
     "user_tz": -540
    },
    "id": "0BjcaIGpUDyv",
    "outputId": "529b48d9-c94c-4b5f-f9e7-7e773a5f81ab"
   },
   "outputs": [
    {
     "data": {
      "text/plain": [
       "3649"
      ]
     },
     "execution_count": 10,
     "metadata": {},
     "output_type": "execute_result"
    }
   ],
   "source": [
    "df['최대 풍속(m/s)'].count()"
   ]
  },
  {
   "cell_type": "code",
   "execution_count": 11,
   "metadata": {
    "colab": {
     "base_uri": "https://localhost:8080/"
    },
    "executionInfo": {
     "elapsed": 720,
     "status": "ok",
     "timestamp": 1611476322113,
     "user": {
      "displayName": "박동규",
      "photoUrl": "",
      "userId": "10745738943866733973"
     },
     "user_tz": -540
    },
    "id": "eABB_zzgUGBN",
    "outputId": "0cc632d8-8f8f-49b5-cb3d-7e2b256a4995"
   },
   "outputs": [
    {
     "data": {
      "text/plain": [
       "최대 풍속(m/s)    3649\n",
       "평균 풍속(m/s)    3647\n",
       "dtype: int64"
      ]
     },
     "execution_count": 11,
     "metadata": {},
     "output_type": "execute_result"
    }
   ],
   "source": [
    "df[['최대 풍속(m/s)','평균 풍속(m/s)']].count()"
   ]
  },
  {
   "cell_type": "code",
   "execution_count": 12,
   "metadata": {
    "colab": {
     "base_uri": "https://localhost:8080/",
     "height": 164
    },
    "executionInfo": {
     "elapsed": 850,
     "status": "error",
     "timestamp": 1600417468504,
     "user": {
      "displayName": "김은지",
      "photoUrl": "",
      "userId": "05656241690824715190"
     },
     "user_tz": -540
    },
    "id": "RM7bsMgIUHTs",
    "outputId": "44b4cc7c-b51c-4c49-ce4d-d7383714f84a"
   },
   "outputs": [
    {
     "data": {
      "text/plain": [
       "평균기온(°C)      12.942102\n",
       "최대 풍속(m/s)     7.911099\n",
       "평균 풍속(m/s)     3.936441\n",
       "dtype: float64"
      ]
     },
     "execution_count": 12,
     "metadata": {},
     "output_type": "execute_result"
    },
    {
     "data": {
      "text/plain": [
       "최대 풍속(m/s)    7.911099\n",
       "평균 풍속(m/s)    3.936441\n",
       "dtype: float64"
      ]
     },
     "execution_count": 12,
     "metadata": {},
     "output_type": "execute_result"
    }
   ],
   "source": [
    "df.mean()\n",
    "df[['최대 풍속(m/s)','평균 풍속(m/s)']].mean()"
   ]
  },
  {
   "cell_type": "code",
   "execution_count": 13,
   "metadata": {
    "colab": {
     "base_uri": "https://localhost:8080/",
     "height": 164
    },
    "executionInfo": {
     "elapsed": 880,
     "status": "error",
     "timestamp": 1600417476373,
     "user": {
      "displayName": "김은지",
      "photoUrl": "",
      "userId": "05656241690824715190"
     },
     "user_tz": -540
    },
    "id": "F_41nZXFUIzY",
    "outputId": "219db57b-d790-4f49-98e3-b96b16f13247"
   },
   "outputs": [
    {
     "data": {
      "text/plain": [
       "평균기온(°C)      12.942102\n",
       "최대 풍속(m/s)     7.911099\n",
       "평균 풍속(m/s)     3.936441\n",
       "dtype: float64"
      ]
     },
     "execution_count": 13,
     "metadata": {},
     "output_type": "execute_result"
    },
    {
     "data": {
      "text/plain": [
       "최대 풍속(m/s)    7.911099\n",
       "평균 풍속(m/s)    3.936441\n",
       "dtype: float64"
      ]
     },
     "execution_count": 13,
     "metadata": {},
     "output_type": "execute_result"
    }
   ],
   "source": [
    "df.mean()\n",
    "df.mean()[['최대 풍속(m/s)','평균 풍속(m/s)']]"
   ]
  },
  {
   "cell_type": "markdown",
   "metadata": {
    "id": "Qm6ettkuULVF"
   },
   "source": [
    "### LAB 12-2 판다스로 울릉도의 바람 세기 분석하기"
   ]
  },
  {
   "cell_type": "markdown",
   "metadata": {},
   "source": [
    "율릉도의 기상 데이터에 기록된 매일의 평균 풍속 데이터 바탕으로  \n",
    "몇 월의 바람이 가장 강한지 분석하자."
   ]
  },
  {
   "cell_type": "code",
   "execution_count": 14,
   "metadata": {
    "colab": {
     "base_uri": "https://localhost:8080/",
     "height": 203
    },
    "executionInfo": {
     "elapsed": 1281,
     "status": "ok",
     "timestamp": 1611557152339,
     "user": {
      "displayName": "박동규",
      "photoUrl": "",
      "userId": "10745738943866733973"
     },
     "user_tz": -540
    },
    "id": "x9vEBF5dUPRu",
    "outputId": "c333864c-f4ba-4366-8969-b94a7ec0399e"
   },
   "outputs": [
    {
     "data": {
      "text/html": [
       "<div>\n",
       "<style scoped>\n",
       "    .dataframe tbody tr th:only-of-type {\n",
       "        vertical-align: middle;\n",
       "    }\n",
       "\n",
       "    .dataframe tbody tr th {\n",
       "        vertical-align: top;\n",
       "    }\n",
       "\n",
       "    .dataframe thead th {\n",
       "        text-align: right;\n",
       "    }\n",
       "</style>\n",
       "<table border=\"1\" class=\"dataframe\">\n",
       "  <thead>\n",
       "    <tr style=\"text-align: right;\">\n",
       "      <th></th>\n",
       "      <th>일시</th>\n",
       "      <th>평균기온(°C)</th>\n",
       "      <th>최대 풍속(m/s)</th>\n",
       "      <th>평균 풍속(m/s)</th>\n",
       "    </tr>\n",
       "  </thead>\n",
       "  <tbody>\n",
       "    <tr>\n",
       "      <th>0</th>\n",
       "      <td>2010-08-01</td>\n",
       "      <td>28.7</td>\n",
       "      <td>8.3</td>\n",
       "      <td>3.4</td>\n",
       "    </tr>\n",
       "    <tr>\n",
       "      <th>1</th>\n",
       "      <td>2010-08-02</td>\n",
       "      <td>25.2</td>\n",
       "      <td>8.7</td>\n",
       "      <td>3.8</td>\n",
       "    </tr>\n",
       "    <tr>\n",
       "      <th>2</th>\n",
       "      <td>2010-08-03</td>\n",
       "      <td>22.1</td>\n",
       "      <td>6.3</td>\n",
       "      <td>2.9</td>\n",
       "    </tr>\n",
       "    <tr>\n",
       "      <th>3</th>\n",
       "      <td>2010-08-04</td>\n",
       "      <td>25.3</td>\n",
       "      <td>6.6</td>\n",
       "      <td>4.2</td>\n",
       "    </tr>\n",
       "    <tr>\n",
       "      <th>4</th>\n",
       "      <td>2010-08-05</td>\n",
       "      <td>27.2</td>\n",
       "      <td>9.1</td>\n",
       "      <td>5.6</td>\n",
       "    </tr>\n",
       "    <tr>\n",
       "      <th>...</th>\n",
       "      <td>...</td>\n",
       "      <td>...</td>\n",
       "      <td>...</td>\n",
       "      <td>...</td>\n",
       "    </tr>\n",
       "    <tr>\n",
       "      <th>3648</th>\n",
       "      <td>2020-07-27</td>\n",
       "      <td>22.1</td>\n",
       "      <td>4.2</td>\n",
       "      <td>1.7</td>\n",
       "    </tr>\n",
       "    <tr>\n",
       "      <th>3649</th>\n",
       "      <td>2020-07-28</td>\n",
       "      <td>21.9</td>\n",
       "      <td>4.5</td>\n",
       "      <td>1.6</td>\n",
       "    </tr>\n",
       "    <tr>\n",
       "      <th>3650</th>\n",
       "      <td>2020-07-29</td>\n",
       "      <td>21.6</td>\n",
       "      <td>3.2</td>\n",
       "      <td>1.0</td>\n",
       "    </tr>\n",
       "    <tr>\n",
       "      <th>3651</th>\n",
       "      <td>2020-07-30</td>\n",
       "      <td>22.9</td>\n",
       "      <td>9.7</td>\n",
       "      <td>2.4</td>\n",
       "    </tr>\n",
       "    <tr>\n",
       "      <th>3652</th>\n",
       "      <td>2020-07-31</td>\n",
       "      <td>25.7</td>\n",
       "      <td>4.8</td>\n",
       "      <td>2.5</td>\n",
       "    </tr>\n",
       "  </tbody>\n",
       "</table>\n",
       "<p>3653 rows × 4 columns</p>\n",
       "</div>"
      ],
      "text/plain": [
       "              일시  평균기온(°C)  최대 풍속(m/s)  평균 풍속(m/s)\n",
       "0     2010-08-01      28.7         8.3         3.4\n",
       "1     2010-08-02      25.2         8.7         3.8\n",
       "2     2010-08-03      22.1         6.3         2.9\n",
       "3     2010-08-04      25.3         6.6         4.2\n",
       "4     2010-08-05      27.2         9.1         5.6\n",
       "...          ...       ...         ...         ...\n",
       "3648  2020-07-27      22.1         4.2         1.7\n",
       "3649  2020-07-28      21.9         4.5         1.6\n",
       "3650  2020-07-29      21.6         3.2         1.0\n",
       "3651  2020-07-30      22.9         9.7         2.4\n",
       "3652  2020-07-31      25.7         4.8         2.5\n",
       "\n",
       "[3653 rows x 4 columns]"
      ]
     },
     "execution_count": 14,
     "metadata": {},
     "output_type": "execute_result"
    }
   ],
   "source": [
    "import pandas as pd\n",
    "import matplotlib.pyplot as plt\n",
    "import datetime as dt\n",
    "\n",
    "#weather = pd.read_csv('data/csv/weather.csv', index_col = 0, encoding='CP949') : 일시 -> index 되니 weather['일시']에 오류\n",
    "weather = pd.read_csv('data/csv/weather.csv', encoding='CP949')\n",
    "\n",
    "monthly = [ 0 for x in range(12) ]    # 달별로 구분된 12개의 데이터\n",
    "monthly_wind = [ 0 for x in range(12) ]  # 각 달의 평균 풍속을 담을 리스트\n",
    "\n",
    "weather"
   ]
  },
  {
   "cell_type": "code",
   "execution_count": 5,
   "metadata": {},
   "outputs": [
    {
     "data": {
      "text/plain": [
       "0       2010-08-01\n",
       "1       2010-08-02\n",
       "2       2010-08-03\n",
       "3       2010-08-04\n",
       "4       2010-08-05\n",
       "           ...    \n",
       "3648    2020-07-27\n",
       "3649    2020-07-28\n",
       "3650    2020-07-29\n",
       "3651    2020-07-30\n",
       "3652    2020-07-31\n",
       "Name: 일시, Length: 3653, dtype: object"
      ]
     },
     "execution_count": 5,
     "metadata": {},
     "output_type": "execute_result"
    }
   ],
   "source": [
    "weather['일시']"
   ]
  },
  {
   "cell_type": "code",
   "execution_count": 35,
   "metadata": {},
   "outputs": [
    {
     "data": {
      "text/plain": [
       "DatetimeIndex(['2010-08-01', '2010-08-02', '2010-08-03', '2010-08-04',\n",
       "               '2010-08-05', '2010-08-06', '2010-08-07', '2010-08-08',\n",
       "               '2010-08-09', '2010-08-10',\n",
       "               ...\n",
       "               '2020-07-22', '2020-07-23', '2020-07-24', '2020-07-25',\n",
       "               '2020-07-26', '2020-07-27', '2020-07-28', '2020-07-29',\n",
       "               '2020-07-30', '2020-07-31'],\n",
       "              dtype='datetime64[ns]', name='일시', length=3653, freq=None)"
      ]
     },
     "execution_count": 35,
     "metadata": {},
     "output_type": "execute_result"
    },
    {
     "data": {
      "text/plain": [
       "Int64Index([2010, 2010, 2010, 2010, 2010, 2010, 2010, 2010, 2010, 2010,\n",
       "            ...\n",
       "            2020, 2020, 2020, 2020, 2020, 2020, 2020, 2020, 2020, 2020],\n",
       "           dtype='int64', name='일시', length=3653)"
      ]
     },
     "execution_count": 35,
     "metadata": {},
     "output_type": "execute_result"
    },
    {
     "data": {
      "text/plain": [
       "Int64Index([8, 8, 8, 8, 8, 8, 8, 8, 8, 8,\n",
       "            ...\n",
       "            7, 7, 7, 7, 7, 7, 7, 7, 7, 7],\n",
       "           dtype='int64', name='일시', length=3653)"
      ]
     },
     "execution_count": 35,
     "metadata": {},
     "output_type": "execute_result"
    },
    {
     "data": {
      "text/plain": [
       "Int64Index([ 1,  2,  3,  4,  5,  6,  7,  8,  9, 10,\n",
       "            ...\n",
       "            22, 23, 24, 25, 26, 27, 28, 29, 30, 31],\n",
       "           dtype='int64', name='일시', length=3653)"
      ]
     },
     "execution_count": 35,
     "metadata": {},
     "output_type": "execute_result"
    }
   ],
   "source": [
    "# 일시 체크\n",
    "pd.DatetimeIndex(weather['일시'])\n",
    "\n",
    "pd.DatetimeIndex(weather['일시']).year\n",
    "pd.DatetimeIndex(weather['일시']).month\n",
    "pd.DatetimeIndex(weather['일시']).day"
   ]
  },
  {
   "cell_type": "code",
   "execution_count": 37,
   "metadata": {},
   "outputs": [
    {
     "data": {
      "text/html": [
       "<div>\n",
       "<style scoped>\n",
       "    .dataframe tbody tr th:only-of-type {\n",
       "        vertical-align: middle;\n",
       "    }\n",
       "\n",
       "    .dataframe tbody tr th {\n",
       "        vertical-align: top;\n",
       "    }\n",
       "\n",
       "    .dataframe thead th {\n",
       "        text-align: right;\n",
       "    }\n",
       "</style>\n",
       "<table border=\"1\" class=\"dataframe\">\n",
       "  <thead>\n",
       "    <tr style=\"text-align: right;\">\n",
       "      <th></th>\n",
       "      <th>일시</th>\n",
       "      <th>평균기온(°C)</th>\n",
       "      <th>최대 풍속(m/s)</th>\n",
       "      <th>평균 풍속(m/s)</th>\n",
       "      <th>month</th>\n",
       "    </tr>\n",
       "  </thead>\n",
       "  <tbody>\n",
       "    <tr>\n",
       "      <th>0</th>\n",
       "      <td>2010-08-01</td>\n",
       "      <td>28.7</td>\n",
       "      <td>8.3</td>\n",
       "      <td>3.4</td>\n",
       "      <td>8</td>\n",
       "    </tr>\n",
       "    <tr>\n",
       "      <th>1</th>\n",
       "      <td>2010-08-02</td>\n",
       "      <td>25.2</td>\n",
       "      <td>8.7</td>\n",
       "      <td>3.8</td>\n",
       "      <td>8</td>\n",
       "    </tr>\n",
       "    <tr>\n",
       "      <th>2</th>\n",
       "      <td>2010-08-03</td>\n",
       "      <td>22.1</td>\n",
       "      <td>6.3</td>\n",
       "      <td>2.9</td>\n",
       "      <td>8</td>\n",
       "    </tr>\n",
       "    <tr>\n",
       "      <th>3</th>\n",
       "      <td>2010-08-04</td>\n",
       "      <td>25.3</td>\n",
       "      <td>6.6</td>\n",
       "      <td>4.2</td>\n",
       "      <td>8</td>\n",
       "    </tr>\n",
       "    <tr>\n",
       "      <th>4</th>\n",
       "      <td>2010-08-05</td>\n",
       "      <td>27.2</td>\n",
       "      <td>9.1</td>\n",
       "      <td>5.6</td>\n",
       "      <td>8</td>\n",
       "    </tr>\n",
       "    <tr>\n",
       "      <th>...</th>\n",
       "      <td>...</td>\n",
       "      <td>...</td>\n",
       "      <td>...</td>\n",
       "      <td>...</td>\n",
       "      <td>...</td>\n",
       "    </tr>\n",
       "    <tr>\n",
       "      <th>3648</th>\n",
       "      <td>2020-07-27</td>\n",
       "      <td>22.1</td>\n",
       "      <td>4.2</td>\n",
       "      <td>1.7</td>\n",
       "      <td>7</td>\n",
       "    </tr>\n",
       "    <tr>\n",
       "      <th>3649</th>\n",
       "      <td>2020-07-28</td>\n",
       "      <td>21.9</td>\n",
       "      <td>4.5</td>\n",
       "      <td>1.6</td>\n",
       "      <td>7</td>\n",
       "    </tr>\n",
       "    <tr>\n",
       "      <th>3650</th>\n",
       "      <td>2020-07-29</td>\n",
       "      <td>21.6</td>\n",
       "      <td>3.2</td>\n",
       "      <td>1.0</td>\n",
       "      <td>7</td>\n",
       "    </tr>\n",
       "    <tr>\n",
       "      <th>3651</th>\n",
       "      <td>2020-07-30</td>\n",
       "      <td>22.9</td>\n",
       "      <td>9.7</td>\n",
       "      <td>2.4</td>\n",
       "      <td>7</td>\n",
       "    </tr>\n",
       "    <tr>\n",
       "      <th>3652</th>\n",
       "      <td>2020-07-31</td>\n",
       "      <td>25.7</td>\n",
       "      <td>4.8</td>\n",
       "      <td>2.5</td>\n",
       "      <td>7</td>\n",
       "    </tr>\n",
       "  </tbody>\n",
       "</table>\n",
       "<p>3653 rows × 5 columns</p>\n",
       "</div>"
      ],
      "text/plain": [
       "              일시  평균기온(°C)  최대 풍속(m/s)  평균 풍속(m/s)  month\n",
       "0     2010-08-01      28.7         8.3         3.4      8\n",
       "1     2010-08-02      25.2         8.7         3.8      8\n",
       "2     2010-08-03      22.1         6.3         2.9      8\n",
       "3     2010-08-04      25.3         6.6         4.2      8\n",
       "4     2010-08-05      27.2         9.1         5.6      8\n",
       "...          ...       ...         ...         ...    ...\n",
       "3648  2020-07-27      22.1         4.2         1.7      7\n",
       "3649  2020-07-28      21.9         4.5         1.6      7\n",
       "3650  2020-07-29      21.6         3.2         1.0      7\n",
       "3651  2020-07-30      22.9         9.7         2.4      7\n",
       "3652  2020-07-31      25.7         4.8         2.5      7\n",
       "\n",
       "[3653 rows x 5 columns]"
      ]
     },
     "execution_count": 37,
     "metadata": {},
     "output_type": "execute_result"
    }
   ],
   "source": [
    "weather['month'] = pd.DatetimeIndex(weather['일시']).month\n",
    "weather"
   ]
  },
  {
   "cell_type": "code",
   "execution_count": 38,
   "metadata": {
    "colab": {
     "base_uri": "https://localhost:8080/"
    },
    "executionInfo": {
     "elapsed": 656,
     "status": "ok",
     "timestamp": 1611557352132,
     "user": {
      "displayName": "박동규",
      "photoUrl": "",
      "userId": "10745738943866733973"
     },
     "user_tz": -540
    },
    "id": "QewMdLpRkdyD",
    "outputId": "03f209b6-5359-4b18-f55c-04fb8732960c"
   },
   "outputs": [
    {
     "data": {
      "text/html": [
       "<div>\n",
       "<style scoped>\n",
       "    .dataframe tbody tr th:only-of-type {\n",
       "        vertical-align: middle;\n",
       "    }\n",
       "\n",
       "    .dataframe tbody tr th {\n",
       "        vertical-align: top;\n",
       "    }\n",
       "\n",
       "    .dataframe thead th {\n",
       "        text-align: right;\n",
       "    }\n",
       "</style>\n",
       "<table border=\"1\" class=\"dataframe\">\n",
       "  <thead>\n",
       "    <tr style=\"text-align: right;\">\n",
       "      <th></th>\n",
       "      <th>일시</th>\n",
       "      <th>평균기온(°C)</th>\n",
       "      <th>최대 풍속(m/s)</th>\n",
       "      <th>평균 풍속(m/s)</th>\n",
       "      <th>month</th>\n",
       "    </tr>\n",
       "  </thead>\n",
       "  <tbody>\n",
       "    <tr>\n",
       "      <th>153</th>\n",
       "      <td>2011-01-01</td>\n",
       "      <td>0.8</td>\n",
       "      <td>19.0</td>\n",
       "      <td>11.1</td>\n",
       "      <td>1</td>\n",
       "    </tr>\n",
       "    <tr>\n",
       "      <th>154</th>\n",
       "      <td>2011-01-02</td>\n",
       "      <td>0.1</td>\n",
       "      <td>8.5</td>\n",
       "      <td>6.0</td>\n",
       "      <td>1</td>\n",
       "    </tr>\n",
       "    <tr>\n",
       "      <th>155</th>\n",
       "      <td>2011-01-03</td>\n",
       "      <td>-0.3</td>\n",
       "      <td>10.2</td>\n",
       "      <td>6.5</td>\n",
       "      <td>1</td>\n",
       "    </tr>\n",
       "    <tr>\n",
       "      <th>156</th>\n",
       "      <td>2011-01-04</td>\n",
       "      <td>1.7</td>\n",
       "      <td>6.8</td>\n",
       "      <td>3.1</td>\n",
       "      <td>1</td>\n",
       "    </tr>\n",
       "    <tr>\n",
       "      <th>157</th>\n",
       "      <td>2011-01-05</td>\n",
       "      <td>1.2</td>\n",
       "      <td>6.9</td>\n",
       "      <td>4.1</td>\n",
       "      <td>1</td>\n",
       "    </tr>\n",
       "    <tr>\n",
       "      <th>...</th>\n",
       "      <td>...</td>\n",
       "      <td>...</td>\n",
       "      <td>...</td>\n",
       "      <td>...</td>\n",
       "      <td>...</td>\n",
       "    </tr>\n",
       "    <tr>\n",
       "      <th>3466</th>\n",
       "      <td>2020-01-27</td>\n",
       "      <td>5.4</td>\n",
       "      <td>15.3</td>\n",
       "      <td>7.6</td>\n",
       "      <td>1</td>\n",
       "    </tr>\n",
       "    <tr>\n",
       "      <th>3467</th>\n",
       "      <td>2020-01-28</td>\n",
       "      <td>5.7</td>\n",
       "      <td>14.9</td>\n",
       "      <td>11.6</td>\n",
       "      <td>1</td>\n",
       "    </tr>\n",
       "    <tr>\n",
       "      <th>3468</th>\n",
       "      <td>2020-01-29</td>\n",
       "      <td>4.1</td>\n",
       "      <td>9.0</td>\n",
       "      <td>6.6</td>\n",
       "      <td>1</td>\n",
       "    </tr>\n",
       "    <tr>\n",
       "      <th>3469</th>\n",
       "      <td>2020-01-30</td>\n",
       "      <td>1.8</td>\n",
       "      <td>10.2</td>\n",
       "      <td>7.7</td>\n",
       "      <td>1</td>\n",
       "    </tr>\n",
       "    <tr>\n",
       "      <th>3470</th>\n",
       "      <td>2020-01-31</td>\n",
       "      <td>1.9</td>\n",
       "      <td>10.2</td>\n",
       "      <td>5.3</td>\n",
       "      <td>1</td>\n",
       "    </tr>\n",
       "  </tbody>\n",
       "</table>\n",
       "<p>310 rows × 5 columns</p>\n",
       "</div>"
      ],
      "text/plain": [
       "              일시  평균기온(°C)  최대 풍속(m/s)  평균 풍속(m/s)  month\n",
       "153   2011-01-01       0.8        19.0        11.1      1\n",
       "154   2011-01-02       0.1         8.5         6.0      1\n",
       "155   2011-01-03      -0.3        10.2         6.5      1\n",
       "156   2011-01-04       1.7         6.8         3.1      1\n",
       "157   2011-01-05       1.2         6.9         4.1      1\n",
       "...          ...       ...         ...         ...    ...\n",
       "3466  2020-01-27       5.4        15.3         7.6      1\n",
       "3467  2020-01-28       5.7        14.9        11.6      1\n",
       "3468  2020-01-29       4.1         9.0         6.6      1\n",
       "3469  2020-01-30       1.8        10.2         7.7      1\n",
       "3470  2020-01-31       1.9        10.2         5.3      1\n",
       "\n",
       "[310 rows x 5 columns]"
      ]
     },
     "execution_count": 38,
     "metadata": {},
     "output_type": "execute_result"
    },
    {
     "data": {
      "text/plain": [
       "3.7574193548387096"
      ]
     },
     "execution_count": 38,
     "metadata": {},
     "output_type": "execute_result"
    }
   ],
   "source": [
    "weather[ weather['month'] == 1 ]\n",
    "monthly[0] = weather[ weather['month'] == 1 ] # 1월달 분리\n",
    "monthly[0]['평균 풍속(m/s)'].mean()\n",
    "#monthly[0].mean()['평균 풍속(m/s)']"
   ]
  },
  {
   "cell_type": "code",
   "execution_count": 40,
   "metadata": {
    "colab": {
     "base_uri": "https://localhost:8080/"
    },
    "executionInfo": {
     "elapsed": 747,
     "status": "ok",
     "timestamp": 1611478176836,
     "user": {
      "displayName": "박동규",
      "photoUrl": "",
      "userId": "10745738943866733973"
     },
     "user_tz": -540
    },
    "id": "Z0rW4i0zlWPV",
    "outputId": "b4610723-45b2-4a0c-9cca-1b03539c36d9"
   },
   "outputs": [
    {
     "data": {
      "text/plain": [
       "3.946785714285714"
      ]
     },
     "execution_count": 40,
     "metadata": {},
     "output_type": "execute_result"
    }
   ],
   "source": [
    "monthly[1] = weather[ weather['month'] == 2 ] # 2월달 분리\n",
    "#monthly[1].mean()['평균 풍속(m/s)']\n",
    "monthly[1]['평균 풍속(m/s)'].mean()"
   ]
  },
  {
   "cell_type": "code",
   "execution_count": 41,
   "metadata": {
    "colab": {
     "base_uri": "https://localhost:8080/"
    },
    "executionInfo": {
     "elapsed": 733,
     "status": "ok",
     "timestamp": 1611478189862,
     "user": {
      "displayName": "박동규",
      "photoUrl": "",
      "userId": "10745738943866733973"
     },
     "user_tz": -540
    },
    "id": "rqtJrjmYlaFj",
    "outputId": "287e35f7-a1c1-41cb-9501-77231ccf3110"
   },
   "outputs": [
    {
     "data": {
      "text/plain": [
       "4.390291262135922"
      ]
     },
     "execution_count": 41,
     "metadata": {},
     "output_type": "execute_result"
    }
   ],
   "source": [
    "monthly[2] = weather[ weather['month'] == 3 ] # 3월달 분리\n",
    "monthly[2]['평균 풍속(m/s)'].mean()"
   ]
  },
  {
   "cell_type": "code",
   "execution_count": 42,
   "metadata": {
    "colab": {
     "base_uri": "https://localhost:8080/",
     "height": 265
    },
    "executionInfo": {
     "elapsed": 838,
     "status": "ok",
     "timestamp": 1611557410075,
     "user": {
      "displayName": "박동규",
      "photoUrl": "",
      "userId": "10745738943866733973"
     },
     "user_tz": -540
    },
    "id": "HmeHuQSVj5Aw",
    "outputId": "9cc674c9-82a0-45c4-d83b-edbf01640b9a"
   },
   "outputs": [
    {
     "data": {
      "text/plain": [
       "[3.7574193548387096,\n",
       " 3.946785714285714,\n",
       " 4.390291262135922,\n",
       " 4.62248322147651,\n",
       " 4.219354838709678,\n",
       " 3.461,\n",
       " 3.8774193548387097,\n",
       " 3.5961290322580637,\n",
       " 3.6616666666666666,\n",
       " 3.9616129032258067,\n",
       " 3.930666666666666,\n",
       " 3.817096774193548]"
      ]
     },
     "execution_count": 42,
     "metadata": {},
     "output_type": "execute_result"
    }
   ],
   "source": [
    "# 마지막에 해당 행의 데이터가 측정된 달을 기록한 열을 추가\n",
    "weather['month'] = pd.DatetimeIndex(weather['일시']).month\n",
    "\n",
    "for i in range(12):\n",
    "    monthly[i] = weather[ weather['month'] == i+1 ] # 달별로 분리\n",
    "    monthly_wind[i] = monthly[i]['평균 풍속(m/s)'].mean()  # 개별 데이터 분석\n",
    "    \n",
    "monthly_wind"
   ]
  },
  {
   "cell_type": "code",
   "execution_count": 14,
   "metadata": {
    "colab": {
     "base_uri": "https://localhost:8080/"
    },
    "executionInfo": {
     "elapsed": 913,
     "status": "ok",
     "timestamp": 1611476669500,
     "user": {
      "displayName": "박동규",
      "photoUrl": "",
      "userId": "10745738943866733973"
     },
     "user_tz": -540
    },
    "id": "vGHwx8Zlfnx0",
    "outputId": "97c1519b-9503-405e-c18e-57a1da2f55e7"
   },
   "outputs": [
    {
     "data": {
      "text/plain": [
       "[<matplotlib.lines.Line2D at 0x1fbff5ef2b0>]"
      ]
     },
     "execution_count": 14,
     "metadata": {},
     "output_type": "execute_result"
    },
    {
     "data": {
      "image/png": "[encoded data removed]",
      "text/plain": [
       "<Figure size 640x480 with 1 Axes>"
      ]
     },
     "metadata": {},
     "output_type": "display_data"
    }
   ],
   "source": [
    "plt.plot(monthly_wind, 'red')\n",
    "plt.show()"
   ]
  },
  {
   "cell_type": "markdown",
   "metadata": {
    "id": "v5L_tNvwUTG9"
   },
   "source": [
    "### 12.22 데이터 그룹핑"
   ]
  },
  {
   "cell_type": "code",
   "execution_count": 43,
   "metadata": {
    "colab": {
     "base_uri": "https://localhost:8080/",
     "height": 450
    },
    "executionInfo": {
     "elapsed": 614,
     "status": "ok",
     "timestamp": 1611558008200,
     "user": {
      "displayName": "박동규",
      "photoUrl": "",
      "userId": "10745738943866733973"
     },
     "user_tz": -540
    },
    "id": "s4AMWqzyUVtN",
    "outputId": "5a8b7883-34b7-4a53-fed9-79f7591c8b61"
   },
   "outputs": [
    {
     "data": {
      "text/html": [
       "<div>\n",
       "<style scoped>\n",
       "    .dataframe tbody tr th:only-of-type {\n",
       "        vertical-align: middle;\n",
       "    }\n",
       "\n",
       "    .dataframe tbody tr th {\n",
       "        vertical-align: top;\n",
       "    }\n",
       "\n",
       "    .dataframe thead th {\n",
       "        text-align: right;\n",
       "    }\n",
       "</style>\n",
       "<table border=\"1\" class=\"dataframe\">\n",
       "  <thead>\n",
       "    <tr style=\"text-align: right;\">\n",
       "      <th></th>\n",
       "      <th>일시</th>\n",
       "      <th>평균기온(°C)</th>\n",
       "      <th>최대 풍속(m/s)</th>\n",
       "      <th>평균 풍속(m/s)</th>\n",
       "      <th>month</th>\n",
       "    </tr>\n",
       "  </thead>\n",
       "  <tbody>\n",
       "    <tr>\n",
       "      <th>0</th>\n",
       "      <td>2010-08-01</td>\n",
       "      <td>28.7</td>\n",
       "      <td>8.3</td>\n",
       "      <td>3.4</td>\n",
       "      <td>8</td>\n",
       "    </tr>\n",
       "    <tr>\n",
       "      <th>1</th>\n",
       "      <td>2010-08-02</td>\n",
       "      <td>25.2</td>\n",
       "      <td>8.7</td>\n",
       "      <td>3.8</td>\n",
       "      <td>8</td>\n",
       "    </tr>\n",
       "    <tr>\n",
       "      <th>2</th>\n",
       "      <td>2010-08-03</td>\n",
       "      <td>22.1</td>\n",
       "      <td>6.3</td>\n",
       "      <td>2.9</td>\n",
       "      <td>8</td>\n",
       "    </tr>\n",
       "    <tr>\n",
       "      <th>3</th>\n",
       "      <td>2010-08-04</td>\n",
       "      <td>25.3</td>\n",
       "      <td>6.6</td>\n",
       "      <td>4.2</td>\n",
       "      <td>8</td>\n",
       "    </tr>\n",
       "    <tr>\n",
       "      <th>4</th>\n",
       "      <td>2010-08-05</td>\n",
       "      <td>27.2</td>\n",
       "      <td>9.1</td>\n",
       "      <td>5.6</td>\n",
       "      <td>8</td>\n",
       "    </tr>\n",
       "  </tbody>\n",
       "</table>\n",
       "</div>"
      ],
      "text/plain": [
       "           일시  평균기온(°C)  최대 풍속(m/s)  평균 풍속(m/s)  month\n",
       "0  2010-08-01      28.7         8.3         3.4      8\n",
       "1  2010-08-02      25.2         8.7         3.8      8\n",
       "2  2010-08-03      22.1         6.3         2.9      8\n",
       "3  2010-08-04      25.3         6.6         4.2      8\n",
       "4  2010-08-05      27.2         9.1         5.6      8"
      ]
     },
     "execution_count": 43,
     "metadata": {},
     "output_type": "execute_result"
    }
   ],
   "source": [
    "weather = pd.read_csv('data/csv/weather.csv', encoding='CP949')\n",
    "\n",
    "weather['month'] = pd.DatetimeIndex(weather['일시']).month\n",
    "weather.head()"
   ]
  },
  {
   "cell_type": "code",
   "execution_count": 44,
   "metadata": {},
   "outputs": [
    {
     "data": {
      "text/html": [
       "<div>\n",
       "<style scoped>\n",
       "    .dataframe tbody tr th:only-of-type {\n",
       "        vertical-align: middle;\n",
       "    }\n",
       "\n",
       "    .dataframe tbody tr th {\n",
       "        vertical-align: top;\n",
       "    }\n",
       "\n",
       "    .dataframe thead th {\n",
       "        text-align: right;\n",
       "    }\n",
       "</style>\n",
       "<table border=\"1\" class=\"dataframe\">\n",
       "  <thead>\n",
       "    <tr style=\"text-align: right;\">\n",
       "      <th></th>\n",
       "      <th>평균기온(°C)</th>\n",
       "      <th>최대 풍속(m/s)</th>\n",
       "      <th>평균 풍속(m/s)</th>\n",
       "    </tr>\n",
       "    <tr>\n",
       "      <th>month</th>\n",
       "      <th></th>\n",
       "      <th></th>\n",
       "      <th></th>\n",
       "    </tr>\n",
       "  </thead>\n",
       "  <tbody>\n",
       "    <tr>\n",
       "      <th>1</th>\n",
       "      <td>1.598387</td>\n",
       "      <td>8.158065</td>\n",
       "      <td>3.757419</td>\n",
       "    </tr>\n",
       "    <tr>\n",
       "      <th>2</th>\n",
       "      <td>2.136396</td>\n",
       "      <td>8.225357</td>\n",
       "      <td>3.946786</td>\n",
       "    </tr>\n",
       "    <tr>\n",
       "      <th>3</th>\n",
       "      <td>6.250323</td>\n",
       "      <td>8.871935</td>\n",
       "      <td>4.390291</td>\n",
       "    </tr>\n",
       "    <tr>\n",
       "      <th>4</th>\n",
       "      <td>11.064667</td>\n",
       "      <td>9.305017</td>\n",
       "      <td>4.622483</td>\n",
       "    </tr>\n",
       "    <tr>\n",
       "      <th>5</th>\n",
       "      <td>16.564194</td>\n",
       "      <td>8.548710</td>\n",
       "      <td>4.219355</td>\n",
       "    </tr>\n",
       "    <tr>\n",
       "      <th>6</th>\n",
       "      <td>19.616667</td>\n",
       "      <td>6.945667</td>\n",
       "      <td>3.461000</td>\n",
       "    </tr>\n",
       "    <tr>\n",
       "      <th>7</th>\n",
       "      <td>23.328387</td>\n",
       "      <td>7.322581</td>\n",
       "      <td>3.877419</td>\n",
       "    </tr>\n",
       "    <tr>\n",
       "      <th>8</th>\n",
       "      <td>24.748710</td>\n",
       "      <td>6.853226</td>\n",
       "      <td>3.596129</td>\n",
       "    </tr>\n",
       "    <tr>\n",
       "      <th>9</th>\n",
       "      <td>20.323667</td>\n",
       "      <td>6.896333</td>\n",
       "      <td>3.661667</td>\n",
       "    </tr>\n",
       "    <tr>\n",
       "      <th>10</th>\n",
       "      <td>15.383871</td>\n",
       "      <td>7.766774</td>\n",
       "      <td>3.961613</td>\n",
       "    </tr>\n",
       "    <tr>\n",
       "      <th>11</th>\n",
       "      <td>9.889667</td>\n",
       "      <td>8.013333</td>\n",
       "      <td>3.930667</td>\n",
       "    </tr>\n",
       "    <tr>\n",
       "      <th>12</th>\n",
       "      <td>3.753548</td>\n",
       "      <td>8.045484</td>\n",
       "      <td>3.817097</td>\n",
       "    </tr>\n",
       "  </tbody>\n",
       "</table>\n",
       "</div>"
      ],
      "text/plain": [
       "        평균기온(°C)  최대 풍속(m/s)  평균 풍속(m/s)\n",
       "month                                   \n",
       "1       1.598387    8.158065    3.757419\n",
       "2       2.136396    8.225357    3.946786\n",
       "3       6.250323    8.871935    4.390291\n",
       "4      11.064667    9.305017    4.622483\n",
       "5      16.564194    8.548710    4.219355\n",
       "6      19.616667    6.945667    3.461000\n",
       "7      23.328387    7.322581    3.877419\n",
       "8      24.748710    6.853226    3.596129\n",
       "9      20.323667    6.896333    3.661667\n",
       "10     15.383871    7.766774    3.961613\n",
       "11      9.889667    8.013333    3.930667\n",
       "12      3.753548    8.045484    3.817097"
      ]
     },
     "execution_count": 44,
     "metadata": {},
     "output_type": "execute_result"
    }
   ],
   "source": [
    "#means = weather.groupby('month').mean()\n",
    "means = weather.groupby('month').mean(numeric_only=True)\n",
    "means"
   ]
  },
  {
   "cell_type": "code",
   "execution_count": 17,
   "metadata": {
    "colab": {
     "base_uri": "https://localhost:8080/"
    },
    "executionInfo": {
     "elapsed": 614,
     "status": "ok",
     "timestamp": 1611558025666,
     "user": {
      "displayName": "박동규",
      "photoUrl": "",
      "userId": "10745738943866733973"
     },
     "user_tz": -540
    },
    "id": "6vxF4cA-UXdT",
    "outputId": "33c889e7-47c6-4c9d-de87-820c16aeefd7"
   },
   "outputs": [
    {
     "data": {
      "text/html": [
       "<div>\n",
       "<style scoped>\n",
       "    .dataframe tbody tr th:only-of-type {\n",
       "        vertical-align: middle;\n",
       "    }\n",
       "\n",
       "    .dataframe tbody tr th {\n",
       "        vertical-align: top;\n",
       "    }\n",
       "\n",
       "    .dataframe thead th {\n",
       "        text-align: right;\n",
       "    }\n",
       "</style>\n",
       "<table border=\"1\" class=\"dataframe\">\n",
       "  <thead>\n",
       "    <tr style=\"text-align: right;\">\n",
       "      <th></th>\n",
       "      <th>평균기온(°C)</th>\n",
       "      <th>최대 풍속(m/s)</th>\n",
       "      <th>평균 풍속(m/s)</th>\n",
       "    </tr>\n",
       "    <tr>\n",
       "      <th>month</th>\n",
       "      <th></th>\n",
       "      <th></th>\n",
       "      <th></th>\n",
       "    </tr>\n",
       "  </thead>\n",
       "  <tbody>\n",
       "    <tr>\n",
       "      <th>1</th>\n",
       "      <td>495.5</td>\n",
       "      <td>2529.0</td>\n",
       "      <td>1164.8</td>\n",
       "    </tr>\n",
       "    <tr>\n",
       "      <th>2</th>\n",
       "      <td>604.6</td>\n",
       "      <td>2303.1</td>\n",
       "      <td>1105.1</td>\n",
       "    </tr>\n",
       "    <tr>\n",
       "      <th>3</th>\n",
       "      <td>1937.6</td>\n",
       "      <td>2750.3</td>\n",
       "      <td>1356.6</td>\n",
       "    </tr>\n",
       "    <tr>\n",
       "      <th>4</th>\n",
       "      <td>3319.4</td>\n",
       "      <td>2782.2</td>\n",
       "      <td>1377.5</td>\n",
       "    </tr>\n",
       "    <tr>\n",
       "      <th>5</th>\n",
       "      <td>5134.9</td>\n",
       "      <td>2650.1</td>\n",
       "      <td>1308.0</td>\n",
       "    </tr>\n",
       "    <tr>\n",
       "      <th>6</th>\n",
       "      <td>5885.0</td>\n",
       "      <td>2083.7</td>\n",
       "      <td>1038.3</td>\n",
       "    </tr>\n",
       "    <tr>\n",
       "      <th>7</th>\n",
       "      <td>7231.8</td>\n",
       "      <td>2270.0</td>\n",
       "      <td>1202.0</td>\n",
       "    </tr>\n",
       "    <tr>\n",
       "      <th>8</th>\n",
       "      <td>7672.1</td>\n",
       "      <td>2124.5</td>\n",
       "      <td>1114.8</td>\n",
       "    </tr>\n",
       "    <tr>\n",
       "      <th>9</th>\n",
       "      <td>6097.1</td>\n",
       "      <td>2068.9</td>\n",
       "      <td>1098.5</td>\n",
       "    </tr>\n",
       "    <tr>\n",
       "      <th>10</th>\n",
       "      <td>4769.0</td>\n",
       "      <td>2407.7</td>\n",
       "      <td>1228.1</td>\n",
       "    </tr>\n",
       "    <tr>\n",
       "      <th>11</th>\n",
       "      <td>2966.9</td>\n",
       "      <td>2404.0</td>\n",
       "      <td>1179.2</td>\n",
       "    </tr>\n",
       "    <tr>\n",
       "      <th>12</th>\n",
       "      <td>1163.6</td>\n",
       "      <td>2494.1</td>\n",
       "      <td>1183.3</td>\n",
       "    </tr>\n",
       "  </tbody>\n",
       "</table>\n",
       "</div>"
      ],
      "text/plain": [
       "       평균기온(°C)  최대 풍속(m/s)  평균 풍속(m/s)\n",
       "month                                  \n",
       "1         495.5      2529.0      1164.8\n",
       "2         604.6      2303.1      1105.1\n",
       "3        1937.6      2750.3      1356.6\n",
       "4        3319.4      2782.2      1377.5\n",
       "5        5134.9      2650.1      1308.0\n",
       "6        5885.0      2083.7      1038.3\n",
       "7        7231.8      2270.0      1202.0\n",
       "8        7672.1      2124.5      1114.8\n",
       "9        6097.1      2068.9      1098.5\n",
       "10       4769.0      2407.7      1228.1\n",
       "11       2966.9      2404.0      1179.2\n",
       "12       1163.6      2494.1      1183.3"
      ]
     },
     "execution_count": 17,
     "metadata": {},
     "output_type": "execute_result"
    }
   ],
   "source": [
    "sum_data = weather.groupby('month').sum(numeric_only=True)\n",
    "sum_data"
   ]
  },
  {
   "cell_type": "markdown",
   "metadata": {
    "id": "7Uie9hrSUgq3"
   },
   "source": [
    "### LAB 12-2 울릉도는 몇 월에 바람이 가장 강할까? - groupby 사용하기"
   ]
  },
  {
   "cell_type": "code",
   "execution_count": 54,
   "metadata": {
    "colab": {
     "base_uri": "https://localhost:8080/",
     "height": 279
    },
    "executionInfo": {
     "elapsed": 954,
     "status": "ok",
     "timestamp": 1611558052135,
     "user": {
      "displayName": "박동규",
      "photoUrl": "",
      "userId": "10745738943866733973"
     },
     "user_tz": -540
    },
    "id": "pbixckjOUZzx",
    "outputId": "da78a9c2-54a7-45d7-a8b8-e2984be60fdd"
   },
   "outputs": [
    {
     "data": {
      "text/html": [
       "<div>\n",
       "<style scoped>\n",
       "    .dataframe tbody tr th:only-of-type {\n",
       "        vertical-align: middle;\n",
       "    }\n",
       "\n",
       "    .dataframe tbody tr th {\n",
       "        vertical-align: top;\n",
       "    }\n",
       "\n",
       "    .dataframe thead th {\n",
       "        text-align: right;\n",
       "    }\n",
       "</style>\n",
       "<table border=\"1\" class=\"dataframe\">\n",
       "  <thead>\n",
       "    <tr style=\"text-align: right;\">\n",
       "      <th></th>\n",
       "      <th>평균기온(°C)</th>\n",
       "      <th>최대 풍속(m/s)</th>\n",
       "      <th>평균 풍속(m/s)</th>\n",
       "    </tr>\n",
       "    <tr>\n",
       "      <th>month</th>\n",
       "      <th></th>\n",
       "      <th></th>\n",
       "      <th></th>\n",
       "    </tr>\n",
       "  </thead>\n",
       "  <tbody>\n",
       "    <tr>\n",
       "      <th>1</th>\n",
       "      <td>1.598387</td>\n",
       "      <td>8.158065</td>\n",
       "      <td>3.757419</td>\n",
       "    </tr>\n",
       "    <tr>\n",
       "      <th>2</th>\n",
       "      <td>2.136396</td>\n",
       "      <td>8.225357</td>\n",
       "      <td>3.946786</td>\n",
       "    </tr>\n",
       "    <tr>\n",
       "      <th>3</th>\n",
       "      <td>6.250323</td>\n",
       "      <td>8.871935</td>\n",
       "      <td>4.390291</td>\n",
       "    </tr>\n",
       "    <tr>\n",
       "      <th>4</th>\n",
       "      <td>11.064667</td>\n",
       "      <td>9.305017</td>\n",
       "      <td>4.622483</td>\n",
       "    </tr>\n",
       "    <tr>\n",
       "      <th>5</th>\n",
       "      <td>16.564194</td>\n",
       "      <td>8.548710</td>\n",
       "      <td>4.219355</td>\n",
       "    </tr>\n",
       "    <tr>\n",
       "      <th>6</th>\n",
       "      <td>19.616667</td>\n",
       "      <td>6.945667</td>\n",
       "      <td>3.461000</td>\n",
       "    </tr>\n",
       "    <tr>\n",
       "      <th>7</th>\n",
       "      <td>23.328387</td>\n",
       "      <td>7.322581</td>\n",
       "      <td>3.877419</td>\n",
       "    </tr>\n",
       "    <tr>\n",
       "      <th>8</th>\n",
       "      <td>24.748710</td>\n",
       "      <td>6.853226</td>\n",
       "      <td>3.596129</td>\n",
       "    </tr>\n",
       "    <tr>\n",
       "      <th>9</th>\n",
       "      <td>20.323667</td>\n",
       "      <td>6.896333</td>\n",
       "      <td>3.661667</td>\n",
       "    </tr>\n",
       "    <tr>\n",
       "      <th>10</th>\n",
       "      <td>15.383871</td>\n",
       "      <td>7.766774</td>\n",
       "      <td>3.961613</td>\n",
       "    </tr>\n",
       "    <tr>\n",
       "      <th>11</th>\n",
       "      <td>9.889667</td>\n",
       "      <td>8.013333</td>\n",
       "      <td>3.930667</td>\n",
       "    </tr>\n",
       "    <tr>\n",
       "      <th>12</th>\n",
       "      <td>3.753548</td>\n",
       "      <td>8.045484</td>\n",
       "      <td>3.817097</td>\n",
       "    </tr>\n",
       "  </tbody>\n",
       "</table>\n",
       "</div>"
      ],
      "text/plain": [
       "        평균기온(°C)  최대 풍속(m/s)  평균 풍속(m/s)\n",
       "month                                   \n",
       "1       1.598387    8.158065    3.757419\n",
       "2       2.136396    8.225357    3.946786\n",
       "3       6.250323    8.871935    4.390291\n",
       "4      11.064667    9.305017    4.622483\n",
       "5      16.564194    8.548710    4.219355\n",
       "6      19.616667    6.945667    3.461000\n",
       "7      23.328387    7.322581    3.877419\n",
       "8      24.748710    6.853226    3.596129\n",
       "9      20.323667    6.896333    3.661667\n",
       "10     15.383871    7.766774    3.961613\n",
       "11      9.889667    8.013333    3.930667\n",
       "12      3.753548    8.045484    3.817097"
      ]
     },
     "execution_count": 54,
     "metadata": {},
     "output_type": "execute_result"
    }
   ],
   "source": [
    "import pandas as pd\n",
    "import matplotlib.pyplot as plt\n",
    "import datetime as dt\n",
    "\n",
    "weather = pd.read_csv('data/csv/weather.csv', encoding='CP949')\n",
    "\n",
    "weather['month'] = pd.DatetimeIndex(weather['일시']).month\n",
    "means = weather.groupby('month').mean(numeric_only=True)\n",
    "means"
   ]
  },
  {
   "cell_type": "code",
   "execution_count": 45,
   "metadata": {},
   "outputs": [
    {
     "data": {
      "text/html": [
       "<div>\n",
       "<style scoped>\n",
       "    .dataframe tbody tr th:only-of-type {\n",
       "        vertical-align: middle;\n",
       "    }\n",
       "\n",
       "    .dataframe tbody tr th {\n",
       "        vertical-align: top;\n",
       "    }\n",
       "\n",
       "    .dataframe thead th {\n",
       "        text-align: right;\n",
       "    }\n",
       "</style>\n",
       "<table border=\"1\" class=\"dataframe\">\n",
       "  <thead>\n",
       "    <tr style=\"text-align: right;\">\n",
       "      <th></th>\n",
       "      <th>평균기온(°C)</th>\n",
       "      <th>최대 풍속(m/s)</th>\n",
       "      <th>평균 풍속(m/s)</th>\n",
       "    </tr>\n",
       "    <tr>\n",
       "      <th>month</th>\n",
       "      <th></th>\n",
       "      <th></th>\n",
       "      <th></th>\n",
       "    </tr>\n",
       "  </thead>\n",
       "  <tbody>\n",
       "    <tr>\n",
       "      <th>4</th>\n",
       "      <td>11.064667</td>\n",
       "      <td>9.305017</td>\n",
       "      <td>4.622483</td>\n",
       "    </tr>\n",
       "  </tbody>\n",
       "</table>\n",
       "</div>"
      ],
      "text/plain": [
       "        평균기온(°C)  최대 풍속(m/s)  평균 풍속(m/s)\n",
       "month                                   \n",
       "4      11.064667    9.305017    4.622483"
      ]
     },
     "execution_count": 45,
     "metadata": {},
     "output_type": "execute_result"
    },
    {
     "data": {
      "text/plain": [
       "<AxesSubplot: ylabel='month'>"
      ]
     },
     "execution_count": 45,
     "metadata": {},
     "output_type": "execute_result"
    },
    {
     "data": {
      "image/png": "[encoded data removed]",
      "text/plain": [
       "<Figure size 640x480 with 1 Axes>"
      ]
     },
     "metadata": {},
     "output_type": "display_data"
    }
   ],
   "source": [
    "#x = means['평균 풍속(m/s)'].max()\n",
    "means[ means['평균 풍속(m/s)'] == means['평균 풍속(m/s)'].max() ]\n",
    "\n",
    "means['평균 풍속(m/s)'].plot(kind='barh')\n",
    "plt.show()\n",
    "\n",
    "# https://pandas.pydata.org/docs/reference/api/pandas.DataFrame.plot.html"
   ]
  },
  {
   "cell_type": "markdown",
   "metadata": {
    "id": "JWlTFMfWUmoA"
   },
   "source": [
    "### 12.13 필터링"
   ]
  },
  {
   "cell_type": "code",
   "execution_count": 46,
   "metadata": {},
   "outputs": [
    {
     "data": {
      "text/html": [
       "<div>\n",
       "<style scoped>\n",
       "    .dataframe tbody tr th:only-of-type {\n",
       "        vertical-align: middle;\n",
       "    }\n",
       "\n",
       "    .dataframe tbody tr th {\n",
       "        vertical-align: top;\n",
       "    }\n",
       "\n",
       "    .dataframe thead th {\n",
       "        text-align: right;\n",
       "    }\n",
       "</style>\n",
       "<table border=\"1\" class=\"dataframe\">\n",
       "  <thead>\n",
       "    <tr style=\"text-align: right;\">\n",
       "      <th></th>\n",
       "      <th>일시</th>\n",
       "      <th>평균기온(°C)</th>\n",
       "      <th>최대 풍속(m/s)</th>\n",
       "      <th>평균 풍속(m/s)</th>\n",
       "      <th>month</th>\n",
       "    </tr>\n",
       "  </thead>\n",
       "  <tbody>\n",
       "    <tr>\n",
       "      <th>0</th>\n",
       "      <td>2010-08-01</td>\n",
       "      <td>28.7</td>\n",
       "      <td>8.3</td>\n",
       "      <td>3.4</td>\n",
       "      <td>8</td>\n",
       "    </tr>\n",
       "    <tr>\n",
       "      <th>1</th>\n",
       "      <td>2010-08-02</td>\n",
       "      <td>25.2</td>\n",
       "      <td>8.7</td>\n",
       "      <td>3.8</td>\n",
       "      <td>8</td>\n",
       "    </tr>\n",
       "    <tr>\n",
       "      <th>2</th>\n",
       "      <td>2010-08-03</td>\n",
       "      <td>22.1</td>\n",
       "      <td>6.3</td>\n",
       "      <td>2.9</td>\n",
       "      <td>8</td>\n",
       "    </tr>\n",
       "    <tr>\n",
       "      <th>3</th>\n",
       "      <td>2010-08-04</td>\n",
       "      <td>25.3</td>\n",
       "      <td>6.6</td>\n",
       "      <td>4.2</td>\n",
       "      <td>8</td>\n",
       "    </tr>\n",
       "    <tr>\n",
       "      <th>4</th>\n",
       "      <td>2010-08-05</td>\n",
       "      <td>27.2</td>\n",
       "      <td>9.1</td>\n",
       "      <td>5.6</td>\n",
       "      <td>8</td>\n",
       "    </tr>\n",
       "    <tr>\n",
       "      <th>...</th>\n",
       "      <td>...</td>\n",
       "      <td>...</td>\n",
       "      <td>...</td>\n",
       "      <td>...</td>\n",
       "      <td>...</td>\n",
       "    </tr>\n",
       "    <tr>\n",
       "      <th>3648</th>\n",
       "      <td>2020-07-27</td>\n",
       "      <td>22.1</td>\n",
       "      <td>4.2</td>\n",
       "      <td>1.7</td>\n",
       "      <td>7</td>\n",
       "    </tr>\n",
       "    <tr>\n",
       "      <th>3649</th>\n",
       "      <td>2020-07-28</td>\n",
       "      <td>21.9</td>\n",
       "      <td>4.5</td>\n",
       "      <td>1.6</td>\n",
       "      <td>7</td>\n",
       "    </tr>\n",
       "    <tr>\n",
       "      <th>3650</th>\n",
       "      <td>2020-07-29</td>\n",
       "      <td>21.6</td>\n",
       "      <td>3.2</td>\n",
       "      <td>1.0</td>\n",
       "      <td>7</td>\n",
       "    </tr>\n",
       "    <tr>\n",
       "      <th>3651</th>\n",
       "      <td>2020-07-30</td>\n",
       "      <td>22.9</td>\n",
       "      <td>9.7</td>\n",
       "      <td>2.4</td>\n",
       "      <td>7</td>\n",
       "    </tr>\n",
       "    <tr>\n",
       "      <th>3652</th>\n",
       "      <td>2020-07-31</td>\n",
       "      <td>25.7</td>\n",
       "      <td>4.8</td>\n",
       "      <td>2.5</td>\n",
       "      <td>7</td>\n",
       "    </tr>\n",
       "  </tbody>\n",
       "</table>\n",
       "<p>3653 rows × 5 columns</p>\n",
       "</div>"
      ],
      "text/plain": [
       "              일시  평균기온(°C)  최대 풍속(m/s)  평균 풍속(m/s)  month\n",
       "0     2010-08-01      28.7         8.3         3.4      8\n",
       "1     2010-08-02      25.2         8.7         3.8      8\n",
       "2     2010-08-03      22.1         6.3         2.9      8\n",
       "3     2010-08-04      25.3         6.6         4.2      8\n",
       "4     2010-08-05      27.2         9.1         5.6      8\n",
       "...          ...       ...         ...         ...    ...\n",
       "3648  2020-07-27      22.1         4.2         1.7      7\n",
       "3649  2020-07-28      21.9         4.5         1.6      7\n",
       "3650  2020-07-29      21.6         3.2         1.0      7\n",
       "3651  2020-07-30      22.9         9.7         2.4      7\n",
       "3652  2020-07-31      25.7         4.8         2.5      7\n",
       "\n",
       "[3653 rows x 5 columns]"
      ]
     },
     "execution_count": 46,
     "metadata": {},
     "output_type": "execute_result"
    }
   ],
   "source": [
    "weather"
   ]
  },
  {
   "cell_type": "code",
   "execution_count": 47,
   "metadata": {
    "colab": {
     "base_uri": "https://localhost:8080/"
    },
    "executionInfo": {
     "elapsed": 637,
     "status": "ok",
     "timestamp": 1611558098972,
     "user": {
      "displayName": "박동규",
      "photoUrl": "",
      "userId": "10745738943866733973"
     },
     "user_tz": -540
    },
    "id": "msITTCeeUpIo",
    "outputId": "6156cbaa-68d7-4d85-fda2-7d8f8dfa548d"
   },
   "outputs": [
    {
     "data": {
      "text/plain": [
       "0       False\n",
       "1       False\n",
       "2       False\n",
       "3       False\n",
       "4       False\n",
       "        ...  \n",
       "3648    False\n",
       "3649    False\n",
       "3650    False\n",
       "3651    False\n",
       "3652    False\n",
       "Name: 최대 풍속(m/s), Length: 3653, dtype: bool"
      ]
     },
     "execution_count": 47,
     "metadata": {},
     "output_type": "execute_result"
    }
   ],
   "source": [
    "weather['최대 풍속(m/s)'] >= 20.0"
   ]
  },
  {
   "cell_type": "code",
   "execution_count": 48,
   "metadata": {
    "colab": {
     "base_uri": "https://localhost:8080/",
     "height": 417
    },
    "executionInfo": {
     "elapsed": 601,
     "status": "ok",
     "timestamp": 1611558121030,
     "user": {
      "displayName": "박동규",
      "photoUrl": "",
      "userId": "10745738943866733973"
     },
     "user_tz": -540
    },
    "id": "KfHEN7EjUqaM",
    "outputId": "ea6188ae-891d-4fb2-d377-856e065b0c05"
   },
   "outputs": [
    {
     "data": {
      "text/html": [
       "<div>\n",
       "<style scoped>\n",
       "    .dataframe tbody tr th:only-of-type {\n",
       "        vertical-align: middle;\n",
       "    }\n",
       "\n",
       "    .dataframe tbody tr th {\n",
       "        vertical-align: top;\n",
       "    }\n",
       "\n",
       "    .dataframe thead th {\n",
       "        text-align: right;\n",
       "    }\n",
       "</style>\n",
       "<table border=\"1\" class=\"dataframe\">\n",
       "  <thead>\n",
       "    <tr style=\"text-align: right;\">\n",
       "      <th></th>\n",
       "      <th>일시</th>\n",
       "      <th>평균기온(°C)</th>\n",
       "      <th>최대 풍속(m/s)</th>\n",
       "      <th>평균 풍속(m/s)</th>\n",
       "      <th>month</th>\n",
       "    </tr>\n",
       "  </thead>\n",
       "  <tbody>\n",
       "    <tr>\n",
       "      <th>261</th>\n",
       "      <td>2011-04-19</td>\n",
       "      <td>4.4</td>\n",
       "      <td>21.6</td>\n",
       "      <td>12.1</td>\n",
       "      <td>4</td>\n",
       "    </tr>\n",
       "    <tr>\n",
       "      <th>1850</th>\n",
       "      <td>2015-08-25</td>\n",
       "      <td>20.1</td>\n",
       "      <td>25.3</td>\n",
       "      <td>14.9</td>\n",
       "      <td>8</td>\n",
       "    </tr>\n",
       "    <tr>\n",
       "      <th>1851</th>\n",
       "      <td>2015-08-26</td>\n",
       "      <td>17.4</td>\n",
       "      <td>22.6</td>\n",
       "      <td>8.1</td>\n",
       "      <td>8</td>\n",
       "    </tr>\n",
       "    <tr>\n",
       "      <th>2988</th>\n",
       "      <td>2018-10-06</td>\n",
       "      <td>19.4</td>\n",
       "      <td>26.0</td>\n",
       "      <td>7.0</td>\n",
       "      <td>10</td>\n",
       "    </tr>\n",
       "    <tr>\n",
       "      <th>3339</th>\n",
       "      <td>2019-09-22</td>\n",
       "      <td>15.7</td>\n",
       "      <td>23.1</td>\n",
       "      <td>11.9</td>\n",
       "      <td>9</td>\n",
       "    </tr>\n",
       "    <tr>\n",
       "      <th>3340</th>\n",
       "      <td>2019-09-23</td>\n",
       "      <td>15.0</td>\n",
       "      <td>25.8</td>\n",
       "      <td>11.0</td>\n",
       "      <td>9</td>\n",
       "    </tr>\n",
       "    <tr>\n",
       "      <th>3447</th>\n",
       "      <td>2020-01-08</td>\n",
       "      <td>6.5</td>\n",
       "      <td>22.2</td>\n",
       "      <td>8.2</td>\n",
       "      <td>1</td>\n",
       "    </tr>\n",
       "  </tbody>\n",
       "</table>\n",
       "</div>"
      ],
      "text/plain": [
       "              일시  평균기온(°C)  최대 풍속(m/s)  평균 풍속(m/s)  month\n",
       "261   2011-04-19       4.4        21.6        12.1      4\n",
       "1850  2015-08-25      20.1        25.3        14.9      8\n",
       "1851  2015-08-26      17.4        22.6         8.1      8\n",
       "2988  2018-10-06      19.4        26.0         7.0     10\n",
       "3339  2019-09-22      15.7        23.1        11.9      9\n",
       "3340  2019-09-23      15.0        25.8        11.0      9\n",
       "3447  2020-01-08       6.5        22.2         8.2      1"
      ]
     },
     "execution_count": 48,
     "metadata": {},
     "output_type": "execute_result"
    }
   ],
   "source": [
    "weather[ weather['최대 풍속(m/s)'] >= 20.0 ]"
   ]
  },
  {
   "cell_type": "markdown",
   "metadata": {
    "id": "K5qqdI1zUsh4"
   },
   "source": [
    "### 12.14 결손값 찾아 삭제하기 : isna(), dropna()"
   ]
  },
  {
   "cell_type": "code",
   "execution_count": 49,
   "metadata": {
    "colab": {
     "base_uri": "https://localhost:8080/",
     "height": 234
    },
    "executionInfo": {
     "elapsed": 595,
     "status": "ok",
     "timestamp": 1611558499499,
     "user": {
      "displayName": "박동규",
      "photoUrl": "",
      "userId": "10745738943866733973"
     },
     "user_tz": -540
    },
    "id": "Al8P6C2eUr45",
    "outputId": "7275f6f2-9922-4040-c1f2-0f8065d3b2cc"
   },
   "outputs": [
    {
     "data": {
      "text/plain": [
       "0       False\n",
       "1       False\n",
       "2       False\n",
       "3       False\n",
       "4       False\n",
       "        ...  \n",
       "3648    False\n",
       "3649    False\n",
       "3650    False\n",
       "3651    False\n",
       "3652    False\n",
       "Name: 평균 풍속(m/s), Length: 3653, dtype: bool"
      ]
     },
     "execution_count": 49,
     "metadata": {},
     "output_type": "execute_result"
    }
   ],
   "source": [
    "# isna() : 데이터에 결손값이 있는지를 확인하는 함수\n",
    "weather['평균 풍속(m/s)'].isna()"
   ]
  },
  {
   "cell_type": "code",
   "execution_count": 50,
   "metadata": {},
   "outputs": [
    {
     "data": {
      "text/html": [
       "<div>\n",
       "<style scoped>\n",
       "    .dataframe tbody tr th:only-of-type {\n",
       "        vertical-align: middle;\n",
       "    }\n",
       "\n",
       "    .dataframe tbody tr th {\n",
       "        vertical-align: top;\n",
       "    }\n",
       "\n",
       "    .dataframe thead th {\n",
       "        text-align: right;\n",
       "    }\n",
       "</style>\n",
       "<table border=\"1\" class=\"dataframe\">\n",
       "  <thead>\n",
       "    <tr style=\"text-align: right;\">\n",
       "      <th></th>\n",
       "      <th>일시</th>\n",
       "      <th>평균기온(°C)</th>\n",
       "      <th>최대 풍속(m/s)</th>\n",
       "      <th>평균 풍속(m/s)</th>\n",
       "      <th>month</th>\n",
       "    </tr>\n",
       "  </thead>\n",
       "  <tbody>\n",
       "    <tr>\n",
       "      <th>559</th>\n",
       "      <td>2012-02-11</td>\n",
       "      <td>-0.7</td>\n",
       "      <td>NaN</td>\n",
       "      <td>NaN</td>\n",
       "      <td>2</td>\n",
       "    </tr>\n",
       "    <tr>\n",
       "      <th>560</th>\n",
       "      <td>2012-02-12</td>\n",
       "      <td>0.4</td>\n",
       "      <td>NaN</td>\n",
       "      <td>NaN</td>\n",
       "      <td>2</td>\n",
       "    </tr>\n",
       "    <tr>\n",
       "      <th>561</th>\n",
       "      <td>2012-02-13</td>\n",
       "      <td>4.0</td>\n",
       "      <td>NaN</td>\n",
       "      <td>NaN</td>\n",
       "      <td>2</td>\n",
       "    </tr>\n",
       "    <tr>\n",
       "      <th>1694</th>\n",
       "      <td>2015-03-22</td>\n",
       "      <td>10.1</td>\n",
       "      <td>11.6</td>\n",
       "      <td>NaN</td>\n",
       "      <td>3</td>\n",
       "    </tr>\n",
       "    <tr>\n",
       "      <th>1704</th>\n",
       "      <td>2015-04-01</td>\n",
       "      <td>7.3</td>\n",
       "      <td>12.1</td>\n",
       "      <td>NaN</td>\n",
       "      <td>4</td>\n",
       "    </tr>\n",
       "    <tr>\n",
       "      <th>3182</th>\n",
       "      <td>2019-04-18</td>\n",
       "      <td>15.7</td>\n",
       "      <td>11.7</td>\n",
       "      <td>NaN</td>\n",
       "      <td>4</td>\n",
       "    </tr>\n",
       "  </tbody>\n",
       "</table>\n",
       "</div>"
      ],
      "text/plain": [
       "              일시  평균기온(°C)  최대 풍속(m/s)  평균 풍속(m/s)  month\n",
       "559   2012-02-11      -0.7         NaN         NaN      2\n",
       "560   2012-02-12       0.4         NaN         NaN      2\n",
       "561   2012-02-13       4.0         NaN         NaN      2\n",
       "1694  2015-03-22      10.1        11.6         NaN      3\n",
       "1704  2015-04-01       7.3        12.1         NaN      4\n",
       "3182  2019-04-18      15.7        11.7         NaN      4"
      ]
     },
     "execution_count": 50,
     "metadata": {},
     "output_type": "execute_result"
    }
   ],
   "source": [
    "weather[ weather['평균 풍속(m/s)'].isna() == True ]"
   ]
  },
  {
   "cell_type": "code",
   "execution_count": 51,
   "metadata": {},
   "outputs": [
    {
     "data": {
      "text/html": [
       "<div>\n",
       "<style scoped>\n",
       "    .dataframe tbody tr th:only-of-type {\n",
       "        vertical-align: middle;\n",
       "    }\n",
       "\n",
       "    .dataframe tbody tr th {\n",
       "        vertical-align: top;\n",
       "    }\n",
       "\n",
       "    .dataframe thead th {\n",
       "        text-align: right;\n",
       "    }\n",
       "</style>\n",
       "<table border=\"1\" class=\"dataframe\">\n",
       "  <thead>\n",
       "    <tr style=\"text-align: right;\">\n",
       "      <th></th>\n",
       "      <th>일시</th>\n",
       "      <th>평균기온(°C)</th>\n",
       "      <th>최대 풍속(m/s)</th>\n",
       "      <th>평균 풍속(m/s)</th>\n",
       "      <th>month</th>\n",
       "    </tr>\n",
       "  </thead>\n",
       "  <tbody>\n",
       "    <tr>\n",
       "      <th>559</th>\n",
       "      <td>2012-02-11</td>\n",
       "      <td>-0.7</td>\n",
       "      <td>NaN</td>\n",
       "      <td>NaN</td>\n",
       "      <td>2</td>\n",
       "    </tr>\n",
       "    <tr>\n",
       "      <th>560</th>\n",
       "      <td>2012-02-12</td>\n",
       "      <td>0.4</td>\n",
       "      <td>NaN</td>\n",
       "      <td>NaN</td>\n",
       "      <td>2</td>\n",
       "    </tr>\n",
       "    <tr>\n",
       "      <th>561</th>\n",
       "      <td>2012-02-13</td>\n",
       "      <td>4.0</td>\n",
       "      <td>NaN</td>\n",
       "      <td>NaN</td>\n",
       "      <td>2</td>\n",
       "    </tr>\n",
       "    <tr>\n",
       "      <th>3183</th>\n",
       "      <td>2019-04-19</td>\n",
       "      <td>7.8</td>\n",
       "      <td>NaN</td>\n",
       "      <td>2.3</td>\n",
       "      <td>4</td>\n",
       "    </tr>\n",
       "  </tbody>\n",
       "</table>\n",
       "</div>"
      ],
      "text/plain": [
       "              일시  평균기온(°C)  최대 풍속(m/s)  평균 풍속(m/s)  month\n",
       "559   2012-02-11      -0.7         NaN         NaN      2\n",
       "560   2012-02-12       0.4         NaN         NaN      2\n",
       "561   2012-02-13       4.0         NaN         NaN      2\n",
       "3183  2019-04-19       7.8         NaN         2.3      4"
      ]
     },
     "execution_count": 51,
     "metadata": {},
     "output_type": "execute_result"
    }
   ],
   "source": [
    "weather[ weather['최대 풍속(m/s)'].isna() == True ]"
   ]
  },
  {
   "cell_type": "code",
   "execution_count": 52,
   "metadata": {
    "colab": {
     "base_uri": "https://localhost:8080/",
     "height": 234
    },
    "executionInfo": {
     "elapsed": 648,
     "status": "ok",
     "timestamp": 1611558558504,
     "user": {
      "displayName": "박동규",
      "photoUrl": "",
      "userId": "10745738943866733973"
     },
     "user_tz": -540
    },
    "id": "6GAVZGmfUvxI",
    "outputId": "21a9a182-6f94-4f54-dd7e-b4732b0e1454"
   },
   "outputs": [
    {
     "data": {
      "text/html": [
       "<div>\n",
       "<style scoped>\n",
       "    .dataframe tbody tr th:only-of-type {\n",
       "        vertical-align: middle;\n",
       "    }\n",
       "\n",
       "    .dataframe tbody tr th {\n",
       "        vertical-align: top;\n",
       "    }\n",
       "\n",
       "    .dataframe thead th {\n",
       "        text-align: right;\n",
       "    }\n",
       "</style>\n",
       "<table border=\"1\" class=\"dataframe\">\n",
       "  <thead>\n",
       "    <tr style=\"text-align: right;\">\n",
       "      <th></th>\n",
       "      <th>일시</th>\n",
       "      <th>평균기온(°C)</th>\n",
       "      <th>최대 풍속(m/s)</th>\n",
       "      <th>평균 풍속(m/s)</th>\n",
       "    </tr>\n",
       "  </thead>\n",
       "  <tbody>\n",
       "    <tr>\n",
       "      <th>559</th>\n",
       "      <td>2012-02-11</td>\n",
       "      <td>-0.7</td>\n",
       "      <td>NaN</td>\n",
       "      <td>NaN</td>\n",
       "    </tr>\n",
       "    <tr>\n",
       "      <th>560</th>\n",
       "      <td>2012-02-12</td>\n",
       "      <td>0.4</td>\n",
       "      <td>NaN</td>\n",
       "      <td>NaN</td>\n",
       "    </tr>\n",
       "    <tr>\n",
       "      <th>561</th>\n",
       "      <td>2012-02-13</td>\n",
       "      <td>4.0</td>\n",
       "      <td>NaN</td>\n",
       "      <td>NaN</td>\n",
       "    </tr>\n",
       "    <tr>\n",
       "      <th>1694</th>\n",
       "      <td>2015-03-22</td>\n",
       "      <td>10.1</td>\n",
       "      <td>11.6</td>\n",
       "      <td>NaN</td>\n",
       "    </tr>\n",
       "    <tr>\n",
       "      <th>1704</th>\n",
       "      <td>2015-04-01</td>\n",
       "      <td>7.3</td>\n",
       "      <td>12.1</td>\n",
       "      <td>NaN</td>\n",
       "    </tr>\n",
       "    <tr>\n",
       "      <th>3182</th>\n",
       "      <td>2019-04-18</td>\n",
       "      <td>15.7</td>\n",
       "      <td>11.7</td>\n",
       "      <td>NaN</td>\n",
       "    </tr>\n",
       "  </tbody>\n",
       "</table>\n",
       "</div>"
      ],
      "text/plain": [
       "              일시  평균기온(°C)  최대 풍속(m/s)  평균 풍속(m/s)\n",
       "559   2012-02-11      -0.7         NaN         NaN\n",
       "560   2012-02-12       0.4         NaN         NaN\n",
       "561   2012-02-13       4.0         NaN         NaN\n",
       "1694  2015-03-22      10.1        11.6         NaN\n",
       "1704  2015-04-01       7.3        12.1         NaN\n",
       "3182  2019-04-18      15.7        11.7         NaN"
      ]
     },
     "execution_count": 52,
     "metadata": {},
     "output_type": "execute_result"
    }
   ],
   "source": [
    "import pandas as pd\n",
    "\n",
    "weather = pd.read_csv('data/csv/weather.csv', encoding='CP949')\n",
    "missing_data = weather [ weather['평균 풍속(m/s)'].isna() ] \n",
    "missing_data"
   ]
  },
  {
   "cell_type": "code",
   "execution_count": 54,
   "metadata": {
    "executionInfo": {
     "elapsed": 636,
     "status": "ok",
     "timestamp": 1611558710425,
     "user": {
      "displayName": "박동규",
      "photoUrl": "",
      "userId": "10745738943866733973"
     },
     "user_tz": -540
    },
    "id": "O0NgL2xPUyDl"
   },
   "outputs": [],
   "source": [
    "# dropna : 빠진 값을 찾고 삭제하기 \n",
    "weather.dropna(axis=0, how=\"any\", inplace=True)"
   ]
  },
  {
   "cell_type": "code",
   "execution_count": 55,
   "metadata": {},
   "outputs": [
    {
     "data": {
      "text/html": [
       "<div>\n",
       "<style scoped>\n",
       "    .dataframe tbody tr th:only-of-type {\n",
       "        vertical-align: middle;\n",
       "    }\n",
       "\n",
       "    .dataframe tbody tr th {\n",
       "        vertical-align: top;\n",
       "    }\n",
       "\n",
       "    .dataframe thead th {\n",
       "        text-align: right;\n",
       "    }\n",
       "</style>\n",
       "<table border=\"1\" class=\"dataframe\">\n",
       "  <thead>\n",
       "    <tr style=\"text-align: right;\">\n",
       "      <th></th>\n",
       "      <th>일시</th>\n",
       "      <th>평균기온(°C)</th>\n",
       "      <th>최대 풍속(m/s)</th>\n",
       "      <th>평균 풍속(m/s)</th>\n",
       "    </tr>\n",
       "  </thead>\n",
       "  <tbody>\n",
       "  </tbody>\n",
       "</table>\n",
       "</div>"
      ],
      "text/plain": [
       "Empty DataFrame\n",
       "Columns: [일시, 평균기온(°C), 최대 풍속(m/s), 평균 풍속(m/s)]\n",
       "Index: []"
      ]
     },
     "execution_count": 55,
     "metadata": {},
     "output_type": "execute_result"
    }
   ],
   "source": [
    "weather[ weather['평균 풍속(m/s)'].isna() == True ]"
   ]
  },
  {
   "cell_type": "code",
   "execution_count": 56,
   "metadata": {
    "colab": {
     "base_uri": "https://localhost:8080/",
     "height": 48
    },
    "executionInfo": {
     "elapsed": 597,
     "status": "ok",
     "timestamp": 1611558866952,
     "user": {
      "displayName": "박동규",
      "photoUrl": "",
      "userId": "10745738943866733973"
     },
     "user_tz": -540
    },
    "id": "C684tSpZU1TP",
    "outputId": "7670dea3-0f03-4ff5-a6ac-240aecdd67c7"
   },
   "outputs": [
    {
     "data": {
      "text/html": [
       "<div>\n",
       "<style scoped>\n",
       "    .dataframe tbody tr th:only-of-type {\n",
       "        vertical-align: middle;\n",
       "    }\n",
       "\n",
       "    .dataframe tbody tr th {\n",
       "        vertical-align: top;\n",
       "    }\n",
       "\n",
       "    .dataframe thead th {\n",
       "        text-align: right;\n",
       "    }\n",
       "</style>\n",
       "<table border=\"1\" class=\"dataframe\">\n",
       "  <thead>\n",
       "    <tr style=\"text-align: right;\">\n",
       "      <th></th>\n",
       "      <th>일시</th>\n",
       "      <th>평균기온(°C)</th>\n",
       "      <th>최대 풍속(m/s)</th>\n",
       "      <th>평균 풍속(m/s)</th>\n",
       "    </tr>\n",
       "  </thead>\n",
       "  <tbody>\n",
       "  </tbody>\n",
       "</table>\n",
       "</div>"
      ],
      "text/plain": [
       "Empty DataFrame\n",
       "Columns: [일시, 평균기온(°C), 최대 풍속(m/s), 평균 풍속(m/s)]\n",
       "Index: []"
      ]
     },
     "execution_count": 56,
     "metadata": {},
     "output_type": "execute_result"
    }
   ],
   "source": [
    "weather[ weather['일시'] =='2012-02-12']"
   ]
  },
  {
   "cell_type": "markdown",
   "metadata": {
    "id": "W-CISYakU4Ha"
   },
   "source": [
    "### 12.15 결손값 보정하기 : fillna()"
   ]
  },
  {
   "cell_type": "code",
   "execution_count": 59,
   "metadata": {
    "colab": {
     "base_uri": "https://localhost:8080/",
     "height": 234
    },
    "executionInfo": {
     "elapsed": 948,
     "status": "ok",
     "timestamp": 1611559031067,
     "user": {
      "displayName": "박동규",
      "photoUrl": "",
      "userId": "10745738943866733973"
     },
     "user_tz": -540
    },
    "id": "MZMR-_28U3lQ",
    "outputId": "47a4fcb7-ea21-40aa-d7cd-baf04d96333b"
   },
   "outputs": [
    {
     "data": {
      "text/html": [
       "<div>\n",
       "<style scoped>\n",
       "    .dataframe tbody tr th:only-of-type {\n",
       "        vertical-align: middle;\n",
       "    }\n",
       "\n",
       "    .dataframe tbody tr th {\n",
       "        vertical-align: top;\n",
       "    }\n",
       "\n",
       "    .dataframe thead th {\n",
       "        text-align: right;\n",
       "    }\n",
       "</style>\n",
       "<table border=\"1\" class=\"dataframe\">\n",
       "  <thead>\n",
       "    <tr style=\"text-align: right;\">\n",
       "      <th></th>\n",
       "      <th>일시</th>\n",
       "      <th>평균기온(°C)</th>\n",
       "      <th>최대 풍속(m/s)</th>\n",
       "      <th>평균 풍속(m/s)</th>\n",
       "    </tr>\n",
       "  </thead>\n",
       "  <tbody>\n",
       "    <tr>\n",
       "      <th>559</th>\n",
       "      <td>2012-02-11</td>\n",
       "      <td>-0.7</td>\n",
       "      <td>0.0</td>\n",
       "      <td>0.0</td>\n",
       "    </tr>\n",
       "    <tr>\n",
       "      <th>560</th>\n",
       "      <td>2012-02-12</td>\n",
       "      <td>0.4</td>\n",
       "      <td>0.0</td>\n",
       "      <td>0.0</td>\n",
       "    </tr>\n",
       "    <tr>\n",
       "      <th>561</th>\n",
       "      <td>2012-02-13</td>\n",
       "      <td>4.0</td>\n",
       "      <td>0.0</td>\n",
       "      <td>0.0</td>\n",
       "    </tr>\n",
       "    <tr>\n",
       "      <th>1694</th>\n",
       "      <td>2015-03-22</td>\n",
       "      <td>10.1</td>\n",
       "      <td>11.6</td>\n",
       "      <td>0.0</td>\n",
       "    </tr>\n",
       "    <tr>\n",
       "      <th>1704</th>\n",
       "      <td>2015-04-01</td>\n",
       "      <td>7.3</td>\n",
       "      <td>12.1</td>\n",
       "      <td>0.0</td>\n",
       "    </tr>\n",
       "    <tr>\n",
       "      <th>3182</th>\n",
       "      <td>2019-04-18</td>\n",
       "      <td>15.7</td>\n",
       "      <td>11.7</td>\n",
       "      <td>0.0</td>\n",
       "    </tr>\n",
       "  </tbody>\n",
       "</table>\n",
       "</div>"
      ],
      "text/plain": [
       "              일시  평균기온(°C)  최대 풍속(m/s)  평균 풍속(m/s)\n",
       "559   2012-02-11      -0.7         0.0         0.0\n",
       "560   2012-02-12       0.4         0.0         0.0\n",
       "561   2012-02-13       4.0         0.0         0.0\n",
       "1694  2015-03-22      10.1        11.6         0.0\n",
       "1704  2015-04-01       7.3        12.1         0.0\n",
       "3182  2019-04-18      15.7        11.7         0.0"
      ]
     },
     "execution_count": 59,
     "metadata": {},
     "output_type": "execute_result"
    }
   ],
   "source": [
    "import pandas as pd\n",
    "\n",
    "weather = pd.read_csv('data/csv/weather.csv', encoding='CP949')\n",
    "\n",
    "weather.fillna(0, inplace = True)\n",
    "weather[ weather['평균 풍속(m/s)'] == 0.0]"
   ]
  },
  {
   "cell_type": "code",
   "execution_count": 60,
   "metadata": {
    "colab": {
     "base_uri": "https://localhost:8080/",
     "height": 79
    },
    "executionInfo": {
     "elapsed": 807,
     "status": "ok",
     "timestamp": 1611559198831,
     "user": {
      "displayName": "박동규",
      "photoUrl": "",
      "userId": "10745738943866733973"
     },
     "user_tz": -540
    },
    "id": "1rwgQUyvU7ss",
    "outputId": "37b9bedf-23a2-4a19-ff58-0dfd5bd706ac"
   },
   "outputs": [
    {
     "data": {
      "text/html": [
       "<div>\n",
       "<style scoped>\n",
       "    .dataframe tbody tr th:only-of-type {\n",
       "        vertical-align: middle;\n",
       "    }\n",
       "\n",
       "    .dataframe tbody tr th {\n",
       "        vertical-align: top;\n",
       "    }\n",
       "\n",
       "    .dataframe thead th {\n",
       "        text-align: right;\n",
       "    }\n",
       "</style>\n",
       "<table border=\"1\" class=\"dataframe\">\n",
       "  <thead>\n",
       "    <tr style=\"text-align: right;\">\n",
       "      <th></th>\n",
       "      <th>일시</th>\n",
       "      <th>평균기온(°C)</th>\n",
       "      <th>최대 풍속(m/s)</th>\n",
       "      <th>평균 풍속(m/s)</th>\n",
       "    </tr>\n",
       "  </thead>\n",
       "  <tbody>\n",
       "    <tr>\n",
       "      <th>559</th>\n",
       "      <td>2012-02-11</td>\n",
       "      <td>-0.7</td>\n",
       "      <td>NaN</td>\n",
       "      <td>NaN</td>\n",
       "    </tr>\n",
       "  </tbody>\n",
       "</table>\n",
       "</div>"
      ],
      "text/plain": [
       "             일시  평균기온(°C)  최대 풍속(m/s)  평균 풍속(m/s)\n",
       "559  2012-02-11      -0.7         NaN         NaN"
      ]
     },
     "execution_count": 60,
     "metadata": {},
     "output_type": "execute_result"
    },
    {
     "data": {
      "text/html": [
       "<div>\n",
       "<style scoped>\n",
       "    .dataframe tbody tr th:only-of-type {\n",
       "        vertical-align: middle;\n",
       "    }\n",
       "\n",
       "    .dataframe tbody tr th {\n",
       "        vertical-align: top;\n",
       "    }\n",
       "\n",
       "    .dataframe thead th {\n",
       "        text-align: right;\n",
       "    }\n",
       "</style>\n",
       "<table border=\"1\" class=\"dataframe\">\n",
       "  <thead>\n",
       "    <tr style=\"text-align: right;\">\n",
       "      <th></th>\n",
       "      <th>일시</th>\n",
       "      <th>평균기온(°C)</th>\n",
       "      <th>최대 풍속(m/s)</th>\n",
       "      <th>평균 풍속(m/s)</th>\n",
       "    </tr>\n",
       "  </thead>\n",
       "  <tbody>\n",
       "    <tr>\n",
       "      <th>559</th>\n",
       "      <td>2012-02-11</td>\n",
       "      <td>-0.7</td>\n",
       "      <td>0.0</td>\n",
       "      <td>0.0</td>\n",
       "    </tr>\n",
       "  </tbody>\n",
       "</table>\n",
       "</div>"
      ],
      "text/plain": [
       "             일시  평균기온(°C)  최대 풍속(m/s)  평균 풍속(m/s)\n",
       "559  2012-02-11      -0.7         0.0         0.0"
      ]
     },
     "execution_count": 60,
     "metadata": {},
     "output_type": "execute_result"
    }
   ],
   "source": [
    "# inplace = False (Default) : 원본은 그대로 두고, 수정된 데이터프레임만 반환\n",
    "weather = pd.read_csv('data/csv/weather.csv', encoding='CP949')\n",
    "\n",
    "new_weather = weather.fillna(0)\n",
    "weather[ weather['일시'] == '2012-02-11']\n",
    "new_weather[ new_weather['일시'] == '2012-02-11']"
   ]
  },
  {
   "cell_type": "code",
   "execution_count": 61,
   "metadata": {
    "colab": {
     "base_uri": "https://localhost:8080/",
     "height": 79
    },
    "executionInfo": {
     "elapsed": 647,
     "status": "ok",
     "timestamp": 1611559391887,
     "user": {
      "displayName": "박동규",
      "photoUrl": "",
      "userId": "10745738943866733973"
     },
     "user_tz": -540
    },
    "id": "uxMLaI5kU9YR",
    "outputId": "926429af-cf37-4441-83fa-b253afc9f66e"
   },
   "outputs": [
    {
     "data": {
      "text/html": [
       "<div>\n",
       "<style scoped>\n",
       "    .dataframe tbody tr th:only-of-type {\n",
       "        vertical-align: middle;\n",
       "    }\n",
       "\n",
       "    .dataframe tbody tr th {\n",
       "        vertical-align: top;\n",
       "    }\n",
       "\n",
       "    .dataframe thead th {\n",
       "        text-align: right;\n",
       "    }\n",
       "</style>\n",
       "<table border=\"1\" class=\"dataframe\">\n",
       "  <thead>\n",
       "    <tr style=\"text-align: right;\">\n",
       "      <th></th>\n",
       "      <th>일시</th>\n",
       "      <th>평균기온(°C)</th>\n",
       "      <th>최대 풍속(m/s)</th>\n",
       "      <th>평균 풍속(m/s)</th>\n",
       "    </tr>\n",
       "  </thead>\n",
       "  <tbody>\n",
       "    <tr>\n",
       "      <th>559</th>\n",
       "      <td>2012-02-11</td>\n",
       "      <td>-0.7</td>\n",
       "      <td>3.936441</td>\n",
       "      <td>3.936441</td>\n",
       "    </tr>\n",
       "  </tbody>\n",
       "</table>\n",
       "</div>"
      ],
      "text/plain": [
       "             일시  평균기온(°C)  최대 풍속(m/s)  평균 풍속(m/s)\n",
       "559  2012-02-11      -0.7    3.936441    3.936441"
      ]
     },
     "execution_count": 61,
     "metadata": {},
     "output_type": "execute_result"
    }
   ],
   "source": [
    "# 결손 데이터 (2012년 2월 11월의 풍속) 전체 데이터 평균으로 채움\n",
    "\n",
    "weather.fillna( weather['평균 풍속(m/s)'].mean(), inplace = True)\n",
    "weather[ weather['일시'] == '2012-02-11']"
   ]
  },
  {
   "cell_type": "code",
   "execution_count": 63,
   "metadata": {
    "colab": {
     "base_uri": "https://localhost:8080/",
     "height": 79
    },
    "executionInfo": {
     "elapsed": 783,
     "status": "ok",
     "timestamp": 1611559558338,
     "user": {
      "displayName": "박동규",
      "photoUrl": "",
      "userId": "10745738943866733973"
     },
     "user_tz": -540
    },
    "id": "Qg1aQQhibVVI",
    "outputId": "43a98db5-ad9d-4be3-9a15-d114f61fac4a"
   },
   "outputs": [
    {
     "data": {
      "text/html": [
       "<div>\n",
       "<style scoped>\n",
       "    .dataframe tbody tr th:only-of-type {\n",
       "        vertical-align: middle;\n",
       "    }\n",
       "\n",
       "    .dataframe tbody tr th {\n",
       "        vertical-align: top;\n",
       "    }\n",
       "\n",
       "    .dataframe thead th {\n",
       "        text-align: right;\n",
       "    }\n",
       "</style>\n",
       "<table border=\"1\" class=\"dataframe\">\n",
       "  <thead>\n",
       "    <tr style=\"text-align: right;\">\n",
       "      <th></th>\n",
       "      <th>일시</th>\n",
       "      <th>평균기온(°C)</th>\n",
       "      <th>최대 풍속(m/s)</th>\n",
       "      <th>평균 풍속(m/s)</th>\n",
       "    </tr>\n",
       "  </thead>\n",
       "  <tbody>\n",
       "    <tr>\n",
       "      <th>559</th>\n",
       "      <td>2012-02-11</td>\n",
       "      <td>-0.7</td>\n",
       "      <td>7.911099</td>\n",
       "      <td>3.936441</td>\n",
       "    </tr>\n",
       "  </tbody>\n",
       "</table>\n",
       "</div>"
      ],
      "text/plain": [
       "             일시  평균기온(°C)  최대 풍속(m/s)  평균 풍속(m/s)\n",
       "559  2012-02-11      -0.7    7.911099    3.936441"
      ]
     },
     "execution_count": 63,
     "metadata": {},
     "output_type": "execute_result"
    }
   ],
   "source": [
    "# 결손 데이터를 평균치로 채움\n",
    "\n",
    "weather = pd.read_csv('data/csv/weather.csv', encoding='CP949')\n",
    "\n",
    "weather['최대 풍속(m/s)'].fillna(weather['최대 풍속(m/s)'].mean(), inplace=True)\n",
    "weather['평균 풍속(m/s)'].fillna(weather['평균 풍속(m/s)'].mean(), inplace=True)\n",
    "\n",
    "weather[ weather['일시'] == '2012-02-11']"
   ]
  },
  {
   "cell_type": "markdown",
   "metadata": {
    "id": "VklPHV9oVACj"
   },
   "source": [
    "### 12.16 데이터 구조 변경 : pivot"
   ]
  },
  {
   "cell_type": "code",
   "execution_count": 4,
   "metadata": {
    "executionInfo": {
     "elapsed": 664,
     "status": "ok",
     "timestamp": 1611560102081,
     "user": {
      "displayName": "박동규",
      "photoUrl": "",
      "userId": "10745738943866733973"
     },
     "user_tz": -540
    },
    "id": "7EMBQZtsU_eK"
   },
   "outputs": [],
   "source": [
    "import pandas as pd \n",
    "\n",
    "df_1 = pd.DataFrame({'item' : ['ring0', 'ring0', 'ring1', 'ring1'], \n",
    "                     'type' : ['Gold', 'Silver', 'Gold', 'Bronze'], \n",
    "                     'price': [20000, 10000, 50000, 30000]})"
   ]
  },
  {
   "cell_type": "code",
   "execution_count": 5,
   "metadata": {
    "colab": {
     "base_uri": "https://localhost:8080/",
     "height": 172
    },
    "executionInfo": {
     "elapsed": 672,
     "status": "ok",
     "timestamp": 1611560104147,
     "user": {
      "displayName": "박동규",
      "photoUrl": "",
      "userId": "10745738943866733973"
     },
     "user_tz": -540
    },
    "id": "aZgCwwzCKCi0",
    "outputId": "99e1e54f-24bb-41dd-e780-bf2ceb456a40"
   },
   "outputs": [
    {
     "data": {
      "text/html": [
       "<div>\n",
       "<style scoped>\n",
       "    .dataframe tbody tr th:only-of-type {\n",
       "        vertical-align: middle;\n",
       "    }\n",
       "\n",
       "    .dataframe tbody tr th {\n",
       "        vertical-align: top;\n",
       "    }\n",
       "\n",
       "    .dataframe thead th {\n",
       "        text-align: right;\n",
       "    }\n",
       "</style>\n",
       "<table border=\"1\" class=\"dataframe\">\n",
       "  <thead>\n",
       "    <tr style=\"text-align: right;\">\n",
       "      <th></th>\n",
       "      <th>item</th>\n",
       "      <th>type</th>\n",
       "      <th>price</th>\n",
       "    </tr>\n",
       "  </thead>\n",
       "  <tbody>\n",
       "    <tr>\n",
       "      <th>0</th>\n",
       "      <td>ring0</td>\n",
       "      <td>Gold</td>\n",
       "      <td>20000</td>\n",
       "    </tr>\n",
       "    <tr>\n",
       "      <th>1</th>\n",
       "      <td>ring0</td>\n",
       "      <td>Silver</td>\n",
       "      <td>10000</td>\n",
       "    </tr>\n",
       "    <tr>\n",
       "      <th>2</th>\n",
       "      <td>ring1</td>\n",
       "      <td>Gold</td>\n",
       "      <td>50000</td>\n",
       "    </tr>\n",
       "    <tr>\n",
       "      <th>3</th>\n",
       "      <td>ring1</td>\n",
       "      <td>Bronze</td>\n",
       "      <td>30000</td>\n",
       "    </tr>\n",
       "  </tbody>\n",
       "</table>\n",
       "</div>"
      ],
      "text/plain": [
       "    item    type  price\n",
       "0  ring0    Gold  20000\n",
       "1  ring0  Silver  10000\n",
       "2  ring1    Gold  50000\n",
       "3  ring1  Bronze  30000"
      ]
     },
     "execution_count": 5,
     "metadata": {},
     "output_type": "execute_result"
    }
   ],
   "source": [
    "df_1"
   ]
  },
  {
   "cell_type": "code",
   "execution_count": 6,
   "metadata": {
    "colab": {
     "base_uri": "https://localhost:8080/"
    },
    "executionInfo": {
     "elapsed": 597,
     "status": "ok",
     "timestamp": 1611560132560,
     "user": {
      "displayName": "박동규",
      "photoUrl": "",
      "userId": "10745738943866733973"
     },
     "user_tz": -540
    },
    "id": "46Xz3P8CVJsA",
    "outputId": "613953eb-a27e-4034-c2bd-f4a722a24a29"
   },
   "outputs": [
    {
     "name": "stdout",
     "output_type": "stream",
     "text": [
      "type    Bronze     Gold   Silver\n",
      "item                            \n",
      "ring0      NaN  20000.0  10000.0\n",
      "ring1  30000.0  50000.0      NaN\n"
     ]
    }
   ],
   "source": [
    "df_2 = df_1.pivot(index='item', columns='type', values='price') \n",
    "print(df_2)"
   ]
  },
  {
   "cell_type": "markdown",
   "metadata": {
    "id": "xcFgFtdqVQlB"
   },
   "source": [
    "### 12.17 데이터프레임 합치기 - concat"
   ]
  },
  {
   "cell_type": "code",
   "execution_count": 26,
   "metadata": {
    "executionInfo": {
     "elapsed": 610,
     "status": "ok",
     "timestamp": 1611560163585,
     "user": {
      "displayName": "박동규",
      "photoUrl": "",
      "userId": "10745738943866733973"
     },
     "user_tz": -540
    },
    "id": "u2IYY2tvVS4T"
   },
   "outputs": [],
   "source": [
    "df_1 = pd.DataFrame( {'A' : ['a10', 'a11', 'a12'], \n",
    "                      'B' : ['b10', 'b11', 'b12'],\n",
    "                      'C' : ['c10', 'c11', 'c12']} , index = ['가', '나',  '다'] )\n",
    "\n",
    "df_2 = pd.DataFrame( {'B' : ['b23', 'b24', 'b25'],\n",
    "                      'C' : ['c23', 'c24', 'c25'],\n",
    "                      'D' : ['d23', 'd24', 'd25']} , index = ['다', '라',  '마'] )"
   ]
  },
  {
   "cell_type": "code",
   "execution_count": 27,
   "metadata": {
    "colab": {
     "base_uri": "https://localhost:8080/",
     "height": 141
    },
    "executionInfo": {
     "elapsed": 686,
     "status": "ok",
     "timestamp": 1611560171603,
     "user": {
      "displayName": "박동규",
      "photoUrl": "",
      "userId": "10745738943866733973"
     },
     "user_tz": -540
    },
    "id": "AplKKts3eJ-6",
    "outputId": "ab00d27a-1c35-4c3f-c949-85dfa20db315"
   },
   "outputs": [
    {
     "data": {
      "text/html": [
       "<div>\n",
       "<style scoped>\n",
       "    .dataframe tbody tr th:only-of-type {\n",
       "        vertical-align: middle;\n",
       "    }\n",
       "\n",
       "    .dataframe tbody tr th {\n",
       "        vertical-align: top;\n",
       "    }\n",
       "\n",
       "    .dataframe thead th {\n",
       "        text-align: right;\n",
       "    }\n",
       "</style>\n",
       "<table border=\"1\" class=\"dataframe\">\n",
       "  <thead>\n",
       "    <tr style=\"text-align: right;\">\n",
       "      <th></th>\n",
       "      <th>A</th>\n",
       "      <th>B</th>\n",
       "      <th>C</th>\n",
       "    </tr>\n",
       "  </thead>\n",
       "  <tbody>\n",
       "    <tr>\n",
       "      <th>가</th>\n",
       "      <td>a10</td>\n",
       "      <td>b10</td>\n",
       "      <td>c10</td>\n",
       "    </tr>\n",
       "    <tr>\n",
       "      <th>나</th>\n",
       "      <td>a11</td>\n",
       "      <td>b11</td>\n",
       "      <td>c11</td>\n",
       "    </tr>\n",
       "    <tr>\n",
       "      <th>다</th>\n",
       "      <td>a12</td>\n",
       "      <td>b12</td>\n",
       "      <td>c12</td>\n",
       "    </tr>\n",
       "  </tbody>\n",
       "</table>\n",
       "</div>"
      ],
      "text/plain": [
       "     A    B    C\n",
       "가  a10  b10  c10\n",
       "나  a11  b11  c11\n",
       "다  a12  b12  c12"
      ]
     },
     "execution_count": 27,
     "metadata": {},
     "output_type": "execute_result"
    }
   ],
   "source": [
    "df_1"
   ]
  },
  {
   "cell_type": "code",
   "execution_count": 28,
   "metadata": {
    "colab": {
     "base_uri": "https://localhost:8080/",
     "height": 141
    },
    "executionInfo": {
     "elapsed": 586,
     "status": "ok",
     "timestamp": 1611560183211,
     "user": {
      "displayName": "박동규",
      "photoUrl": "",
      "userId": "10745738943866733973"
     },
     "user_tz": -540
    },
    "id": "3Fi-_P3FeMxN",
    "outputId": "0b07104b-e541-4a2b-bf60-babf02b2c164"
   },
   "outputs": [
    {
     "data": {
      "text/html": [
       "<div>\n",
       "<style scoped>\n",
       "    .dataframe tbody tr th:only-of-type {\n",
       "        vertical-align: middle;\n",
       "    }\n",
       "\n",
       "    .dataframe tbody tr th {\n",
       "        vertical-align: top;\n",
       "    }\n",
       "\n",
       "    .dataframe thead th {\n",
       "        text-align: right;\n",
       "    }\n",
       "</style>\n",
       "<table border=\"1\" class=\"dataframe\">\n",
       "  <thead>\n",
       "    <tr style=\"text-align: right;\">\n",
       "      <th></th>\n",
       "      <th>B</th>\n",
       "      <th>C</th>\n",
       "      <th>D</th>\n",
       "    </tr>\n",
       "  </thead>\n",
       "  <tbody>\n",
       "    <tr>\n",
       "      <th>다</th>\n",
       "      <td>b23</td>\n",
       "      <td>c23</td>\n",
       "      <td>d23</td>\n",
       "    </tr>\n",
       "    <tr>\n",
       "      <th>라</th>\n",
       "      <td>b24</td>\n",
       "      <td>c24</td>\n",
       "      <td>d24</td>\n",
       "    </tr>\n",
       "    <tr>\n",
       "      <th>마</th>\n",
       "      <td>b25</td>\n",
       "      <td>c25</td>\n",
       "      <td>d25</td>\n",
       "    </tr>\n",
       "  </tbody>\n",
       "</table>\n",
       "</div>"
      ],
      "text/plain": [
       "     B    C    D\n",
       "다  b23  c23  d23\n",
       "라  b24  c24  d24\n",
       "마  b25  c25  d25"
      ]
     },
     "execution_count": 28,
     "metadata": {},
     "output_type": "execute_result"
    }
   ],
   "source": [
    "df_2"
   ]
  },
  {
   "cell_type": "code",
   "execution_count": 33,
   "metadata": {
    "colab": {
     "base_uri": "https://localhost:8080/",
     "height": 234
    },
    "executionInfo": {
     "elapsed": 914,
     "status": "ok",
     "timestamp": 1611560208477,
     "user": {
      "displayName": "박동규",
      "photoUrl": "",
      "userId": "10745738943866733973"
     },
     "user_tz": -540
    },
    "id": "kiqbOTnGVUz7",
    "outputId": "3e43fb7c-1932-45b8-ebda-2694dc44050b"
   },
   "outputs": [
    {
     "data": {
      "text/html": [
       "<div>\n",
       "<style scoped>\n",
       "    .dataframe tbody tr th:only-of-type {\n",
       "        vertical-align: middle;\n",
       "    }\n",
       "\n",
       "    .dataframe tbody tr th {\n",
       "        vertical-align: top;\n",
       "    }\n",
       "\n",
       "    .dataframe thead th {\n",
       "        text-align: right;\n",
       "    }\n",
       "</style>\n",
       "<table border=\"1\" class=\"dataframe\">\n",
       "  <thead>\n",
       "    <tr style=\"text-align: right;\">\n",
       "      <th></th>\n",
       "      <th>A</th>\n",
       "      <th>B</th>\n",
       "      <th>C</th>\n",
       "      <th>B</th>\n",
       "      <th>C</th>\n",
       "      <th>D</th>\n",
       "    </tr>\n",
       "  </thead>\n",
       "  <tbody>\n",
       "    <tr>\n",
       "      <th>다</th>\n",
       "      <td>a12</td>\n",
       "      <td>b12</td>\n",
       "      <td>c12</td>\n",
       "      <td>b23</td>\n",
       "      <td>c23</td>\n",
       "      <td>d23</td>\n",
       "    </tr>\n",
       "  </tbody>\n",
       "</table>\n",
       "</div>"
      ],
      "text/plain": [
       "     A    B    C    B    C    D\n",
       "다  a12  b12  c12  b23  c23  d23"
      ]
     },
     "execution_count": 33,
     "metadata": {},
     "output_type": "execute_result"
    }
   ],
   "source": [
    "df_3 = pd.concat( [df_1, df_2])\n",
    "#df_3\n",
    "\n",
    "df_4 = pd.concat( [df_1, df_2], axis=1, join='inner')\n",
    "df_4"
   ]
  },
  {
   "cell_type": "markdown",
   "metadata": {
    "id": "bTvK6wTfVXtc"
   },
   "source": [
    "### LAB 12-1 다양한 방법으로 concat 적용해 보기"
   ]
  },
  {
   "cell_type": "code",
   "execution_count": 4,
   "metadata": {
    "colab": {
     "base_uri": "https://localhost:8080/",
     "height": 79
    },
    "executionInfo": {
     "elapsed": 647,
     "status": "ok",
     "timestamp": 1611560673776,
     "user": {
      "displayName": "박동규",
      "photoUrl": "",
      "userId": "10745738943866733973"
     },
     "user_tz": -540
    },
    "id": "AB7kQgnlVeRz",
    "outputId": "9d2b0165-1b5a-4547-fbfa-4c850738dd89"
   },
   "outputs": [
    {
     "data": {
      "text/html": [
       "<div>\n",
       "<style scoped>\n",
       "    .dataframe tbody tr th:only-of-type {\n",
       "        vertical-align: middle;\n",
       "    }\n",
       "\n",
       "    .dataframe tbody tr th {\n",
       "        vertical-align: top;\n",
       "    }\n",
       "\n",
       "    .dataframe thead th {\n",
       "        text-align: right;\n",
       "    }\n",
       "</style>\n",
       "<table border=\"1\" class=\"dataframe\">\n",
       "  <thead>\n",
       "    <tr style=\"text-align: right;\">\n",
       "      <th></th>\n",
       "      <th>A</th>\n",
       "      <th>B</th>\n",
       "      <th>C</th>\n",
       "      <th>B</th>\n",
       "      <th>C</th>\n",
       "      <th>D</th>\n",
       "    </tr>\n",
       "  </thead>\n",
       "  <tbody>\n",
       "    <tr>\n",
       "      <th>다</th>\n",
       "      <td>a12</td>\n",
       "      <td>b12</td>\n",
       "      <td>c12</td>\n",
       "      <td>b23</td>\n",
       "      <td>c23</td>\n",
       "      <td>d23</td>\n",
       "    </tr>\n",
       "  </tbody>\n",
       "</table>\n",
       "</div>"
      ],
      "text/plain": [
       "     A    B    C    B    C    D\n",
       "다  a12  b12  c12  b23  c23  d23"
      ]
     },
     "execution_count": 4,
     "metadata": {},
     "output_type": "execute_result"
    }
   ],
   "source": [
    "import pandas as pd \n",
    "\n",
    "df_1 = pd.DataFrame( {'A' : ['a10', 'a11', 'a12'], \n",
    "          'B' : ['b10', 'b11', 'b12'],\n",
    "          'C' : ['c10', 'c11', 'c12']} , index = ['가', '나',  '다'] )\n",
    "\n",
    "df_2 = pd.DataFrame( {'B' : ['b23', 'b24', 'b25'],\n",
    "          'C' : ['c23', 'c24', 'c25'],\n",
    "          'D' : ['d23', 'd24', 'd25']} , index = ['다', '라',  '마'] )\n",
    "\n",
    "pd.concat( [df_1, df_2] , axis = 1, join = 'inner' )"
   ]
  },
  {
   "cell_type": "code",
   "execution_count": 18,
   "metadata": {
    "colab": {
     "base_uri": "https://localhost:8080/"
    },
    "executionInfo": {
     "elapsed": 598,
     "status": "ok",
     "timestamp": 1611560685572,
     "user": {
      "displayName": "박동규",
      "photoUrl": "",
      "userId": "10745738943866733973"
     },
     "user_tz": -540
    },
    "id": "PAgbHAI1efey",
    "outputId": "ba871991-d79a-4c82-ce71-68fc6eeff5f1"
   },
   "outputs": [
    {
     "name": "stdout",
     "output_type": "stream",
     "text": [
      "     A    B    C    D\n",
      "가  a10  b10  c10  NaN\n",
      "나  a11  b11  c11  NaN\n",
      "다  a12  b12  c12  NaN\n",
      "다  NaN  b23  c23  d23\n",
      "라  NaN  b24  c24  d24\n",
      "마  NaN  b25  c25  d25\n",
      "     B    C\n",
      "가  b10  c10\n",
      "나  b11  c11\n",
      "다  b12  c12\n",
      "다  b23  c23\n",
      "라  b24  c24\n",
      "마  b25  c25\n",
      "     A    B    C    B    C    D\n",
      "가  a10  b10  c10  NaN  NaN  NaN\n",
      "나  a11  b11  c11  NaN  NaN  NaN\n",
      "다  a12  b12  c12  b23  c23  d23\n",
      "라  NaN  NaN  NaN  b24  c24  d24\n",
      "마  NaN  NaN  NaN  b25  c25  d25\n",
      "     A    B    C    B    C    D\n",
      "다  a12  b12  c12  b23  c23  d23\n"
     ]
    }
   ],
   "source": [
    "print( pd.concat( [df_1, df_2] , axis = 0, join = 'outer' ) )\n",
    "print( pd.concat( [df_1, df_2] , axis = 0, join = 'inner' ) )\n",
    "print( pd.concat( [df_1, df_2] , axis = 1, join = 'outer' ) )\n",
    "print( pd.concat( [df_1, df_2] , axis = 1, join = 'inner' ) )"
   ]
  },
  {
   "cell_type": "markdown",
   "metadata": {
    "id": "89yyT8YkVhJ3"
   },
   "source": [
    "### 12.18 데이터베이스 join 방식의 데이터 병합 - merge"
   ]
  },
  {
   "cell_type": "code",
   "execution_count": 23,
   "metadata": {},
   "outputs": [],
   "source": [
    "import pandas as pd \n",
    "\n",
    "df_1 = pd.DataFrame( {'A' : ['a10', 'a11', 'a12'], \n",
    "          'B' : ['b10', 'b11', 'b12'],\n",
    "          'C' : ['c10', 'c11', 'c12']} , index = ['가', '나',  '다'] )\n",
    "\n",
    "df_2 = pd.DataFrame( {'B' : ['b10', 'b11', 'b12'],\n",
    "          'C' : ['c23', 'c24', 'c25'],\n",
    "          'D' : ['d23', 'd24', 'd25']} , index = ['다', '라',  '마'] )"
   ]
  },
  {
   "cell_type": "code",
   "execution_count": 24,
   "metadata": {
    "colab": {
     "base_uri": "https://localhost:8080/",
     "height": 234
    },
    "executionInfo": {
     "elapsed": 776,
     "status": "ok",
     "timestamp": 1611562499769,
     "user": {
      "displayName": "박동규",
      "photoUrl": "",
      "userId": "10745738943866733973"
     },
     "user_tz": -540
    },
    "id": "WqMEPCFDiIzl",
    "outputId": "27ddc55f-92da-44d8-c18f-706d97308543"
   },
   "outputs": [
    {
     "data": {
      "text/plain": [
       "\"\\ndf_3 = df_1.merge(df_2)\\ndf_3\\n\\ndf_4 = df_1.merge(df_2, how='outer', on='B')\\ndf_4\\n\\ndf_5 = df_1.merge(df_2, how='inner', on='B')\\ndf_5\\n\\ndf_6 = df_1.merge(df_2, how='left', on='B')\\ndf_6\\n\""
      ]
     },
     "execution_count": 24,
     "metadata": {},
     "output_type": "execute_result"
    },
    {
     "data": {
      "text/html": [
       "<div>\n",
       "<style scoped>\n",
       "    .dataframe tbody tr th:only-of-type {\n",
       "        vertical-align: middle;\n",
       "    }\n",
       "\n",
       "    .dataframe tbody tr th {\n",
       "        vertical-align: top;\n",
       "    }\n",
       "\n",
       "    .dataframe thead th {\n",
       "        text-align: right;\n",
       "    }\n",
       "</style>\n",
       "<table border=\"1\" class=\"dataframe\">\n",
       "  <thead>\n",
       "    <tr style=\"text-align: right;\">\n",
       "      <th></th>\n",
       "      <th>A</th>\n",
       "      <th>B</th>\n",
       "      <th>C_x</th>\n",
       "      <th>C_y</th>\n",
       "      <th>D</th>\n",
       "    </tr>\n",
       "  </thead>\n",
       "  <tbody>\n",
       "    <tr>\n",
       "      <th>0</th>\n",
       "      <td>a10</td>\n",
       "      <td>b10</td>\n",
       "      <td>c10</td>\n",
       "      <td>c23</td>\n",
       "      <td>d23</td>\n",
       "    </tr>\n",
       "    <tr>\n",
       "      <th>1</th>\n",
       "      <td>a11</td>\n",
       "      <td>b11</td>\n",
       "      <td>c11</td>\n",
       "      <td>c24</td>\n",
       "      <td>d24</td>\n",
       "    </tr>\n",
       "    <tr>\n",
       "      <th>2</th>\n",
       "      <td>a12</td>\n",
       "      <td>b12</td>\n",
       "      <td>c12</td>\n",
       "      <td>c25</td>\n",
       "      <td>d25</td>\n",
       "    </tr>\n",
       "  </tbody>\n",
       "</table>\n",
       "</div>"
      ],
      "text/plain": [
       "     A    B  C_x  C_y    D\n",
       "0  a10  b10  c10  c23  d23\n",
       "1  a11  b11  c11  c24  d24\n",
       "2  a12  b12  c12  c25  d25"
      ]
     },
     "execution_count": 24,
     "metadata": {},
     "output_type": "execute_result"
    }
   ],
   "source": [
    "'''\n",
    "df_3 = df_1.merge(df_2)\n",
    "df_3\n",
    "\n",
    "df_4 = df_1.merge(df_2, how='outer', on='B')\n",
    "df_4\n",
    "\n",
    "df_5 = df_1.merge(df_2, how='inner', on='B')\n",
    "df_5\n",
    "\n",
    "df_6 = df_1.merge(df_2, how='left', on='B')\n",
    "df_6\n",
    "'''\n",
    "\n",
    "df_7 = df_1.merge(df_2, how='inner', on='B')\n",
    "df_7"
   ]
  },
  {
   "cell_type": "markdown",
   "metadata": {
    "id": "P4ahcwYfVouh"
   },
   "source": [
    "### 12.18 인덱스를 키로 활용하여 merge 적용해 보기"
   ]
  },
  {
   "cell_type": "code",
   "execution_count": 25,
   "metadata": {
    "colab": {
     "base_uri": "https://localhost:8080/",
     "height": 203
    },
    "executionInfo": {
     "elapsed": 594,
     "status": "ok",
     "timestamp": 1611562638104,
     "user": {
      "displayName": "박동규",
      "photoUrl": "",
      "userId": "10745738943866733973"
     },
     "user_tz": -540
    },
    "id": "_FGlyVCmVsBt",
    "outputId": "d658e25c-c73e-42dd-ff09-76890397ea4a"
   },
   "outputs": [
    {
     "data": {
      "text/html": [
       "<div>\n",
       "<style scoped>\n",
       "    .dataframe tbody tr th:only-of-type {\n",
       "        vertical-align: middle;\n",
       "    }\n",
       "\n",
       "    .dataframe tbody tr th {\n",
       "        vertical-align: top;\n",
       "    }\n",
       "\n",
       "    .dataframe thead th {\n",
       "        text-align: right;\n",
       "    }\n",
       "</style>\n",
       "<table border=\"1\" class=\"dataframe\">\n",
       "  <thead>\n",
       "    <tr style=\"text-align: right;\">\n",
       "      <th></th>\n",
       "      <th>A</th>\n",
       "      <th>B_x</th>\n",
       "      <th>C_x</th>\n",
       "      <th>B_y</th>\n",
       "      <th>C_y</th>\n",
       "      <th>D</th>\n",
       "    </tr>\n",
       "  </thead>\n",
       "  <tbody>\n",
       "    <tr>\n",
       "      <th>가</th>\n",
       "      <td>a10</td>\n",
       "      <td>b10</td>\n",
       "      <td>c10</td>\n",
       "      <td>NaN</td>\n",
       "      <td>NaN</td>\n",
       "      <td>NaN</td>\n",
       "    </tr>\n",
       "    <tr>\n",
       "      <th>나</th>\n",
       "      <td>a11</td>\n",
       "      <td>b11</td>\n",
       "      <td>c11</td>\n",
       "      <td>NaN</td>\n",
       "      <td>NaN</td>\n",
       "      <td>NaN</td>\n",
       "    </tr>\n",
       "    <tr>\n",
       "      <th>다</th>\n",
       "      <td>a12</td>\n",
       "      <td>b12</td>\n",
       "      <td>c12</td>\n",
       "      <td>b23</td>\n",
       "      <td>c23</td>\n",
       "      <td>d23</td>\n",
       "    </tr>\n",
       "    <tr>\n",
       "      <th>라</th>\n",
       "      <td>NaN</td>\n",
       "      <td>NaN</td>\n",
       "      <td>NaN</td>\n",
       "      <td>b24</td>\n",
       "      <td>c24</td>\n",
       "      <td>d24</td>\n",
       "    </tr>\n",
       "    <tr>\n",
       "      <th>마</th>\n",
       "      <td>NaN</td>\n",
       "      <td>NaN</td>\n",
       "      <td>NaN</td>\n",
       "      <td>b25</td>\n",
       "      <td>c25</td>\n",
       "      <td>d25</td>\n",
       "    </tr>\n",
       "  </tbody>\n",
       "</table>\n",
       "</div>"
      ],
      "text/plain": [
       "     A  B_x  C_x  B_y  C_y    D\n",
       "가  a10  b10  c10  NaN  NaN  NaN\n",
       "나  a11  b11  c11  NaN  NaN  NaN\n",
       "다  a12  b12  c12  b23  c23  d23\n",
       "라  NaN  NaN  NaN  b24  c24  d24\n",
       "마  NaN  NaN  NaN  b25  c25  d25"
      ]
     },
     "execution_count": 25,
     "metadata": {},
     "output_type": "execute_result"
    }
   ],
   "source": [
    "df_1.merge(df_2, how ='outer', left_index = True, right_index = True )"
   ]
  },
  {
   "cell_type": "code",
   "execution_count": 31,
   "metadata": {
    "colab": {
     "base_uri": "https://localhost:8080/",
     "height": 119
    },
    "executionInfo": {
     "elapsed": 932,
     "status": "ok",
     "timestamp": 1600417887110,
     "user": {
      "displayName": "김은지",
      "photoUrl": "",
      "userId": "05656241690824715190"
     },
     "user_tz": -540
    },
    "id": "aPZaCZ0_VsYp",
    "outputId": "0a3c09fe-c296-4e12-e41f-48fcc8fddece"
   },
   "outputs": [
    {
     "data": {
      "text/html": [
       "<div>\n",
       "<style scoped>\n",
       "    .dataframe tbody tr th:only-of-type {\n",
       "        vertical-align: middle;\n",
       "    }\n",
       "\n",
       "    .dataframe tbody tr th {\n",
       "        vertical-align: top;\n",
       "    }\n",
       "\n",
       "    .dataframe thead th {\n",
       "        text-align: right;\n",
       "    }\n",
       "</style>\n",
       "<table border=\"1\" class=\"dataframe\">\n",
       "  <thead>\n",
       "    <tr style=\"text-align: right;\">\n",
       "      <th></th>\n",
       "      <th>A</th>\n",
       "      <th>B_x</th>\n",
       "      <th>C_x</th>\n",
       "      <th>B_y</th>\n",
       "      <th>C_y</th>\n",
       "      <th>D</th>\n",
       "    </tr>\n",
       "  </thead>\n",
       "  <tbody>\n",
       "    <tr>\n",
       "      <th>가</th>\n",
       "      <td>a10</td>\n",
       "      <td>b10</td>\n",
       "      <td>c10</td>\n",
       "      <td>NaN</td>\n",
       "      <td>NaN</td>\n",
       "      <td>NaN</td>\n",
       "    </tr>\n",
       "    <tr>\n",
       "      <th>나</th>\n",
       "      <td>a11</td>\n",
       "      <td>b11</td>\n",
       "      <td>c11</td>\n",
       "      <td>NaN</td>\n",
       "      <td>NaN</td>\n",
       "      <td>NaN</td>\n",
       "    </tr>\n",
       "    <tr>\n",
       "      <th>다</th>\n",
       "      <td>a12</td>\n",
       "      <td>b12</td>\n",
       "      <td>c12</td>\n",
       "      <td>b23</td>\n",
       "      <td>c23</td>\n",
       "      <td>d23</td>\n",
       "    </tr>\n",
       "    <tr>\n",
       "      <th>라</th>\n",
       "      <td>NaN</td>\n",
       "      <td>NaN</td>\n",
       "      <td>NaN</td>\n",
       "      <td>b24</td>\n",
       "      <td>c24</td>\n",
       "      <td>d24</td>\n",
       "    </tr>\n",
       "    <tr>\n",
       "      <th>마</th>\n",
       "      <td>NaN</td>\n",
       "      <td>NaN</td>\n",
       "      <td>NaN</td>\n",
       "      <td>b25</td>\n",
       "      <td>c25</td>\n",
       "      <td>d25</td>\n",
       "    </tr>\n",
       "  </tbody>\n",
       "</table>\n",
       "</div>"
      ],
      "text/plain": [
       "     A  B_x  C_x  B_y  C_y    D\n",
       "가  a10  b10  c10  NaN  NaN  NaN\n",
       "나  a11  b11  c11  NaN  NaN  NaN\n",
       "다  a12  b12  c12  b23  c23  d23\n",
       "라  NaN  NaN  NaN  b24  c24  d24\n",
       "마  NaN  NaN  NaN  b25  c25  d25"
      ]
     },
     "execution_count": 31,
     "metadata": {},
     "output_type": "execute_result"
    },
    {
     "data": {
      "text/html": [
       "<div>\n",
       "<style scoped>\n",
       "    .dataframe tbody tr th:only-of-type {\n",
       "        vertical-align: middle;\n",
       "    }\n",
       "\n",
       "    .dataframe tbody tr th {\n",
       "        vertical-align: top;\n",
       "    }\n",
       "\n",
       "    .dataframe thead th {\n",
       "        text-align: right;\n",
       "    }\n",
       "</style>\n",
       "<table border=\"1\" class=\"dataframe\">\n",
       "  <thead>\n",
       "    <tr style=\"text-align: right;\">\n",
       "      <th></th>\n",
       "      <th>A</th>\n",
       "      <th>B_x</th>\n",
       "      <th>C_x</th>\n",
       "      <th>B_y</th>\n",
       "      <th>C_y</th>\n",
       "      <th>D</th>\n",
       "    </tr>\n",
       "  </thead>\n",
       "  <tbody>\n",
       "    <tr>\n",
       "      <th>다</th>\n",
       "      <td>a12</td>\n",
       "      <td>b12</td>\n",
       "      <td>c12</td>\n",
       "      <td>b23</td>\n",
       "      <td>c23</td>\n",
       "      <td>d23</td>\n",
       "    </tr>\n",
       "  </tbody>\n",
       "</table>\n",
       "</div>"
      ],
      "text/plain": [
       "     A  B_x  C_x  B_y  C_y    D\n",
       "다  a12  b12  c12  b23  c23  d23"
      ]
     },
     "execution_count": 31,
     "metadata": {},
     "output_type": "execute_result"
    }
   ],
   "source": [
    "df_3 = df_1.merge(df_2, how='outer', left_index = True, right_index = True)\n",
    "df_3\n",
    "\n",
    "df_4 = df_1.merge(df_2, how='inner', left_index = True, right_index = True)\n",
    "df_4"
   ]
  },
  {
   "cell_type": "markdown",
   "metadata": {
    "id": "zkb673wmVvja"
   },
   "source": [
    "### LAB 12-1 다양한 방법으로 merge 적용해 보기"
   ]
  },
  {
   "cell_type": "code",
   "execution_count": 67,
   "metadata": {
    "colab": {
     "base_uri": "https://localhost:8080/",
     "height": 391
    },
    "executionInfo": {
     "elapsed": 913,
     "status": "ok",
     "timestamp": 1600417941109,
     "user": {
      "displayName": "김은지",
      "photoUrl": "",
      "userId": "05656241690824715190"
     },
     "user_tz": -540
    },
    "id": "WE6-mGQNV54F",
    "outputId": "95a2027c-6e75-4389-eedc-e41a7d9be269"
   },
   "outputs": [
    {
     "name": "stdout",
     "output_type": "stream",
     "text": [
      "left outer \n",
      "      A    B  C_x  C_y    D\n",
      "0  a10  b10  c10  NaN  NaN\n",
      "1  a11  b11  c11  NaN  NaN\n",
      "2  a12  b12  c12  NaN  NaN\n",
      "right outer \n",
      "      A    B  C_x  C_y    D\n",
      "0  NaN  b23  NaN  c23  d23\n",
      "1  NaN  b24  NaN  c24  d24\n",
      "2  NaN  b25  NaN  c25  d25\n",
      "full outer \n",
      "      A    B  C_x  C_y    D\n",
      "0  a10  b10  c10  NaN  NaN\n",
      "1  a11  b11  c11  NaN  NaN\n",
      "2  a12  b12  c12  NaN  NaN\n",
      "3  NaN  b23  NaN  c23  d23\n",
      "4  NaN  b24  NaN  c24  d24\n",
      "5  NaN  b25  NaN  c25  d25\n",
      "inner \n",
      " Empty DataFrame\n",
      "Columns: [A, B, C_x, C_y, D]\n",
      "Index: []\n"
     ]
    }
   ],
   "source": [
    "import pandas as pd \n",
    "\n",
    "df_1 = pd.DataFrame( {'A' : ['a10', 'a11', 'a12'], \n",
    "          'B' : ['b10', 'b11', 'b12'],\n",
    "          'C' : ['c10', 'c11', 'c12']} , index = ['가', '나',  '다'] )\n",
    "\n",
    "df_2 = pd.DataFrame( {'B' : ['b23', 'b24', 'b25'],\n",
    "          'C' : ['c23', 'c24', 'c25'],\n",
    "          'D' : ['d23', 'd24', 'd25']} , index = ['다', '라',  '마'] )\n",
    "\n",
    "print('left outer \\n' , df_1.merge(df_2, how='left', on='B' ) )\n",
    "print('right outer \\n' ,df_1.merge(df_2, how='right', on='B' ) )\n",
    "print('full outer \\n' ,df_1.merge(df_2, how='outer', on='B' ) )\n",
    "print('inner \\n' ,df_1.merge(df_2, how='inner', on='B' ) )"
   ]
  },
  {
   "cell_type": "markdown",
   "metadata": {
    "id": "au_8ZpPcV8zL"
   },
   "source": [
    "### 12.19 정렬"
   ]
  },
  {
   "cell_type": "code",
   "execution_count": 36,
   "metadata": {
    "colab": {
     "base_uri": "https://localhost:8080/"
    },
    "executionInfo": {
     "elapsed": 614,
     "status": "ok",
     "timestamp": 1611562882447,
     "user": {
      "displayName": "박동규",
      "photoUrl": "",
      "userId": "10745738943866733973"
     },
     "user_tz": -540
    },
    "id": "fO7f3nKbV-oE",
    "outputId": "9ffa2451-6ae7-477b-fbf1-956fb77dddd7"
   },
   "outputs": [
    {
     "name": "stdout",
     "output_type": "stream",
     "text": [
      "   country      area     capital  population\n",
      "KR   Korea     98480       Seoul    51780579\n",
      "US     USA   9629091  Washington   331002825\n",
      "JP   Japan    377835       Tokyo   125960000\n",
      "CN   China   9596960     Beijing  1439323688\n",
      "RU  Russia  17100000      Moscow   146748600\n",
      "\n",
      "\n",
      "   country      area     capital  population\n",
      "RU  Russia  17100000      Moscow   146748600\n",
      "US     USA   9629091  Washington   331002825\n",
      "CN   China   9596960     Beijing  1439323688\n",
      "JP   Japan    377835       Tokyo   125960000\n",
      "KR   Korea     98480       Seoul    51780579\n"
     ]
    }
   ],
   "source": [
    "import pandas as pd\n",
    "import matplotlib.pyplot as plt\n",
    "\n",
    "countries_df = pd.read_csv('data/csv/countries.csv', index_col = 0)\n",
    "\n",
    "print(countries_df)\n",
    "print('\\n')\n",
    "sorted = countries_df.sort_values('area', ascending=False)\n",
    "print(sorted)"
   ]
  },
  {
   "cell_type": "code",
   "execution_count": 35,
   "metadata": {
    "colab": {
     "base_uri": "https://localhost:8080/"
    },
    "executionInfo": {
     "elapsed": 597,
     "status": "ok",
     "timestamp": 1611562906774,
     "user": {
      "displayName": "박동규",
      "photoUrl": "",
      "userId": "10745738943866733973"
     },
     "user_tz": -540
    },
    "id": "00TprlpcWAGx",
    "outputId": "ad336707-04a2-46c2-c3ab-c4204491f077"
   },
   "outputs": [
    {
     "name": "stdout",
     "output_type": "stream",
     "text": [
      "   country      area     capital  population\n",
      "CN   China   9596960     Beijing  1439323688\n",
      "RU  Russia  17100000      Moscow   146748600\n",
      "KR   Korea     98480       Seoul    51780579\n",
      "JP   Japan    377835       Tokyo   125960000\n",
      "US     USA   9629091  Washington   331002825\n"
     ]
    }
   ],
   "source": [
    "countries_df = pd.read_csv('data/csv/countries.csv', index_col = 0)\n",
    "\n",
    "countries_df.sort_values(['capital', 'area'], inplace = True)\n",
    "print(countries_df)"
   ]
  },
  {
   "cell_type": "code",
   "execution_count": 36,
   "metadata": {
    "colab": {
     "base_uri": "https://localhost:8080/",
     "height": 341
    },
    "executionInfo": {
     "elapsed": 956,
     "status": "error",
     "timestamp": 1600417972615,
     "user": {
      "displayName": "김은지",
      "photoUrl": "",
      "userId": "05656241690824715190"
     },
     "user_tz": -540
    },
    "id": "iMEydWXOWBiK",
    "outputId": "8093a68a-55d9-446c-bc0e-bf5747e6bc97"
   },
   "outputs": [
    {
     "name": "stdout",
     "output_type": "stream",
     "text": [
      "   country      area     capital  population\n",
      "CN   China   9596960     Beijing  1439323688\n",
      "US     USA   9629091  Washington   331002825\n",
      "RU  Russia  17100000      Moscow   146748600\n",
      "JP   Japan    377835       Tokyo   125960000\n",
      "KR   Korea     98480       Seoul    51780579\n"
     ]
    }
   ],
   "source": [
    "countries = pd.read_csv('../data/countries.csv', index_col = 0, encoding='CP949')\n",
    "countries.sort_values(['population', 'area'], ascending = False, inplace = True)\n",
    "print(countries)"
   ]
  },
  {
   "cell_type": "code",
   "execution_count": 37,
   "metadata": {},
   "outputs": [
    {
     "name": "stdout",
     "output_type": "stream",
     "text": [
      "                            coordinates.latitude  coordinates.longitude\n",
      "location                                                               \n",
      "Tower Hamlets Roadside                  51.52253               -0.04216\n",
      "Thurrock                                51.47707                0.31797\n",
      "Southwark A2 Old Kent Road              51.48050               -0.05955\n",
      "Southend-on-Sea                         51.54420                0.67841\n",
      "London Westminster                      51.49467               -0.13193\n",
      "...                                          ...                    ...\n",
      "BELR833                                 51.32766                4.36226\n",
      "BELLD02                                 51.12038                5.02155\n",
      "BELLD01                                 51.10998                5.00486\n",
      "BELHB23                                 51.17030                4.34100\n",
      "BELAL01                                 51.23619                4.38522\n",
      "\n",
      "[66 rows x 2 columns]\n"
     ]
    }
   ],
   "source": [
    "stations = pd.read_csv('data/csv/air_quality_stations.csv', index_col = 0)\n",
    "stations.sort_values(['location'], ascending = False, inplace = True)\n",
    "print(stations)"
   ]
  },
  {
   "cell_type": "code",
   "execution_count": null,
   "metadata": {},
   "outputs": [],
   "source": []
  }
 ],
 "metadata": {
  "colab": {
   "collapsed_sections": [],
   "name": "12장_판다스로데이터처리를.ipynb",
   "provenance": []
  },
  "kernelspec": {
   "display_name": "Python 3 (ipykernel)",
   "language": "python",
   "name": "python3"
  },
  "language_info": {
   "codemirror_mode": {
    "name": "ipython",
    "version": 3
   },
   "file_extension": ".py",
   "mimetype": "text/x-python",
   "name": "python",
   "nbconvert_exporter": "python",
   "pygments_lexer": "ipython3",
   "version": "3.8.13"
  }
 },
 "nbformat": 4,
 "nbformat_minor": 4
}
